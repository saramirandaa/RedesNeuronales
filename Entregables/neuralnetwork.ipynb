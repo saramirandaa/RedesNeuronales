{
 "cells": [
  {
   "attachments": {},
   "cell_type": "markdown",
   "metadata": {},
   "source": [
    "# <a id='toc1_'></a>[Clasificación y regresión de cáncer de mama en Wisconsin](#toc0_)\n",
    "* **Nombre del proyecto:** Redes Neuronales\n",
    "* **Nombre de la universidad:** Universidad Panamericana - Campus Ciudad de México\n",
    "* **Nombre de la materia:** Inteligencia Artificial\n",
    "* **Integrantes del Equipo:** Sara Miranda, Ivanna Tinedo, Christian Matos, Dania Venegas\n",
    "* **Fecha de entrega:** 31 de mayo de 2023\n",
    "* **Versión de código:** 1.0\n",
    "* Este archivo contiene el entrenamiento de la red neuronal con los datos, su graficación, su clasificación y su modelo de regresión.\n",
    "* Para ejecutar el código, abra este archivo como un cuaderno de jupyter en un entorno como Anaconda o Google Collab y ejecute todas las celdas."
   ]
  },
  {
   "attachments": {},
   "cell_type": "markdown",
   "metadata": {},
   "source": [
    "## Tabla de Contenidos<a id='toc0_'></a>    \n",
    "- [Clasificación y regresión de cáncer de mama en Wisconsin](#toc1_)    \n",
    "- [Dependencias](#toc2_)    \n",
    "- [Sobre los datos](#toc3_)    \n",
    "- [Información de atributos](#toc4_)    \n",
    "- [Importación de datos](#toc5_)    \n",
    "- [Análisis de 5 números](#toc6_)    \n",
    "- [Gráfica del conjunto de datos](#toc7_)    \n",
    "- [Clasificación](#toc8_)    \n",
    "  - [Conjunto de datos para entrenamiento](#toc8_1_)    \n",
    "  - [Escalamiento de los datos](#toc8_2_)    \n",
    "  - [Definición del modelo base](#toc8_3_)    \n",
    "  - [Entrenamiento del modelo base](#toc8_4_)    \n",
    "  - [Pruebas del modelo base](#toc8_5_)    \n",
    "  - [Evaluación del modelo base](#toc8_6_)    \n",
    "  - [Definición de la búsqueda de hiper-parámetros](#toc8_7_)    \n",
    "  - [Ejecución de la búsqueda de hiper-parámetros](#toc8_8_)    \n",
    "  - [Entrenamiento del mejor modelo](#toc8_9_)    \n",
    "  - [Prueba del mejor modelo](#toc8_10_)    \n",
    "  - [Evaluación del mejor modelo](#toc8_11_)    \n",
    "- [Regresión](#toc9_)    \n",
    "  - [Conjunto de datos para entrenamiento](#toc9_1_)    \n",
    "  - [Escalamiento de los datos](#toc9_2_)    \n",
    "  - [Definición del modelo base](#toc9_3_)    \n",
    "  - [Entrenamiento del modelo base](#toc9_4_)    \n",
    "  - [Prueba del modelo base](#toc9_5_)    \n",
    "  - [Evaluación del modelo base](#toc9_6_)    \n",
    "  - [Definición de la búsqueda de hiper-parámetros](#toc9_7_)    \n",
    "  - [Ejecución de la búsqueda de hiper-parámetros](#toc9_8_)    \n",
    "  - [Entrenamiento del mejor modelo](#toc9_9_)    \n",
    "  - [Prueba del mejor modelo](#toc9_10_)    \n",
    "  - [Evaluación del mejor modelo](#toc9_11_)    \n",
    "\n",
    "<!-- vscode-jupyter-toc-config\n",
    "\tnumbering=false\n",
    "\tanchor=true\n",
    "\tflat=false\n",
    "\tminLevel=1\n",
    "\tmaxLevel=6\n",
    "\t/vscode-jupyter-toc-config -->\n",
    "<!-- THIS CELL WILL BE REPLACED ON TOC UPDATE. DO NOT WRITE YOUR TEXT IN THIS CELL -->"
   ]
  },
  {
   "attachments": {},
   "cell_type": "markdown",
   "metadata": {},
   "source": [
    "# <a id='toc2_'></a>[Dependencias](#toc0_)"
   ]
  },
  {
   "cell_type": "code",
<<<<<<< HEAD
   "execution_count": 1,
=======
   "execution_count": 186,
>>>>>>> refs/remotes/origin/main
   "metadata": {},
   "outputs": [],
   "source": [
    "# Bibliotecas para manipular los datos y visualizarlos\n",
    "import pandas as pd\n",
    "import numpy as np\n",
    "from math import sqrt\n",
    "\n",
    "# Bibliotecas para la graficación\n",
    "import matplotlib.pyplot as plt\n",
    "import seaborn as sn\n",
    "\n",
    "# Biblioteca para la manipulación de datos y creación de redes neuronales\n",
    "from sklearn.neural_network import MLPClassifier\n",
    "from sklearn.neural_network import MLPRegressor\n",
    "from sklearn.preprocessing import StandardScaler\n",
    "from sklearn.model_selection import train_test_split\n",
    "\n",
    "# Métricas de evaluación para la clasificación\n",
    "from sklearn.metrics import accuracy_score\n",
    "from sklearn.metrics import mean_squared_error\n",
    "from sklearn.metrics import classification_report\n",
    "\n",
    "# Métricas de evaluación para regresión\n",
    "from sklearn.metrics import r2_score\n",
    "from sklearn.metrics import max_error\n",
    "from sklearn.metrics import explained_variance_score\n",
    "\n",
    "# Para la sintonización de los híperparámetros\n",
    "from sklearn.model_selection import GridSearchCV"
   ]
  },
  {
   "attachments": {},
   "cell_type": "markdown",
   "metadata": {},
   "source": [
    "# <a id='toc3_'></a>[Sobre los datos](#toc0_)\n",
    "Los datos usados para este modelo de red neuronal corresponden a un estudio de 569 diagnósticos de cáncer de mama en hospitales de Universidad de Wisconsin hasta noviembre de 1995. Los datos fueron computados a partit de imágenes digitalizadas del procedimiento de diagnóstico Fine-Needle Aspiration (FNA). Los datos fueron donados por Nick Street al Machine Learning Repository de UCI en https://archive.ics.uci.edu/ml/datasets/Breast+Cancer+Wisconsin+%28Diagnostic%29. \n",
    "\n",
    "Sus creadores son:\n",
    "\n",
    "1. Dr. William H. Wolberg, General Surgery Dept.\n",
    "University of Wisconsin, Clinical Sciences Center\n",
    "Madison, WI 53792\n",
    "wolberg '@' eagle.surgery.wisc.edu\n",
    "\n",
    "1. W. Nick Street, Computer Sciences Dept.\n",
    "University of Wisconsin, 1210 West Dayton St., Madison, WI 53706\n",
    "street '@' cs.wisc.edu 608-262-6619\n",
    "\n",
    "1. Olvi L. Mangasarian, Computer Sciences Dept.\n",
    "University of Wisconsin, 1210 West Dayton St., Madison, WI 53706\n",
    "olvi '@' cs.wisc.edu\n",
    "\n",
    "Estos datos fueron usados originalmente para los siguientes estudios: \n",
    "   1. O. L. Mangasarian and W. H. Wolberg: \"Cancer diagnosis via linear \n",
    "      programming\", SIAM News, Volume 23, Number 5, September 1990, pp 1 & 18.\n",
    "\n",
    "   2. William H. Wolberg and O.L. Mangasarian: \"Multisurface method of \n",
    "      pattern separation for medical diagnosis applied to breast cytology\", \n",
    "      Proceedings of the National Academy of Sciences, U.S.A., Volume 87, \n",
    "      December 1990, pp 9193-9196.\n",
    "\n",
    "   3. O. L. Mangasarian, R. Setiono, and W.H. Wolberg: \"Pattern recognition \n",
    "      via linear programming: Theory and application to medical diagnosis\", \n",
    "      in: \"Large-scale numerical optimization\", Thomas F. Coleman and Yuying\n",
    "      Li, editors, SIAM Publications, Philadelphia 1990, pp 22-30.\n",
    "\n",
    "   4. K. P. Bennett & O. L. Mangasarian: \"Robust linear programming \n",
    "      discrimination of two linearly inseparable sets\", Optimization Methods\n",
    "      and Software 1, 1992, 23-34 (Gordon & Breach Science Publishers).\n",
    "\n",
    "\n"
   ]
  },
  {
   "attachments": {},
   "cell_type": "markdown",
   "metadata": {},
   "source": [
    "# <a id='toc4_'></a>[Información de atributos](#toc0_)\n",
    "1. Número de identificación\n",
    "2. Diagnóstico (M = maligno, B = benigno)\n",
    "\n",
    "Se calculan diez características de valor real para cada núcleo celular:\n",
    "\n",
    "1. Radio (promedio de distancias desde el centro hasta los puntos en el perímetro)\n",
    "2. Textura (desviación estándar de los valores en escala de grises)\n",
    "3. Perímetro\n",
    "4. Área\n",
    "5. Suavidad (variación local en las longitudes de radio)\n",
    "6. Compacidad (perímetro^2 / área - 1.0)\n",
    "7. Concavidad (gravedad de las porciones cóncavas del contorno)\n",
    "8. Puntos cóncavos (número de porciones cóncavas del contorno)\n",
    "9. Simetría\n",
    "10. Dimensión fractal (\"aproximación de la línea costera\" - 1)\n",
    "\n"
   ]
  },
  {
   "attachments": {},
   "cell_type": "markdown",
   "metadata": {},
   "source": [
    "# <a id='toc5_'></a>[Importación de datos](#toc0_)"
   ]
  },
  {
   "cell_type": "code",
<<<<<<< HEAD
   "execution_count": 2,
=======
   "execution_count": 187,
>>>>>>> refs/remotes/origin/main
   "metadata": {},
   "outputs": [
    {
     "name": "stdout",
     "output_type": "stream",
     "text": [
      "The dataset contains 699 observations and 11 features\n",
      "\n"
     ]
    },
    {
     "data": {
      "text/html": [
       "<div>\n",
       "<style scoped>\n",
       "    .dataframe tbody tr th:only-of-type {\n",
       "        vertical-align: middle;\n",
       "    }\n",
       "\n",
       "    .dataframe tbody tr th {\n",
       "        vertical-align: top;\n",
       "    }\n",
       "\n",
       "    .dataframe thead th {\n",
       "        text-align: right;\n",
       "    }\n",
       "</style>\n",
       "<table border=\"1\" class=\"dataframe\">\n",
       "  <thead>\n",
       "    <tr style=\"text-align: right;\">\n",
       "      <th></th>\n",
       "      <th>sample_code</th>\n",
       "      <th>clump_thickness</th>\n",
       "      <th>cell_size</th>\n",
       "      <th>cell_shape</th>\n",
       "      <th>marginal_adhesion</th>\n",
       "      <th>epithelial_size</th>\n",
       "      <th>bare_nuclei</th>\n",
       "      <th>bland_chromatin</th>\n",
       "      <th>normal_nucleoli</th>\n",
       "      <th>mitoses</th>\n",
       "      <th>classd</th>\n",
       "    </tr>\n",
       "  </thead>\n",
       "  <tbody>\n",
       "    <tr>\n",
       "      <th>0</th>\n",
       "      <td>1000025</td>\n",
       "      <td>5</td>\n",
       "      <td>1</td>\n",
       "      <td>1</td>\n",
       "      <td>1</td>\n",
       "      <td>2</td>\n",
       "      <td>1</td>\n",
       "      <td>3</td>\n",
       "      <td>1</td>\n",
       "      <td>1</td>\n",
       "      <td>2</td>\n",
       "    </tr>\n",
       "    <tr>\n",
       "      <th>1</th>\n",
       "      <td>1002945</td>\n",
       "      <td>5</td>\n",
       "      <td>4</td>\n",
       "      <td>4</td>\n",
       "      <td>5</td>\n",
       "      <td>7</td>\n",
       "      <td>10</td>\n",
       "      <td>3</td>\n",
       "      <td>2</td>\n",
       "      <td>1</td>\n",
       "      <td>2</td>\n",
       "    </tr>\n",
       "    <tr>\n",
       "      <th>2</th>\n",
       "      <td>1015425</td>\n",
       "      <td>3</td>\n",
       "      <td>1</td>\n",
       "      <td>1</td>\n",
       "      <td>1</td>\n",
       "      <td>2</td>\n",
       "      <td>2</td>\n",
       "      <td>3</td>\n",
       "      <td>1</td>\n",
       "      <td>1</td>\n",
       "      <td>2</td>\n",
       "    </tr>\n",
       "    <tr>\n",
       "      <th>3</th>\n",
       "      <td>1016277</td>\n",
       "      <td>6</td>\n",
       "      <td>8</td>\n",
       "      <td>8</td>\n",
       "      <td>1</td>\n",
       "      <td>3</td>\n",
       "      <td>4</td>\n",
       "      <td>3</td>\n",
       "      <td>7</td>\n",
       "      <td>1</td>\n",
       "      <td>2</td>\n",
       "    </tr>\n",
       "    <tr>\n",
       "      <th>4</th>\n",
       "      <td>1017023</td>\n",
       "      <td>4</td>\n",
       "      <td>1</td>\n",
       "      <td>1</td>\n",
       "      <td>3</td>\n",
       "      <td>2</td>\n",
       "      <td>1</td>\n",
       "      <td>3</td>\n",
       "      <td>1</td>\n",
       "      <td>1</td>\n",
       "      <td>2</td>\n",
       "    </tr>\n",
       "  </tbody>\n",
       "</table>\n",
       "</div>"
      ],
      "text/plain": [
       "   sample_code  clump_thickness  cell_size  cell_shape  marginal_adhesion  \\\n",
       "0      1000025                5          1           1                  1   \n",
       "1      1002945                5          4           4                  5   \n",
       "2      1015425                3          1           1                  1   \n",
       "3      1016277                6          8           8                  1   \n",
       "4      1017023                4          1           1                  3   \n",
       "\n",
       "   epithelial_size bare_nuclei  bland_chromatin  normal_nucleoli  mitoses  \\\n",
       "0                2           1                3                1        1   \n",
       "1                7          10                3                2        1   \n",
       "2                2           2                3                1        1   \n",
       "3                3           4                3                7        1   \n",
       "4                2           1                3                1        1   \n",
       "\n",
       "   classd  \n",
       "0       2  \n",
       "1       2  \n",
       "2       2  \n",
       "3       2  \n",
       "4       2  "
      ]
     },
<<<<<<< HEAD
     "execution_count": 2,
=======
     "execution_count": 187,
>>>>>>> refs/remotes/origin/main
     "metadata": {},
     "output_type": "execute_result"
    }
   ],
   "source": [
    "# Generar un dataframe de pandas con el archivo que contiene el conjunto de datos\n",
    "dataset = pd.read_csv(filepath_or_buffer = 'breast-cancer-wisconsin.data', names = ['sample_code','clump_thickness','cell_size','cell_shape', 'marginal_adhesion', 'epithelial_size', 'bare_nuclei', 'bland_chromatin', 'normal_nucleoli', 'mitoses', 'classd'])\n",
    "\n",
    "# Eche un vistazo a los datos\n",
    "print('The dataset contains {} observations and {} features\\n'.format(dataset.shape[0],dataset.shape[1]))\n",
    "\n",
    "dataset.head()"
   ]
  },
  {
   "cell_type": "code",
<<<<<<< HEAD
   "execution_count": 3,
=======
   "execution_count": 188,
>>>>>>> refs/remotes/origin/main
   "metadata": {},
   "outputs": [
    {
     "data": {
      "text/html": [
       "<div>\n",
       "<style scoped>\n",
       "    .dataframe tbody tr th:only-of-type {\n",
       "        vertical-align: middle;\n",
       "    }\n",
       "\n",
       "    .dataframe tbody tr th {\n",
       "        vertical-align: top;\n",
       "    }\n",
       "\n",
       "    .dataframe thead th {\n",
       "        text-align: right;\n",
       "    }\n",
       "</style>\n",
       "<table border=\"1\" class=\"dataframe\">\n",
       "  <thead>\n",
       "    <tr style=\"text-align: right;\">\n",
       "      <th></th>\n",
       "      <th>sample_code</th>\n",
       "      <th>clump_thickness</th>\n",
       "      <th>cell_size</th>\n",
       "      <th>cell_shape</th>\n",
       "      <th>marginal_adhesion</th>\n",
       "      <th>epithelial_size</th>\n",
       "      <th>bare_nuclei</th>\n",
       "      <th>bland_chromatin</th>\n",
       "      <th>normal_nucleoli</th>\n",
       "      <th>mitoses</th>\n",
       "      <th>classd</th>\n",
       "    </tr>\n",
       "  </thead>\n",
       "  <tbody>\n",
       "    <tr>\n",
       "      <th>0</th>\n",
       "      <td>1000025</td>\n",
       "      <td>5</td>\n",
       "      <td>1</td>\n",
       "      <td>1</td>\n",
       "      <td>1</td>\n",
       "      <td>2</td>\n",
       "      <td>1</td>\n",
       "      <td>3</td>\n",
       "      <td>1</td>\n",
       "      <td>1</td>\n",
       "      <td>benign</td>\n",
       "    </tr>\n",
       "    <tr>\n",
       "      <th>1</th>\n",
       "      <td>1002945</td>\n",
       "      <td>5</td>\n",
       "      <td>4</td>\n",
       "      <td>4</td>\n",
       "      <td>5</td>\n",
       "      <td>7</td>\n",
       "      <td>10</td>\n",
       "      <td>3</td>\n",
       "      <td>2</td>\n",
       "      <td>1</td>\n",
       "      <td>benign</td>\n",
       "    </tr>\n",
       "    <tr>\n",
       "      <th>2</th>\n",
       "      <td>1015425</td>\n",
       "      <td>3</td>\n",
       "      <td>1</td>\n",
       "      <td>1</td>\n",
       "      <td>1</td>\n",
       "      <td>2</td>\n",
       "      <td>2</td>\n",
       "      <td>3</td>\n",
       "      <td>1</td>\n",
       "      <td>1</td>\n",
       "      <td>benign</td>\n",
       "    </tr>\n",
       "    <tr>\n",
       "      <th>3</th>\n",
       "      <td>1016277</td>\n",
       "      <td>6</td>\n",
       "      <td>8</td>\n",
       "      <td>8</td>\n",
       "      <td>1</td>\n",
       "      <td>3</td>\n",
       "      <td>4</td>\n",
       "      <td>3</td>\n",
       "      <td>7</td>\n",
       "      <td>1</td>\n",
       "      <td>benign</td>\n",
       "    </tr>\n",
       "    <tr>\n",
       "      <th>4</th>\n",
       "      <td>1017023</td>\n",
       "      <td>4</td>\n",
       "      <td>1</td>\n",
       "      <td>1</td>\n",
       "      <td>3</td>\n",
       "      <td>2</td>\n",
       "      <td>1</td>\n",
       "      <td>3</td>\n",
       "      <td>1</td>\n",
       "      <td>1</td>\n",
       "      <td>benign</td>\n",
       "    </tr>\n",
       "  </tbody>\n",
       "</table>\n",
       "</div>"
      ],
      "text/plain": [
       "   sample_code  clump_thickness  cell_size  cell_shape  marginal_adhesion  \\\n",
       "0      1000025                5          1           1                  1   \n",
       "1      1002945                5          4           4                  5   \n",
       "2      1015425                3          1           1                  1   \n",
       "3      1016277                6          8           8                  1   \n",
       "4      1017023                4          1           1                  3   \n",
       "\n",
       "   epithelial_size bare_nuclei  bland_chromatin  normal_nucleoli  mitoses  \\\n",
       "0                2           1                3                1        1   \n",
       "1                7          10                3                2        1   \n",
       "2                2           2                3                1        1   \n",
       "3                3           4                3                7        1   \n",
       "4                2           1                3                1        1   \n",
       "\n",
       "   classd  \n",
       "0  benign  \n",
       "1  benign  \n",
       "2  benign  \n",
       "3  benign  \n",
       "4  benign  "
      ]
     },
<<<<<<< HEAD
     "execution_count": 3,
=======
     "execution_count": 188,
>>>>>>> refs/remotes/origin/main
     "metadata": {},
     "output_type": "execute_result"
    }
   ],
   "source": [
    "# Convierte los dos valores de classd a cadenas de caracteres\n",
    "diagnostics_mapping = {'2': 'benign',  '4': 'malignant'}\n",
    "dataset['classd'] = dataset['classd'].astype(str)\n",
    "dataset['classd'] = dataset['classd'].replace(diagnostics_mapping)\n",
    "\n",
    "dataset.head()"
   ]
  },
  {
   "cell_type": "code",
<<<<<<< HEAD
   "execution_count": 4,
=======
   "execution_count": 189,
>>>>>>> refs/remotes/origin/main
   "metadata": {},
   "outputs": [
    {
     "data": {
      "text/plain": [
       "classd\n",
       "benign       458\n",
       "malignant    241\n",
       "dtype: int64"
      ]
     },
<<<<<<< HEAD
     "execution_count": 4,
=======
     "execution_count": 189,
>>>>>>> refs/remotes/origin/main
     "metadata": {},
     "output_type": "execute_result"
    }
   ],
   "source": [
    "# Verifique cuántas observaciones tenemos para cada categoría de benigno y maligno.\n",
    "dataset.groupby('classd').size()"
   ]
  },
  {
   "attachments": {},
   "cell_type": "markdown",
   "metadata": {},
   "source": [
    "# <a id='toc6_'></a>[Análisis de 5 números](#toc0_)"
   ]
  },
  {
   "cell_type": "code",
<<<<<<< HEAD
   "execution_count": 5,
=======
   "execution_count": 190,
>>>>>>> refs/remotes/origin/main
   "metadata": {},
   "outputs": [
    {
     "data": {
      "text/html": [
       "<div>\n",
       "<style scoped>\n",
       "    .dataframe tbody tr th:only-of-type {\n",
       "        vertical-align: middle;\n",
       "    }\n",
       "\n",
       "    .dataframe tbody tr th {\n",
       "        vertical-align: top;\n",
       "    }\n",
       "\n",
       "    .dataframe thead th {\n",
       "        text-align: right;\n",
       "    }\n",
       "</style>\n",
       "<table border=\"1\" class=\"dataframe\">\n",
       "  <thead>\n",
       "    <tr style=\"text-align: right;\">\n",
       "      <th></th>\n",
       "      <th>sample_code</th>\n",
       "      <th>clump_thickness</th>\n",
       "      <th>cell_size</th>\n",
       "      <th>cell_shape</th>\n",
       "      <th>marginal_adhesion</th>\n",
       "      <th>epithelial_size</th>\n",
       "      <th>bland_chromatin</th>\n",
       "      <th>normal_nucleoli</th>\n",
       "      <th>mitoses</th>\n",
       "    </tr>\n",
       "  </thead>\n",
       "  <tbody>\n",
       "    <tr>\n",
       "      <th>count</th>\n",
       "      <td>6.990000e+02</td>\n",
       "      <td>699.000000</td>\n",
       "      <td>699.000000</td>\n",
       "      <td>699.000000</td>\n",
       "      <td>699.000000</td>\n",
       "      <td>699.000000</td>\n",
       "      <td>699.000000</td>\n",
       "      <td>699.000000</td>\n",
       "      <td>699.000000</td>\n",
       "    </tr>\n",
       "    <tr>\n",
       "      <th>mean</th>\n",
       "      <td>1.071704e+06</td>\n",
       "      <td>4.417740</td>\n",
       "      <td>3.134478</td>\n",
       "      <td>3.207439</td>\n",
       "      <td>2.806867</td>\n",
       "      <td>3.216023</td>\n",
       "      <td>3.437768</td>\n",
       "      <td>2.866953</td>\n",
       "      <td>1.589413</td>\n",
       "    </tr>\n",
       "    <tr>\n",
       "      <th>std</th>\n",
       "      <td>6.170957e+05</td>\n",
       "      <td>2.815741</td>\n",
       "      <td>3.051459</td>\n",
       "      <td>2.971913</td>\n",
       "      <td>2.855379</td>\n",
       "      <td>2.214300</td>\n",
       "      <td>2.438364</td>\n",
       "      <td>3.053634</td>\n",
       "      <td>1.715078</td>\n",
       "    </tr>\n",
       "    <tr>\n",
       "      <th>min</th>\n",
       "      <td>6.163400e+04</td>\n",
       "      <td>1.000000</td>\n",
       "      <td>1.000000</td>\n",
       "      <td>1.000000</td>\n",
       "      <td>1.000000</td>\n",
       "      <td>1.000000</td>\n",
       "      <td>1.000000</td>\n",
       "      <td>1.000000</td>\n",
       "      <td>1.000000</td>\n",
       "    </tr>\n",
       "    <tr>\n",
       "      <th>25%</th>\n",
       "      <td>8.706885e+05</td>\n",
       "      <td>2.000000</td>\n",
       "      <td>1.000000</td>\n",
       "      <td>1.000000</td>\n",
       "      <td>1.000000</td>\n",
       "      <td>2.000000</td>\n",
       "      <td>2.000000</td>\n",
       "      <td>1.000000</td>\n",
       "      <td>1.000000</td>\n",
       "    </tr>\n",
       "    <tr>\n",
       "      <th>50%</th>\n",
       "      <td>1.171710e+06</td>\n",
       "      <td>4.000000</td>\n",
       "      <td>1.000000</td>\n",
       "      <td>1.000000</td>\n",
       "      <td>1.000000</td>\n",
       "      <td>2.000000</td>\n",
       "      <td>3.000000</td>\n",
       "      <td>1.000000</td>\n",
       "      <td>1.000000</td>\n",
       "    </tr>\n",
       "    <tr>\n",
       "      <th>75%</th>\n",
       "      <td>1.238298e+06</td>\n",
       "      <td>6.000000</td>\n",
       "      <td>5.000000</td>\n",
       "      <td>5.000000</td>\n",
       "      <td>4.000000</td>\n",
       "      <td>4.000000</td>\n",
       "      <td>5.000000</td>\n",
       "      <td>4.000000</td>\n",
       "      <td>1.000000</td>\n",
       "    </tr>\n",
       "    <tr>\n",
       "      <th>max</th>\n",
       "      <td>1.345435e+07</td>\n",
       "      <td>10.000000</td>\n",
       "      <td>10.000000</td>\n",
       "      <td>10.000000</td>\n",
       "      <td>10.000000</td>\n",
       "      <td>10.000000</td>\n",
       "      <td>10.000000</td>\n",
       "      <td>10.000000</td>\n",
       "      <td>10.000000</td>\n",
       "    </tr>\n",
       "  </tbody>\n",
       "</table>\n",
       "</div>"
      ],
      "text/plain": [
       "        sample_code  clump_thickness   cell_size  cell_shape  \\\n",
       "count  6.990000e+02       699.000000  699.000000  699.000000   \n",
       "mean   1.071704e+06         4.417740    3.134478    3.207439   \n",
       "std    6.170957e+05         2.815741    3.051459    2.971913   \n",
       "min    6.163400e+04         1.000000    1.000000    1.000000   \n",
       "25%    8.706885e+05         2.000000    1.000000    1.000000   \n",
       "50%    1.171710e+06         4.000000    1.000000    1.000000   \n",
       "75%    1.238298e+06         6.000000    5.000000    5.000000   \n",
       "max    1.345435e+07        10.000000   10.000000   10.000000   \n",
       "\n",
       "       marginal_adhesion  epithelial_size  bland_chromatin  normal_nucleoli  \\\n",
       "count         699.000000       699.000000       699.000000       699.000000   \n",
       "mean            2.806867         3.216023         3.437768         2.866953   \n",
       "std             2.855379         2.214300         2.438364         3.053634   \n",
       "min             1.000000         1.000000         1.000000         1.000000   \n",
       "25%             1.000000         2.000000         2.000000         1.000000   \n",
       "50%             1.000000         2.000000         3.000000         1.000000   \n",
       "75%             4.000000         4.000000         5.000000         4.000000   \n",
       "max            10.000000        10.000000        10.000000        10.000000   \n",
       "\n",
       "          mitoses  \n",
       "count  699.000000  \n",
       "mean     1.589413  \n",
       "std      1.715078  \n",
       "min      1.000000  \n",
       "25%      1.000000  \n",
       "50%      1.000000  \n",
       "75%      1.000000  \n",
       "max     10.000000  "
      ]
     },
<<<<<<< HEAD
     "execution_count": 5,
=======
     "execution_count": 190,
>>>>>>> refs/remotes/origin/main
     "metadata": {},
     "output_type": "execute_result"
    }
   ],
   "source": [
    "# Use el análisis de cinco números para explorar estatiscalmente el conjunto de datos.\n",
    "dataset.describe()"
   ]
  },
  {
   "attachments": {},
   "cell_type": "markdown",
   "metadata": {},
   "source": [
    "# <a id='toc7_'></a>[Gráfica del conjunto de datos](#toc0_)"
   ]
  },
  {
   "cell_type": "code",
<<<<<<< HEAD
   "execution_count": 6,
=======
   "execution_count": 191,
>>>>>>> refs/remotes/origin/main
   "metadata": {},
   "outputs": [
    {
     "data": {
      "text/plain": [
<<<<<<< HEAD
       "<matplotlib.legend.Legend at 0x7fd650f56df0>"
      ]
     },
     "execution_count": 6,
=======
       "<matplotlib.legend.Legend at 0x16b9c864fa0>"
      ]
     },
     "execution_count": 191,
>>>>>>> refs/remotes/origin/main
     "metadata": {},
     "output_type": "execute_result"
    },
    {
     "data": {
      "image/png": "iVBORw0KGgoAAAANSUhEUgAABDIAAAJvCAYAAACJafEzAAAAOXRFWHRTb2Z0d2FyZQBNYXRwbG90bGliIHZlcnNpb24zLjUuMiwgaHR0cHM6Ly9tYXRwbG90bGliLm9yZy8qNh9FAAAACXBIWXMAAA9hAAAPYQGoP6dpAACNlElEQVR4nOzdeXhTVf7H8U8aurcUKJQWKJR9kU1HkV1QAaFisTKoOCKiuODCzoAruKGACA6CI+4zA+owBVRQQBShCoIL7iIga6Ws0hZaaEnv74/8EkmbtimkSW77fj0PT7g3p+m3OTlZPjn3XIthGIYAAAAAAABMIMjfBQAAAAAAAHiKIAMAAAAAAJgGQQYAAAAAADANggwAAAAAAGAaBBkAAAAAAMA0CDIAAAAAAIBpEGQAAAAAAADTIMgAAAAAAACmQZABAAAAAABMgyADgNO7776rkJAQrVq1yt+lVGknT55UmzZtlJqaqsLCQn+XAwAAfCgjI0NxcXEaP368v0sBAhZBBnCOXn/9dVksFue/sLAwxcfHq3fv3po+fboOHTpU7GemTp0qi8Xih2rLtmvXLg0fPlwvvfSS+vXrV+6fX7RokebMmeP2OovFoqlTp55fgT6ye/duWSwWvf76636rYeTIkYqNjdWiRYsUFFS5nqZ79eqlXr16+buMSiOQn1MCBY85zx8nK1euNM1ztcMzzzyj6OhopaSkaM+ePfrLX/6i9evX+7ssSRXzenLs2DHdcMMNiouLk8Vi0aBBg7x224Fo+PDhSkpK8trtmeE588yZM7rhhht0+eWXa9asWS7Xne9jKikpScOHDz//IoEAULneIQN+8Nprr2njxo1as2aNXnjhBXXs2FHPPPOMWrdurY8++sil7e23366NGzf6qdKS5efna8iQIRo7duw5v8CVFmRs3LhRt99++7kXWIXMnz9f3377rd59912FhYX5uxwAVcjKlSs1bdo0f5dRLrNmzdI//vEPxcfHq02bNqpRo4a6du3q77IqzOOPP66lS5fqueee08aNGzVjxgx/lwQvmzJliqpVq6Y333wz4EMXwJ+q+bsAwOzatm2riy++2Ll93XXXaezYserevbtSU1O1fft21a1bV5LUoEEDNWjQwF+lligkJERbtmypsNvv3Llzhd12ZTNq1CiNGjXK32V4JC8vT+Hh4f4uA1VcXl6ewsLCeMNfRR0+fFiS/Zv7f/7zn36upuL98MMPatq0qW666Sav3J5hGDp16hTP5QFk5syZ/i4BMAVmZAAVoGHDhnr22WeVk5Pj8sbK3ZTGt99+W3379lVCQoLCw8PVunVrTZ48WSdPnix2uwsXLlSLFi0UGhqqNm3aaNGiRcWmXTqmHc6aNUuzZ89W48aNFRUVpS5dumjTpk3FbvPdd99Vly5dFBERoejoaPXp06fYrJHDhw/rjjvuUGJiokJDQ1WnTh1169bNOeOkV69eWrFihfbs2eNyuI2Du0NLMjIynLcZEhKievXqafDgwTp48KCzzd69e/W3v/1NcXFxCg0NVevWrfXss88WWzdiwYIF6tChg6KiohQdHa1WrVrpgQceKKF3/vT7779ryJAhio6OVkxMjK6//nplZma6bfvll1/qmmuuUa1atRQWFqYLL7xQ77zzTpm/Q5JOnz6txx57TK1bt1ZYWJhiY2PVu3dvff755842L7zwgnr27Km4uDhFRkaqXbt2mjFjhgoKClxuq1evXmrbtq22bNmiHj16KCIiQk2aNNHTTz9d7H45fvy4xo8fryZNmig0NFRxcXEaMGCAfvnlF2eb/Px8PfHEE2rVqpWzb2+99VbnhwOHpKQkXX311UpLS9OFF16osLCwUr+5NQxDM2bMUKNGjRQWFqaLLrpIH3zwgdu22dnZmjBhgho3bqyQkBDVr19fY8aMcTsGinLcHxs3blTXrl0VHh6upKQkvfbaa5KkFStW6KKLLlJERITatWunDz/80OXnd+zYoVtvvVXNmzdXRESE6tevr4EDB+r77793abdu3TpZLBYtWrRIf//735WQkKCoqCgNHDhQBw8eVE5Oju644w7Vrl1btWvX1q233qoTJ0643IanfVySFStWqGPHjgoNDVXjxo2LTTl2MAxD8+fPV8eOHRUeHq6aNWtq8ODB+u2338r8HZ7eH1LZjy/HfbZu3TqXnytparQnY8xxSN/q1as1YsQI1alTRxERETp9+nS5HnOePreUZNGiRerSpYuioqIUFRWljh076pVXXnFp8+qrr6pDhw4KCwtTrVq1dO211+rnn392aTN8+HBFRUVpx44dGjBggKKiopSYmKjx48fr9OnTHtXy9ttvq0uXLoqMjFRUVJT69eunb775xqOfLVrLCy+8IEkuz+O7d++WVP7nKF+NycWLF+vBBx9UvXr1VL16dV155ZXatm1bsb/Pk/4oavfu3apWrZqmT59e7Lr169fLYrHov//9b+l3bBHlGWNFa7FYLProo4/0888/O/vHMb6OHTumUaNGqX79+goJCVGTJk304IMPFnscWSwW3XvvvXrxxRfVunVrhYaG6o033nCOrY8//th5eGP16tU1bNgwnTx5UpmZmRoyZIhq1KihhIQETZgwoVjfT5s2TZdeeqlq1aql6tWr66KLLtIrr7wiwzA8um9ef/11tWzZ0jkm33zzTbftPH3d8pSn78N+++033XDDDapXr55CQ0NVt25dXXHFFdq6dWuZv+OLL77QwIEDFRsbq7CwMDVt2lRjxoxxabN9+3YNHTrU5XnJMSZLU9LhN54cRnPq1CmNHz9eHTt2VExMjGrVqqUuXbpo+fLlxdr+97//1aWXXqqYmBjne48RI0aUWR9QUZiRAVSQAQMGyGq1lnms7vbt2zVgwACNGTNGkZGR+uWXX/TMM89o8+bN+vjjj53tXnrpJd1555267rrr9NxzzykrK0vTpk0r8c3uCy+8oFatWjkP93j44Yc1YMAA7dq1SzExMZLsb8Zvuukm9e3bV4sXL9bp06c1Y8YM9erVS2vXrlX37t0lSTfffLO+/vprPfnkk2rRooWOHz+ur7/+WkePHpVkPxzijjvu0M6dO7V06dIy75uMjAxdcsklKigo0AMPPKD27dvr6NGjWrVqlf744w/VrVtXhw8fVteuXZWfn6/HH39cSUlJev/99zVhwgTt3LlT8+fPlyS99dZbGjVqlO677z7NmjVLQUFB2rFjh3766adSa8jLy9OVV16p33//XdOnT1eLFi20YsUKXX/99cXafvLJJ7rqqqt06aWX6sUXX1RMTIzeeustXX/99crNzS31cJwzZ86of//+2rBhg8aMGaPLL79cZ86c0aZNm7R3717nFOhff/1VQ4YMUdOmTRUWFqZvv/1WTz75pH755Re9+uqrLreZmZmpm266SePHj9ejjz6qpUuXasqUKapXr56GDRsmScrJyVH37t21e/du/f3vf9ell16qEydOaP369Tpw4IBatWqlwsJCpaSkaMOGDZo0aZK6du2qPXv26NFHH1WvXr305ZdfunxL9/XXX+vnn3/WQw89pMaNGysyMrLEv3vatGmaNm2abrvtNg0ePFj79u3TyJEjZbPZ1LJlS2e73NxcXXbZZdq/f7/zsfDjjz/qkUce0ffff6+PPvqozDdimZmZuvXWWzVp0iQ1aNBA//jHPzRixAjt27dPS5Ys0QMPPKCYmBg99thjGjRokH777TfVq1dPkj3Mio2N1dNPP606dero2LFjeuONN3TppZfqm2++calVkh544AH17t1br7/+unbv3q0JEyboxhtvVLVq1dShQwctXrxY33zzjR544AFFR0fr+eefd/7szp07NXToUGdgU1ofF7V27VqlpKSoS5cueuutt2Sz2TRjxgyX4M/hzjvv1Ouvv677779fzzzzjI4dO6bHHntMXbt21bfffuucIeaOp/eHJ4+v8ijvGBsxYoSSk5P1r3/9SydPnlRwcLDHjzlPn1tK8sgjj+jxxx9Xamqqxo8fr5iYGP3www/as2ePs8306dP1wAMP6MYbb9T06dN19OhRTZ06VV26dNGWLVvUvHlzZ9uCggJdc801uu222zR+/HitX79ejz/+uGJiYvTII4+UWstTTz2lhx56SLfeeqseeugh5efna+bMmerRo4c2b96sNm3aeNwHDz/8sE6ePKklS5a4hNkJCQmSyvf49fWY7Natm15++WVlZ2fr73//uwYOHKiff/5ZVqu13P1xtqSkJF1zzTV68cUXNWnSJOftSdK8efNUr149XXvttR7fx+fy953dDxs3btSoUaOUlZWl//znP5KkNm3a6NSpU+rdu7d27typadOmqX379tqwYYOmT5+urVu3asWKFS63tWzZMm3YsEGPPPKI4uPjFRcX55yVefvttys1NVVvvfWW87nszJkz2rZtm1JTU3XHHXfoo48+0jPPPKN69epp3LhxztvdvXu37rzzTjVs2FCStGnTJt13333KyMgo87H8+uuv69Zbb1VKSoqeffZZZWVlaerUqTp9+rTLWlHlfd3yhKfvwwYMGOB87m3YsKGOHDmizz//XMePHy/19letWqWBAweqdevWmj17tho2bKjdu3dr9erVzjY//fSTunbt6vwiLD4+XqtWrdL999+vI0eO6NFHHy3X3+Sp06dP69ixY5owYYLq16+v/Px8ffTRR0pNTdVrr73mfE+xceNGXX/99br++us1depUhYWFac+ePS73D+BzBoBz8tprrxmSjC1btpTYpm7dukbr1q2d248++qhR2rArLCw0CgoKjE8//dSQZHz77beGYRiGzWYz4uPjjUsvvdSl/Z49e4zg4GCjUaNGzn27du0yJBnt2rUzzpw549y/efNmQ5KxePFi523Wq1fPaNeunWGz2ZztcnJyjLi4OKNr167OfVFRUcaYMWNKvT+Sk5Nd6jibJOPRRx91bo8YMcIIDg42fvrppxJvb/LkyYYk44svvnDZf/fddxsWi8XYtm2bYRiGce+99xo1atQotTZ3FixYYEgyli9f7rJ/5MiRhiTjtddec+5r1aqVceGFFxoFBQUuba+++mojISHB5f4r6s033zQkGQsXLix3jW+++aZhtVqNY8eOOfdddtllbu+XNm3aGP369XNuP/bYY4YkY82aNSXe/uLFiw1Jxv/+9z+X/Vu2bDEkGfPnz3fua9SokWG1Wp33e2n++OMPIywszLj22mtd9n/22WeGJOOyyy5z7ps+fboRFBRUbBwtWbLEkGSsXLmy1N/luD++/PJL576jR48aVqvVCA8PNzIyMpz7t27dakgynn/++RJv78yZM0Z+fr7RvHlzY+zYsc79n3zyiSHJGDhwoEv7MWPGGJKM+++/32X/oEGDjFq1apX4e2w2m1FQUOC2j9259NJLjXr16hl5eXnOfdnZ2UatWrVcnlM2btxoSDKeffZZl5/ft2+fER4ebkyaNKnU31NUSfeHJ48vx332ySefuOx3PEedyxhzPO8OGzbMpV15HnOePre489tvvxlWq9W46aabSmzzxx9/GOHh4caAAQNc9u/du9cIDQ01hg4d6tx3yy23GJKMd955x6XtgAEDjJYtW5b4Oxy3V61aNeO+++5z2Z+Tk2PEx8cbQ4YMce4r67XH4Z577vGoXWmPX1+PyaL38zvvvGNIMjZu3GgYRvn6wx3H71m6dKlzX0ZGhlGtWjVj2rRppf6su8e6p39fSS677DLjggsucNn34osvun0cPfPMM4YkY/Xq1c59koyYmJhizzmOsVX08TRo0CBDkjF79myX/R07djQuuuiiEut0PEYee+wxIzY21igsLCy1bb169YyLLrrIpd3u3buLvccpz+uWO+f6PuzIkSOGJGPOnDml3r47TZs2NZo2bery/F1Uv379jAYNGhhZWVku+++9914jLCzM2V/uHlO33HKL2/df7v7WRo0aGbfcckuJdZw5c8YoKCgwbrvtNuPCCy907p81a5YhyTh+/HgpfyngWxxaAlQgw4PplL/99puGDh2q+Ph4Wa1WBQcH67LLLpMk57TXbdu2Oad1nq1hw4bq1q2b29tNTk52+faoffv2kuT81nDbtm36/fffdfPNN7t82xEVFaXrrrtOmzZtUm5uriSpU6dOev311/XEE09o06ZNHk+FL8kHH3yg3r17q3Xr1iW2+fjjj9WmTRt16tTJZf/w4cNlGIbzW4BOnTrp+PHjuvHGG7V8+XIdOXLEoxo++eQTRUdH65prrnHZP3ToUJftHTt26JdffnEej3zmzBnnvwEDBujAgQNupzGf/beGhYWVOf3yxx9/1I033qhGjRopMjJSYWFhuu2222Sz2fTrr7+6tI2Pjy92v7Rv397lG+EPPvhALVq00JVXXlni73z//fdVo0YNDRw40OXv6tixo+Lj44sdEtC+fXu1aNGi1L9Dsn9zc+rUqWLHcHft2lWNGjUqVkPbtm3VsWNHlxr69evn9rAEdxISEvSXv/zFuV2rVi3FxcWpY8eOzm95JTkfb2ffT2fOnNFTTz2lNm3aKCQkRNWqVVNISIi2b9/udtr51Vdf7bLtuM3k5ORi+48dO+ZyeMk333yja665RrGxsc6xPmzYMLd9fLaTJ09qy5YtSk1NdVkANjo6WgMHDnRp+/7778tisehvf/uby/0ZHx+vDh06lHl/enp/ePL48tS5jLHrrrvOZbs8jzlPn1vcWbNmjWw2m+65554S22zcuFF5eXnFZpEkJibq8ssv19q1a132WyyWYv1YdDy7s2rVKp05c0bDhg1zuc/CwsJ02WWXeTR2yqM8j19fjsmiz+FFX+vK2x9F9erVSx06dHCZ4v/iiy/KYrHojjvuKPVn3Snv3+eJjz/+WJGRkRo8eLDLfsffXPRvvPzyy1WzZk23t1We57iij9GPP/5YV155pWJiYpyPkUceeURHjx51eyY3B8f7kaFDh7rMwGvUqFGxhVvL+7rlCU/eh9WqVUtNmzbVzJkzNXv2bH3zzTceHYr266+/aufOnbrttttKXMD71KlTWrt2ra699lpFREQUew48deqU20ODveW///2vunXrpqioKFWrVk3BwcF65ZVXXB6Pl1xyiSRpyJAheuedd5SRkVFh9QCeIsgAKsjJkyd19OhRlzdtRZ04cUI9evTQF198oSeeeELr1q3Tli1blJaWJsl++IMk5yEc7qaElzRNPDY21mU7NDTU7W06pg2frV69eiosLNQff/whyX786C233KKXX35ZXbp0Ua1atTRs2LAS15Moy+HDh8tc9PTo0aMl1nZ2/TfffLNeffVV7dmzR9ddd53i4uJ06aWXas2aNWXevrv7Lj4+3mXbMXV/woQJCg4OdvnnWJSztPDk8OHDqlevXqmnUd2/f7+6du2qXbt26bnnntNnn32mrVu36sUXX5T0Z585FO1byd6/Z7fz5D4+ePCgjh8/rpCQkGJ/W2ZmZrG/y11/uOPom6L3pbt9Bw8e1HfffVfs90dHR8swDI+CqVq1ahXbFxISUmx/SEiIJPubRodx48bp4Ycf1qBBg/Tee+/piy++0JYtW9ShQ4di97u73+W4zbJ+1969e9WjRw9lZGRo7ty52rBhg7Zs2eL8cOTudzn88ccfKiws9Pj+NAxDdevWLXafbtq0qcz709P7w5PHl6fOZYwVfSyW5zHn6XOLO45j8Ev728t6bi16+xEREcU+4ISGhro8Tt1x3G+XXHJJsfvt7bff9jjU9UR5H7++HJPn+1pXWn873H///Vq7dq22bdumgoICLVy4UIMHD3b7eCtLef8+Txw9elTx8fHFDsOLi4tTtWrViv2NpT2Xl+c57ux+27x5s/r27SvJvp7XZ599pi1btujBBx+UVPpzXHlfM8rzulUWT9+HWSwWrV27Vv369dOMGTN00UUXqU6dOrr//vuVk5NT4u17+pxx5swZ/eMf/yj2Nw0YMEBS6e8zzkdaWpqGDBmi+vXr69///rc2btyoLVu2aMSIES7927NnTy1btswZnjZo0EBt27bV4sWLK6QuwBOskQFUkBUrVshms6lXr14ltvn444/1+++/a926dc70X1Kx4y0db9TcHQ9/rmGC4zYPHDhQ7Lrff/9dQUFBzm9sateurTlz5mjOnDnau3ev3n33XU2ePFmHDh0qtlCbJ+rUqaP9+/eXWV9JtTlqcrj11lt166236uTJk1q/fr0effRRXX311fr111+LfRt79u1v3ry52P6i96fj90yZMkWpqalub6ukY5ol+9+anp6uwsLCEsOMpUuXKjs7W//973+VmJjo3F/W+iql8eQ+rl27tmJjY0vsw+joaJdtT88K4XhsuXtsZmZmuixKVrt2bYWHh5e4RsTZ/VwR/v3vf2vYsGF66qmnXPYfOXJENWrU8NrvWbZsmU6ePKm0tDSXx6Qni8TVrFlTFoulxPvzbLVr15bFYtGGDRucH+jO5m7f2Ty9Pzx5fDk+nBddx6foG/JzGWNFH4vlecyV57mlqDp16kiyh49nj1V3tZT0O7z1mHbczpIlS0p8nvOW83n8lpe3x6Q3+mPo0KH6+9//rhdeeEGdO3dWZmZmqbNySlMRzzmxsbH64osvZBiGy9g4dOiQzpw5U+xvrIgz/Lz11lsKDg7W+++/7xLMLVu2rMyfLWv8nq28r1tl8fR9mGSfIeJY1PfXX3/VO++8o6lTpyo/P9/5xUNRZz9nlKRmzZqyWq26+eabS3xcNW7cuMSfDwsLc7temifhx7///W81btxYb7/9tsvjwt3tpaSkKCUlRadPn9amTZs0ffp0DR06VElJSerSpUuZvwvwNmZkABVg7969mjBhgmJiYnTnnXeW2M7xolH0w0XRU8i1bNlS8fHxxVbw37t3r8uZL8qjZcuWql+/vhYtWuRyCMzJkyf1v//9z3kmk6IaNmyoe++9V3369NHXX3/t3F90RkBp+vfvr08++aTUQzKuuOIK/fTTTy6/Q5LzvOq9e/cu9jORkZHq37+/HnzwQeXn5+vHH38s8fZ79+6tnJwcvfvuuy77Fy1a5LLdsmVLNW/eXN9++60uvvhit/9Ke+PUv39/nTp1qtgZGs7muP/PPhSosLBQL730Uok/U5b+/fvr119/LXWa/NVXX62jR4/KZrO5/btKC2hK07lzZ4WFhTkXo3P4/PPPi01Fvvrqq7Vz507Fxsa6rcHdSuzeZLFYio2/FStWeH3arLuxbhiGFi5cWObPRkZGqlOnTkpLS3P5hiwnJ0fvvfeeS9urr75ahmEoIyPD7f3Zrl27Muv05P7w5PHl6LvvvvvOZX/RMXe+Y0wq32PuXJ5bHPr27Sur1aoFCxaU2KZLly4KDw/Xv//9b5f9+/fv18cff6wrrrii1L/FU/369VO1atW0c+fOEu+38io6m8HhfB6/5eXtMemN/ggLC9Mdd9yhN954Q7Nnz1bHjh1LPKyzLBXxnHPFFVfoxIkTxUIDx1k/vPWYK43FYlG1atVcXsfy8vL0r3/9q8yfbdmypRISErR48WKX9yN79uwp9h7H269bnr4PK6pFixZ66KGH1K5du2LPJUXbNW3aVK+++mqJi7NHRESod+/e+uabb9S+fXu3f5e7mZgOSUlJOnTokMuXXfn5+Vq1alWpf4Nk//tDQkJcQozMzEy3Zy1xCA0N1WWXXaZnnnlGks7pLEmANzAjAzhPP/zwg/NYxkOHDmnDhg167bXXZLVatXTpUmca707Xrl1Vs2ZN3XXXXXr00UcVHBys//znP/r2229d2gUFBWnatGm68847NXjwYI0YMULHjx/XtGnTlJCQUOphCyUJCgrSjBkzdNNNN+nqq6/WnXfeqdOnT2vmzJk6fvy4nn76aUlSVlaWevfuraFDh6pVq1aKjo7Wli1b9OGHH7p8e9quXTulpaVpwYIF+stf/qKgoKAS30g/9thj+uCDD9SzZ0898MADateunY4fP64PP/xQ48aNU6tWrTR27Fi9+eabSk5O1mOPPaZGjRppxYoVmj9/vu6++27nWg0jR45UeHi4unXrpoSEBGVmZmr69OmKiYlxHtPpzrBhw/Tcc89p2LBhevLJJ9W8eXOtXLnS7Qv/P//5T/Xv31/9+vXT8OHDVb9+fR07dkw///yzvv7661JPv3fjjTfqtdde01133aVt27apd+/eKiws1BdffKHWrVvrhhtuUN++fRUSEqIbb7xRf//733Xq1CnNnz9f2dnZHvWlO2PGjNHbb7+tlJQUTZ48WZ06dVJeXp4+/fRTXX311erdu7duuOEG/ec//9GAAQM0evRoderUScHBwdq/f78++eQTpaSklHtFfsn+7dKECRP0xBNP6Pbbb9df//pX7du3T1OnTi02TXjMmDH63//+p549e2rs2LFq3769CgsLtXfvXq1evVrjx4/XpZdees73Q1muvvpqvf7662rVqpXat2+vr776SjNnzvTaYRMOffr0cfbxpEmTdOrUKS1YsMB5+FZZHn/8cV111VXq06ePxo8fL5vNpmeeeUaRkZE6duyYs123bt10xx136NZbb9WXX36pnj17KjIyUgcOHFB6erratWunu+++u8Tf4+n94cnjKz4+XldeeaWmT5+umjVrqlGjRlq7dq1zyvbZzmeMSeV7zHn63OJOUlKSHnjgAT3++OPKy8vTjTfeqJiYGP300086cuSIpk2bpho1aujhhx/WAw88oGHDhunGG2/U0aNHNW3aNIWFhXnt7ANJSUl67LHH9OCDD+q3337TVVddpZo1a+rgwYPavHmzIiMjSz1FsjuOoOuZZ55R//79ZbVa1b59+/N+/JaHt8ekt/pj1KhRmjFjhr766iu9/PLL51SLVDHPOcOGDdMLL7ygW265Rbt371a7du2Unp6up556SgMGDPDKWjZlSU5O1uzZszV06FDdcccdOnr0qGbNmlXmLDDJ/n7k8ccf1+23365rr71WI0eO1PHjx92OX2+/bnn6Puy7777Tvffeq7/+9a9q3ry5QkJC9PHHH+u7777T5MmTS/0dL7zwggYOHKjOnTtr7Nixatiwofbu3atVq1Y5w9e5c+eqe/fu6tGjh+6++24lJSUpJydHO3bs0HvvvVdqaHz99dfrkUce0Q033KCJEyfq1KlTev7552Wz2cr8+x2nVR81apTzbE+PP/64EhIStH37dme7Rx55RPv379cVV1yhBg0a6Pjx45o7d67LeiKAz/lnjVHA/BwrfDv+hYSEGHFxccZll11mPPXUU8ahQ4eK/Yy7FaQ///xzo0uXLkZERIRRp04d4/bbbze+/vprtyudv/TSS0azZs2MkJAQo0WLFsarr75qpKSkuKws7VjReubMmcV+v4qcPcQwDGPZsmXGpZdeaoSFhRmRkZHGFVdcYXz22WfO60+dOmXcddddRvv27Y3q1asb4eHhRsuWLY1HH33UOHnypLPdsWPHjMGDBxs1atQwLBaLy9/p7vfu27fPGDFihBEfH28EBwcb9erVM4YMGWIcPHjQ2WbPnj3G0KFDjdjYWCM4ONho2bKlMXPmTJezhLzxxhtG7969jbp16xohISHO2/nuu++K/f1F7d+/37juuuuMqKgoIzo62rjuuuuMzz//3O19/+233xpDhgwx4uLijODgYCM+Pt64/PLLjRdffLHM35OXl2c88sgjRvPmzY2QkBAjNjbWuPzyy43PP//c2ea9994zOnToYISFhRn169c3Jk6caHzwwQfFzvrgbsV6w3C/avkff/xhjB492mjYsKERHBxsxMXFGcnJycYvv/zibFNQUGDMmjXL+bujoqKMVq1aGXfeeaexfft2Z7tGjRoZycnJZf6tDoWFhcb06dONxMREIyQkxGjfvr3x3nvvGZdddpnLGSQMwzBOnDhhPPTQQ0bLli2NkJAQIyYmxmjXrp0xduxYIzMzs9TfU9L9UVK9kox77rnHuf3HH38Yt912mxEXF2dEREQY3bt3NzZs2FCsTseZC/773/+63F5JZy9yjPXDhw8793naxyV59913jfbt2xshISFGw4YNjaeffrrEFfhfffVV49JLLzUiIyON8PBwo2nTpsawYcNcziThjqf3h6NtWY+vAwcOGIMHDzZq1aplxMTEGH/729+ML7/88pzHWGlniyrPY86T55bSvPnmm8Yll1ziHDMXXnhhsb/n5ZdfdvZXTEyMkZKSYvz4448ubW655RYjMjKy2O17epYRw7A/h/fu3duoXr26ERoaajRq1MgYPHiw8dFHH5X79k6fPm3cfvvtRp06dZzP47t27TIM4/yfo3w1Jks6U4gn/VGWXr16GbVq1TJyc3M9au+ulvKMMXdKun+PHj1q3HXXXUZCQoJRrVo1o1GjRsaUKVOMU6dOubQren87lOe5zDDcP3ZfffVVo2XLlkZoaKjRpEkTY/r06cYrr7zi8jgqzcsvv+x8nXS8x3H32ubp65Y75/o+7ODBg8bw4cONVq1aGZGRkUZUVJTRvn1747nnnnM5Q1xJNm7caPTv39+IiYkxQkNDjaZNmxY7S82uXbuMESNGGPXr1zeCg4ONOnXqGF27djWeeOIJlzbuHt8rV640OnbsaISHhxtNmjQx5s2b5/FZS55++mkjKSnJCA0NNVq3bm0sXLiw2M++//77Rv/+/Y369es73+8OGDDA2LBhQ5l/O1BRLIbhwWkVAASk48ePq0WLFho0aNB5HYYAAABKdujQITVq1Ej33XefZsyY4e9yAKDK49ASwCQyMzP15JNPqnfv3oqNjdWePXv03HPPKScnR6NHj/Z3eQAAVDr79+/Xb7/9ppkzZyooKIjXWwAIEAQZgEmEhoZq9+7dGjVqlI4dO6aIiAh17txZL774oi644AJ/lwcAQKXz8ssv67HHHlNSUpL+85//qH79+v4uCQAgiUNLAAAAAACAaXD6VQAAAAAAYBoEGQAAAAAAwDQIMgAAAAAAgGlU+sU+CwsL9fvvvys6OloWi8Xf5QAAAAAAADcMw1BOTo7q1aunoKCS511U+iDj999/V2Jior/LAAAAAAAAHti3b58aNGhQ4vWVPsiIjo6WZL8jqlev7udqYHYFBQVavXq1+vbtq+DgYH+XAwQsxgrgOcYL4BnGCuA5s46X7OxsJSYmOj/Hl6TSBxmOw0mqV69OkIHzVlBQoIiICFWvXt1UTwiArzFWAM8xXgDPMFYAz5l9vJS1LASLfQIAAAAAANMgyAAAAAAAAKZBkAEAAAAAAEyj0q+R4QnDMHTmzBnZbDZ/lwI3rFarqlWrxulzAQAAAAAEGfn5+Tpw4IByc3P9XQpKERERoYSEBIWEhPi7FAAAAACAH1XpIKOwsFC7du2S1WpVvXr1FBISwrf+AcYwDOXn5+vw4cPatWuXmjdvrqAgjogCAAAAgKqqSgcZ+fn5KiwsVGJioiIiIvxdDkoQHh6u4OBg7dmzR/n5+QoLC/N3SQAAAAAAP+GrbYlv+E2APgIAAAAASAQZAAAAAADARAgyAAAAAACAaRBkoFRJSUmaM2eOv8sAAAAAAEASQYZpDR8+XBaLxfkvNjZWV111lb777juv/p4tW7bojjvu8OptAgAAAABwrggyvMBmk9atkxYvtl/abL75vVdddZUOHDigAwcOaO3atapWrZquvvpqr/6OOnXqcEYXAAAAAEDAIMg4T2lpUlKS1Lu3NHSo/TIpyb6/ooWGhio+Pl7x8fHq2LGj/v73v2vfvn06fPiwJCkjI0PXX3+9atasqdjYWKWkpGj37t3Onx8+fLgGDRqkWbNmKSEhQbGxsbrnnntUUFDgbFP00JJffvlF3bt3V1hYmNq0aaOPPvpIFotFy5YtkyTt3r1bFotFaWlp6t27tyIiItShQwdt3LjRpfb//e9/uuCCCxQaGqqkpCQ9++yzFXY/AQAAAAAqD4KM85CWJg0eLO3f77o/I8O+3xdhhsOJEyf0n//8R82aNVNsbKxyc3PVu3dvRUVFaf369UpPT1dUVJSuuuoq5efnO3/uk08+0c6dO/XJJ5/ojTfe0Ouvv67XX3/d7e8oLCzUoEGDFBERoS+++EIvvfSSHnzwQbdtH3zwQU2YMEFbt25VixYtdOONN+rMmTOSpK+++kpDhgzRDTfcoO+//15Tp07Vww8/XOLvBQAAAADAoZq/CzArm00aPVoyjOLXGYZksUhjxkgpKZLVWjE1vP/++4qKipIknTx5UgkJCXr//fcVFBSkt956S0FBQXr55ZdlsVgkSa+99ppq1KihdevWqW/fvpKkmjVrat68ebJarWrVqpWSk5O1du1ajRw5stjvW716tXbu3Kl169YpPj5ekvTkk0+qT58+xdpOmDBBycnJkqRp06bpggsu0I4dO9SqVSvNnj1bV1xxhR5++GFJUosWLfTTTz9p5syZGj58uNfvJwAAAABA5cGMjHO0YUPxmRhnMwxp3z57u4rSu3dvbd26VVu3btUXX3yhvn37qn///tqzZ4+++uor7dixQ9HR0YqKilJUVJRq1aqlU6dOaefOnc7buOCCC2Q9K2lJSEjQoUOH3P6+bdu2KTEx0RliSFKnTp3ctm3fvr3LbUpy3u7PP/+sbt26ubTv1q2btm/fLpuvFhg5FzablJ5u/396uu8WQ0HJ8vOlOXOk++6zX5412wh+lJ8vzZ9v///8+fRLoGC8BCbGS+DJy5PuvVfq189+mZfn74ogSceOSV262P/fpYt9G/7nr8UCUbrHH5diYuz/j4mxb1cyfg0y1q9fr4EDB6pevXou6yw4GIahqVOnql69egoPD1evXr30448/+qfYIg4c8G67cxEZGalmzZqpWbNm6tSpk1555RWdPHlSCxcuVGFhof7yl784gw7Hv19//VVDhw513kZwcLDLbVosFhUWFrr9fYZhOGd3lOXs23X8jON23d2O4W5qSyBxLIby/7NMlJzsu8VQ4N6kSVJEhDR2rDRvnv0yIsK+H/7j6JcpU+zbU6bQL4GA8RKYGC+BZ9Agex+88IK0erX9MiLCvh/+Ex8vxcZKP/1k3/7pJ/v2WV+uwQ/8uVggSmaxSI884rrvkUfs+ysRvwYZJ0+eVIcOHTRv3jy318+YMUOzZ8/WvHnztGXLFsXHx6tPnz7KycnxcaXF/f8kA6+18waLxaKgoCDl5eXpoosu0vbt2xUXF+cMOxz/YhzpXDm1atVKe/fu1cGDB537tmzZUu7badOmjdIdMxv+3+eff64WLVq4zA4JGIG0GArsJk2SZs4snvrbbPb9fAjwD/olMNEvgYl+CTyDBknLl7u/bvlywgx/iY+Xznrv6eLgQcIMf+H9cWAqK6yoRGGGX4OM/v3764knnlBqamqx6wzD0Jw5c/Tggw8qNTVVbdu21RtvvKHc3FwtWrTID9W66tFDatCg5MeCxSIlJtrbVZTTp08rMzNTmZmZ+vnnn3XffffpxIkTGjhwoG666SbVrl1bKSkp2rBhg3bt2qVPP/1Uo0eP1v7SjokpRZ8+fdS0aVPdcsst+u677/TZZ585F/v0dKaGJI0fP15r167V448/rl9//VVvvPGG5s2bpwkTJpxTXRWqrMVQJPtiKEyj8538fGn27NLbzJ7N9Gxfo18CE/0SmOiXwJOXV3KI4bB8OYeZ+NqxYyWHGA4HD3KYia/x/jgweXr4SCU5zCRgF/vctWuXMjMznYtSSvbTjV522WX6/PPPdeedd7r9udOnT+v06dPO7ezsbElSQUGBy2lFHfsMw1BhYWGJh1OUxGKRnntOGjLEIotFMgzLWdfZB/Ds2YYsFqmcN+0RwzD04YcfOtefiI6OVqtWrfT222+rZ8+ekqR169Zp8uTJSk1NVU5OjurXr6/LL79cUVFRKiwslGEYzr//7NuVVGxfYWGh87Sqd9xxhy655BI1adJEzzzzjFJSUhQSEuJyPxb9/9n7OnbsqLfeektTp07V448/roSEBE2bNk3Dhg0rsR8c9RYUFPh21kZ6unT0qBQeLkkqKHIpSTpyRFq/Xure3Xd1VWULFkghIZ61GzWq4uuBXZF+cTtWHO3oF99hvAQmxkvgmTzZ+VpfZrtZsyq+Htj17evSLyWOlb59pY0bfVlZ1Vbk/bFbvD/2venTPRsv06fbn8sCVNHP7CWxGAGyOIHFYtHSpUs16P+n7X3++efq1q2bMjIyVK9ePWe7O+64Q3v27NGqVavc3s7UqVM1bdq0YvsXLVqkiIgIl33VqlVTfHy8EhMTFeLJGz033nsvWJMnh+v33/+c3FK/fqGmT8/TwIGedYKZbdq0Sf3799fXX3+txo0bV9jvyc/P1759+5SZmek8jSsAAAAAoPLIzc3V0KFDlZWVperVq5fYLmBnZDi4WxSytMMYpkyZonHjxjm3s7OzlZiYqL59+xa7I06dOqV9+/YpKipKYWFh51TfTTdJN9wgbdhQqAMH7Gti9OghWa3hkjxI9k1m6dKlioqKUvPmzbVjxw6NHz9e3bp1U4cOHSr09546dUrh4eHq2bPnOffVOUlP/3OBT9kTzTWvvqo+I0Yo+OzppStWkDj7yvz5fy6MV5rp0/km05eK9EuJY4V+8S3GS2BivASeCROkhQvLbjdyJDMyfKlLlz8X+FQpY6VNG2Zk+FKR98cl4v2xbxVZB7HE8SJJWVk+LKx8HEdUlCVggwzHKT4zMzOdh09I9lN41q1bt8SfCw0NVWhoaLH9wcHBxc7QYbPZnAtkBgWd+3IhQUHS5Zef84+bysmTJzV58mTt27dPtWvX1pVXXqlnn332vO4/TwQFBclisbjtxwrVs6d9VeyMDJfjAIPz8uxPCBaLfbGUnj2lQFyotDK6+25p/PjSj7u0Wu3tfPlYqepK6BfnWJHoF39gvAQmxkvgefpp6fnnPWtHn/jO6tX292FFuIwVRzv6xXdKeH/sxPtj/5gypfjZSuRmvDz2WECPF08/6/l1sc/SNG7cWPHx8VqzZo1zX35+vj799FN17drVj5VVbcOGDdP27dt16tQp7d+/X6+//rpi3bzAVBpWqzR3rv3/RWcCObbnzOFJ2pdCQqSzZl25NW6cZ+sCwHvol8BEvwQm+iXwhIdLKSmlt0lJ8WwdDXhPrVpSKV9gSrJfX6uWb+qBHe+PA9PDD3u3XYDza5Bx4sQJbd26VVu3bpVkX+Bz69at2rt3rywWi8aMGaOnnnpKS5cu1Q8//KDhw4crIiJCQ4cO9WfZqGpSU6UlS6T69V33N2hg3+/mrDuoYDNmSBMnFn+BtFrt+2fM8E9dVR39Epjol8BEvwSeZctKDjNSUuzXw/cyM0sOM+rWtV8P3+P9cWAqa/nLwFge0yv8utjnunXr1Lt372L7b7nlFr3++usyDEPTpk3TP//5T/3xxx+69NJL9cILL6ht27Ye/47s7GzFxMS4XSzk1KlT2rVrlxo3buzbdRdQbgHRVzabCtav18rsbA2oXl3BTJfzv/x8+7HmO3dKTZvajyXnG0z/y89XwYIFWpmUpAG7dyv47rvpl0DAeAlMjJfAk5dnD5O2b5eaN5dmzmQmRiA4dkwFfftq5cMPa8Djjyt49WpmYgQCm03asEFFFgv0d1V4/HEVTJ+ulYsXa8CNNyp4yhTTzMQo7fP72QLmrCUVhSCjcgiUviooKNDKlSs1YMAA367VAZgMYwXwHOMF8AxjBfCcWceLp0FGwK6RAQAAAAAAUBRBBgAAAAAAMA2CDAAAAAAAYBoEGdDu3btlsVicZ49Zt26dLBaLjh8/7te6AAAAAAAoiiDDpIYPHy6LxaK77rqr2HWjRo2SxWLR8OHDz+m2u3btqgMHDigmJuY8qwQAAAAAwLsIMrzBZpPWrZMWL7Zf2mw++bWJiYl66623lJeX59x36tQpLV68WA0bNjzn2w0JCVF8fLwsFos3ygQAAAAAwGsIMs5XWpqUlCT17i0NHWq/TEqy769gF110kRo2bKi0s35XWlqaEhMTdeGFFzr3ffjhh+revbtq1Kih2NhYXX311dq5c2eJt+vu0JKFCxcqMTFRERERuvbaazV79mzVqFHDef3UqVPVsWNH/etf/1JSUpJiYmJ0ww03KCcnx9nm9OnTuv/++xUXF6ewsDB1795dW7Zs8c6dAQAAAACoEggyzkdamjR4sLR/v+v+jAz7fh+EGbfeeqtee+015/arr76qESNGuLQ5efKkxo0bpy1btmjt2rUKCgrStddeq8LCQo9+x2effaa77rpLo0eP1tatW9WnTx89+eSTxdrt3LlTy5Yt0/vvv6/3339fn376qZ5++mnn9ZMmTdL//vc/vfHGG/r666/VrFkz9evXT8eOHTvHvx4AAAAAUNUQZJwrm00aPVoyjOLXOfaNGVPhh5ncfPPNSk9P1+7du7Vnzx599tln+tvf/ubS5rrrrlNqaqqaN2+ujh076pVXXtH333+vn376yaPf8Y9//EP9+/fXhAkT1KJFC40aNUr9+/cv1q6wsFCvv/662rZtqx49eujmm2/W2rVrJdnDlAULFmjmzJnq37+/2rRpo4ULFyo8PFyvvPLK+d8RAAAAAIAqgSDjXG3YUHwmxtkMQ9q3z96uAtWuXVvJycl644039Nprryk5OVm1a9d2abNz504NHTpUTZo0UfXq1dW4cWNJ0t69ez36Hdu2bVOnTp1c9hXdlqSkpCRFR0c7txMSEnTo0CFnDQUFBerWrZvz+uDgYHXq1Ek///yzZ38sAAAAAKDKq+bvAkzrwAHvtjsPI0aM0L333itJeuGFF4pdP3DgQCUmJmrhwoWqV6+eCgsL1bZtW+Xn53t0+4ZhFFv403AzEyU4ONhl22KxOA9fcbR3dzssKgoAAAAA8BQzMs5VQoJ3252Hq666Svn5+crPz1e/fv1crjt69Kh+/vlnPfTQQ7riiivUunVr/fHHH+W6/VatWmnz5s0u+7788sty3UazZs0UEhKi9PR0576CggJ9+eWXat26dbluCwAAAABQdTEj41z16CE1aGBf2NPdOhkWi/36Hj0qvBSr1eo8PMNqtbpcV7NmTcXGxuqll15SQkKC9u7dq8mTJ5fr9u+77z717NlTs2fP1sCBA/Xxxx/rgw8+KNdMisjISN19992aOHGiatWqpYYNG2rGjBnKzc3VbbfdVq56AAAAAABVFzMyzpXVKs2da/9/0Q/0ju05c+ztfKB69eqqXr16sf1BQUF666239NVXX6lt27YaO3asZs6cWa7b7tatm1588UXNnj1bHTp00IcffqixY8cqLCysXLfz9NNP67rrrtPNN9+siy66SDt27NCqVatUs2bNct0OAAAAAKDqshjuFjuoRLKzsxUTE6OsrKxiH/RPnTqlXbt2qXHjxuX+UO6UlmY/e8nZC38mJtpDjNTUcy88wI0cOVK//PKLNlTwYqYOXukrLygoKNDKlSs1YMCAYmuCAPgTYwXwHOMF8AxjBfCcWcdLaZ/fz8ahJecrNVVKSbGfneTAAfuaGD16+Gwmhq/MmjVLffr0UWRkpD744AO98cYbmj9/vr/LAgAAAABUMQQZ3mC1Sr16+buKCrV582bNmDFDOTk5atKkiZ5//nndfvvt/i4LAAAAAFDFEGTAI++8846/SwAAAAAAgMU+AQAAAACAeRBkSKrk651WCvQRAAAAAECq4kGGY/XW3NxcP1eCsjj6yEwr7gIAAAAAvK9Kr5FhtVpVo0YNHTp0SJIUEREhi8Xi56pwNsMwlJubq0OHDqlGjRqyVrKzwQAAAAAAyqdKBxmSFB8fL0nOMAOBqUaNGs6+AgAAAABUXVU+yLBYLEpISFBcXJwKCgr8XQ7cCA4OZiYGAAAAAEASQYaT1WrlwzIAAAAAAAGuSi/2CQAAAAAAzIUgAwAAAAAAmAZBBgAAAAAAMA2CDAAAAAAAYBoEGQAAAAAAwDQIMgAAAAAAgGkQZAAAAAAAANMgyAAAAAAAAKZBkAEAAAAAAEyDIAMAAAAAAJgGQQYAAAAAADANggwAAAAAAGAaBBkAAAAAAMA0CDIAAAAAAIBpEGQAAAAAAADTIMgAAAAAAACmQZABAAAAAABMgyADAAAAAACYBkEGAMC7bDYpPd3+//R0+zYAmIQt36atc9bp8/sWa+ucdbLl8xwWEHhtCUw2m7RunbR4sf2SfgkMVWC8EGQAALwnLU1KSpKSk+3bycn27bQ0f1YFAB7ZNClNByOS1HFsb3WdN1Qdx/bWwYgkbZrEc5hf8doSmBz90ru3NHSo/ZJ+8b8qMl4IMgAA3pGWJg0eLO3f77o/I8O+v5K9gAKoXDZNSlOnmYMVb3N9Dou3ZajTzMGEGf7Ca0tgol8CUxXqF4IMAMD5s9mk0aMlwyh+nWPfmDGVcmojAPOz5dvUcPZoSUaxN8dBsj+HJc4ew2EmvsZrS2CiXwJTFesXggwAwPnbsKF4+n82w5D27bO3A4AA8/38Dapn21/iG+MgGapv26fv5/Mc5lO8tgQm+iUwVbF+IcgAAJy/Awe82w4AfCh3p2fPTZ62g5fw2hKY6JfAVMX6hSADAHD+EhK82w4AfCiiqWfPTZ62g5fw2hKY6JfAVMX6hSADAHD+evSQGjSQLBb311ssUmKivR0ABJh2o3rod2sDFcr9c1ihLMqwJqrdKJ7DfIrXlsBEvwSmKtYvBBkAgPNntUpz59r/X/QF1LE9Z469HQAEGGuIVXvH2Z/DioYZju194+bIGsJzmE/x2hKY6JfAVMX6hSADAOAdqanSkiVS/fqu+xs0sO9PTfVPXQDggc4zUrV54hJlWl2fww5YG2jzxCXqPIPnML/gtSUw0S+BqQr1i8Uw3J2fpfLIzs5WTEyMsrKyVL16dX+XA5MrKCjQypUrNWDAAAUHB/u7HCAw2WwqWL9eK7OzNaB6dQX37Flp0n+gIvDaElhs+TZ9P3+DcnceUETTBLUb1YOZGIGA15bAZLPZz4Jx4IB97YUePeiXQGDi8eLp5/dqPqwJAFAVWK1S9+7SypX2S5O8cAKAZD/MpOOYXv4uA0Xx2hKYrFapVy9/V4GiqsB44dASAAAAAABgGgQZAAAAAADANAgyAAAAAACAaRBkAAAAAAAA0yDIAAAAAAAApkGQAQAAAAAATIMgAwAAAAAAmAZBBgAAAAAAMA2CDAAAAAAAYBoEGQAAAAAAwDQIMgAAAAAAgGkQZAAAAAAAANMgyAAAAAAAAKZBkAEAAAAAAEyDIAMAAAAAAJgGQQYAAAAAADANggwAAAAAAGAaBBkAAAAAAMA0CDIAAAAAAIBpEGQAAAAAAADTIMgAAAAAAACmQZABAAAAAABMgyADAAAAAACYBkEGAAAAAAAwDYIMAAAAAABgGgQZAAAAAADANAgyAAAAAACAaRBkAAAAAAAA0yDIAAAAAAAApkGQAQAAAAAATIMgAwAAAAAAmAZBBgAAAAAAMA2CDAAAAAAAYBoEGQAAAAAAwDQIMgAAAAAAgGkQZAAAAAAAANMgyAAAAAAAAKZBkAEAAAAAAEyDIAMAAAAAAJgGQQYAAAAAADANggwAAAAAAGAaBBkAAAAAAMA0CDIAmJfNJq1bJy1ebL+02fxdESQpP1+aP9/+//nz7dsA3GO8BJ7MTCk+XgoLs19mZvq7Ikiy7dqrgrr1JUkFdevLtmuvnyuCJCkvT7r3XqlfP/tlXp6/K4JUJV5bAjrIOHPmjB566CE1btxY4eHhatKkiR577DEVFhb6uzQA/paWJiUlSb17S0OH2i+Tkuz74T+TJkkREdKUKfbtKVPs25Mm+bcuIBAxXgJPZKSUkCAdPCidPm2/TEiw74ff2KzBCmrSSMGnTkiSgk+dUFCTRrJZg/1cWRU3aJD9OeuFF6TVq+2XERH2/fCfKvLaEtBBxjPPPKMXX3xR8+bN088//6wZM2Zo5syZ+sc//uHv0gD4U1qaNHiwtH+/6/6MDPt+wgz/mDRJmjmz+MwYm82+v5K9gALnhfESeCIjpdxc99fl5hJm+InNGqygwjNurwsqPEOY4S+DBknLl7u/bvlywgx/qUKvLQEdZGzcuFEpKSlKTk5WUlKSBg8erL59++rLL7/0d2kA/MVmk0aPlgyj+HWOfWPGcJiJr+XnS7Nnl95m9uxKObURKDfGS+DJzCw5xHDIzeUwEx+z7drrDDEsRa5zbAcVnuEwE1/Lyys5xHBYvpzDTHytir22VPN3AaXp3r27XnzxRf36669q0aKFvv32W6Wnp2vOnDkl/szp06d1+vRp53Z2drYkqaCgQAUFBRVdMio5x2OIx5IfpadLR49K4eEltzlyRFq/Xure3Xd1VXULFkghIc7Ngv/vn4Ki/bRggTRqlC8rAwIP4yXwdO5c+uvK2e22b6/4eiBJKvjLxQo+q19KGisFf7lYwQczfFpblTZ5smfjZfJkadasiq8HdpXktcXTz1kWw3D3tWZgMAxDDzzwgJ555hlZrVbZbDY9+eSTmuI43seNqVOnatq0acX2L1q0SBERERVZLgAAAAAAOEe5ubkaOnSosrKyVL169RLbBXSQ8dZbb2nixImaOXOmLrjgAm3dulVjxozR7Nmzdcstt7j9GXczMhITE3XkyJFS7wjAEwUFBVqzZo369Omj4GCOyfSL9HQpObnsditWMCPDl+bP/3NRKdnT/zWvvqo+I0Yo+OyppdOnB/S3AIBPMF4CT/Pm0qFDZbeLi2NGhg8V1K3vXOBTKnmsFIRFMSPDlyZMkBYuLLvdyJHMyPClSvLakp2drdq1a5s7yEhMTNTkyZN1zz33OPc98cQT+ve//61ffvnFo9vIzs5WTExMmXcE4ImCggKtXLlSAwYMIMjwF5vNfnaSjAz362RYLFKDBtKuXZLV6vPyqqz8fPuK2P+/NklBeLhWLl6sATfe+OeLp9VqP8b8rGmPQJXEeAk8mZn2s5OU5cAB+ylZ4RO2XXsV1KSRJPuaGEXHiuNdQOFve2Rt3NBvdVY5eXn257Cy5OZ6dggKvKOSvLZ4+vk9oBf7zM3NVVCQa4lWq5XTrwJVmdUqzZ1r/7+lyNJfju05cwgxfC0kRBo3rvQ248YF9Asn4DOMl8ATH1/2B7OICEIMH7M2bqjCIPuSfkW/unCGGEHVCDF8LTxcSkkpvU1KCiGGr1Wx15aADjIGDhyoJ598UitWrNDu3bu1dOlSzZ49W9dee62/SwPgT6mp0pIlUv36rvsbNLDvT031T11V3YwZ0sSJxUMkq9W+f8YM/9QFBCLGS+A5ebLkMCMiwn49fM5qK3CGGUUVBlWT1cYC7H6xbFnJYUZKiv16+F4Vem0J6ENLcnJy9PDDD2vp0qU6dOiQ6tWrpxtvvFGPPPKIQjxMkji0BN7EoSUBxmaTNmywT/VNSJB69GAmRiDIz1fBggVamZSkAbt3K/juuytN+g94HeMl8GRmSh07SsePSzVqSFu3MhMjANh27dXpv1ysNa8tVJ9bRyr0qy+ZiREI8vLsH5C3b7evNTNzJjMxAoGJX1s8/fwe0EGGNxBkwJsIMgDPMFYAzzFeAM8wVgDPmXW8VIo1MgAAAAAAAM5GkAEAAAAAAEyDIAMAAAAAAJgGQQYAAAAAADANggwAAAAAAGAaBBkAAAAAAMA0CDIAAAAAAIBpEGQAAAAAAADTIMgAAAAAAACmQZABAAAAAABMgyADAAAAAACYBkEGAAAAAAAwDYIMAAAAAABgGgQZAAAAAADANAgyAAAAAACAaRBkAAAAAAAA0yDIAAAAAAAApkGQAQAAAAAATIMgAwAAAAAAmAZBBgAAAAAAMA2CDAAAAAAAYBoEGQAAAAAAwDQIMgAAAAAAgGkQZAAAAAAAANMgyAAAAAAAAKZBkAEAAAAAAEyDIAMAAAAAAJgGQQYAAAAAADANggwAAAAAAGAaBBkAAAAAAMA0CDIAAAAAAIBpEGQAAAAAAADTIMgAAAAAAACmQZABAAAAAABMgyADAAAAAACYBkEGAAAAAAAwDYIMAAAAAABgGgQZAAAAAADANAgyAAAAAACAaRBkAAAAAAAA0yDIAAAAAAAApkGQAQAAAAAATIMgAwAAAAAAmAZBBgDAu/Lzpfnz7f+fP9++Df+z2aR166TFi+2XNpu/K4Jk74f0dPv/09PplwBgO5al4+2660RsQx1v1122Y1n+LgmSlJUl9etn/3+/fvZt+B+vLYEpL0+aMMH+/wkT7NuVDEEGAMB7Jk2SIiKkKVPs21Om2LcnTfJvXVVdWpqUlCT17i0NHWq/TEqy74f/OPolOdm+nZxMv/hZTnwzBcXWUI0fPlPUsX2q8cNnCoqtoZz4Zv4urWpr1kyqUUPatMm+vWmTfbsZ/eJXvLYEpkGD7O+9Fi60by9caN8eNMifVXkdQQYAwDsmTZJmziz+bYzNZt9PmOEfaWnS4MHS/v2u+zMy7Pt5w+kf9EvAyYlvpqiDO91eF3VwJ2GGvzRrJu103y/auZMww194DgtMgwZJy5e7v2758koVZhBkAADOX36+NHt26W1mz+YwE1+z2aTRoyXDKH6dY9+YMUwF9jX6JeDYjmU5QwxLkesc21EHd3KYia9lZZUcYjjs3MlhJr7Gc1hgyssrOcRwWL680hxmQpABADh/8+eX/YbFZvtz7Qz4xoYNxb8tO5thSPv22dvBd+iXgJNzWbIsKh5iODiuy7ks2XdF4c/DrrzVDt7Bc1hgmjjRu+0CHEEGAOD8lfWNWXnbwTsOHPBuO3gH/RJwqv2+16vt4CV7Pby/PW0H7+A5LDBt3+7ddgGOIAMAcP6aNvVuO3hHQoJ328E76JeAc6ZeQ6+2g5c09PD+9rQdvIPnsMDUvLl32wU4ggwAwPkbNUqyWktvY7Xa28F3evSQGjSQLCVMmLdYpMREezv4Dv0ScKI/XSFDkpsj/qX/32/8fzv40AoP729P28E7eA4LTDNnerddgCPIAACcv5AQady40tuMG2dvB9+xWqW5c+3/L/qG07E9Z07ZIRS8i34JONZaMTpR1z5jrGiY4dg+UbeprLVifFpXlRcTU/ZMvqZN7e3gOzyHBabwcCklpfQ2KSn2dpUAQQYAwDtmzLAvIFX0jYvVat8/Y4Z/6qrqUlOlJUuk+vVd9zdoYN+fmuqfuqo6+iXgRGfucIYZRZ2o21TRmTt8XBEkSTt2lBxmNG1qvx6+x3NYYFq2rOQwIyXFfn0lYTEMd+fNqTyys7MVExOjrKwsVa9e3d/lwOQKCgq0cuVKDRgwQMHBwf4uBwhM+fkqWLBAK5OSNGD3bgXffTczMQKBzWZfQf7AAftxyz168G1ZILDZVLB+vVZmZ2tA9eoK7tmTfvEz27Es5VyWrGq/79WZeg0V/ekKZmIEgqwsFVx7rVaOHq0Bc+cqeOlSZmIEAl5bAlNengomT9bKyy/XgI8/VvDTT5tmJoann9+r+bAmAEBVEBJiXwtj5Ur7JaFfYLBapV69/F0FirJape7d7eOle3c+AAQAa60Y1fg+3d9loKiYGGnVKvtYWbWK15ZAwWtLYAoPl2bNso+XWbMq5Xjh0BIAAAAAAGAaBBkAAAAAAMA0CDIAAAAAAIBpEGQAAAAAAADTIMgAAAAAAACmQZABAAAAAABMgyADAAAAAACYBkEGAAAAAAAwDYIMAAAAAABgGgQZAAAAAADANAgyAAAAAACAaRBkAAAAAAAA06h2Pj+cl5engoICl33Vq1c/r4IAAAAAAABKUu4ZGbm5ubr33nsVFxenqKgo1axZ0+UfAAAAAABARSl3kDFx4kR9/PHHmj9/vkJDQ/Xyyy9r2rRpqlevnt58882KqBEAAAAAAEDSORxa8t577+nNN99Ur169NGLECPXo0UPNmjVTo0aN9J///Ec33XRTRdQJAAAAAABQ/hkZx44dU+PGjSXZ18M4duyYJKl79+5av369d6sDAAAAAAA4S7mDjCZNmmj37t2SpDZt2uidd96RZJ+pUaNGDW/WBgAAAAAA4KLcQcatt96qb7/9VpI0ZcoU51oZY8eO1cSJE71eIAAAAAAAgEO518gYO3as8/+9e/fWL7/8oi+//FJNmzZVhw4dvFocAAAAAADA2codZBTVsGFDNWzY0Bu1AAAAAAAAlKrch5bcf//9ev7554vtnzdvnsaMGeONmgAAAAAAANwqd5Dxv//9T926dSu2v2vXrlqyZIlXigIAAAAAAHCn3EHG0aNHFRMTU2x/9erVdeTIEa8UBQAAAAAA4E65g4xmzZrpww8/LLb/gw8+UJMmTbxSFAAAAAAAgDvlXuxz3Lhxuvfee3X48GFdfvnlkqS1a9fq2Wef1Zw5c7xdHwAAAAAAgFO5g4wRI0bo9OnTevLJJ/X4449LkpKSkrRgwQINGzbM6wUCAAAAAAA4nNPpV++++27dfffdOnz4sMLDwxUVFeXtugAAAAAAAIo5pyDDoU6dOt6qAwAAAAAAoEweBRkXXnihLBaLRzf49ddfn1dBAAAAAAAAJfEoyBg0aFAFlwEAAAAAAFA2j4KMRx99tKLrAAAAAAAAKFOQvwsAAAAAAADwVLkX+wwKCip1vQybzXZeBQEAAAAAAJSk3EHG0qVLXbYLCgr0zTff6I033tC0adO8VhgAAAAAAEBR5Q4yUlJSiu0bPHiwLrjgAr399tu67bbbvFIYAAAAAABAUV5bI+PSSy/VRx995K2bAwAAAAAAKMYrQUZeXp7+8Y9/qEGDBt64OQAAAAAAALfKfWhJzZo1XRb7NAxDOTk5ioiI0L///W+vFgcAAAAAAHC2cgcZzz33nEuQERQUpDp16ujSSy9VzZo1vVocAAAAAADA2codZAwfPrwCygAAAAAAACibR0HGd9995/ENtm/f/pyLAQAAAAAAKI1HQUbHjh1lsVhkGEap7SwWi2w2m1cKA4Ay5edL8+dLO3dKTZtKo0ZJISH+rgrHjkl9+0oPPyx16SKtXi3VquXvqqo824k8Zd48UUE7t6uwaXPF/2umrFHh/i6ryrNlZCr/ks7SgrnKb9RcQVs2yVo/3t9lVW15edLEidL27VLz5tLMmVI4Y8XvbDYpPd3+//R0qWdPyWr1b02w98uGDdKBA1JCgtSjB/0SCKrAePHorCW7du3Sb7/9pl27dpX677fffvN6gRkZGfrb3/6m2NhYRUREqGPHjvrqq6+8/nsAmMykSVJEhDR2rDRvnv0yIsK+H/4THy/Fxko//WTf/ukn+3Y8H8z8KaPTIAVFR6j+sheU8P1q1V/2goKiI5TRaZC/S6vSCkIjFdQgQSHHD0mSQo4fUlCDBBWERvq5sips0CD7a8kLL9hD2BdesG8PGuTvyqq2tDQpKUlKTrZvJyfbt9PS/FkVHP3Su7c0dKj9kn7xvyoyXjyakdGoUaOKrsOtP/74Q926dVPv3r31wQcfKC4uTjt37lSNGjX8Ug+AADFpkv0bsqJstj/3z5jh25pgDysOHnR/3cGD9uszM31bE5TRaZDqbVnu9rp6W5Yro9Mg1d+8zLdFQQWhkaqWn+v2umr5uSoIjVTw6ZM+rqqKGzRIWu5+rGj5cvv1y5b5sCBIsn/4GjxYMgzXmTEZGfb9S5ZIqan+q6+qOrtfzka/+FcVGi8ezcgo6l//+pe6deumevXqac+ePZKkOXPmaHlJT/7n6JlnnlFiYqJee+01derUSUlJSbriiivUtGlTr/4eACaSny/Nnl16m9mz7e3gO8eOlRxiOBw8aG8Hn7GdyHOGGJYi1zm2621ZLtuJPJ/WVdXZMjKdIUZJ/VItP1e2DII/n8nLKznEcFi+3N4OvmOzSaNHF/+wLP25b8wYezv4Dv0SmKpYv5Q5I2PVqlXq3LmzYmJiJEkLFizQI488ojFjxujJJ590rolRo0YNzZkzRykpKV4r7t1331W/fv3017/+VZ9++qnq16+vUaNGaeTIkSX+zOnTp3X69GnndnZ2tiSpoKBABQUFXqsNVZPjMcRjyY8WLPBsHYwFC+xrZsA3+vZ1Sf4L/v//BUWPK+/bV9q40ZeVVWkHRkxWggfH9h8YMVkJ/5nlg4ogSfmXdFaIB+Ml/5LOCtmz3ae1VVmTJ3u2DsbkydIsxorPpKdLR486+8btWDlyRFq/Xure3R8VVk1F+sUt+sX3Ksl48fRzlsUoYwXPN954QzNnztSHH36oBg0aqE2bNnrqqac0aNAgRUdH69tvv1WTJk30ww8/qFevXjpy5IhX/gBJCgsLkySNGzdOf/3rX7V582aNGTNG//znPzVs2DC3PzN16lRNmzat2P5FixYpIiLCa7UBAAAAAADvyc3N1dChQ5WVlaXq1auX2K7MIEOS0tLS9Mgjj+iHH35QeHi4fvnlFzVq1MglyNi+fbvat2+vPC9OuQsJCdHFF1+szz//3Lnv/vvv15YtW7SxhG/03M3ISExM1JEjR0q9IwBPFBQUaM2aNerTp4+Cg4P9XU7VNH++NGVK2e2mT2dGhi916fLnAp+yp/9rXn1VfUaMUPDZrwtt2jAjw4cO3DRBCe8vLLvd1SOZkeFD+Y2aOxf4lEoeL/k14piR4SsTJkgLyx4rGjmSGRm+lJ7+54KFKuW1ZcWKgP6GudIp0i8lol98q5KMl+zsbNWuXbvMIMOjxT5TU1N14YUXSpIaN26srVu3FlsA9IMPPlCbNm3Oo+TiEhISit1m69at9b///a/EnwkNDVVoaGix/cHBwXzwhNfwePKju++Wxo8v/fg+q9Xejj7yndWr7WcnKSI4L8/1xXP1avrFh+q/+rSCop+XVHwtBkkyzmpnpV98JmjLJgU1SJDk2i+O8eLol6Dtm+gXX3n6aen55z1rR5/4Ts+e9teWjAyX4/6dry0Wi9SgQaU8tWRAK6FfnOgX/6gk48XTz1geL/bZuHFjSdLEiRN1zz336O2335ZhGNq8ebOefPJJPfDAA5o4ceK5VVuCbt26adu2bS77fv31V7+dRQVAAAgJkcaNK73NuHGeraMB76lVS6pbt/Q2deva28FnrFHh+v0S+9pVRd9qOrZ/vyRF1igP1gaA11jrx+tMiP1w15L65UxIhKz1OW2xz4SHS2Wt85aS4tk6GvAeq1WaO9f+f0uRONaxPWdOQH8oq5Tol8BUxfql3GctufXWW/Xoo49q0qRJzuNXXnzxRc2dO1c33HCDV4sbO3asNm3apKeeeko7duzQokWL9NJLL+mee+7x6u8BYDIzZkgTJxZ/IrZa7fs59ap/ZGaWHGbUrcupV/2k/uZlzjCjqN8vSeHUq34SfPqkM8wo6kxIBKde9Ydly0oOM1JSOPWqv6Sm2k8ZWb++6/4GDSrVqSRNh34JTFWoXzxaI6MkR44cUWFhoeLi4rxZk4v3339fU6ZM0fbt29W4cWONGzeu1LOWFJWdna2YmJgyj7EBPFFQUKCVK1dqwIABHFoSCPLz7Wtm7NwpNW1qXxODmRj+d+yYCvr21cqHH9aAxx9X8OrVzMQIALYTecq8eaKCdm5XYdPmiv/XTGZiBABbRqZOXdJZHy2YqyvvHq2wLZuYieFveXn2UHz7dql5c2nmTGZiBAKbTQXr12tldrYGVK+u4ACfHl9l2GzShg3SgQNSQoLUowf9EghMPF48/fxe7iBj165dOnPmjJo3b+6yf/v27QoODlZSUtI5FVxRCDLgTQQZgGcYK4DnGC+AZxgrgOfMOl48/fxe7kNLhg8f7nIWEYcvvvhCw4cPL+/NAQAAAAAAeKzcQcY333yjbt26FdvfuXNnbd261Rs1AQAAAAAAuFXuIMNisSgnJ6fY/qysLNlKOx0iAAAAAADAeSp3kNGjRw9Nnz7dJbSw2WyaPn26unfv7tXiAAAAAAAAzlatvD8wY8YM9ezZUy1btlSPHj0kSRs2bFB2drY+/vhjrxcIAAAAAADgUO4ZGW3atNF3332nIUOG6NChQ8rJydGwYcP0yy+/qG3bthVRIwAAAAAAgKRzmJEhSfXq1dNTTz3l7VoAAAAAAABKVe4ZGQAAAAAAAP5CkAEAAAAAAEyDIAMAAAAAAJgGQQYAAAAAADCNcwoyzpw5o48++kj//Oc/lZOTI0n6/fffdeLECa8WBwAAAAAAcLZyn7Vkz549uuqqq7R3716dPn1affr0UXR0tGbMmKFTp07pxRdfrIg6AQAAAAAAyj8jY/To0br44ov1xx9/KDw83Ln/2muv1dq1a71aHAAAAAAAwNnKPSMjPT1dn332mUJCQlz2N2rUSBkZGV4rDAAAAAAAoKhyz8goLCyUzWYrtn///v2Kjo72SlEAAAAAAADulDvI6NOnj+bMmePctlgsOnHihB599FENGDDAm7UBAAAAAAC4KPehJc8995x69+6tNm3a6NSpUxo6dKi2b9+u2rVra/HixRVRIwAAAAAAgKRzCDLq1aunrVu3avHixfr6669VWFio2267TTfddJPL4p8AAAAAAADeVu4gQ5LCw8M1YsQIjRgxwtv1AAAAAAAAlMijIOPdd9/1+Aavueaacy4GAAAAAACgNB4FGYMGDXLZtlgsMgyj2D5Jbs9oAgAAAAAA4A0enbWksLDQ+W/16tXq2LGjPvjgAx0/flxZWVn64IMPdNFFF+nDDz+s6HoBAAAAAEAVVu41MsaMGaMXX3xR3bt3d+7r16+fIiIidMcdd+jnn3/2aoEAAAAAAAAOHs3IONvOnTsVExNTbH9MTIx2797tjZoAAAAAAADcKneQcckll2jMmDE6cOCAc19mZqbGjx+vTp06ebU4AAAAAACAs5U7yHj11Vd16NAhNWrUSM2aNVOzZs3UsGFDHThwQK+88kpF1AgAAAAAACDpHNbIaNasmb777jutWbNGv/zyiwzDUJs2bXTllVc6z1wCAAAAAABQEcodZEj2U6327dtXffv29XY9AAAAAAAAJSr3oSUAAAAAAAD+QpABAAAAAABMgyADAAAAAACYBkEGAAAAAAAwjXNa7NNms2nZsmX6+eefZbFY1Lp1a6WkpMhqtXq7PgAAAAAAAKdyBxk7duxQcnKy9u/fr5YtW8owDP36669KTEzUihUr1LRp04qoEwAAAAAAoPyHltx///1q0qSJ9u3bp6+//lrffPON9u7dq8aNG+v++++viBoBAAAAAAAkncOMjE8//VSbNm1SrVq1nPtiY2P19NNPq1u3bl4tDgAAAAAA4GzlnpERGhqqnJycYvtPnDihkJAQrxQFAAAAAADgTrmDjKuvvlp33HGHvvjiCxmGIcMwtGnTJt1111265pprKqJGAAAAAAAASecQZDz//PNq2rSpunTporCwMIWFhalbt25q1qyZ5s6dWxE1AgAAAAAASDqHNTJq1Kih5cuXa/v27frll19kGIbatGmjZs2aVUR9AAAAAAAATuUOMhyaN2+u5s2be7MWAAAAAACAUpX70BKbzaZXXnlFQ4cO1ZVXXqnLL7/c5R8A+Ex+vjRnjnTfffbL/Hx/VwRJstmk9HT7/9PT7dvwvx07pJAQyWKxX+7Y4e+KIElZWVK/fvb/9+tn34Z/ZWVJ3btLDRvaL+mTwJCXJ02YYP//hAn2bQDu5edL8+fb/z9/fqV8j+xRkNG7d2/997//lSSNHj1ao0ePls1mU9u2bdWhQweXfwDgE5MmSRER0tix0rx59suICPt++E9ampSUJCUn27eTk+3baWn+rApBQVLz5lJBgX27oMC+HVTu7zPgTc2aSTVqSJs22bc3bbJvc7iu/zj65LPPpH377Jf0if8NGmR/jV+40L69cKF9e9Agf1YFBCbHe+QpU+zbU6ZUyvfIHh1a8s9//lP9+vXTX//6V7311lt65513NGDAgIquDQDcmzRJmjmz+H6b7c/9M2b4tibYw4rBgyXDkMLD/9yfkWHfv2SJlJrqv/qqqqAge5+4Yxj26wsLfVsT7B+Md+50f93OnfbrmTXjW/RJYBo0SFq+3P11y5fbr1+2zIcFAQGsCr1H9uirmMcee0zDhw+XJIWEhLCwJwD/yc+XZs8uvc3s2ZVyCl1As9mk0aPdf2B27BszhsNMfG3HjpJDDAfD4MOZr2VllfyB2WHnTg5p8CX6JDDl5ZUcYjgsX85hJoBU5d4jexRkrF69WnXr1pUkjR8/XnPnzpVR1hsjAKgI8+eX/WHYZvvzuED4xoYN0v79JV9vGPZp2hs2+K4mSG3aeLcdvMNx6JW32uH80SeBaeJE77YDKrMq9h7Zo0NL1qxZo5UrV0qS0tPT9cknn+iDDz7QBRdcoODgYJe2aRwHDaAilfWNWXnbwTsOHPBuO3iHY00Mb7WDd+zd6912OH/0SWDavt277YDKrIq9R/YoyDh7Ic8aNWro2muvrdCiAKBETZt6tx28IyHBu+3gHcHBnoUURb6UQAVr2NA+Q8mTdvAN+iQwNW8urV7tWTugqqti75E9CjLO9tprr1VEHQDgmVGj7KddK23qnNVqbwff6dFDatDAvrCnu0MPLRb79T16+L62quynnzx7g//TTxVfC/60YoX9TBietINv0CeBaeZM6YUXPGsHVHVV7D0y510DYC4hIdK4caW3GTfO3g6+Y7VKc+fa/2+xuF7n2J4zx94OvtOsWfH+KMpi4dSSvhYTU/Y3Yk2b2tvBN+iTwBQeLqWklN4mJcX1TFlAVVXF3iOfU5CxZMkSDRkyRJ07d9ZFF13k8g8AKtyMGfaFvYp+KLZa7fsryWmlTCc11X6K1fr1Xfc3aMCpV/2psLDkMMNi4dSr/rJjR8kfnJs25Uwy/kCfBKZly0oOM1JSOPUqcLYq9B653EHG888/r1tvvVVxcXH65ptv1KlTJ8XGxuq3335T//79K6JGAChuxgwpN1d67jnp3nvtl7m5leoJ2pRSU6Xdu/+cfr1ihbRrFyGGvxUW2hfDc6yFERxs3ybE8K8dO6Tjx6XOne3bnTvbt/nA7D+OPunWTUpMtF/SJ/63bJn9NX7kSPv2yJH2bUIMoDjHe+Tp0+3b06dXyvfIFqOc51Ft1aqVHn30Ud14442Kjo7Wt99+qyZNmuiRRx7RsWPHNG/evIqq9ZxkZ2crJiZGWVlZql69ur/LgckVFBRo5cqVGjBgQLEz9gD4E2MF8BzjBfAMYwXwnFnHi6ef38s9I2Pv3r3q2rWrJCk8PFw5OTmSpJtvvlmLFy8+x3IBAAAAAADKVu4gIz4+XkePHpUkNWrUSJs2bZIk7dq1S+Wc3AEAAAAAAFAu5Q4yLr/8cr333nuSpNtuu01jx45Vnz59dP311+vaa6/1eoEAAAAAAAAO1cr7Ay+99JIK/39xsLvuuku1atVSenq6Bg4cqLvuusvrBQIAAAAAADiUO8gICgpSUNCfEzmGDBmiIUOGeLUoAAAAAAAAd8odZEjSqVOn9N133+nQoUPO2RkO11xzjVcKAwAAAAAAKKrcQcaHH36oYcOG6ciRI8Wus1gsstlsXikMAAAAAACgqHIv9nnvvffqr3/9qw4cOKDCwkKXf4QYAAAAAACgIpU7yDh06JDGjRununXrVkQ9AAAAAAAAJSp3kDF48GCtW7euAkoBAAAAAAAoXbnXyJg3b57++te/asOGDWrXrp2Cg4Ndrr///vu9VhwAAAAAAMDZyh1kLFq0SKtWrVJ4eLjWrVsni8XivM5isRBkAAAAAACAClPuIOOhhx7SY489psmTJysoqNxHpgAAAAAAAJyzcicR+fn5uv766wkxAAAAAACAz5U7jbjlllv09ttvV0QtAAAAAAAApSr3oSU2m00zZszQqlWr1L59+2KLfc6ePdtrxQEAAAAAAJyt3EHG999/rwsvvFCS9MMPP7hcd/bCnwAAAAAAAN5W7iDjk08+qYg6AAAAAAAAysSKnQAAAAAAwDTKPSNDkrZs2aL//ve/2rt3r/Lz812uS0tL80phAAAAAAAARZV7RsZbb72lbt266aefftLSpUtVUFCgn376SR9//LFiYmIqokYAAAAAAABJ5xBkPPXUU3ruuef0/vvvKyQkRHPnztXPP/+sIUOGqGHDhhVRIwAAAAAAgKRzCDJ27typ5ORkSVJoaKhOnjwpi8WisWPH6qWXXvJ6gQAAAAAAAA7lDjJq1aqlnJwcSVL9+vWdp2A9fvy4cnNzvVsdAAAAAADAWTwOMkaMGKGcnBz16NFDa9askSQNGTJEo0eP1siRI3XjjTfqiiuuqLBCAQAAAAAAPD5ryRtvvKGnn35a8+bN06lTpyRJU6ZMUXBwsNLT05WamqqHH364wgoFAAAAAADwOMgwDEOS/dASh6CgIE2aNEmTJk3yfmUAAAAAAABFlGuNDIvFUlF1AAAAAAAAlMnjGRmS1KJFizLDjGPHjp1XQQAAAAAAACUpV5Axbdo0xcTEVFQtAAAAAAAApSpXkHHDDTcoLi6uomoBAAAAAAAolcdrZLA+BgAAAAAA8DePgwzHWUsAAAAAAAD8xeNDSwoLCyuyDgAAAAAAgDKV6/SrAAAAAAAA/kSQAQAAAAAATIMgAwAAAAAAmAZBBgAAAAAAMA2CDAAAAAAAYBoEGQAAAAAAwDQIMgAAAAAAgGkQZAAAAAAAANMgyAAAAAAAAKZBkAF4yJZv0/fz0yVJ389Ply3f5ueKYDuWpePtuutEbEMdb9ddtmNZ/i4Jkk7syNSx2s0lScdqN9eJHZl+rgiSlJ95TIfj2yknLFaH49spP/OYv0uCJFvmYZ1q3k6SdKp5O9kyD/u5IigvT7r3XqlfP/tlXp6/KwKA8rHZpHT75xalp9u3KxlTBRnTp0+XxWLRmDFj/F0KqphNk9J0MCJJ7aYkS5LaTUnWwYgkbZqU5ufKqq6c+GYKiq2hGj98pqhj+1Tjh88UFFtDOfHN/F1alXYyKFKRzRNUq+CQJKlWwSFFNk/QyaBIP1dWtWVFxis4IVZ1Dv6g6NPHVOfgDwpOiFVWZLy/S6vSTkfWUFBCnMIO7ZUkhR3aq6CEOJ2OrOHfwqqyQYOkiAjphRek1avtlxER9v0AYAZpaVJSkpRs/9yi5GT7dlrl+tximiBjy5Yteumll9S+fXt/l4IqZtOkNHWaOVjxtv0u++NtGeo0czBhhh/kxDdT1MGdbq+LOriTMMNPTgZFKsLIdXtdhJFLmOEnWZHxqp570O111XMPEmb4yenIGgrJdT+LLCQ3izDDHwYNkpYvd3/d8uWEGQACX1qaNHiwtN/1c4syMuz7K1GYYYog48SJE7rpppu0cOFC1axZ09/loAqx5dvUcPZoSUaxwRIkQ5KUOHsMh5n4kO1YljPEsBS5zrEddXAnh5n42Ikdmc4Qo6R+iTByOczEx/IzjzlDjJL6pXruQQ4z8TFb5mFniFFSv4TkZnGYiS/l5ZUcYjgsX85hJgACl80mjR4tGUbx6xz7xoypNIeZVPN3AZ645557lJycrCuvvFJPPPFEqW1Pnz6t06dPO7ezs7MlSQUFBSooKKjQOlH5fL8gXe1CjsqmcNkkFYSHS2ddSlKcjujbBevVblR3P1VZtWT1vVYxZ93/pbbbuMoHFUGSTv6ls0LP6hd3Y8XZ7sh2n9ZWlR3t3Fe1PRgvRzv3Ve3tG31QESTpVOceCvNgvJzq3ENh27/3aW1V1uTJkgdjRZMnS7NmVXw9cMvxXp739IAb6enS0aPO5zK3ry1Hjkjr10vdA/dzi6fj22IY7iKbwPHWW2/pySef1JYtWxQWFqZevXqpY8eOmjNnjtv2U6dO1bRp04rtX7RokSIiIiq4WgAAAAAAcC5yc3M1dOhQZWVlqXr16iW2C+ggY9++fbr44ou1evVqdejQQZLKDDLczchITEzUkSNHSr0jAHe+n5/uXOBTsieaa159VX1GjFDwWdNLv5++ghkZPpLVpZ9iftpUdrs2nZmR4UPHajd3LvAplTxWjgXHqRYzMnzmSPMuqn3op7LbxbVhRoYPnWrezrnAp1TyeDkV15AZGb4yYYK0cGHZ7UaOZEaGHxUUFGjNmjXq06ePgoOD/V0OEFjS0/9c4FMlv7ZoxYqAnpGRnZ2t2rVrlxlkBPShJV999ZUOHTqkv/zlL859NptN69ev17x583T69GlZrVaXnwkNDVVoaGix2woODuYJD+XW4e6eOjg+VvG2DOeaGJIUnJen4Lw8FcqiA9YG6nB3T1mDraXcEryl5uqlCoqtIan4seWSnL1Uc/VSWRnzPhP51SZVa54gybVfHGPF0S+R323iudiHYjetVrWEWEmlj5fYTavpFx8K2rRBQQlxkkofLxGbNvA85itPPy09/7xn7egTv+N9PeBGz55SbKx9YU+j+OcWWSxSgwb2dtbA/dzi6dgO6MU+r7jiCn3//ffaunWr89/FF1+sm266SVu3bi0WYgDeZg2xau+4uZKkwiIfAxzb+8bNkTWEx6KvWGvF6ETdppKkotPJHNsn6jaVtVaMT+uq6qKaxSvXYj98r6R+ybVEKKoZZ8jwpZD4WsqOqCup5H7JjqirkPhaPq2rqrPG11F+hP05qqR+yY+IkTW+jk/rqtLCw6WUlNLbpKR4to4GAPiD1SrNtX9ukaXI1xeO7TlzAjrEKI+ADjKio6PVtm1bl3+RkZGKjY1V27Zt/V0eqojOM1K1eeISZVrru+w/YG2gzROXqPOMVD9VVnVFZ+5whhlFnajbVNGZO3xcESQpsvCkM8woKtcSocjCkz6uCJIUczLTGWYUlR1RVzEnOZOMP4SePO4MM4rKj4hR6Mnjvi0I0rJlJYcZKSn26wEgkKWmSkuWSPVdP7eoQQP7/tTK87kloIMMIFB0npGqurm79f30FZLsa2LE5+4ixPCj6MwdKjx6XMfbdtOJWok63rabCo8eJ8Tws8jCkzq5/YCOBdunzR8LjtPJ7QcIMfws5mSmCg4c1eG6bZUTWkuH67ZVwYGjhBh+FnryuAoPHNKpuIaS7GtiFB44RIjhT8uWSbm50j33SH372i9zcwkxAJhHaqq0e7d9LQzJfrlrV6UKMaQAXyPDnXXr1vm7BFRR1hCr2o3qrn0rV6rdqO6siREArLViVOP7dH+XgSKimsXbT7G6cqVqHdnOccwBIiS+lupk2heOjPZzLfiTNb6OfUHPlSsVtv171sQIBOHh0rx5/q4CAM6d1Wpf0HPlSvtlJTmc5GzMyAAAAAAAAKZBkAEAAAAAAEyDIAMAAAAAAJgGQQYAAAAAADANggwAAAAAAGAaBBkAAAAAAMA0CDIAAAAAAIBpEGQAAAAAAADTIMgAAAAAAACmQZABAAAAAABMgyADAAAAAACYBkEGAAAAAAAwDYIMAAAAAABgGgQZAAAAAADANAgyAAAAAACAaRBkAAAAAAAA0yDIAAAAAAAApkGQAQAAAAAATIMgAwAAAAAAmAZBBgAAAAAAMA2CDAAAAAAAYBoEGQAAAAAAwDQIMgAAAAAAgGkQZAAAAAAAANMgyAAAAAAAAKZBkAEAAAAAAEyDIAMAAAAAAJgGQQYAAAAAADANggwAAAAAAGAaBBkAAAAAAMA0CDIAAAAAAIBpEGQAAAAAAADTIMgAAAAAAACmQZABAAAAAABMgyADAAAAAACYBkEGAAAAAAAwDYIMAAAAAABgGgQZAAAAAADANAgyAAAAAACAaRBkAAAAAAAA0yDIAAAAAAAApkGQAQAAAAAATIMgIwBlZEi1aknBwfbLjAx/VwRJytyVp3/VnSBJ+lfdCcrclefninB42zH9XK2djlhi9XO1djq87Zi/S4Kk/MxjOtK8iyTpSPMuys+kXwLC4cNS48ZSVJT98vBhf1cESba8fP02Yb4k6bcJ82XLy/dzRUCAstmk9HT7/9PT7dsAqiyCjAATGio1aCD98Yd05oz9skED+374z7vWQarbJEI3n1ooSbr51ELVbRKhd62D/FtYFXbAEq/arWLV2vaDauuY/bJVrA5Y4v1dWpWWFRmv4IRY1T70kySp9qGfFJwQq6xI+sWvatSQ4uKk3bulkyftl3Fx9v3wm22DJkkREWqycIok2S8jIuz7AfwpLU1KSpKSk+3bycn27bQ0f1YFwI8IMgJIaKiUX8IXMfn5hBn+8q51kAYWLnd73cDC5YQZfnDAEq94HXR7XbwOEmb4SVZkvKrnuu+X6rkHCTP8pUYNKSvL/XVZWYQZfrJt0CS1WD5TQXL9VjlINrVYPpMwA3BIS5MGD5b273fdn5Fh30+YAVRJBBkBIiOj5BDDIT+fw0x8LXNXnjPEsBS5zrE9sHA5h5n40OFtx5whRkl9Eq+DHGbiY/mZx5whRkn9Uj33IIeZ+NrhwyWHGA5ZWRxm4mO2vHw1Wz5bUsnjpeny2RxmAths0ujRkmEUv86xb8wYDjMBqiCCjADRrp1328E7VrSZKIuKv9F0cFy3os1E3xVVxR254DKP+uTIBZf5rigoq6Nn/ZLVkX7xqU6dvNsOXrFr4nxZZSt1vFSTTbsmzvdlWUDg2bCh+EyMsxmGtG+fvR2AKoUgI0Dk5Hi3Hbwj8fR2r7bD+atj+92r7eAdYcc9u789bQcv8XSmBTMyfKpw+06vtgMqrQMHvNsOQKVBkBEgoqO92w7esS+0uVfb4fwdttbzajt4x6kant3fnraDl9Sp49128Iqg5k292g6otBISvNsOQKVBkBEgvv/eu+3gHck/zZQhyc2RmdL/7zf+vx18o/aPn3rUJ7V//NR3RUExWz3rl5it9ItPbd7s3XbwisYzR8kma6nj5YysajxzlC/LAgJPjx720/dZSjgQy2KREhPt7QBUKQQZAaJ+fSkkpPQ2ISH2dvCd+Mbhei8oRVLxD2iO7feCUhTfONyndVVldVrWUqbqSiq5TzJVV3Va1vJpXVVdSHwtZUeU3i/ZEXUVEk+/+FSdOlJMTOltYmKYkeFj1vAQ7UgZJ6nk8bIzZZys4WW8MQAqO6tVmjvX/v+iYYZje84cezsAVQpBRgA5fbrkMCMkxH49fO8a2zJnmFHUe0Epusa2zLcFQQlGpjPMKCpTdZVgZPq4IkhSzMlMZ5hRVHZEXcWcpF/84vjxksOMmBj79fC5lstm6NeUiSqU6wcwm6z6NWWiWi6b4afKgACTmiotWVL827wGDez7U1P9UxcAvyLICDCnT9sXZ65ZU6pWzX65fz8hhr9dY1umg7/l6l9hIyVJ/wobqYO/5RJi+FGCkakjvxzVz9a2OqJa9stfjhJi+FnMyUwVHDiqI3FtJElH4tqo4MBRQgx/O35cOnRISkqSIiPtl4cOEWL4WctlM6TcXP02crok6beR02XJzSXEAIpKTZV275ZWrLBvr1gh7dpFiAFUYQQZAah+fenYMamgwH7J4SSBIb5xuG4+OEuSdPPBWRxOEgDqtKyl1me+V23jqFqf+Z7DSQJESHwt1d6+UZJUe/tGDicJFHXq2N/4nzhhv+RwkoBgDQ9Rk1n2tTCazBrF4SRASaxWqXt3+/+7d+dwEqCKI8gAAAAAAACmQZABAAAAAABMgyADAAAAAACYBkEGAAAAAAAwDYIMAAAAAABgGgQZAAAAAADANAgyAAAAAACAaRBkAAAAAAAA0yDIAAAAAAAApkGQAQAAAAAATIMgAwAAAAAAmAZBBgAAAAAAMA2CDAAAAAAAYBoEGQAAAAAAwDQIMgAAAAAAgGkQZAAAAAAAANMgyAAAAAAAAKZBkAEAAAAAAEyDIAMAAAAAAJgGQQYAAAAAADANggwAAAAAAGAaBBkAAAAAAMA0CDIAAAAAAIBpEGQAAAAAAADTIMgAAAAAAACmQZABAAAAAABMgyADAAAAAACYBkEGAAAAAAAwDYIMAAAAAABgGgQZAAAAAADANAgyAAAAAACAaRBkAAAAAAAA0yDIAAAAAAAApkGQAQAAAAAATIMgAwAAAAAAmAZBBgAAAAAAMA2CDAAAAAAAYBoEGQAAAAAAwDQIMgAAAAAAgGkQZAAAAAAAANMgyAAAAAAAAKZBkAEAAAAAAEyDIAMAAAAAAJgGQUYA2rZNqlZNsljsl9u2+bsiSNLmjTYlx6RLkpJj0rV5o83PFeFE5gltjL9W28Laa2P8tTqRecLfJUFSflaevu83QZL0fb8Jys/K83NFAAAAqEwCOsiYPn26LrnkEkVHRysuLk6DBg3Stkr+qd5ikVq1kmz//xnZZrNvWyz+rauqS7WkKaFrklYoWZK0QslK6JqkVEuanyurun6I7KTIhGh1ObhMLU9/ry4HlykyIVo/RHbyd2lV2g/NBim4RoTabVooSWq3aaGCa0Toh2aD/FsYAAAAKo2ADjI+/fRT3XPPPdq0aZPWrFmjM2fOqG/fvjp58qS/S6sQZYUVhBn+kWpJ0xINVn3td9lfXxlaosGEGX7wQ2QnXZC7xe11F+RuIczwkx+aDdIFO5e7ve6CncsJMwAAAOAV1fxdQGk+/PBDl+3XXntNcXFx+uqrr9SzZ08/VVUxPJ1osm2b1LJlxdaCP23eaNNcjZZkKEjS2QeTBMlQoSyaozHavDFFnbpY/VRl1XIi84QzxCia7VkkGbKHGScyTygqPsrX5VVZ+Vl5zhCjxH7ZuVz5WXkKiQn3dXkAAACoRAI6yCgqKytLklSrVq0S25w+fVqnT592bmdnZ0uSCgoKVFBQULEFnoeLL5bCPXhvf/HF0rFjFV8P7B66Il0rwo/KpnDZJBX8fycVnNVZCTqi269YrxVZ3f1UZdXybecR6uTBYPm28wh12v4fH1QESfrh2slqd1a/uBsrznarZvm0NiDQOd6fBPL7FCAQMFYAz5l1vHhar8UwDKOCa/EKwzCUkpKiP/74Qxs2bCix3dSpUzVt2rRi+xctWqSIiIiKLBEAAAAAAJyj3NxcDR06VFlZWapevXqJ7UwTZNxzzz1asWKF0tPT1aBBgxLbuZuRkZiYqCNHjpR6R/hbrVp/LvBZGquVGRm+lByT7lzgU7J/u7zm1VfVZ8QIBef9eSaGZK1gRoaPbG5+kzoder/sdnFXMyPDh77vN8G5wKdU8lj5vvNIZmQARRQUFGjNmjXq06ePgoOD/V0OELAYK4DnzDpesrOzVbt27TKDDFMcWnLffffp3Xff1fr160sNMSQpNDRUoaGhxfYHBwcHdAd++aX97CRl+eUXKYD/jErnibU9ldk1VvWVoSD9mfkF5+UpOC9PhbJovxroic97KjiYNTJ8ocOmV1UtIVpS8bUYJDl7qcOmVwN6zFc2bZc+rWo1npfk2i+OsWKc1Y5+AdwL9PcqQKBgrACeM9t48bTWgD5riWEYuvfee5WWlqaPP/5YjRs39ndJFcbTBTxZ6NO3OnWxarTmSpIKi3xsdmyP0RwW+vShqPgo/RhxiSSp6HQyx/aPEZew0KePhcSE68emKZJK6ZemKSz0CQAAgPMW0EHGPffco3//+99atGiRoqOjlZmZqczMTOWdNU25MinrIB9zHARU+aQZqRqsJcpQfZf9+9VAg7VEaUaqnyqrutqe3OwMM4r6MeIStT252ccVQZLa7ljmDDOK+rFpitruWObbggAAAFApBXSQsWDBAmVlZalXr15KSEhw/nv77bf9XVqFMQz74SPW//+C32q1bxNi+FeakaoDn+9WslZIsq+Jkfn5LkIMP2p7crNOHsjRxrqDtC20nTbWHaSTB3IIMfys7Y5lKjieq+87j5RkXxOj4HguIQYAAAC8JqDXyDDJOqRe17KldOaMv6tAUZ26WLUiq7tWrlypFVndWRMjAETFR6lL5lJ/l4EiQmLC1W7VLO1buVLtVs0y1XGZAAAACHwBPSMDAAAAAADgbAQZAAAAAADANAgyAAAAAACAaRBkAAAAAAAA0yDIAAAAAAAApkGQAQAAAAAATIMgAwAAAAAAmAZBBgAAAAAAMA2CDAAAAAAAYBoEGQAAAAAAwDQIMgAAAAAAgGkQZAAAAAAAANMgyAAAAAAAAKZBkAEAAAAAAEyDIAMAAAAAAJgGQQYAAAAAADANggwAAAAAAGAaBBkAAAAAAMA0CDIAAAAAAIBpEGQAAAAAAADTIMgAAAAAAACmQZABAAAAAABMgyADAAAAAACYBkEGAAAAAAAwDYIMAAAAAABgGgQZAAAAAADANAgyAAAAAACAaRBkAAAAAAAA0yDIAAAAAAAApkGQAQAAAAAATIMgAwAAAAAAmAZBBgAAAAAAMA2CDAAAAAAAYBoEGQAAAAAAwDQIMgAAAAAAgGkQZAAAAAAAANMgyAAAAAAAAKZBkAEAAAAAAEyDIAMAAAAAAJgGQQYAAAAAADANggwAAAAAAGAaBBkAAAAAAMA0CDICULAlX2Msc/QPy30aY5mjYEu+v0uCpBXv2pQcky5JSo5J14p3bX6uCJ9+bFMvyzrdaFmsXpZ1+vRj+iQQZGVJ/frZ/9+vn30bAAAA8BaCjADzjGWS8hShORqr+zRPczRWeYrQM5ZJ/i6tSku1pKl9SpJWKFmStELJap+SpFRLmp8rq7pSLWlqckWS1qm3Fmuo1qm3mlxBn/hbs2ZSjRrSpk327U2b7NvNmvmzKgAAAFQmBBkB5BnLJE3STFnl+q2yVTZN0kzCDD9JtaRpiQarvva77K+vDC3RYD44+wF9EpiaNZN27nR/3c6dhBkAAADwDoKMABFsydd4zZYkWYpc59ger9kcZuJjK961aa5GSzKKDZYgGZKkORrDYSY+9OnHnvUJh5n4VlZWySGGw86dHGYCAACA80eQESDu0XxVk61YiOFgkVRNNt2j+b4sq8qbmbJBidpf4kAJkqGG2qeZKRt8WldV9ugVnvXJo1fQJ76UnOzddgAAAEBJCDICRFOV8VVmOdvBOxJ0wKvtcP7ok8C0d6932wEAAAAlIcgIEDvV1Kvt4B0HlODVdjh/9ElgatjQu+0AAACAkhBkBIgXNEpnZP3/I/yLMySdkVUvaJQvy6ryJi7voX1qoMISDvoplEV7laiJy3v4uLKqa9paz/pk2lr6xJdWrPBuOwAAAKAkBBkBosAI0bMaJ0nFwgzH9rMapwIjxKd1VXXJ11g1WnMlqdgHZ8f2GM1R8jVWn9dWVV12uWd9ctnl9IkvxcRITcuYMNa0qb0dAAAAcD4IMgLI340ZmqGJssn1A5hNVs3QRP3dmOGnyqq2NCNVg7VEGarvsn+/GmiwlijNSPVTZVUXfRKYduwoOcxo2tR+PQAAAHC+CDICzN+NGQpXrsboOf1D92qMnlO4cgkx/CzNSNV3y3crWfZ58claoe+X7+IDsx+lGan6be1u9dInulGL1EufaNda+sTfduyQjh+XOne2b3fubN8mxAAAAIC3VPN3ASjOfvjIGOf2HH8VAhfJ11jVN6u7Vq5cqRVZ3RUczKEL/nbZ5VatM3r5uwwUERMjrVolrVxpvwwO9ndFAAAAqEyYkQEAAAAAAEyDIAMAAAAAAJgGQQYAAAAAADANggwAAAAAAGAaBBkAAAAAAMA0CDIAAAAAAIBpEGQAAAAAAADTIMgAAAAAAACmQZABAAAAAABMgyADAAAAAACYBkEGAAAAAAAwDYIMAAAAAABgGgQZAAAAAADANAgyAAAAAACAaRBkAAAAAAAA0yDIAAAAAAAApkGQAQAAAAAATKOavwuoaIZhSJKys7P9XAkqg4KCAuXm5io7O1vBwcH+LgcIWIwVwHOMF8AzjBXAc2YdL47P7Y7P8SWp9EFGTk6OJCkxMdHPlQAAAAAAgLLk5OQoJiamxOstRllRh8kVFhbq999/V3R0tCwWi7/LgcllZ2crMTFR+/btU/Xq1f1dDhCwGCuA5xgvgGcYK4DnzDpeDMNQTk6O6tWrp6CgklfCqPQzMoKCgtSgQQN/l4FKpnr16qZ6QgD8hbECeI7xAniGsQJ4zozjpbSZGA4s9gkAAAAAAEyDIAMAAAAAAJgGQQZQDqGhoXr00UcVGhrq71KAgMZYATzHeAE8w1gBPFfZx0ulX+wTAAAAAABUHszIAAAAAAAApkGQAQAAAAAATIMgAwAAAAAAmAZBBgAAAAAAMA2CDKAM06dP1yWXXKLo6GjFxcVp0KBB2rZtm7/LAgLe9OnTZbFYNGbMGH+XAgSkjIwM/e1vf1NsbKwiIiLUsWNHffXVV/4uCwg4Z86c0UMPPaTGjRsrPDxcTZo00WOPPabCwkJ/lwb41f+1d7dBUZV9GMCvZRVcFsugXFhFo0ENBBTFTEHAfMFIzDKdNhUtJ2kCBNdR1ImyGUXQUZkRI2CMmszgg5IMiUrIi7ghDLqKSPHSZsrkbDnoKBar7P18MLc2Xszn4ens6vWbOTOc/zn3fS6WT/vnPudUVlYiKioKarUaMpkMX331ldVxIQQ2bdoEtVoNhUKB8PBwNDQ0SBO2n7GRQXQfFRUViI2NRXV1NUpKSnDnzh3Mnj0bHR0dUkcjslm1tbXIzs5GQECA1FGIbFJ7ezuCg4MxcOBAFBcX48KFC9ixYweGDBkidTQim5OWloaPP/4YGRkZaGxsxLZt27B9+3bs3r1b6mhEkuro6MC4ceOQkZHR4/Ft27Zh586dyMjIQG1tLdzd3TFr1izcuHHjX07a//j6VaIH9Msvv2Do0KGoqKhAaGio1HGIbM7NmzcxYcIEfPTRR9i8eTPGjx+P9PR0qWMR2ZT169fj5MmTOHHihNRRiGze3LlzoVKpsHfvXkttwYIFcHZ2xueffy5hMiLbIZPJUFBQgPnz5wO4uxpDrVYjMTERSUlJAIDOzk6oVCqkpaUhJiZGwrT/O67IIHpA169fBwC4urpKnITINsXGxuKll17CzJkzpY5CZLMKCwsRFBSEhQsXYujQoQgMDEROTo7UsYhsUkhICEpLS9HU1AQAOHv2LKqqqhAZGSlxMiLbZTAYcOXKFcyePdtSc3JyQlhYGHQ6nYTJ+scAqQMQ2RMhBLRaLUJCQuDn5yd1HCKbk5eXh9OnT6O2tlbqKEQ27YcffkBmZia0Wi02btyImpoarFq1Ck5OToiOjpY6HpFNSUpKwvXr1/Hss89CLpejq6sLW7ZsgUajkToakc26cuUKAEClUlnVVSoVLl68KEWkfsVGBtEDiIuLw7lz51BVVSV1FCKbc+nSJSQkJODYsWMYNGiQ1HGIbJrZbEZQUBBSUlIAAIGBgWhoaEBmZiYbGUR/k5+fj3379mH//v0YO3Ys9Ho9EhMToVarsWzZMqnjEdk0mUxmtS+E6FazR2xkEP1D8fHxKCwsRGVlJYYPHy51HCKbU1dXB6PRiIkTJ1pqXV1dqKysREZGBjo7OyGXyyVMSGQ7PDw84Ovra1Xz8fHBgQMHJEpEZLvWrl2L9evX4/XXXwcA+Pv74+LFi9i6dSsbGUS9cHd3B3B3ZYaHh4elbjQau63SsEd8RgbRfQghEBcXh4MHD+L48ePw8vKSOhKRTZoxYwbq6+uh1+stW1BQEBYvXgy9Xs8mBtFfBAcHd3uVd1NTE0aOHClRIiLbdevWLTg4WH9tkcvlfP0qUR+8vLzg7u6OkpISS81kMqGiogJTp06VMFn/4IoMovuIjY3F/v37cejQIQwePNhyv9njjz8OhUIhcToi2zF48OBuz45RKpVwc3PjM2WI/mb16tWYOnUqUlJSsGjRItTU1CA7OxvZ2dlSRyOyOVFRUdiyZQtGjBiBsWPH4syZM9i5cyfeeustqaMRSermzZtoaWmx7BsMBuj1eri6umLEiBFITExESkoKRo0ahVGjRiElJQXOzs544403JEzdP/j6VaL76O0estzcXCxfvvzfDUNkZ8LDw/n6VaJeFBUVYcOGDWhuboaXlxe0Wi3efvttqWMR2ZwbN24gOTkZBQUFMBqNUKvV0Gg0eP/99+Ho6Ch1PCLJlJeXY/r06d3qy5Ytw6effgohBD788ENkZWWhvb0dkydPxp49ex6KfzCxkUFEREREREREdoPPyCAiIiIiIiIiu8FGBhERERERERHZDTYyiIiIiIiIiMhusJFBRERERERERHaDjQwiIiIiIiIishtsZBARERERERGR3WAjg4iIiIiIiIjsBhsZRERERH0oLy9HZmam1DGIiIjoD2xkEBERkV0JDw9HYmLiv3Itg8GAJUuWYNKkSVb1p59+Gunp6f94nvLycshkMly7dq1/AxIRET2C2MggIiJ6iC1fvhwymazb1tLSInU0m2cymaDRaJCTk4OgoCCp4xAREdEfBkgdgIiIiP6/5syZg9zcXKvaU0899V/NZTKZ4Ojo2B+xbJ6joyOqq6uljkFERER/wxUZREREDzknJye4u7tbbXK5HABQUVGB5557Dk5OTvDw8MD69etx584dy9jw8HDExcVBq9XiySefxKxZsyy3SRw9ehSBgYFQKBR44YUXYDQaUVxcDB8fHzz22GPQaDS4deuWZa4jR44gJCQEQ4YMgZubG+bOnYvW1tY+s3d0dCA6OhouLi7w8PDAjh07up1jMpmwbt06DBs2DEqlEpMnT0Z5eXmf8167dg0rV66ESqXCoEGD4Ofnh6KiIstxnU6H0NBQKBQKeHp6YtWqVejo6Ohxrh9//BEymQx6vd5qfplM1muOq1evQqPRYPjw4XB2doa/vz++/PLLPjMTERHRXWxkEBERPaLa2toQGRmJSZMm4ezZs8jMzMTevXuxefNmq/M+++wzDBgwACdPnkRWVpalvmnTJmRkZECn0+HSpUtYtGgR0tPTsX//fnz99dcoKSnB7t27Led3dHRAq9WitrYWpaWlcHBwwCuvvAKz2dxrxrVr16KsrAwFBQU4duwYysvLUVdXZ3XOm2++iZMnTyIvLw/nzp3DwoULMWfOHDQ3N/c4p9lsxosvvgidTod9+/bhwoULSE1NtTR36uvrERERgVdffRXnzp1Dfn4+qqqqEBcX98CfcW9+//13TJw4EUVFRTh//jxWrlyJpUuX4tSpU/12DSIiooeWICIioofWsmXLhFwuF0ql0rK99tprQgghNm7cKMaMGSPMZrPl/D179ggXFxfR1dUlhBAiLCxMjB8/3mrOsrIyAUB88803ltrWrVsFANHa2mqpxcTEiIiIiF6zGY1GAUDU19f3ePzGjRvC0dFR5OXlWWpXr14VCoVCJCQkCCGEaGlpETKZTLS1tVmNnTFjhtiwYUOP8x49elQ4ODiI77//vsfjS5cuFStXrrSqnThxQjg4OIjffvtNCCHEyJEjxa5du4QQQhgMBgFAnDlzxnJ+e3u7ACDKysqEEH9+Zu3t7T1eUwghIiMjxZo1a3o9TkRERHfxGRlEREQPuenTp1u9PlSpVAIAGhsbMWXKFMhkMsux4OBg3Lx5E5cvX8aIESMAoNcHXQYEBFh+VqlUcHZ2xjPPPGNVq6mpsey3trYiOTkZ1dXV+PXXXy0rMX766Sf4+fl1m7+1tRUmkwlTpkyx1FxdXTFmzBjL/unTpyGEwOjRo63GdnZ2ws3Nrcfcer0ew4cP7zbmnrq6OrS0tOCLL76w1IQQMJvNMBgM8PHx6XHcg+jq6kJqairy8/PR1taGzs5OdHZ2Wv42RERE1Ds2MoiIiB5ySqUS3t7e3epCCKsmxr0aAKt6b1+uBw4caPlZJpNZ7d+r/fW2kaioKHh6eiInJwdqtRpmsxl+fn4wmUw9zn8vS1/MZjPkcjnq6uost4bc4+Li0uMYhUJx3zljYmKwatWqbsfuNXf+ysHBoVve27dv93mNHTt2YNeuXUhPT4e/vz+USiUSExN7/SyIiIjoT2xkEBERPaJ8fX1x4MABq4aGTqfD4MGDMWzYsH691tWrV9HY2IisrCxMmzYNAFBVVdXnGG9vbwwcOBDV1dWWBkJ7ezuampoQFhYGAAgMDERXVxeMRqNl3vsJCAjA5cuX0dTU1OOqjAkTJqChoaHH5k9P7r0B5ueff0ZgYCAAWD34sycnTpzAyy+/jCVLlgC42zxpbm7ul9UeREREDzs+7JOIiOgR9e677+LSpUuIj4/Hd999h0OHDuGDDz6AVqu1rDLoL0888QTc3NyQnZ2NlpYWHD9+HFqtts8xLi4uWLFiBdauXYvS0lKcP38ey5cvt8o2evRoLF68GNHR0Th48CAMBgNqa2uRlpaGw4cP9zhvWFgYQkNDsWDBApSUlMBgMKC4uBhHjhwBACQlJeHbb79FbGws9Ho9mpubUVhYiPj4+B7nUygUeP7555GamooLFy6gsrIS7733Xp+/m7e3N0pKSqDT6dDY2IiYmBhcuXKlzzFERER0FxsZREREj6hhw4bh8OHDqKmpwbhx4/DOO+9gxYoV9/0S/t9wcHBAXl4e6urq4Ofnh9WrV2P79u33Hbd9+3aEhoZi3rx5mDlzJkJCQjBx4kSrc3JzcxEdHY01a9ZgzJgxmDdvHk6dOgVPT89e5z1w4AAmTZoEjUYDX19frFu3Dl1dXQDurtioqKhAc3Mzpk2bhsDAQCQnJ8PDw6PX+T755BPcvn0bQUFBSEhI6Pbml79LTk7GhAkTEBERgfDwcLi7u2P+/Pn3/TyIiIgIkIl/cgMqEREREREREZEN4IoMIiIiIiIiIrIbbGQQERERERERkd1gI4OIiIiIiIiI7AYbGURERERERERkN9jIICIiIiIiIiK7wUYGEREREREREdkNNjKIiIiIiIiIyG6wkUFEREREREREdoONDCIiIiIiIiKyG2xkEBEREREREZHdYCODiIiIiIiIiOzGfwAqUR0HK1khGQAAAABJRU5ErkJggg==",
      "text/plain": [
       "<Figure size 1300x700 with 1 Axes>"
      ]
     },
     "metadata": {},
     "output_type": "display_data"
    }
   ],
   "source": [
    "# Grafique el tamaño de células y la forma de células con diagnósticos benignos y malignos.\n",
    "benign = dataset[dataset.classd == 'benign']\n",
    "malign = dataset[dataset.classd == 'malignant']\n",
    "\n",
    "fig, ax = plt.subplots()\n",
    "fig.set_size_inches(13, 7) # adjusting the length and width of plot\n",
    "\n",
    "# Etiquetas y puntos de dispersión\n",
    "ax.scatter(benign['cell_shape'], benign['cell_size'], label=\"Benigno\", facecolor=\"blue\")\n",
    "ax.scatter(malign['cell_shape'], malign['cell_size'], label=\"Maligno\", facecolor=\"red\")\n",
    "\n",
    "\n",
    "ax.set_xlabel(\"Forma de célula\")\n",
    "ax.set_ylabel(\"Tamaño de célulca\")\n",
    "ax.grid()\n",
    "ax.set_title(\"Diagnósticos de cáncer de mama de acuerdo con el tamaño y la forma de las células\")\n",
    "ax.legend()"
   ]
  },
  {
   "attachments": {},
   "cell_type": "markdown",
   "metadata": {},
   "source": [
    "# <a id='toc8_'></a>[Clasificación](#toc0_)"
   ]
  },
  {
   "attachments": {},
   "cell_type": "markdown",
   "metadata": {},
   "source": [
    "## <a id='toc8_1_'></a>[Conjunto de datos para entrenamiento](#toc0_)\n",
    "Junto con dataset, estas conforman las variables globales usadas dentro del código."
   ]
  },
  {
   "cell_type": "code",
<<<<<<< HEAD
   "execution_count": 7,
=======
   "execution_count": 192,
>>>>>>> refs/remotes/origin/main
   "metadata": {},
   "outputs": [
    {
     "name": "stdout",
     "output_type": "stream",
     "text": [
      "Los valores min del conjunto de datos son: \n",
      "sample_code           61634\n",
      "clump_thickness           1\n",
      "cell_size                 1\n",
      "cell_shape                1\n",
      "marginal_adhesion         1\n",
      "epithelial_size           1\n",
      "bare_nuclei               1\n",
      "bland_chromatin           1\n",
      "normal_nucleoli           1\n",
      "mitoses                   1\n",
      "classd               benign\n",
      "dtype: object\n",
      "Los valores máximos del conjunto de datos son: \n",
      "sample_code           13454352\n",
      "clump_thickness             10\n",
      "cell_size                   10\n",
      "cell_shape                  10\n",
      "marginal_adhesion           10\n",
      "epithelial_size             10\n",
      "bare_nuclei                  ?\n",
      "bland_chromatin             10\n",
      "normal_nucleoli             10\n",
      "mitoses                     10\n",
      "classd               malignant\n",
      "dtype: object\n"
     ]
    }
   ],
   "source": [
    "# Tomaremos classd como nuestra característica de interés.\n",
    "# X será nuestro conjunto de datos sin la característica de interés.\n",
    "X = dataset.drop('classd', axis=1)\n",
    "\n",
    "# Convertir en una matriz numpy y asignar el tamaño y la forma de las células como características.\n",
    "X = X.to_numpy()[:, (2,3)]\n",
    "\n",
    "# Y será nuestra característica de interés.\n",
    "y = dataset['classd']\n",
    "\n",
    "# Dividir para entrenamiento y prueba en proporciones de la mitad.\n",
    "X_train, X_test, y_train, y_test = train_test_split(X,y,test_size=0.5,random_state=42)\n",
    "\n",
    "print('Los valores min del conjunto de datos son: \\n{}'.format(dataset.min()))\n",
    "print('Los valores máximos del conjunto de datos son: \\n{}'.format(dataset.max()))"
   ]
  },
  {
   "attachments": {},
   "cell_type": "markdown",
   "metadata": {},
   "source": [
    "## <a id='toc8_2_'></a>[Escalamiento de los datos](#toc0_)"
   ]
  },
  {
   "cell_type": "code",
<<<<<<< HEAD
   "execution_count": 8,
=======
   "execution_count": 193,
>>>>>>> refs/remotes/origin/main
   "metadata": {},
   "outputs": [
    {
     "name": "stdout",
     "output_type": "stream",
     "text": [
      "Los valores min del conjunto de datos son: \n",
      "-0.7449149782167317\n",
      "Los valores máximos del conjunto de datos son: \n",
      "2.320275080096454\n"
     ]
    }
   ],
   "source": [
    "# Dado que los valores de las características son de diferentes rangos, \n",
    "# es necesario escalarlos ya que los modelos de ML son sensibles a estas variaciones.\n",
    "scaler = StandardScaler()\n",
    "\n",
    "# scaler = sc.fit(X_train)\n",
    "X_train_scaled = scaler.fit_transform(X_train)\n",
    "X_test_scaled = scaler.fit_transform(X_test)\n",
    "\n",
    "print('Los valores min del conjunto de datos son: \\n{}'.format(X_train_scaled.min()))\n",
    "print('Los valores máximos del conjunto de datos son: \\n{}'.format(X_train_scaled.max()))"
   ]
  },
  {
   "attachments": {},
   "cell_type": "markdown",
   "metadata": {},
   "source": [
    "## <a id='toc8_3_'></a>[Definición del modelo base](#toc0_)"
   ]
  },
  {
   "cell_type": "code",
<<<<<<< HEAD
   "execution_count": 9,
=======
   "execution_count": 194,
>>>>>>> refs/remotes/origin/main
   "metadata": {},
   "outputs": [],
   "source": [
    "# Definición de un clasificador de perceptrones múltiples.\n",
    "# Es una red neuronal artificial que utiliza la función de activación logística.\n",
    "mlp_clf = MLPClassifier(\n",
    "    # Definiendo el número de capas ocultas y el número de neuronas en cada capa.\n",
    "    hidden_layer_sizes=(2),\n",
    "    # Máximo número de iteraciones para el solucionador de optimización.\n",
    "    max_iter = 2000,\n",
    "    # Tolerancia para la optimización.\n",
    "    learning_rate_init = 0.001,\n",
    "    # Función de activación para la capa oculta. relu = la unidad lineal rectificada f(x) = max(0, x)\n",
    "    activation = 'relu',\n",
    "    # Optimizador de los pesos. adam = optimizador basado en gradiente estocástico propuesto por Kingma, Diederik, y Jimmy Ba\n",
    "    solver = 'adam'\n",
    "    )"
   ]
  },
  {
   "attachments": {},
   "cell_type": "markdown",
   "metadata": {},
   "source": [
    "## <a id='toc8_4_'></a>[Entrenamiento del modelo base](#toc0_)"
   ]
  },
  {
   "cell_type": "code",
<<<<<<< HEAD
   "execution_count": 10,
=======
   "execution_count": 195,
>>>>>>> refs/remotes/origin/main
   "metadata": {},
   "outputs": [
    {
     "data": {
      "text/plain": [
       "MLPClassifier(hidden_layer_sizes=2, max_iter=2000)"
      ]
     },
<<<<<<< HEAD
     "execution_count": 10,
=======
     "execution_count": 195,
>>>>>>> refs/remotes/origin/main
     "metadata": {},
     "output_type": "execute_result"
    }
   ],
   "source": [
    "# Entrene el modelo con los datos de entrenamiento.\n",
    "mlp_clf.fit(X_train_scaled, y_train)"
   ]
  },
  {
   "attachments": {},
   "cell_type": "markdown",
   "metadata": {},
   "source": [
    "## <a id='toc8_5_'></a>[Pruebas del modelo base](#toc0_)"
   ]
  },
  {
   "cell_type": "code",
<<<<<<< HEAD
   "execution_count": 11,
=======
   "execution_count": 196,
>>>>>>> refs/remotes/origin/main
   "metadata": {},
   "outputs": [
    {
     "data": {
      "text/plain": [
       "array(['benign', 'benign', 'benign', 'malignant', 'benign', 'benign',\n",
       "       'benign', 'malignant', 'malignant', 'benign', 'benign',\n",
       "       'malignant', 'benign', 'benign', 'benign', 'malignant', 'benign',\n",
       "       'malignant', 'malignant', 'malignant', 'malignant', 'benign',\n",
       "       'malignant', 'benign', 'malignant', 'benign', 'benign',\n",
       "       'malignant', 'benign', 'malignant', 'benign', 'benign', 'benign',\n",
       "       'malignant', 'benign', 'benign', 'benign', 'malignant', 'benign',\n",
       "       'malignant', 'benign', 'benign', 'malignant', 'benign', 'benign',\n",
       "       'benign', 'benign', 'malignant', 'benign', 'benign', 'benign',\n",
       "       'benign', 'malignant', 'benign', 'benign', 'benign', 'benign',\n",
       "       'malignant', 'benign', 'benign', 'benign', 'benign', 'malignant',\n",
       "       'benign', 'benign', 'benign', 'malignant', 'malignant', 'benign',\n",
       "       'benign', 'benign', 'benign', 'malignant', 'benign', 'benign',\n",
       "       'benign', 'benign', 'benign', 'benign', 'benign', 'benign',\n",
       "       'benign', 'benign', 'benign', 'benign', 'malignant', 'malignant',\n",
       "       'benign', 'benign', 'benign', 'benign', 'benign', 'malignant',\n",
       "       'benign', 'benign', 'malignant', 'benign', 'benign', 'benign',\n",
       "       'benign', 'benign', 'benign', 'benign', 'malignant', 'malignant',\n",
       "       'benign', 'malignant', 'benign', 'benign', 'malignant',\n",
       "       'malignant', 'benign', 'benign', 'benign', 'benign', 'benign',\n",
       "       'benign', 'benign', 'benign', 'benign', 'benign', 'malignant',\n",
       "       'benign', 'benign', 'malignant', 'malignant', 'benign', 'benign',\n",
       "       'malignant', 'malignant', 'benign', 'benign', 'malignant',\n",
       "       'benign', 'malignant', 'benign', 'malignant', 'benign', 'benign',\n",
       "       'benign', 'benign', 'benign', 'benign', 'benign', 'benign',\n",
       "       'malignant', 'benign', 'malignant', 'benign', 'malignant',\n",
       "       'benign', 'malignant', 'benign', 'malignant', 'benign',\n",
       "       'malignant', 'benign', 'benign', 'benign', 'benign', 'benign',\n",
       "       'malignant', 'benign', 'benign', 'benign', 'benign', 'malignant',\n",
       "       'benign', 'benign', 'benign', 'benign', 'benign', 'malignant',\n",
       "       'malignant', 'benign', 'benign', 'malignant', 'malignant',\n",
       "       'benign', 'benign', 'benign', 'benign', 'malignant', 'benign',\n",
       "       'benign', 'benign', 'malignant', 'benign', 'benign', 'benign',\n",
       "       'benign', 'benign', 'benign', 'benign', 'malignant', 'benign',\n",
       "       'benign', 'benign', 'malignant', 'malignant', 'malignant',\n",
       "       'malignant', 'malignant', 'malignant', 'benign', 'benign',\n",
       "       'benign', 'benign', 'benign', 'benign', 'malignant', 'malignant',\n",
       "       'benign', 'benign', 'malignant', 'malignant', 'benign', 'benign',\n",
       "       'malignant', 'benign', 'benign', 'benign', 'benign', 'malignant',\n",
       "       'malignant', 'malignant', 'malignant', 'benign', 'benign',\n",
       "       'benign', 'malignant', 'benign', 'benign', 'malignant', 'benign',\n",
       "       'benign', 'benign', 'benign', 'benign', 'benign', 'malignant',\n",
       "       'benign', 'benign', 'malignant', 'malignant', 'benign',\n",
       "       'malignant', 'malignant', 'benign', 'benign', 'malignant',\n",
       "       'benign', 'benign', 'benign', 'benign', 'benign', 'benign',\n",
       "       'benign', 'benign', 'malignant', 'malignant', 'benign', 'benign',\n",
       "       'benign', 'benign', 'malignant', 'benign', 'malignant',\n",
       "       'malignant', 'benign', 'malignant', 'malignant', 'benign',\n",
       "       'malignant', 'malignant', 'benign', 'malignant', 'malignant',\n",
       "       'benign', 'malignant', 'benign', 'benign', 'benign', 'malignant',\n",
       "       'malignant', 'benign', 'benign', 'benign', 'benign', 'malignant',\n",
       "       'benign', 'benign', 'malignant', 'malignant', 'malignant',\n",
       "       'malignant', 'benign', 'malignant', 'benign', 'malignant',\n",
       "       'benign', 'benign', 'benign', 'malignant', 'benign', 'benign',\n",
       "       'malignant', 'benign', 'benign', 'benign', 'malignant',\n",
       "       'malignant', 'benign', 'malignant', 'benign', 'benign', 'benign',\n",
       "       'benign', 'malignant', 'benign', 'malignant', 'benign', 'benign',\n",
       "       'malignant', 'benign', 'benign', 'benign', 'malignant', 'benign',\n",
       "       'benign', 'malignant', 'benign', 'benign', 'benign', 'malignant',\n",
       "       'benign', 'benign', 'benign', 'malignant', 'malignant', 'benign',\n",
       "       'malignant', 'benign', 'benign', 'benign', 'malignant',\n",
       "       'malignant', 'malignant', 'benign', 'benign'], dtype='<U9')"
      ]
     },
<<<<<<< HEAD
     "execution_count": 11,
=======
     "execution_count": 196,
>>>>>>> refs/remotes/origin/main
     "metadata": {},
     "output_type": "execute_result"
    }
   ],
   "source": [
    "# Pasar el conjunto de datos que hemos preparado para las pruebas\n",
    "y_pred = mlp_clf.predict(X_test_scaled)\n",
    "y_pred"
   ]
  },
  {
   "attachments": {},
   "cell_type": "markdown",
   "metadata": {},
   "source": [
    "## <a id='toc8_6_'></a>[Evaluación del modelo base](#toc0_)\n"
   ]
  },
  {
   "cell_type": "code",
<<<<<<< HEAD
   "execution_count": 12,
=======
   "execution_count": 197,
>>>>>>> refs/remotes/origin/main
   "metadata": {},
   "outputs": [
    {
     "name": "stdout",
     "output_type": "stream",
     "text": [
      "Exactitud: 0.94\n",
      "              precision    recall  f1-score   support\n",
      "\n",
      "      benign       0.94      0.97      0.95       226\n",
      "   malignant       0.94      0.89      0.91       124\n",
      "\n",
      "    accuracy                           0.94       350\n",
      "   macro avg       0.94      0.93      0.93       350\n",
      "weighted avg       0.94      0.94      0.94       350\n",
      "\n"
     ]
    }
   ],
   "source": [
    "# https://scikit-learn.org/stable/modules/model_evaluation.html\n",
    "\n",
    "# Exactitud\n",
    "print('Exactitud: {:.2f}'.format(accuracy_score(y_test, y_pred)))\n",
    "# Precisión, recuperación, puntaje F1 y soporte\n",
    "print(classification_report(y_test, y_pred))"
   ]
  },
  {
   "cell_type": "code",
<<<<<<< HEAD
   "execution_count": 13,
=======
   "execution_count": 198,
>>>>>>> refs/remotes/origin/main
   "metadata": {},
   "outputs": [
    {
     "data": {
<<<<<<< HEAD
      "image/png": "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",
=======
      "image/png": "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",
>>>>>>> refs/remotes/origin/main
      "text/plain": [
       "<Figure size 640x480 with 1 Axes>"
      ]
     },
     "metadata": {},
     "output_type": "display_data"
    }
   ],
   "source": [
    "# Vea qué tan bien fue el entrenamiento del modelo\n",
    "plt.plot(mlp_clf.loss_curve_)\n",
    "plt.title(\"Curva de pérdida\", fontsize=14)\n",
    "plt.xlabel('Iteraciones')\n",
    "plt.ylabel('Costo')\n",
    "plt.show()"
   ]
  },
  {
   "cell_type": "code",
<<<<<<< HEAD
   "execution_count": 14,
=======
   "execution_count": 199,
>>>>>>> refs/remotes/origin/main
   "metadata": {},
   "outputs": [
    {
     "data": {
      "image/png": "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",
      "text/plain": [
       "<Figure size 640x480 with 2 Axes>"
      ]
     },
     "metadata": {},
     "output_type": "display_data"
    }
   ],
   "source": [
    "# Generar la matriz de confusión\n",
    "confusion_matrix = pd.crosstab(y_test, y_pred, rownames=['Reales'], colnames=['Predicciones'])\n",
    "sn.heatmap(confusion_matrix, annot=True)\n",
    "plt.show()"
   ]
  },
  {
   "cell_type": "code",
<<<<<<< HEAD
   "execution_count": 15,
=======
   "execution_count": 200,
>>>>>>> refs/remotes/origin/main
   "metadata": {},
   "outputs": [
    {
     "name": "stdout",
     "output_type": "stream",
     "text": [
      "Predicciones \n",
      "             0\n",
      "count      350\n",
      "unique       2\n",
      "top     benign\n",
      "freq       233\n",
      "\n",
      "Ejemplos Verdaderos \n",
      "count        350\n",
      "unique         2\n",
      "top       benign\n",
      "freq         226\n",
      "Name: classd, dtype: object\n"
     ]
    }
   ],
   "source": [
    "# Eche un vistazo a las predicciones\n",
    "y_pred_pd = pd.DataFrame(y_pred)\n",
    "print('Predicciones \\n{}\\n'.format(y_pred_pd.describe()))\n",
    "\n",
    "# Eche un vistazo a los verdaderos ejemplos\n",
    "print('Ejemplos Verdaderos \\n{}'.format(y_test.describe()))"
   ]
  },
  {
   "attachments": {},
   "cell_type": "markdown",
   "metadata": {},
   "source": [
    "## <a id='toc8_7_'></a>[Definición de la búsqueda de hiper-parámetros](#toc0_)"
   ]
  },
  {
   "cell_type": "code",
<<<<<<< HEAD
   "execution_count": 16,
=======
   "execution_count": 201,
>>>>>>> refs/remotes/origin/main
   "metadata": {},
   "outputs": [],
   "source": [
    "# Definir un conjunto de parámetros que estamos interesados en entrenar con nuestro modelo\n",
    "param_grid = {\n",
    "    'hidden_layer_sizes': [(150,100,50), (120,80), (100)],\n",
    "    'max_iter': [600, 1200, 1800],\n",
    "    'activation': ['tanh', 'relu'],\n",
    "    'solver': ['sgd', 'adam'],\n",
    "    # Fuerza del término de regularización de L2, que agrega una penalización a los pesos de los parámetros.\n",
    "    'alpha': [0.0001, 0.05],\n",
    "    # Un valor que funciona como la temperatura en el algoritmo de recocido simulado\n",
    "    'learning_rate': ['constant','adaptive'],\n",
    "}"
   ]
  },
  {
   "attachments": {},
   "cell_type": "markdown",
   "metadata": {},
   "source": [
    "## <a id='toc8_8_'></a>[Ejecución de la búsqueda de hiper-parámetros](#toc0_)"
   ]
  },
  {
   "cell_type": "code",
<<<<<<< HEAD
   "execution_count": 17,
=======
   "execution_count": 202,
>>>>>>> refs/remotes/origin/main
   "metadata": {},
   "outputs": [],
   "source": [
    "grid_clf = GridSearchCV(\n",
    "    # El modelo que estamos entrenando, en este caso un clasificador de perceptrones múltiples\n",
    "    mlp_clf,\n",
    "    # Los diferentes híperparámetros que queremos entrenar\n",
    "    param_grid,\n",
    "    # Número de procesos que se ejecutarán en paralelo. Si se establece en -1, se utilizarán todos los procesadores.\n",
    "    n_jobs = -1,\n",
    "    # Número de veces que se repite la validación cruzada con diferentes conjuntos de entrenamiento y prueba.\n",
    "    cv = 5\n",
    "    )"
   ]
  },
  {
   "cell_type": "code",
<<<<<<< HEAD
   "execution_count": 20,
=======
   "execution_count": 203,
>>>>>>> refs/remotes/origin/main
   "metadata": {},
   "outputs": [
    {
     "data": {
      "text/plain": [
       "GridSearchCV(cv=5, estimator=MLPClassifier(hidden_layer_sizes=2, max_iter=2000),\n",
       "             n_jobs=-1,\n",
       "             param_grid={'activation': ['tanh', 'relu'],\n",
       "                         'alpha': [0.0001, 0.05],\n",
       "                         'hidden_layer_sizes': [(150, 100, 50), (120, 80), 100],\n",
       "                         'learning_rate': ['constant', 'adaptive'],\n",
       "                         'max_iter': [600, 1200, 1800],\n",
       "                         'solver': ['sgd', 'adam']})"
      ]
     },
     "execution_count": 203,
     "metadata": {},
     "output_type": "execute_result"
    }
   ],
   "source": [
    "# Ajustar el modelo a los datos de entrenamiento (puede demorar)\n",
    "grid_clf.fit(X_train_scaled, y_train)"
   ]
  },
  {
   "cell_type": "code",
   "execution_count": 204,
   "metadata": {},
   "outputs": [
    {
     "name": "stdout",
     "output_type": "stream",
     "text": [
      "Los mejores valores de híperparámetros son:\n",
      "{'activation': 'tanh', 'alpha': 0.0001, 'hidden_layer_sizes': (150, 100, 50), 'learning_rate': 'constant', 'max_iter': 1200, 'solver': 'adam'}\n"
     ]
    }
   ],
   "source": [
    "# Consigue los mejores valores para los hiper-parámetros entrenados\n",
    "print('Los mejores valores de híperparámetros son:\\n{}'.format(grid_clf.best_params_))"
   ]
  },
  {
   "cell_type": "code",
   "execution_count": 205,
   "metadata": {},
   "outputs": [],
   "source": [
    "# Guarde los resultados como Pandas DataFrame para interactuar fácilmente con los datos\n",
    "grid_results_clf = pd.DataFrame(grid_clf.cv_results_)"
   ]
  },
  {
   "cell_type": "code",
   "execution_count": 206,
   "metadata": {},
   "outputs": [
    {
     "data": {
      "text/html": [
       "<div>\n",
       "<style scoped>\n",
       "    .dataframe tbody tr th:only-of-type {\n",
       "        vertical-align: middle;\n",
       "    }\n",
       "\n",
       "    .dataframe tbody tr th {\n",
       "        vertical-align: top;\n",
       "    }\n",
       "\n",
       "    .dataframe thead th {\n",
       "        text-align: right;\n",
       "    }\n",
       "</style>\n",
       "<table border=\"1\" class=\"dataframe\">\n",
       "  <thead>\n",
       "    <tr style=\"text-align: right;\">\n",
       "      <th></th>\n",
       "      <th>mean_fit_time</th>\n",
       "      <th>std_fit_time</th>\n",
       "      <th>mean_score_time</th>\n",
       "      <th>std_score_time</th>\n",
       "      <th>param_activation</th>\n",
       "      <th>param_alpha</th>\n",
       "      <th>param_hidden_layer_sizes</th>\n",
       "      <th>param_learning_rate</th>\n",
       "      <th>param_max_iter</th>\n",
       "      <th>param_solver</th>\n",
       "      <th>params</th>\n",
       "      <th>split0_test_score</th>\n",
       "      <th>split1_test_score</th>\n",
       "      <th>split2_test_score</th>\n",
       "      <th>split3_test_score</th>\n",
       "      <th>split4_test_score</th>\n",
       "      <th>mean_test_score</th>\n",
       "      <th>std_test_score</th>\n",
       "      <th>rank_test_score</th>\n",
       "    </tr>\n",
       "  </thead>\n",
       "  <tbody>\n",
       "    <tr>\n",
       "      <th>3</th>\n",
       "      <td>1.542868</td>\n",
       "      <td>0.734412</td>\n",
       "      <td>0.002838</td>\n",
       "      <td>0.000546</td>\n",
       "      <td>tanh</td>\n",
       "      <td>0.0001</td>\n",
       "      <td>(150, 100, 50)</td>\n",
       "      <td>constant</td>\n",
       "      <td>1200</td>\n",
       "      <td>adam</td>\n",
       "      <td>{'activation': 'tanh', 'alpha': 0.0001, 'hidde...</td>\n",
       "      <td>0.971429</td>\n",
       "      <td>0.957143</td>\n",
       "      <td>0.957143</td>\n",
       "      <td>0.914286</td>\n",
       "      <td>0.942029</td>\n",
       "      <td>0.948406</td>\n",
       "      <td>0.019430</td>\n",
       "      <td>1</td>\n",
       "    </tr>\n",
       "    <tr>\n",
       "      <th>15</th>\n",
       "      <td>1.347760</td>\n",
       "      <td>0.863983</td>\n",
       "      <td>0.002006</td>\n",
       "      <td>0.000636</td>\n",
       "      <td>tanh</td>\n",
       "      <td>0.0001</td>\n",
       "      <td>(120, 80)</td>\n",
       "      <td>constant</td>\n",
       "      <td>1200</td>\n",
       "      <td>adam</td>\n",
       "      <td>{'activation': 'tanh', 'alpha': 0.0001, 'hidde...</td>\n",
       "      <td>0.971429</td>\n",
       "      <td>0.957143</td>\n",
       "      <td>0.957143</td>\n",
       "      <td>0.914286</td>\n",
       "      <td>0.942029</td>\n",
       "      <td>0.948406</td>\n",
       "      <td>0.019430</td>\n",
       "      <td>1</td>\n",
       "    </tr>\n",
       "    <tr>\n",
       "      <th>110</th>\n",
       "      <td>4.999809</td>\n",
       "      <td>0.708491</td>\n",
       "      <td>0.002420</td>\n",
       "      <td>0.000212</td>\n",
       "      <td>relu</td>\n",
       "      <td>0.05</td>\n",
       "      <td>(150, 100, 50)</td>\n",
       "      <td>constant</td>\n",
       "      <td>1200</td>\n",
       "      <td>sgd</td>\n",
       "      <td>{'activation': 'relu', 'alpha': 0.05, 'hidden_...</td>\n",
       "      <td>0.971429</td>\n",
       "      <td>0.957143</td>\n",
       "      <td>0.971429</td>\n",
       "      <td>0.914286</td>\n",
       "      <td>0.927536</td>\n",
       "      <td>0.948364</td>\n",
       "      <td>0.023393</td>\n",
       "      <td>3</td>\n",
       "    </tr>\n",
       "    <tr>\n",
       "      <th>118</th>\n",
       "      <td>6.007784</td>\n",
       "      <td>1.011112</td>\n",
       "      <td>0.004512</td>\n",
       "      <td>0.003590</td>\n",
       "      <td>relu</td>\n",
       "      <td>0.05</td>\n",
       "      <td>(150, 100, 50)</td>\n",
       "      <td>adaptive</td>\n",
       "      <td>1800</td>\n",
       "      <td>sgd</td>\n",
       "      <td>{'activation': 'relu', 'alpha': 0.05, 'hidden_...</td>\n",
       "      <td>0.971429</td>\n",
       "      <td>0.957143</td>\n",
       "      <td>0.971429</td>\n",
       "      <td>0.914286</td>\n",
       "      <td>0.927536</td>\n",
       "      <td>0.948364</td>\n",
       "      <td>0.023393</td>\n",
       "      <td>3</td>\n",
       "    </tr>\n",
       "    <tr>\n",
       "      <th>80</th>\n",
       "      <td>7.016711</td>\n",
       "      <td>0.570813</td>\n",
       "      <td>0.001934</td>\n",
       "      <td>0.000650</td>\n",
       "      <td>relu</td>\n",
       "      <td>0.0001</td>\n",
       "      <td>(150, 100, 50)</td>\n",
       "      <td>adaptive</td>\n",
       "      <td>1200</td>\n",
       "      <td>sgd</td>\n",
       "      <td>{'activation': 'relu', 'alpha': 0.0001, 'hidde...</td>\n",
       "      <td>0.971429</td>\n",
       "      <td>0.957143</td>\n",
       "      <td>0.971429</td>\n",
       "      <td>0.914286</td>\n",
       "      <td>0.927536</td>\n",
       "      <td>0.948364</td>\n",
       "      <td>0.023393</td>\n",
       "      <td>3</td>\n",
       "    </tr>\n",
       "    <tr>\n",
       "      <th>...</th>\n",
       "      <td>...</td>\n",
       "      <td>...</td>\n",
       "      <td>...</td>\n",
       "      <td>...</td>\n",
       "      <td>...</td>\n",
       "      <td>...</td>\n",
       "      <td>...</td>\n",
       "      <td>...</td>\n",
       "      <td>...</td>\n",
       "      <td>...</td>\n",
       "      <td>...</td>\n",
       "      <td>...</td>\n",
       "      <td>...</td>\n",
       "      <td>...</td>\n",
       "      <td>...</td>\n",
       "      <td>...</td>\n",
       "      <td>...</td>\n",
       "      <td>...</td>\n",
       "      <td>...</td>\n",
       "    </tr>\n",
       "    <tr>\n",
       "      <th>81</th>\n",
       "      <td>4.059874</td>\n",
       "      <td>1.345144</td>\n",
       "      <td>0.002285</td>\n",
       "      <td>0.000746</td>\n",
       "      <td>relu</td>\n",
       "      <td>0.0001</td>\n",
       "      <td>(150, 100, 50)</td>\n",
       "      <td>adaptive</td>\n",
       "      <td>1200</td>\n",
       "      <td>adam</td>\n",
       "      <td>{'activation': 'relu', 'alpha': 0.0001, 'hidde...</td>\n",
       "      <td>0.942857</td>\n",
       "      <td>0.957143</td>\n",
       "      <td>0.928571</td>\n",
       "      <td>0.914286</td>\n",
       "      <td>0.927536</td>\n",
       "      <td>0.934079</td>\n",
       "      <td>0.014655</td>\n",
       "      <td>136</td>\n",
       "    </tr>\n",
       "    <tr>\n",
       "      <th>79</th>\n",
       "      <td>3.303391</td>\n",
       "      <td>1.676667</td>\n",
       "      <td>0.004613</td>\n",
       "      <td>0.004738</td>\n",
       "      <td>relu</td>\n",
       "      <td>0.0001</td>\n",
       "      <td>(150, 100, 50)</td>\n",
       "      <td>adaptive</td>\n",
       "      <td>600</td>\n",
       "      <td>adam</td>\n",
       "      <td>{'activation': 'relu', 'alpha': 0.0001, 'hidde...</td>\n",
       "      <td>0.942857</td>\n",
       "      <td>0.957143</td>\n",
       "      <td>0.914286</td>\n",
       "      <td>0.914286</td>\n",
       "      <td>0.927536</td>\n",
       "      <td>0.931222</td>\n",
       "      <td>0.016700</td>\n",
       "      <td>141</td>\n",
       "    </tr>\n",
       "    <tr>\n",
       "      <th>77</th>\n",
       "      <td>4.345523</td>\n",
       "      <td>1.575447</td>\n",
       "      <td>0.004043</td>\n",
       "      <td>0.002848</td>\n",
       "      <td>relu</td>\n",
       "      <td>0.0001</td>\n",
       "      <td>(150, 100, 50)</td>\n",
       "      <td>constant</td>\n",
       "      <td>1800</td>\n",
       "      <td>adam</td>\n",
       "      <td>{'activation': 'relu', 'alpha': 0.0001, 'hidde...</td>\n",
       "      <td>0.942857</td>\n",
       "      <td>0.957143</td>\n",
       "      <td>0.914286</td>\n",
       "      <td>0.914286</td>\n",
       "      <td>0.927536</td>\n",
       "      <td>0.931222</td>\n",
       "      <td>0.016700</td>\n",
       "      <td>141</td>\n",
       "    </tr>\n",
       "    <tr>\n",
       "      <th>83</th>\n",
       "      <td>5.103198</td>\n",
       "      <td>1.314619</td>\n",
       "      <td>0.002652</td>\n",
       "      <td>0.000734</td>\n",
       "      <td>relu</td>\n",
       "      <td>0.0001</td>\n",
       "      <td>(150, 100, 50)</td>\n",
       "      <td>adaptive</td>\n",
       "      <td>1800</td>\n",
       "      <td>adam</td>\n",
       "      <td>{'activation': 'relu', 'alpha': 0.0001, 'hidde...</td>\n",
       "      <td>0.942857</td>\n",
       "      <td>0.957143</td>\n",
       "      <td>0.928571</td>\n",
       "      <td>0.900000</td>\n",
       "      <td>0.927536</td>\n",
       "      <td>0.931222</td>\n",
       "      <td>0.018988</td>\n",
       "      <td>141</td>\n",
       "    </tr>\n",
       "    <tr>\n",
       "      <th>75</th>\n",
       "      <td>6.536128</td>\n",
       "      <td>1.021818</td>\n",
       "      <td>0.003413</td>\n",
       "      <td>0.001353</td>\n",
       "      <td>relu</td>\n",
       "      <td>0.0001</td>\n",
       "      <td>(150, 100, 50)</td>\n",
       "      <td>constant</td>\n",
       "      <td>1200</td>\n",
       "      <td>adam</td>\n",
       "      <td>{'activation': 'relu', 'alpha': 0.0001, 'hidde...</td>\n",
       "      <td>0.942857</td>\n",
       "      <td>0.957143</td>\n",
       "      <td>0.914286</td>\n",
       "      <td>0.914286</td>\n",
       "      <td>0.927536</td>\n",
       "      <td>0.931222</td>\n",
       "      <td>0.016700</td>\n",
       "      <td>141</td>\n",
       "    </tr>\n",
       "  </tbody>\n",
       "</table>\n",
       "<p>144 rows × 19 columns</p>\n",
       "</div>"
      ],
      "text/plain": [
       "     mean_fit_time  std_fit_time  mean_score_time  std_score_time  \\\n",
       "3         1.542868      0.734412         0.002838        0.000546   \n",
       "15        1.347760      0.863983         0.002006        0.000636   \n",
       "110       4.999809      0.708491         0.002420        0.000212   \n",
       "118       6.007784      1.011112         0.004512        0.003590   \n",
       "80        7.016711      0.570813         0.001934        0.000650   \n",
       "..             ...           ...              ...             ...   \n",
       "81        4.059874      1.345144         0.002285        0.000746   \n",
       "79        3.303391      1.676667         0.004613        0.004738   \n",
       "77        4.345523      1.575447         0.004043        0.002848   \n",
       "83        5.103198      1.314619         0.002652        0.000734   \n",
       "75        6.536128      1.021818         0.003413        0.001353   \n",
       "\n",
       "    param_activation param_alpha param_hidden_layer_sizes param_learning_rate  \\\n",
       "3               tanh      0.0001           (150, 100, 50)            constant   \n",
       "15              tanh      0.0001                (120, 80)            constant   \n",
       "110             relu        0.05           (150, 100, 50)            constant   \n",
       "118             relu        0.05           (150, 100, 50)            adaptive   \n",
       "80              relu      0.0001           (150, 100, 50)            adaptive   \n",
       "..               ...         ...                      ...                 ...   \n",
       "81              relu      0.0001           (150, 100, 50)            adaptive   \n",
       "79              relu      0.0001           (150, 100, 50)            adaptive   \n",
       "77              relu      0.0001           (150, 100, 50)            constant   \n",
       "83              relu      0.0001           (150, 100, 50)            adaptive   \n",
       "75              relu      0.0001           (150, 100, 50)            constant   \n",
       "\n",
       "    param_max_iter param_solver  \\\n",
       "3             1200         adam   \n",
       "15            1200         adam   \n",
       "110           1200          sgd   \n",
       "118           1800          sgd   \n",
       "80            1200          sgd   \n",
       "..             ...          ...   \n",
       "81            1200         adam   \n",
       "79             600         adam   \n",
       "77            1800         adam   \n",
       "83            1800         adam   \n",
       "75            1200         adam   \n",
       "\n",
       "                                                params  split0_test_score  \\\n",
       "3    {'activation': 'tanh', 'alpha': 0.0001, 'hidde...           0.971429   \n",
       "15   {'activation': 'tanh', 'alpha': 0.0001, 'hidde...           0.971429   \n",
       "110  {'activation': 'relu', 'alpha': 0.05, 'hidden_...           0.971429   \n",
       "118  {'activation': 'relu', 'alpha': 0.05, 'hidden_...           0.971429   \n",
       "80   {'activation': 'relu', 'alpha': 0.0001, 'hidde...           0.971429   \n",
       "..                                                 ...                ...   \n",
       "81   {'activation': 'relu', 'alpha': 0.0001, 'hidde...           0.942857   \n",
       "79   {'activation': 'relu', 'alpha': 0.0001, 'hidde...           0.942857   \n",
       "77   {'activation': 'relu', 'alpha': 0.0001, 'hidde...           0.942857   \n",
       "83   {'activation': 'relu', 'alpha': 0.0001, 'hidde...           0.942857   \n",
       "75   {'activation': 'relu', 'alpha': 0.0001, 'hidde...           0.942857   \n",
       "\n",
       "     split1_test_score  split2_test_score  split3_test_score  \\\n",
       "3             0.957143           0.957143           0.914286   \n",
       "15            0.957143           0.957143           0.914286   \n",
       "110           0.957143           0.971429           0.914286   \n",
       "118           0.957143           0.971429           0.914286   \n",
       "80            0.957143           0.971429           0.914286   \n",
       "..                 ...                ...                ...   \n",
       "81            0.957143           0.928571           0.914286   \n",
       "79            0.957143           0.914286           0.914286   \n",
       "77            0.957143           0.914286           0.914286   \n",
       "83            0.957143           0.928571           0.900000   \n",
       "75            0.957143           0.914286           0.914286   \n",
       "\n",
       "     split4_test_score  mean_test_score  std_test_score  rank_test_score  \n",
       "3             0.942029         0.948406        0.019430                1  \n",
       "15            0.942029         0.948406        0.019430                1  \n",
       "110           0.927536         0.948364        0.023393                3  \n",
       "118           0.927536         0.948364        0.023393                3  \n",
       "80            0.927536         0.948364        0.023393                3  \n",
       "..                 ...              ...             ...              ...  \n",
       "81            0.927536         0.934079        0.014655              136  \n",
       "79            0.927536         0.931222        0.016700              141  \n",
       "77            0.927536         0.931222        0.016700              141  \n",
       "83            0.927536         0.931222        0.018988              141  \n",
       "75            0.927536         0.931222        0.016700              141  \n",
       "\n",
       "[144 rows x 19 columns]"
      ]
     },
     "execution_count": 206,
     "metadata": {},
     "output_type": "execute_result"
    }
   ],
   "source": [
    "grid_results_clf.sort_values('rank_test_score')"
   ]
  },
  {
   "cell_type": "code",
   "execution_count": 207,
   "metadata": {},
   "outputs": [],
   "source": [
    "# Generar un codificador directo\n",
    "def coder(classd):\n",
    "    if classd == 'benign':\n",
    "        return 0\n",
    "    elif classd == 'malignant':\n",
    "        return 1\n",
    "\n",
    "# Aplicar el codificador a la característica de interés\n",
    "dataset['classd'] = dataset['classd'].apply(coder)"
   ]
  },
  {
   "cell_type": "code",
   "execution_count": 208,
   "metadata": {},
   "outputs": [
    {
     "data": {
      "text/plain": [
       "classd\n",
       "0    458\n",
       "1    241\n",
       "dtype: int64"
      ]
     },
     "execution_count": 208,
     "metadata": {},
     "output_type": "execute_result"
    }
   ],
   "source": [
    "dataset.groupby('classd').size()"
   ]
  },
  {
   "attachments": {},
   "cell_type": "markdown",
   "metadata": {},
   "source": [
    "## <a id='toc8_9_'></a>[Entrenamiento del mejor modelo](#toc0_)"
   ]
  },
  {
   "cell_type": "code",
   "execution_count": 209,
   "metadata": {},
   "outputs": [
    {
     "data": {
      "text/plain": [
       "MLPClassifier(activation='tanh', hidden_layer_sizes=(150, 100, 50),\n",
       "              learning_rate='adaptive', max_iter=1200)"
      ]
     },
     "execution_count": 209,
     "metadata": {},
     "output_type": "execute_result"
    }
   ],
   "source": [
    "# Definición de un clasificador de perceptrones múltiples.\n",
    "# Se usan los mejores valores de hiperparámetros encontrados en la sintonización de hiperparámetros.\n",
    "mlp_clf_opt = MLPClassifier(\n",
    "    activation = 'tanh',\n",
    "    alpha = 0.0001,\n",
    "    hidden_layer_sizes = (150, 100, 50),\n",
    "    learning_rate = 'adaptive',\n",
    "    max_iter = 1200,\n",
    "    solver = 'adam'\n",
    "    )\n",
    "\n",
    "# Entrene el modelo con los datos de entrenamiento.\n",
    "mlp_clf_opt.fit(X_train_scaled, y_train)"
   ]
  },
  {
   "attachments": {},
   "cell_type": "markdown",
   "metadata": {},
   "source": [
    "## <a id='toc8_10_'></a>[Prueba del mejor modelo](#toc0_)"
   ]
  },
  {
   "cell_type": "code",
   "execution_count": 210,
   "metadata": {},
   "outputs": [
    {
     "data": {
      "text/plain": [
       "array(['benign', 'benign', 'benign', 'malignant', 'benign', 'benign',\n",
       "       'benign', 'malignant', 'malignant', 'benign', 'benign',\n",
       "       'malignant', 'benign', 'benign', 'benign', 'malignant', 'benign',\n",
       "       'malignant', 'malignant', 'malignant', 'malignant', 'benign',\n",
       "       'malignant', 'benign', 'malignant', 'benign', 'benign',\n",
       "       'malignant', 'benign', 'malignant', 'benign', 'benign', 'benign',\n",
       "       'malignant', 'benign', 'benign', 'benign', 'malignant', 'benign',\n",
       "       'malignant', 'benign', 'benign', 'malignant', 'benign', 'benign',\n",
       "       'benign', 'benign', 'malignant', 'benign', 'benign', 'benign',\n",
       "       'benign', 'malignant', 'benign', 'malignant', 'benign', 'benign',\n",
       "       'malignant', 'benign', 'benign', 'benign', 'benign', 'malignant',\n",
       "       'benign', 'benign', 'benign', 'malignant', 'malignant', 'benign',\n",
       "       'benign', 'benign', 'benign', 'malignant', 'benign', 'benign',\n",
       "       'benign', 'benign', 'benign', 'benign', 'benign', 'benign',\n",
       "       'benign', 'benign', 'benign', 'benign', 'malignant', 'malignant',\n",
       "       'benign', 'benign', 'benign', 'benign', 'benign', 'malignant',\n",
       "       'benign', 'benign', 'malignant', 'benign', 'benign', 'benign',\n",
       "       'benign', 'benign', 'benign', 'benign', 'malignant', 'benign',\n",
       "       'benign', 'malignant', 'benign', 'benign', 'malignant',\n",
       "       'malignant', 'benign', 'benign', 'malignant', 'benign', 'benign',\n",
       "       'benign', 'benign', 'benign', 'benign', 'benign', 'malignant',\n",
       "       'benign', 'benign', 'malignant', 'malignant', 'benign', 'benign',\n",
       "       'malignant', 'malignant', 'benign', 'benign', 'malignant',\n",
       "       'benign', 'malignant', 'benign', 'malignant', 'benign', 'benign',\n",
       "       'benign', 'benign', 'benign', 'benign', 'benign', 'benign',\n",
       "       'malignant', 'benign', 'malignant', 'benign', 'malignant',\n",
       "       'benign', 'malignant', 'benign', 'malignant', 'benign',\n",
       "       'malignant', 'benign', 'benign', 'benign', 'benign', 'benign',\n",
       "       'malignant', 'benign', 'malignant', 'benign', 'benign',\n",
       "       'malignant', 'benign', 'benign', 'benign', 'benign', 'benign',\n",
       "       'malignant', 'malignant', 'benign', 'benign', 'malignant',\n",
       "       'malignant', 'benign', 'benign', 'benign', 'benign', 'malignant',\n",
       "       'benign', 'benign', 'benign', 'malignant', 'benign', 'benign',\n",
       "       'benign', 'benign', 'benign', 'benign', 'benign', 'malignant',\n",
       "       'benign', 'benign', 'benign', 'malignant', 'malignant',\n",
       "       'malignant', 'malignant', 'malignant', 'malignant', 'benign',\n",
       "       'benign', 'benign', 'benign', 'benign', 'benign', 'malignant',\n",
       "       'malignant', 'benign', 'benign', 'malignant', 'malignant',\n",
       "       'benign', 'benign', 'malignant', 'benign', 'benign', 'benign',\n",
       "       'benign', 'malignant', 'malignant', 'malignant', 'malignant',\n",
       "       'benign', 'benign', 'benign', 'malignant', 'benign', 'benign',\n",
       "       'malignant', 'benign', 'benign', 'benign', 'benign', 'benign',\n",
       "       'benign', 'malignant', 'benign', 'benign', 'malignant',\n",
       "       'malignant', 'benign', 'malignant', 'malignant', 'benign',\n",
       "       'benign', 'malignant', 'benign', 'benign', 'benign', 'benign',\n",
       "       'benign', 'benign', 'benign', 'benign', 'malignant', 'malignant',\n",
       "       'benign', 'benign', 'benign', 'benign', 'malignant', 'benign',\n",
       "       'malignant', 'malignant', 'benign', 'malignant', 'malignant',\n",
       "       'benign', 'malignant', 'malignant', 'benign', 'malignant',\n",
       "       'malignant', 'benign', 'malignant', 'benign', 'benign', 'benign',\n",
       "       'malignant', 'malignant', 'benign', 'benign', 'benign', 'benign',\n",
       "       'malignant', 'benign', 'benign', 'malignant', 'malignant',\n",
       "       'malignant', 'malignant', 'benign', 'malignant', 'benign',\n",
       "       'malignant', 'benign', 'benign', 'benign', 'malignant', 'benign',\n",
       "       'benign', 'malignant', 'benign', 'malignant', 'benign',\n",
       "       'malignant', 'malignant', 'benign', 'malignant', 'benign',\n",
       "       'benign', 'benign', 'benign', 'malignant', 'benign', 'malignant',\n",
       "       'benign', 'benign', 'malignant', 'benign', 'benign', 'benign',\n",
       "       'malignant', 'benign', 'benign', 'malignant', 'benign', 'benign',\n",
       "       'benign', 'malignant', 'benign', 'benign', 'benign', 'malignant',\n",
       "       'malignant', 'benign', 'malignant', 'benign', 'benign', 'benign',\n",
       "       'malignant', 'malignant', 'malignant', 'benign', 'malignant'],\n",
       "      dtype='<U9')"
      ]
     },
     "execution_count": 210,
     "metadata": {},
     "output_type": "execute_result"
    }
   ],
   "source": [
    "# Pasar el conjunto de datos que hemos preparado para las pruebas\n",
    "y_pred = mlp_clf_opt.predict(X_test_scaled)\n",
    "y_pred"
   ]
  },
  {
   "attachments": {},
   "cell_type": "markdown",
   "metadata": {},
   "source": [
    "## <a id='toc8_11_'></a>[Evaluación del mejor modelo](#toc0_)"
   ]
  },
  {
   "cell_type": "code",
   "execution_count": 211,
   "metadata": {},
   "outputs": [
    {
     "name": "stdout",
     "output_type": "stream",
     "text": [
      "Exactitud: 0.95\n",
      "              precision    recall  f1-score   support\n",
      "\n",
      "      benign       0.95      0.96      0.96       226\n",
      "   malignant       0.93      0.91      0.92       124\n",
      "\n",
      "    accuracy                           0.95       350\n",
      "   macro avg       0.94      0.94      0.94       350\n",
      "weighted avg       0.95      0.95      0.95       350\n",
      "\n"
     ]
    }
   ],
   "source": [
    "# Exactitud\n",
    "print('Exactitud: {:.2f}'.format(accuracy_score(y_test, y_pred)))\n",
    "# Precisión, recuperación, puntaje F1 y soporte\n",
    "print(classification_report(y_test, y_pred))"
   ]
  },
  {
   "cell_type": "code",
   "execution_count": 212,
   "metadata": {},
   "outputs": [
    {
     "data": {
      "image/png": "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",
      "text/plain": [
       "<Figure size 640x480 with 1 Axes>"
      ]
     },
     "metadata": {},
     "output_type": "display_data"
    }
   ],
   "source": [
    "# Vea qué tan bien fue el entrenamiento del modelo\n",
    "plt.plot(mlp_clf_opt.loss_curve_)\n",
    "plt.title(\"Curva de pérdida\", fontsize=14)\n",
    "plt.xlabel('Iteraciones')\n",
    "plt.ylabel('Costo')\n",
    "plt.show()"
   ]
  },
  {
   "cell_type": "code",
   "execution_count": 213,
   "metadata": {},
   "outputs": [
    {
     "data": {
      "image/png": "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",
      "text/plain": [
       "<Figure size 640x480 with 2 Axes>"
      ]
     },
     "metadata": {},
     "output_type": "display_data"
    }
   ],
   "source": [
    "# Generar la matriz de confusión\n",
    "confusion_matrix = pd.crosstab(y_test, y_pred, rownames=['Reales'], colnames=['Predicciones'])\n",
    "sn.heatmap(confusion_matrix, annot=True)\n",
    "plt.show()"
   ]
  },
  {
   "cell_type": "code",
   "execution_count": 214,
   "metadata": {},
   "outputs": [
    {
     "name": "stdout",
     "output_type": "stream",
     "text": [
      "Predicciones \n",
      "             0\n",
      "count      350\n",
      "unique       2\n",
      "top     benign\n",
      "freq       229\n",
      "\n",
      "Ejemplos Verdaderos \n",
      "count        350\n",
      "unique         2\n",
      "top       benign\n",
      "freq         226\n",
      "Name: classd, dtype: object\n"
     ]
    }
   ],
   "source": [
    "# Eche un vistazo a las predicciones\n",
    "y_pred_pd = pd.DataFrame(y_pred)\n",
    "print('Predicciones \\n{}\\n'.format(y_pred_pd.describe()))\n",
    "\n",
    "# Eche un vistazo a los verdaderos ejemplos\n",
    "print('Ejemplos Verdaderos \\n{}'.format(y_test.describe()))"
   ]
  },
  {
   "attachments": {},
   "cell_type": "markdown",
   "metadata": {},
   "source": [
    "# <a id='toc9_'></a>[Regresión](#toc0_)"
   ]
  },
  {
   "attachments": {},
   "cell_type": "markdown",
   "metadata": {},
   "source": [
    "## <a id='toc9_1_'></a>[Conjunto de datos para entrenamiento](#toc0_)\n",
    "Junto con dataset, estas conforman las variables globales usadas dentro del código."
   ]
  },
  {
   "cell_type": "code",
   "execution_count": 215,
   "metadata": {},
   "outputs": [
    {
     "name": "stdout",
     "output_type": "stream",
     "text": [
      "Los valores min del conjunto de datos son: \n",
      "sample_code          61634\n",
      "clump_thickness          1\n",
      "cell_size                1\n",
      "cell_shape               1\n",
      "marginal_adhesion        1\n",
      "epithelial_size          1\n",
      "bare_nuclei              1\n",
      "bland_chromatin          1\n",
      "normal_nucleoli          1\n",
      "mitoses                  1\n",
      "classd                   0\n",
      "dtype: object\n",
      "Los valores máximos del conjunto de datos son: \n",
      "sample_code          13454352\n",
      "clump_thickness            10\n",
      "cell_size                  10\n",
      "cell_shape                 10\n",
      "marginal_adhesion          10\n",
      "epithelial_size            10\n",
      "bare_nuclei                 ?\n",
      "bland_chromatin            10\n",
      "normal_nucleoli            10\n",
      "mitoses                    10\n",
      "classd                      1\n",
      "dtype: object\n"
     ]
    }
   ],
   "source": [
    "# Tomaremos cell_size como nuestra característica de interés.\n",
    "# X será nuestro conjunto de datos sin la característica de interés.\n",
    "X = dataset.drop('cell_size', axis=1)\n",
    "\n",
    "# Convertir en una matriz numpy y asignar el grosor y la adhesión marginal como características.\n",
    "X = X.to_numpy()[:, (1,4)]\n",
    "\n",
    "# Y será nuestra característica de interés.\n",
    "y = dataset['cell_size']\n",
    "\n",
    "# Dividir para entrenamiento y prueba en proporciones de la mitad.\n",
    "X_train, X_test, y_train, y_test = train_test_split(X,y,test_size=0.5,random_state=42)\n",
    "\n",
    "print('Los valores min del conjunto de datos son: \\n{}'.format(dataset.min()))\n",
    "print('Los valores máximos del conjunto de datos son: \\n{}'.format(dataset.max()))"
   ]
  },
  {
   "attachments": {},
   "cell_type": "markdown",
   "metadata": {},
   "source": [
    "## <a id='toc9_2_'></a>[Escalamiento de los datos](#toc0_)"
   ]
  },
  {
   "cell_type": "code",
   "execution_count": 216,
   "metadata": {},
   "outputs": [
    {
     "name": "stdout",
     "output_type": "stream",
     "text": [
      "Los valores min del conjunto de datos son: \n",
      "-1.2403382940641132\n",
      "Los valores máximos del conjunto de datos son: \n",
      "3.1795693103863085\n"
     ]
    }
   ],
   "source": [
    "# Dado que los valores de las características son de diferentes rangos, \n",
    "# es necesario escalarlos ya que los modelos de ML son sensibles a estas variaciones.\n",
    "scaler = StandardScaler()\n",
    "\n",
    "# scaler = sc.fit(X_train)\n",
    "X_train_scaled = scaler.fit_transform(X_train)\n",
    "X_test_scaled = scaler.fit_transform(X_test)\n",
    "\n",
    "print('Los valores min del conjunto de datos son: \\n{}'.format(X_train_scaled.min()))\n",
    "print('Los valores máximos del conjunto de datos son: \\n{}'.format(X_train_scaled.max()))"
   ]
  },
  {
   "attachments": {},
   "cell_type": "markdown",
   "metadata": {},
   "source": [
    "## <a id='toc9_3_'></a>[Definición del modelo base](#toc0_)"
   ]
  },
  {
   "cell_type": "code",
   "execution_count": 217,
   "metadata": {},
   "outputs": [],
   "source": [
    "# Definición de un clasificador de perceptrones múltiples.\n",
    "# Usa los mismos parámetros que el bloque de MLPClasifier anterior.\n",
    "mlp_reg = MLPRegressor(\n",
    "    hidden_layer_sizes=(2), \n",
    "    max_iter = 2000, \n",
    "    learning_rate_init = 0.001, \n",
    "    activation = 'relu', \n",
    "    solver = 'adam'\n",
    "    )"
   ]
  },
  {
   "attachments": {},
   "cell_type": "markdown",
   "metadata": {},
   "source": [
    "## <a id='toc9_4_'></a>[Entrenamiento del modelo base](#toc0_)"
   ]
  },
  {
   "cell_type": "code",
   "execution_count": 218,
   "metadata": {},
   "outputs": [
    {
     "name": "stderr",
     "output_type": "stream",
     "text": [
      "c:\\Users\\chbas\\anaconda3\\lib\\site-packages\\sklearn\\neural_network\\_multilayer_perceptron.py:692: ConvergenceWarning: Stochastic Optimizer: Maximum iterations (2000) reached and the optimization hasn't converged yet.\n",
      "  warnings.warn(\n"
     ]
    },
    {
     "data": {
      "text/plain": [
       "MLPRegressor(hidden_layer_sizes=2, max_iter=2000)"
      ]
     },
     "execution_count": 218,
     "metadata": {},
     "output_type": "execute_result"
    }
   ],
   "source": [
    "# Entrenar el modelo\n",
    "mlp_reg.fit(X_train_scaled, y_train)"
   ]
  },
  {
   "attachments": {},
   "cell_type": "markdown",
   "metadata": {},
   "source": [
    "## <a id='toc9_5_'></a>[Prueba del modelo base](#toc0_)"
   ]
  },
  {
   "cell_type": "code",
   "execution_count": 219,
   "metadata": {},
   "outputs": [
    {
     "data": {
      "text/plain": [
       "array([ 1.29219537,  1.69580459,  1.29219537,  3.04248831,  1.29219537,\n",
       "        1.29219537,  2.08886146,  5.6520992 ,  5.34279888,  3.04248831,\n",
       "        1.29219537,  7.08253947,  1.29219537,  1.29219537,  1.29219537,\n",
       "        8.03616632,  1.29219537,  7.91498074,  5.51274146,  3.91235861,\n",
       "        7.76477876,  1.29219537,  5.6520992 ,  1.29219537,  3.12624486,\n",
       "        2.17261801,  1.69580459,  9.46640627,  1.69580459,  3.99611516,\n",
       "        1.29219537,  1.69580459,  1.69580459,  3.51930173,  1.29219537,\n",
       "        2.17261801,  1.29219537,  9.56645822,  1.29219537,  6.46360716,\n",
       "        1.29219537,  1.29219537,  9.56645822,  1.29219537,  1.29219537,\n",
       "        2.17261801,  2.17261801,  4.91218164,  1.29219537,  5.26248752,\n",
       "        3.04248831,  1.29219537,  3.91235861,  1.29219537,  5.25904233,\n",
       "        1.29219537,  2.17261801,  4.47292858,  1.29219537,  1.29219537,\n",
       "        1.29219537,  1.29219537,  8.26528663,  2.17261801,  1.29219537,\n",
       "        1.29219537,  5.34279888,  6.29642573,  2.17261801,  1.29219537,\n",
       "        4.55668513,  1.29219537,  4.47292858,  1.69580459,  1.69580459,\n",
       "        2.08886146,  1.29219537,  4.7822289 ,  1.29219537,  1.29219537,\n",
       "        1.29219537,  1.29219537,  1.29219537,  2.17261801,  1.29219537,\n",
       "        7.16629602,  3.04248831,  1.61204804,  1.29219537,  1.29219537,\n",
       "        1.29219537,  1.29219537,  9.46640627,  2.08886146,  2.17261801,\n",
       "        2.56567489,  1.29219537,  1.29219537,  1.30274772,  1.69580459,\n",
       "        1.29219537,  2.17261801,  1.29219537,  2.17261801,  5.42655543,\n",
       "        1.29219537,  4.86598546,  2.00510491,  2.17261801,  3.96131593,\n",
       "        4.7822289 ,  1.69580459,  1.29219537,  1.29219537,  2.17261801,\n",
       "        5.8196123 ,  1.29219537,  1.69580459,  2.87497521,  1.29219537,\n",
       "        1.29219537,  4.31162181,  1.29219537,  1.29219537,  4.56187575,\n",
       "        3.82860206,  1.29219537,  2.17261801,  6.21266918,  5.42655543,\n",
       "        1.29219537,  1.29219537,  4.47292858,  1.29219537,  3.51930173,\n",
       "        1.29219537,  6.12891263,  3.91235861,  1.29219537,  1.29219537,\n",
       "        2.17261801,  2.17261801,  1.29219537,  2.17261801,  1.29219537,\n",
       "        9.81671216,  1.29219537,  6.21266918,  1.29219537,  6.29642573,\n",
       "        1.29219537,  5.42655543,  1.29219537,  8.36533858,  1.29219537,\n",
       "        8.90603662,  1.29219537,  1.29219537,  2.64943144,  1.29219537,\n",
       "        1.29219537,  7.16629602,  1.69580459,  3.91235861,  3.04248831,\n",
       "        1.29219537,  8.03616632,  1.29219537,  4.55668513,  2.95873176,\n",
       "        1.29219537,  1.29219537,  6.12891263,  4.38917203,  1.29219537,\n",
       "        1.29219537, 10.16701804,  7.08253947,  1.29219537,  1.69580459,\n",
       "        1.29219537,  1.29219537, 10.16701804,  1.29219537,  1.29219537,\n",
       "        2.17261801,  4.38917203,  1.69580459,  1.29219537,  1.61204804,\n",
       "        2.64943144,  1.29219537,  2.56567489,  2.64943144,  1.69580459,\n",
       "        1.69580459,  1.29219537,  1.29219537,  7.16421893,  7.06416699,\n",
       "        7.5593529 ,  8.03616632,  6.21266918,  5.42655543,  1.69580459,\n",
       "        1.29219537,  1.29219537,  1.69580459,  1.69580459,  1.29219537,\n",
       "        8.9658984 ,  7.16421893,  1.29219537,  1.29219537,  6.46360716,\n",
       "        7.16629602,  3.04248831,  1.29219537,  5.16243557,  1.29219537,\n",
       "        1.29219537,  2.17261801,  1.61204804,  3.60305828,  6.60572605,\n",
       "        6.29642573,  3.60305828,  1.29219537,  1.69580459,  1.29219537,\n",
       "        3.43554518,  1.29219537,  1.29219537,  6.21266918,  1.29219537,\n",
       "        1.29219537,  1.29219537,  1.69580459,  1.29219537,  1.69580459,\n",
       "       10.16701804,  1.29219537,  1.29219537,  4.47292858,  5.26248752,\n",
       "        1.29219537,  3.60305828,  4.38917203,  1.29219537,  2.17261801,\n",
       "        5.34279888,  1.29219537,  1.29219537,  1.29219537,  1.29219537,\n",
       "        2.17261801,  1.29219537,  2.17261801,  1.29219537,  5.34279888,\n",
       "        8.90603662,  2.17261801,  1.69580459,  1.29219537,  2.17261801,\n",
       "        5.34279888,  1.69580459,  4.7822289 ,  9.46640627,  1.69580459,\n",
       "        3.43554518,  3.43554518,  1.29219537,  3.99611516,  7.08253947,\n",
       "        2.17261801,  3.91235861,  4.86598546,  2.64943144,  7.16421893,\n",
       "        1.29219537,  3.60305828,  1.29219537,  2.56567489,  5.16243557,\n",
       "        1.29219537,  1.29219537,  1.29219537,  1.29219537,  2.17261801,\n",
       "        2.17261801,  2.64943144,  5.42655543,  8.03616632,  2.95873176,\n",
       "        7.16421893,  1.69580459,  3.43554518,  1.29219537,  4.06136788,\n",
       "        2.64943144,  2.17261801,  1.69580459, 10.16701804,  2.17261801,\n",
       "        1.30274772,  3.91235861,  5.6520992 ,  4.47292858,  2.56567489,\n",
       "        8.9658984 ,  6.81391305,  1.29219537,  7.16629602,  1.29219537,\n",
       "        1.29219537,  1.29219537,  1.29219537,  8.36533858,  1.29219537,\n",
       "        5.8196123 ,  1.29219537,  1.29219537,  5.73585575,  2.64943144,\n",
       "        1.29219537,  1.29219537,  8.9658984 ,  2.08886146,  2.17261801,\n",
       "        6.29642573,  2.17261801,  1.29219537,  1.29219537,  3.43554518,\n",
       "        1.29219537,  2.17261801,  6.21266918,  5.25904233,  2.08886146,\n",
       "        1.29219537,  4.86598546,  1.69580459,  1.29219537,  2.08886146,\n",
       "       10.16701804,  4.7822289 ,  7.06416699,  2.56567489,  6.21266918])"
      ]
     },
     "execution_count": 219,
     "metadata": {},
     "output_type": "execute_result"
    }
   ],
   "source": [
    "# Pasar el conjunto de datos que hemos preparado para las pruebas\n",
    "y_pred = mlp_reg.predict(X_test_scaled)\n",
    "y_pred"
   ]
  },
  {
   "attachments": {},
   "cell_type": "markdown",
   "metadata": {},
   "source": [
    "## <a id='toc9_6_'></a>[Evaluación del modelo base](#toc0_)"
   ]
  },
  {
   "cell_type": "code",
   "execution_count": 220,
   "metadata": {},
   "outputs": [
    {
     "name": "stdout",
     "output_type": "stream",
     "text": [
      "r2: 0.67\n",
      "Error cuadrático promedio: 3.18\n",
      "Varianza explicada: 0.67\n"
     ]
    }
   ],
   "source": [
    "# https://scikit-learn.org/stable/modules/model_evaluation.html\n",
    "\n",
    "# Prueba de r2. La mejor puntuación posible es 1.0 y puede ser negativa (porque el modelo puede ser arbitrariamente peor).\n",
    "print('r2: {:.2f}'.format(r2_score(y_test, y_pred)))\n",
    "\n",
    "# Error cuadrático promedio. La mejor puntuación posible es 0.0\n",
    "print('Error cuadrático promedio: {:.2f}'.format(mean_squared_error(y_test, y_pred)))\n",
    "\n",
    "# Puntuación de varianza explicada. La mejor puntuación posible es 1.0, los valores más bajos son peores.\n",
    "print('Varianza explicada: {:.2f}'.format(explained_variance_score(y_test, y_pred)))"
   ]
  },
  {
   "cell_type": "code",
   "execution_count": 221,
   "metadata": {},
   "outputs": [
    {
     "data": {
      "image/png": "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",
      "text/plain": [
       "<Figure size 640x480 with 1 Axes>"
      ]
     },
     "metadata": {},
     "output_type": "display_data"
    }
   ],
   "source": [
    "# Vea qué tan bien fue el entrenamiento del modelo\n",
    "plt.plot(mlp_reg.loss_curve_)\n",
    "plt.title(\"Curva de Pérdida\", fontsize=14)\n",
    "plt.xlabel('Iteraciones')\n",
    "plt.ylabel('Costo')\n",
    "plt.show()"
   ]
  },
  {
   "cell_type": "code",
   "execution_count": 222,
   "metadata": {},
   "outputs": [
    {
     "data": {
      "text/html": [
       "<div>\n",
       "<style scoped>\n",
       "    .dataframe tbody tr th:only-of-type {\n",
       "        vertical-align: middle;\n",
       "    }\n",
       "\n",
       "    .dataframe tbody tr th {\n",
       "        vertical-align: top;\n",
       "    }\n",
       "\n",
       "    .dataframe thead th {\n",
       "        text-align: right;\n",
       "    }\n",
       "</style>\n",
       "<table border=\"1\" class=\"dataframe\">\n",
       "  <thead>\n",
       "    <tr style=\"text-align: right;\">\n",
       "      <th></th>\n",
       "      <th>Reales</th>\n",
       "      <th>Predicciones</th>\n",
       "    </tr>\n",
       "  </thead>\n",
       "  <tbody>\n",
       "    <tr>\n",
       "      <th>158</th>\n",
       "      <td>1</td>\n",
       "      <td>1.292195</td>\n",
       "    </tr>\n",
       "    <tr>\n",
       "      <th>499</th>\n",
       "      <td>1</td>\n",
       "      <td>1.695805</td>\n",
       "    </tr>\n",
       "    <tr>\n",
       "      <th>396</th>\n",
       "      <td>1</td>\n",
       "      <td>1.292195</td>\n",
       "    </tr>\n",
       "    <tr>\n",
       "      <th>155</th>\n",
       "      <td>5</td>\n",
       "      <td>3.042488</td>\n",
       "    </tr>\n",
       "    <tr>\n",
       "      <th>321</th>\n",
       "      <td>1</td>\n",
       "      <td>1.292195</td>\n",
       "    </tr>\n",
       "  </tbody>\n",
       "</table>\n",
       "</div>"
      ],
      "text/plain": [
       "     Reales  Predicciones\n",
       "158       1      1.292195\n",
       "499       1      1.695805\n",
       "396       1      1.292195\n",
       "155       5      3.042488\n",
       "321       1      1.292195"
      ]
     },
     "execution_count": 222,
     "metadata": {},
     "output_type": "execute_result"
    }
   ],
   "source": [
    "# Vea qué tan bien fue la prueba del modelo\n",
    "regression_res_df = pd.DataFrame({'Reales': y_test,'Predicciones': y_pred})\n",
    "regression_res_df.head()"
   ]
  },
  {
   "cell_type": "code",
   "execution_count": null,
   "metadata": {},
   "outputs": [],
   "source": []
  },
  {
   "cell_type": "code",
   "execution_count": 223,
   "metadata": {},
   "outputs": [
    {
     "data": {
      "text/plain": [
       "range(0, 350)"
      ]
     },
     "execution_count": 223,
     "metadata": {},
     "output_type": "execute_result"
    }
   ],
   "source": [
    "range(len(regression_res_df))"
   ]
  },
  {
   "cell_type": "code",
   "execution_count": 224,
   "metadata": {},
   "outputs": [
    {
     "data": {
      "image/png": "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",
      "text/plain": [
       "<Figure size 640x480 with 1 Axes>"
      ]
     },
     "metadata": {},
     "output_type": "display_data"
    }
   ],
   "source": [
    "sn.scatterplot(x = list(range(len(regression_res_df))), y ='Reales', data=regression_res_df, label = 'Reales')\n",
    "sn.scatterplot(x = list(range(len(regression_res_df))), y ='Predicciones', data=regression_res_df, label = 'Predicciones')\n",
    "plt.xlabel('Observaciones')\n",
    "plt.ylabel('Tamaño de célula')\n",
    "plt.show()"
   ]
  },
  {
   "attachments": {},
   "cell_type": "markdown",
   "metadata": {},
   "source": [
    "## <a id='toc9_7_'></a>[Definición de la búsqueda de hiper-parámetros](#toc0_)\n",
    "Se usan los mismos valores de búsqueda declarados dentro de param_grid."
   ]
  },
  {
   "attachments": {},
   "cell_type": "markdown",
   "metadata": {},
   "source": [
    "## <a id='toc9_8_'></a>[Ejecución de la búsqueda de hiper-parámetros](#toc0_)"
   ]
  },
  {
   "cell_type": "code",
   "execution_count": 225,
   "metadata": {},
   "outputs": [],
   "source": [
    "grid_reg = GridSearchCV(\n",
    "    # El modelo que estamos entrenando, en este caso un clasificador de perceptrones múltiples\n",
    "    mlp_reg,\n",
    "    # Los diferentes híperparámetros que queremos entrenar\n",
    "    param_grid,\n",
    "    # Número de procesos que se ejecutarán en paralelo. Si se establece en -1, se utilizarán todos los procesadores.\n",
    "    n_jobs = -1,\n",
    "    # Número de veces que se repite la validación cruzada con diferentes conjuntos de entrenamiento y prueba.\n",
    "    cv = 5\n",
    "    )"
   ]
  },
  {
   "cell_type": "code",
   "execution_count": 226,
   "metadata": {},
   "outputs": [
    {
     "data": {
      "text/plain": [
       "GridSearchCV(cv=5, estimator=MLPRegressor(hidden_layer_sizes=2, max_iter=2000),\n",
       "             n_jobs=-1,\n",
       "             param_grid={'activation': ['tanh', 'relu'],\n",
       "                         'alpha': [0.0001, 0.05],\n",
       "                         'hidden_layer_sizes': [(150, 100, 50), (120, 80), 100],\n",
       "                         'learning_rate': ['constant', 'adaptive'],\n",
       "                         'max_iter': [600, 1200, 1800],\n",
       "                         'solver': ['sgd', 'adam']})"
      ]
     },
     "execution_count": 226,
     "metadata": {},
     "output_type": "execute_result"
    }
   ],
   "source": [
    "# Ajustar el modelo a los datos de entrenamiento (puede demorar)\n",
    "grid_reg.fit(X_train_scaled, y_train)"
   ]
  },
  {
   "cell_type": "code",
   "execution_count": 227,
   "metadata": {},
   "outputs": [
    {
     "name": "stdout",
     "output_type": "stream",
     "text": [
      "Los mejores valores de híperparámetros son:\n",
      "{'activation': 'relu', 'alpha': 0.0001, 'hidden_layer_sizes': (150, 100, 50), 'learning_rate': 'adaptive', 'max_iter': 600, 'solver': 'adam'}\n"
     ]
    }
   ],
   "source": [
    "# Consigue los mejores valores para los hiper-parámetros entrenados\n",
    "print('Los mejores valores de híperparámetros son:\\n{}'.format(grid_reg.best_params_))"
   ]
  },
  {
   "cell_type": "code",
   "execution_count": 228,
   "metadata": {},
   "outputs": [],
   "source": [
    "# Guarde los resultados como Pandas DataFrame para interactuar fácilmente con los datos\n",
    "grid_results_reg = pd.DataFrame(grid_reg.cv_results_)"
   ]
  },
  {
   "cell_type": "code",
   "execution_count": 229,
   "metadata": {},
   "outputs": [
    {
     "data": {
      "text/html": [
       "<div>\n",
       "<style scoped>\n",
       "    .dataframe tbody tr th:only-of-type {\n",
       "        vertical-align: middle;\n",
       "    }\n",
       "\n",
       "    .dataframe tbody tr th {\n",
       "        vertical-align: top;\n",
       "    }\n",
       "\n",
       "    .dataframe thead th {\n",
       "        text-align: right;\n",
       "    }\n",
       "</style>\n",
       "<table border=\"1\" class=\"dataframe\">\n",
       "  <thead>\n",
       "    <tr style=\"text-align: right;\">\n",
       "      <th></th>\n",
       "      <th>mean_fit_time</th>\n",
       "      <th>std_fit_time</th>\n",
       "      <th>mean_score_time</th>\n",
       "      <th>std_score_time</th>\n",
       "      <th>param_activation</th>\n",
       "      <th>param_alpha</th>\n",
       "      <th>param_hidden_layer_sizes</th>\n",
       "      <th>param_learning_rate</th>\n",
       "      <th>param_max_iter</th>\n",
       "      <th>param_solver</th>\n",
       "      <th>params</th>\n",
       "      <th>split0_test_score</th>\n",
       "      <th>split1_test_score</th>\n",
       "      <th>split2_test_score</th>\n",
       "      <th>split3_test_score</th>\n",
       "      <th>split4_test_score</th>\n",
       "      <th>mean_test_score</th>\n",
       "      <th>std_test_score</th>\n",
       "      <th>rank_test_score</th>\n",
       "    </tr>\n",
       "  </thead>\n",
       "  <tbody>\n",
       "    <tr>\n",
       "      <th>79</th>\n",
       "      <td>3.821337</td>\n",
       "      <td>0.532401</td>\n",
       "      <td>0.008079</td>\n",
       "      <td>0.010830</td>\n",
       "      <td>relu</td>\n",
       "      <td>0.0001</td>\n",
       "      <td>(150, 100, 50)</td>\n",
       "      <td>adaptive</td>\n",
       "      <td>600</td>\n",
       "      <td>adam</td>\n",
       "      <td>{'activation': 'relu', 'alpha': 0.0001, 'hidde...</td>\n",
       "      <td>0.826985</td>\n",
       "      <td>0.674878</td>\n",
       "      <td>0.661588</td>\n",
       "      <td>0.657662</td>\n",
       "      <td>0.624454</td>\n",
       "      <td>0.689113</td>\n",
       "      <td>0.070907</td>\n",
       "      <td>1</td>\n",
       "    </tr>\n",
       "    <tr>\n",
       "      <th>11</th>\n",
       "      <td>7.688618</td>\n",
       "      <td>2.248379</td>\n",
       "      <td>0.007765</td>\n",
       "      <td>0.009080</td>\n",
       "      <td>tanh</td>\n",
       "      <td>0.0001</td>\n",
       "      <td>(150, 100, 50)</td>\n",
       "      <td>adaptive</td>\n",
       "      <td>1800</td>\n",
       "      <td>adam</td>\n",
       "      <td>{'activation': 'tanh', 'alpha': 0.0001, 'hidde...</td>\n",
       "      <td>0.832200</td>\n",
       "      <td>0.653600</td>\n",
       "      <td>0.673377</td>\n",
       "      <td>0.658731</td>\n",
       "      <td>0.622362</td>\n",
       "      <td>0.688054</td>\n",
       "      <td>0.073967</td>\n",
       "      <td>2</td>\n",
       "    </tr>\n",
       "    <tr>\n",
       "      <th>57</th>\n",
       "      <td>4.328221</td>\n",
       "      <td>0.513115</td>\n",
       "      <td>0.002117</td>\n",
       "      <td>0.000477</td>\n",
       "      <td>tanh</td>\n",
       "      <td>0.05</td>\n",
       "      <td>(120, 80)</td>\n",
       "      <td>adaptive</td>\n",
       "      <td>1200</td>\n",
       "      <td>adam</td>\n",
       "      <td>{'activation': 'tanh', 'alpha': 0.05, 'hidden_...</td>\n",
       "      <td>0.818389</td>\n",
       "      <td>0.678874</td>\n",
       "      <td>0.641489</td>\n",
       "      <td>0.675145</td>\n",
       "      <td>0.619728</td>\n",
       "      <td>0.686725</td>\n",
       "      <td>0.069377</td>\n",
       "      <td>3</td>\n",
       "    </tr>\n",
       "    <tr>\n",
       "      <th>85</th>\n",
       "      <td>3.083079</td>\n",
       "      <td>0.454499</td>\n",
       "      <td>0.001853</td>\n",
       "      <td>0.000652</td>\n",
       "      <td>relu</td>\n",
       "      <td>0.0001</td>\n",
       "      <td>(120, 80)</td>\n",
       "      <td>constant</td>\n",
       "      <td>600</td>\n",
       "      <td>adam</td>\n",
       "      <td>{'activation': 'relu', 'alpha': 0.0001, 'hidde...</td>\n",
       "      <td>0.824854</td>\n",
       "      <td>0.670544</td>\n",
       "      <td>0.652415</td>\n",
       "      <td>0.662980</td>\n",
       "      <td>0.619151</td>\n",
       "      <td>0.685989</td>\n",
       "      <td>0.071618</td>\n",
       "      <td>4</td>\n",
       "    </tr>\n",
       "    <tr>\n",
       "      <th>107</th>\n",
       "      <td>1.950336</td>\n",
       "      <td>0.627194</td>\n",
       "      <td>0.001107</td>\n",
       "      <td>0.000204</td>\n",
       "      <td>relu</td>\n",
       "      <td>0.0001</td>\n",
       "      <td>100</td>\n",
       "      <td>adaptive</td>\n",
       "      <td>1800</td>\n",
       "      <td>adam</td>\n",
       "      <td>{'activation': 'relu', 'alpha': 0.0001, 'hidde...</td>\n",
       "      <td>0.816024</td>\n",
       "      <td>0.682859</td>\n",
       "      <td>0.640411</td>\n",
       "      <td>0.674170</td>\n",
       "      <td>0.615346</td>\n",
       "      <td>0.685762</td>\n",
       "      <td>0.069464</td>\n",
       "      <td>5</td>\n",
       "    </tr>\n",
       "    <tr>\n",
       "      <th>...</th>\n",
       "      <td>...</td>\n",
       "      <td>...</td>\n",
       "      <td>...</td>\n",
       "      <td>...</td>\n",
       "      <td>...</td>\n",
       "      <td>...</td>\n",
       "      <td>...</td>\n",
       "      <td>...</td>\n",
       "      <td>...</td>\n",
       "      <td>...</td>\n",
       "      <td>...</td>\n",
       "      <td>...</td>\n",
       "      <td>...</td>\n",
       "      <td>...</td>\n",
       "      <td>...</td>\n",
       "      <td>...</td>\n",
       "      <td>...</td>\n",
       "      <td>...</td>\n",
       "      <td>...</td>\n",
       "    </tr>\n",
       "    <tr>\n",
       "      <th>28</th>\n",
       "      <td>1.319313</td>\n",
       "      <td>0.877090</td>\n",
       "      <td>0.001433</td>\n",
       "      <td>0.000390</td>\n",
       "      <td>tanh</td>\n",
       "      <td>0.0001</td>\n",
       "      <td>100</td>\n",
       "      <td>constant</td>\n",
       "      <td>1800</td>\n",
       "      <td>sgd</td>\n",
       "      <td>{'activation': 'tanh', 'alpha': 0.0001, 'hidde...</td>\n",
       "      <td>0.770338</td>\n",
       "      <td>0.672990</td>\n",
       "      <td>0.612758</td>\n",
       "      <td>0.665282</td>\n",
       "      <td>0.577294</td>\n",
       "      <td>0.659732</td>\n",
       "      <td>0.065487</td>\n",
       "      <td>140</td>\n",
       "    </tr>\n",
       "    <tr>\n",
       "      <th>66</th>\n",
       "      <td>1.067453</td>\n",
       "      <td>0.386870</td>\n",
       "      <td>0.000705</td>\n",
       "      <td>0.000402</td>\n",
       "      <td>tanh</td>\n",
       "      <td>0.05</td>\n",
       "      <td>100</td>\n",
       "      <td>adaptive</td>\n",
       "      <td>600</td>\n",
       "      <td>sgd</td>\n",
       "      <td>{'activation': 'tanh', 'alpha': 0.05, 'hidden_...</td>\n",
       "      <td>0.755849</td>\n",
       "      <td>0.671110</td>\n",
       "      <td>0.599540</td>\n",
       "      <td>0.692305</td>\n",
       "      <td>0.579581</td>\n",
       "      <td>0.659677</td>\n",
       "      <td>0.063994</td>\n",
       "      <td>141</td>\n",
       "    </tr>\n",
       "    <tr>\n",
       "      <th>96</th>\n",
       "      <td>0.822446</td>\n",
       "      <td>0.385007</td>\n",
       "      <td>0.001318</td>\n",
       "      <td>0.000412</td>\n",
       "      <td>relu</td>\n",
       "      <td>0.0001</td>\n",
       "      <td>100</td>\n",
       "      <td>constant</td>\n",
       "      <td>600</td>\n",
       "      <td>sgd</td>\n",
       "      <td>{'activation': 'relu', 'alpha': 0.0001, 'hidde...</td>\n",
       "      <td>0.730873</td>\n",
       "      <td>0.684727</td>\n",
       "      <td>0.573647</td>\n",
       "      <td>0.687744</td>\n",
       "      <td>0.619219</td>\n",
       "      <td>0.659242</td>\n",
       "      <td>0.055716</td>\n",
       "      <td>142</td>\n",
       "    </tr>\n",
       "    <tr>\n",
       "      <th>70</th>\n",
       "      <td>1.034798</td>\n",
       "      <td>1.001015</td>\n",
       "      <td>0.002127</td>\n",
       "      <td>0.001277</td>\n",
       "      <td>tanh</td>\n",
       "      <td>0.05</td>\n",
       "      <td>100</td>\n",
       "      <td>adaptive</td>\n",
       "      <td>1800</td>\n",
       "      <td>sgd</td>\n",
       "      <td>{'activation': 'tanh', 'alpha': 0.05, 'hidden_...</td>\n",
       "      <td>0.754766</td>\n",
       "      <td>0.659138</td>\n",
       "      <td>0.610683</td>\n",
       "      <td>0.682696</td>\n",
       "      <td>0.577397</td>\n",
       "      <td>0.656936</td>\n",
       "      <td>0.061164</td>\n",
       "      <td>143</td>\n",
       "    </tr>\n",
       "    <tr>\n",
       "      <th>62</th>\n",
       "      <td>1.167524</td>\n",
       "      <td>0.719378</td>\n",
       "      <td>0.001307</td>\n",
       "      <td>0.000405</td>\n",
       "      <td>tanh</td>\n",
       "      <td>0.05</td>\n",
       "      <td>100</td>\n",
       "      <td>constant</td>\n",
       "      <td>1200</td>\n",
       "      <td>sgd</td>\n",
       "      <td>{'activation': 'tanh', 'alpha': 0.05, 'hidden_...</td>\n",
       "      <td>0.763974</td>\n",
       "      <td>0.673637</td>\n",
       "      <td>0.581337</td>\n",
       "      <td>0.683241</td>\n",
       "      <td>0.577500</td>\n",
       "      <td>0.655938</td>\n",
       "      <td>0.069926</td>\n",
       "      <td>144</td>\n",
       "    </tr>\n",
       "  </tbody>\n",
       "</table>\n",
       "<p>144 rows × 19 columns</p>\n",
       "</div>"
      ],
      "text/plain": [
       "     mean_fit_time  std_fit_time  mean_score_time  std_score_time  \\\n",
       "79        3.821337      0.532401         0.008079        0.010830   \n",
       "11        7.688618      2.248379         0.007765        0.009080   \n",
       "57        4.328221      0.513115         0.002117        0.000477   \n",
       "85        3.083079      0.454499         0.001853        0.000652   \n",
       "107       1.950336      0.627194         0.001107        0.000204   \n",
       "..             ...           ...              ...             ...   \n",
       "28        1.319313      0.877090         0.001433        0.000390   \n",
       "66        1.067453      0.386870         0.000705        0.000402   \n",
       "96        0.822446      0.385007         0.001318        0.000412   \n",
       "70        1.034798      1.001015         0.002127        0.001277   \n",
       "62        1.167524      0.719378         0.001307        0.000405   \n",
       "\n",
       "    param_activation param_alpha param_hidden_layer_sizes param_learning_rate  \\\n",
       "79              relu      0.0001           (150, 100, 50)            adaptive   \n",
       "11              tanh      0.0001           (150, 100, 50)            adaptive   \n",
       "57              tanh        0.05                (120, 80)            adaptive   \n",
       "85              relu      0.0001                (120, 80)            constant   \n",
       "107             relu      0.0001                      100            adaptive   \n",
       "..               ...         ...                      ...                 ...   \n",
       "28              tanh      0.0001                      100            constant   \n",
       "66              tanh        0.05                      100            adaptive   \n",
       "96              relu      0.0001                      100            constant   \n",
       "70              tanh        0.05                      100            adaptive   \n",
       "62              tanh        0.05                      100            constant   \n",
       "\n",
       "    param_max_iter param_solver  \\\n",
       "79             600         adam   \n",
       "11            1800         adam   \n",
       "57            1200         adam   \n",
       "85             600         adam   \n",
       "107           1800         adam   \n",
       "..             ...          ...   \n",
       "28            1800          sgd   \n",
       "66             600          sgd   \n",
       "96             600          sgd   \n",
       "70            1800          sgd   \n",
       "62            1200          sgd   \n",
       "\n",
       "                                                params  split0_test_score  \\\n",
       "79   {'activation': 'relu', 'alpha': 0.0001, 'hidde...           0.826985   \n",
       "11   {'activation': 'tanh', 'alpha': 0.0001, 'hidde...           0.832200   \n",
       "57   {'activation': 'tanh', 'alpha': 0.05, 'hidden_...           0.818389   \n",
       "85   {'activation': 'relu', 'alpha': 0.0001, 'hidde...           0.824854   \n",
       "107  {'activation': 'relu', 'alpha': 0.0001, 'hidde...           0.816024   \n",
       "..                                                 ...                ...   \n",
       "28   {'activation': 'tanh', 'alpha': 0.0001, 'hidde...           0.770338   \n",
       "66   {'activation': 'tanh', 'alpha': 0.05, 'hidden_...           0.755849   \n",
       "96   {'activation': 'relu', 'alpha': 0.0001, 'hidde...           0.730873   \n",
       "70   {'activation': 'tanh', 'alpha': 0.05, 'hidden_...           0.754766   \n",
       "62   {'activation': 'tanh', 'alpha': 0.05, 'hidden_...           0.763974   \n",
       "\n",
       "     split1_test_score  split2_test_score  split3_test_score  \\\n",
       "79            0.674878           0.661588           0.657662   \n",
       "11            0.653600           0.673377           0.658731   \n",
       "57            0.678874           0.641489           0.675145   \n",
       "85            0.670544           0.652415           0.662980   \n",
       "107           0.682859           0.640411           0.674170   \n",
       "..                 ...                ...                ...   \n",
       "28            0.672990           0.612758           0.665282   \n",
       "66            0.671110           0.599540           0.692305   \n",
       "96            0.684727           0.573647           0.687744   \n",
       "70            0.659138           0.610683           0.682696   \n",
       "62            0.673637           0.581337           0.683241   \n",
       "\n",
       "     split4_test_score  mean_test_score  std_test_score  rank_test_score  \n",
       "79            0.624454         0.689113        0.070907                1  \n",
       "11            0.622362         0.688054        0.073967                2  \n",
       "57            0.619728         0.686725        0.069377                3  \n",
       "85            0.619151         0.685989        0.071618                4  \n",
       "107           0.615346         0.685762        0.069464                5  \n",
       "..                 ...              ...             ...              ...  \n",
       "28            0.577294         0.659732        0.065487              140  \n",
       "66            0.579581         0.659677        0.063994              141  \n",
       "96            0.619219         0.659242        0.055716              142  \n",
       "70            0.577397         0.656936        0.061164              143  \n",
       "62            0.577500         0.655938        0.069926              144  \n",
       "\n",
       "[144 rows x 19 columns]"
      ]
     },
     "execution_count": 229,
     "metadata": {},
     "output_type": "execute_result"
    }
   ],
   "source": [
    "grid_results_reg.sort_values('rank_test_score')"
   ]
  },
  {
   "cell_type": "code",
   "execution_count": 230,
   "metadata": {},
   "outputs": [],
   "source": [
    "def coder(classd):\n",
    "    if classd == 'benign':\n",
    "        return 0\n",
    "    elif classd == 'malignant':\n",
    "        return 1\n",
    "\n",
    "# applying the coder to the feature of interest\n",
    "dataset['classd'] = dataset['classd'].apply(coder)"
   ]
  },
  {
   "cell_type": "code",
   "execution_count": 231,
   "metadata": {},
   "outputs": [
    {
     "data": {
      "text/plain": [
       "Series([], dtype: int64)"
      ]
     },
     "execution_count": 231,
     "metadata": {},
     "output_type": "execute_result"
    }
   ],
   "source": [
    "dataset.groupby('classd').size()"
   ]
  },
  {
   "attachments": {},
   "cell_type": "markdown",
   "metadata": {},
   "source": [
    "## <a id='toc9_9_'></a>[Entrenamiento del mejor modelo](#toc0_)"
   ]
  },
  {
   "cell_type": "code",
   "execution_count": 232,
   "metadata": {},
   "outputs": [
    {
     "data": {
      "text/plain": [
       "MLPRegressor(hidden_layer_sizes=(120, 80), max_iter=600)"
      ]
     },
     "execution_count": 232,
     "metadata": {},
     "output_type": "execute_result"
    }
   ],
   "source": [
    "# Definición de un clasificador de perceptrones múltiples.\n",
    "# Usa los datos óptimos encontrados en la sintonización de hiperparámetros.\n",
    "mlp_reg_opt = MLPRegressor(\n",
    "    activation = 'relu',\n",
    "    alpha = 0.0001,\n",
    "    hidden_layer_sizes = (120, 80),\n",
    "    learning_rate = 'constant',\n",
    "    max_iter = 600,\n",
    "    solver = 'adam'\n",
    "    )\n",
    "\n",
    "# Entrenar el modelo\n",
    "mlp_reg_opt.fit(X_train_scaled, y_train)"
   ]
  },
  {
   "attachments": {},
   "cell_type": "markdown",
   "metadata": {},
   "source": [
    "## <a id='toc9_10_'></a>[Prueba del mejor modelo](#toc0_)"
   ]
  },
  {
   "cell_type": "code",
   "execution_count": 233,
   "metadata": {},
   "outputs": [
    {
     "data": {
      "text/plain": [
       "array([ 1.29219537,  1.69580459,  1.29219537,  3.04248831,  1.29219537,\n",
       "        1.29219537,  2.08886146,  5.6520992 ,  5.34279888,  3.04248831,\n",
       "        1.29219537,  7.08253947,  1.29219537,  1.29219537,  1.29219537,\n",
       "        8.03616632,  1.29219537,  7.91498074,  5.51274146,  3.91235861,\n",
       "        7.76477876,  1.29219537,  5.6520992 ,  1.29219537,  3.12624486,\n",
       "        2.17261801,  1.69580459,  9.46640627,  1.69580459,  3.99611516,\n",
       "        1.29219537,  1.69580459,  1.69580459,  3.51930173,  1.29219537,\n",
       "        2.17261801,  1.29219537,  9.56645822,  1.29219537,  6.46360716,\n",
       "        1.29219537,  1.29219537,  9.56645822,  1.29219537,  1.29219537,\n",
       "        2.17261801,  2.17261801,  4.91218164,  1.29219537,  5.26248752,\n",
       "        3.04248831,  1.29219537,  3.91235861,  1.29219537,  5.25904233,\n",
       "        1.29219537,  2.17261801,  4.47292858,  1.29219537,  1.29219537,\n",
       "        1.29219537,  1.29219537,  8.26528663,  2.17261801,  1.29219537,\n",
       "        1.29219537,  5.34279888,  6.29642573,  2.17261801,  1.29219537,\n",
       "        4.55668513,  1.29219537,  4.47292858,  1.69580459,  1.69580459,\n",
       "        2.08886146,  1.29219537,  4.7822289 ,  1.29219537,  1.29219537,\n",
       "        1.29219537,  1.29219537,  1.29219537,  2.17261801,  1.29219537,\n",
       "        7.16629602,  3.04248831,  1.61204804,  1.29219537,  1.29219537,\n",
       "        1.29219537,  1.29219537,  9.46640627,  2.08886146,  2.17261801,\n",
       "        2.56567489,  1.29219537,  1.29219537,  1.30274772,  1.69580459,\n",
       "        1.29219537,  2.17261801,  1.29219537,  2.17261801,  5.42655543,\n",
       "        1.29219537,  4.86598546,  2.00510491,  2.17261801,  3.96131593,\n",
       "        4.7822289 ,  1.69580459,  1.29219537,  1.29219537,  2.17261801,\n",
       "        5.8196123 ,  1.29219537,  1.69580459,  2.87497521,  1.29219537,\n",
       "        1.29219537,  4.31162181,  1.29219537,  1.29219537,  4.56187575,\n",
       "        3.82860206,  1.29219537,  2.17261801,  6.21266918,  5.42655543,\n",
       "        1.29219537,  1.29219537,  4.47292858,  1.29219537,  3.51930173,\n",
       "        1.29219537,  6.12891263,  3.91235861,  1.29219537,  1.29219537,\n",
       "        2.17261801,  2.17261801,  1.29219537,  2.17261801,  1.29219537,\n",
       "        9.81671216,  1.29219537,  6.21266918,  1.29219537,  6.29642573,\n",
       "        1.29219537,  5.42655543,  1.29219537,  8.36533858,  1.29219537,\n",
       "        8.90603662,  1.29219537,  1.29219537,  2.64943144,  1.29219537,\n",
       "        1.29219537,  7.16629602,  1.69580459,  3.91235861,  3.04248831,\n",
       "        1.29219537,  8.03616632,  1.29219537,  4.55668513,  2.95873176,\n",
       "        1.29219537,  1.29219537,  6.12891263,  4.38917203,  1.29219537,\n",
       "        1.29219537, 10.16701804,  7.08253947,  1.29219537,  1.69580459,\n",
       "        1.29219537,  1.29219537, 10.16701804,  1.29219537,  1.29219537,\n",
       "        2.17261801,  4.38917203,  1.69580459,  1.29219537,  1.61204804,\n",
       "        2.64943144,  1.29219537,  2.56567489,  2.64943144,  1.69580459,\n",
       "        1.69580459,  1.29219537,  1.29219537,  7.16421893,  7.06416699,\n",
       "        7.5593529 ,  8.03616632,  6.21266918,  5.42655543,  1.69580459,\n",
       "        1.29219537,  1.29219537,  1.69580459,  1.69580459,  1.29219537,\n",
       "        8.9658984 ,  7.16421893,  1.29219537,  1.29219537,  6.46360716,\n",
       "        7.16629602,  3.04248831,  1.29219537,  5.16243557,  1.29219537,\n",
       "        1.29219537,  2.17261801,  1.61204804,  3.60305828,  6.60572605,\n",
       "        6.29642573,  3.60305828,  1.29219537,  1.69580459,  1.29219537,\n",
       "        3.43554518,  1.29219537,  1.29219537,  6.21266918,  1.29219537,\n",
       "        1.29219537,  1.29219537,  1.69580459,  1.29219537,  1.69580459,\n",
       "       10.16701804,  1.29219537,  1.29219537,  4.47292858,  5.26248752,\n",
       "        1.29219537,  3.60305828,  4.38917203,  1.29219537,  2.17261801,\n",
       "        5.34279888,  1.29219537,  1.29219537,  1.29219537,  1.29219537,\n",
       "        2.17261801,  1.29219537,  2.17261801,  1.29219537,  5.34279888,\n",
       "        8.90603662,  2.17261801,  1.69580459,  1.29219537,  2.17261801,\n",
       "        5.34279888,  1.69580459,  4.7822289 ,  9.46640627,  1.69580459,\n",
       "        3.43554518,  3.43554518,  1.29219537,  3.99611516,  7.08253947,\n",
       "        2.17261801,  3.91235861,  4.86598546,  2.64943144,  7.16421893,\n",
       "        1.29219537,  3.60305828,  1.29219537,  2.56567489,  5.16243557,\n",
       "        1.29219537,  1.29219537,  1.29219537,  1.29219537,  2.17261801,\n",
       "        2.17261801,  2.64943144,  5.42655543,  8.03616632,  2.95873176,\n",
       "        7.16421893,  1.69580459,  3.43554518,  1.29219537,  4.06136788,\n",
       "        2.64943144,  2.17261801,  1.69580459, 10.16701804,  2.17261801,\n",
       "        1.30274772,  3.91235861,  5.6520992 ,  4.47292858,  2.56567489,\n",
       "        8.9658984 ,  6.81391305,  1.29219537,  7.16629602,  1.29219537,\n",
       "        1.29219537,  1.29219537,  1.29219537,  8.36533858,  1.29219537,\n",
       "        5.8196123 ,  1.29219537,  1.29219537,  5.73585575,  2.64943144,\n",
       "        1.29219537,  1.29219537,  8.9658984 ,  2.08886146,  2.17261801,\n",
       "        6.29642573,  2.17261801,  1.29219537,  1.29219537,  3.43554518,\n",
       "        1.29219537,  2.17261801,  6.21266918,  5.25904233,  2.08886146,\n",
       "        1.29219537,  4.86598546,  1.69580459,  1.29219537,  2.08886146,\n",
       "       10.16701804,  4.7822289 ,  7.06416699,  2.56567489,  6.21266918])"
      ]
     },
     "execution_count": 233,
     "metadata": {},
     "output_type": "execute_result"
    }
   ],
   "source": [
    "# Pasar el conjunto de datos que hemos preparado para las pruebas\n",
    "y_pred = mlp_reg.predict(X_test_scaled)\n",
    "y_pred"
   ]
  },
  {
   "attachments": {},
   "cell_type": "markdown",
   "metadata": {},
   "source": [
    "## <a id='toc9_11_'></a>[Evaluación del mejor modelo](#toc0_)"
   ]
  },
  {
   "cell_type": "code",
   "execution_count": 234,
   "metadata": {},
   "outputs": [
    {
     "name": "stdout",
     "output_type": "stream",
     "text": [
      "r2: 0.67\n",
      "Error cuadrático promedio: 3.18\n",
      "Varianza explicada: 0.67\n"
     ]
    }
   ],
   "source": [
    "# Prueba de r2. La mejor puntuación posible es 1.0 y puede ser negativa (porque el modelo puede ser arbitrariamente peor).\n",
    "print('r2: {:.2f}'.format(r2_score(y_test, y_pred)))\n",
    "\n",
    "# Error cuadrático promedio. La mejor puntuación posible es 0.0\n",
    "print('Error cuadrático promedio: {:.2f}'.format(mean_squared_error(y_test, y_pred)))\n",
    "\n",
    "# Puntuación de varianza explicada. La mejor puntuación posible es 1.0, los valores más bajos son peores.\n",
    "print('Varianza explicada: {:.2f}'.format(explained_variance_score(y_test, y_pred)))"
   ]
  },
  {
   "cell_type": "code",
   "execution_count": 235,
   "metadata": {},
   "outputs": [
    {
     "data": {
      "image/png": "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",
      "text/plain": [
       "<Figure size 640x480 with 1 Axes>"
      ]
     },
     "metadata": {},
     "output_type": "display_data"
    }
   ],
   "source": [
    "# Vea qué tan bien fue el entrenamiento del modelo\n",
    "plt.plot(mlp_reg_opt.loss_curve_)\n",
    "plt.title(\"Curva de Pérdida\", fontsize=14)\n",
    "plt.xlabel('Iteraciones')\n",
    "plt.ylabel('Costo')\n",
    "plt.show()"
   ]
  },
  {
   "cell_type": "code",
   "execution_count": 236,
   "metadata": {},
   "outputs": [
    {
     "data": {
      "image/png": "iVBORw0KGgoAAAANSUhEUgAAAjMAAAGwCAYAAABcnuQpAAAAOXRFWHRTb2Z0d2FyZQBNYXRwbG90bGliIHZlcnNpb24zLjUuMiwgaHR0cHM6Ly9tYXRwbG90bGliLm9yZy8qNh9FAAAACXBIWXMAAA9hAAAPYQGoP6dpAACQ+UlEQVR4nO2deXxTVfr/P+mSdE8LpbRlE2hBUVEQBARRQNxQUdFRcGZAlBlRQEF/oOMoOF+RxRXFbUaFWRQVFWUUFwRZHRSwiApCgULZS7H7kjTJ/f0Rbnpzc/fcm9ybPO/Xq68092zPec5zzj05q41hGAYEQRAEQRAWJSHaAhAEQRAEQYQDdWYIgiAIgrA01JkhCIIgCMLSUGeGIAiCIAhLQ50ZgiAIgiAsDXVmCIIgCIKwNNSZIQiCIAjC0iRFWwCj8fl8OHbsGDIzM2Gz2aItDkEQBEEQCmAYBnV1dSgsLERCgvTYS8x3Zo4dO4ZOnTpFWwyCIAiCIDRw+PBhdOzYUdJPzHdmMjMzAfiVkZWVFWVpCIIgCIJQQm1tLTp16hR4j0sR850ZdmopKyuLOjMEQRAEYTGULBGhBcAEQRAEQVga6swQBEEQBGFpqDNDEARBEISlifk1MwRBEET08Xq9aGlpibYYhIlITk5GYmKiLnFRZ4YgCIIwDIZhcOLECVRXV0dbFMKEZGdnIz8/P+xz4KgzQxAEQRgG25HJy8tDWloaHV5KAPB3chsbG1FRUQEAKCgoCCs+6swQBEEQhuD1egMdmbZt20ZbHMJkpKamAgAqKiqQl5cX1pQTLQAmCIIgDIFdI5OWlhZlSQizwtpGuOupqDNDEARBGApNLRFi6GUb1JkhCIIgCMLS0JoZgiCsTVMV0HAKaK4FUpxAei6QmqPcnWiFdBU+Pg/g9QCMF7AlAolJQEIMvGpNni/zSEIQBKGWmqPAJ1OAA2tbn3UfAdzwEuDsIO9OtEK6Ch+PG6guB9x1rc8cmYCzM5BkD/E+Z84cfPzxx9ixY0fkZNSCynxFA5pmIgjCmjRVhb58AWD/GmDlVKDuhLR7U1XkZDU7crqMQ11NmDABNpsNNpsNSUlJ6Ny5MyZPnoyqKhFd+DyhL3wAcNUBNeV+dytikXzRyAxBENak4VToy5dl/xqg8bS0e8MpmkJhkdOlCXRV0+hGZb0btc0tyEpNRm66Hc40Y0cFrr76aixZsgQejwe7du3CxIkTUV1djWXLloV69npCX/gsrjq/u4mmZRRjkXzRyAxBENakuVbGvSa88PGErC6jq6tj1U2YsqwEI55bj5te+RYjnl2PqctKcKy6ydB0HQ4H8vPz0bFjR1x55ZW47bbb8NVXXwXclyxZgnPOOQcpKSk4+7zeeGXp+0HhZ81dhB5DbkRa90vQrcc5eOyxx2S3IAfFefbZeOWVVwJubrcbU6ZMQUFBAVJSUnDWWWdh3rx5+maaD+MNzz1CRL87RRAEoYWULBl3Z3jh4wlZXUZPVzWNbsz6cCc2llYGPd9QWomHP9yJl8b2MXyEBgAOHDiAL774AsnJyQCAf/zjH5g9ezYWL16MPn36oGTrd5j053uQnpaK8b+7HgCQmZ6Opc8/gcL8dvjpWDMmTb4PmZmZmDlzpmAaIXGWlGDSpElIT0/H+PHj8eKLL2LlypV4//330blzZxw+fBiHDx82NuM2mYPs5NwjRFQ7Mxs2bMDTTz+N7du34/jx41ixYgVuvPHGgDvDMHjiiSfw97//HVVVVRgwYABefvllnHvuudETOkyEhkoBoLLejXpXC7LT7HB7fGh0ewL/17s8ug6rsjJw06t3eeBMTUa6Iwn1zR5VQ7lahn+l9GDUMLISObl+tOojEijVuR561qt8lehNVbj0dv4FqvvXhDgx3UfAltZW1B3dR/jDh4FWW6lpdKO6sQUNbg8a3F7kpCUjMyU5unYmoUu+rsKd7vF4ffD4GPh8DBISbEhKsCEpUXySoLLeHdKRYdlQWolT9S44khPBAPD5GCQl2JCQYINXRRpifPrpp8jIyIDX60VzczMAYP7Cp9Hc4sX//d//4dlnn8XNN98MAOjapRN27fgOr//nw0Bn5q8P3O2PyJGJs/qfhQf3HcB7770n2pkJibNrV+zatQuvv/46xo8fj/LychQXF2PIkCGw2Wzo0qWL6jypJjHJv9jXFTrVxNgz4bUlAl6fJv3qSVQ7Mw0NDbjgggtw5513YsyYMSHuCxcuxHPPPYelS5eiR48eePLJJzFy5Ejs2bMHmZmZUZA4PI5VNwX9wkizJ+KtCf3x8tp92F5ehRfH9sHCL/egpLw68P/mfacD4YcW52L+mN4ozE4NW4bth6qC0kizJ+LFsX2wZHOZqjT5edIShquHjfuUx6Ml31Jycv1o1UckUKpzPfSsR/kqCaMpXGoOWkYtQuKn9yPhQOtL2NN1OI4MmY9UrxM5oxYh8dNpSOSsB/F2Gw7vqEWwh7EGRKutHK9uwqHfGvHS2tKw6p3upOb4dy2tnBrcoWF3M53RldayZXF7fDhS1Yh6V+ui0UxHEjrkpMGeJPwyrG2WnpapbfLgmK0J9S4PEmw2dG6Thsp6l6o0xBg2bBheffVV1NTW48VXX8e+0lKMvHUCtuwqw+HDh3HXXXdh0qRJAf8ejwfOrIzA9w8+/RovvPUe9h08gvr6eng8HmRlCY9ynTp1SjxOp3+UccKECRg5ciR69uyJq6++Gtdddx2uvPJKVXlSTUISfM7OsFWXw8ZZO8PYM9Gc3gH7TzYi3Z6oSb96YmMYhola6hxsNlvQyAzDMCgsLMQDDzyAWbNmAQBcLhfat2+PBQsW4M9//rOieGtra+F0OlFTUyNqRJGgptGNKctKghqBKcOLUFJehc37Tov+z2doca7mYVWuDPw0tKQplCctYYzKrxo5AQT5MVomrSjVuR561qt85cKEk9ZXu04izVeHc7PcsHvr4U7MwOpyH57fVIHHruuFNbtOYkBhIkZ2Tghy//64F8/cekHY9QhQrteaRjdW/XwCn+48Fla9M5Sgc2ay/CMyZzoyWsqoubkZZWVl6Nq1K5KS7Sj/Lbgjw5LpSEKnNmkhv+49Xh/2narH1S9sFBX5iwcuhdvjAwDkZaag0e1RlYYYEyZMQHV1NT748KOA3Hf97nr06T8QYydMwvC+PfHcK2/gmuGXBsWZaGPQtXMnbNnyPwwZNhJPzJmNq66+Bk6nE++++y6effbZwA3i3K3ZJ0+eRH5+Pv7zn/9gwIABQbIkJiaia9euAPzvtM8//xxff/01li9fjiuuuAIffPCBojxpweP14UhVE9KTgZyUBIDxwsskoNbN4GS9B74zXQi1+mXh2khKSkqQm5r3t2nXzJSVleHEiRNBvU6Hw4HLLrsM3377rWhnxuVyweVyBb7X1ppjkZ/QUGmfTtlYvHaf5P98NpRWorLeramB48rAT0NLmnLDv0rDGJVfNXICCPJjtExaUapzPfSsV/nKhQknrTbpdtz1zzLO09ZFv3mZDnz9awW+/hWYK+CuRz0ClOu1st6NvExHUMfFdHaWmiO6a0lr2bJ4fIxgJwMA6lweeHwMkhJDwyQm2HBpca5oJyoxofU4/DR7IirqmlWlIQdX7numz8J9f7gVv/vDROTlF2Lf/gM46+4JSEkOjXTz9z+gS5cuePSvjwWeHTp0SDSd9u3bo0OHDjhw4ADuuOMOUX9ZWVm47bbbcNttt+GWW27B1Vdfjd9++w1t2rRRlzGFeHwMaptbUNsMOOzpOHjaJehPq371wrSdmRMnTgDwFzCX9u3bSxrEvHnz8MQTTxgqmxaEhkpdZ35NSP0vRJ3MsKsSGfhpaElTbvhXaRij8iuVJj9+/vCk0TJpRanO9dCzXuUrFyactKTyFIl6pCYdIXnNamdCaC1bFp9PehJAyN3nY+Bq8eKJG87F7JW/BHVoLi3OxVM3nY/qJnfgmdxEg5wMcmH6DxqC7j3OxhuLn8PkGbOw4PGHcVZBW4y+/jq4XC5s27YNVVVVmDFjBoqKilBeXo53330X/fv3x2effYYVK1ZIpjVnzhxMmzYNWVlZuOaaa0LifP7551FQUIALL7wQCQkJWL58OfLz85Gdna06X1ryb4R+9cK0nRkW/iVUDMNIXkz1yCOPYMaMGYHvtbW16NSpk2HyKSUrJTnkmYMzvyj2vxCZAnGplYGfhpY0hfKkJYxR+ZVKUy5+o2XSitK86KFnvcpXLkw4af3W4Bbw7ScS9UhNOkLymtXOhNBatiwJCdIXCgq5JyTY4GOARrcHj1/fCy0e/yhJTloyYAOyUpPxW2OrTuUuLZSTQUmYP0y6F48/NAWfbtyO2QsX4e03X8Ff//II0tPTcf755+OBBx4AAIwePRrTp0/HlClT4HK5MGrUKDz22GOYM2eOaFp333030tLS8PTTT2PmzJkhcWZkZGDBggUoLS1FYmIi+vfvj1WrViEhwbi1Ktz8G6FfvTDtOTP5+fkAWkdoWCoqKkJGa7g4HA5kZWUF/ZmB3Aw7hhbnBj0rOVyNwUVtJf/nM7Q4F7kZ2oaduTLw09CSplCetIQxKr9q5OT7MVomrSjVuR561qt85cKEk1ZFnUs0TxV1Lk2yyKHVVoTkNaudCaG1bFmSEmzIdAj/fs50JCFJ4EXIhvExQJPbC4/Ph5TkBGSmJCPRZkOj24sMTpz870rSEGPp0qX4+OOPQ+S+9qZbsW3/SeQXdsRtt4/Ftu3b4XK58Ntvv2H9+vW46aabAn4XLlyIyspK1NXV4d1338UDDzwQWC8D+Edi+FcZjBs3DiUlJYJxTpo0CSUlJaivr0dNTQ2+/vpr9OnTR3GetMDNv5761RvTdma6du2K/Px8rF69OvDM7XZj/fr1uOSSS6IomTacaXbMH9M7qDF4a1MZpg4vxqXFuXhrUxnuHNwVg4vaBv3PZWhxLhaM6a15Dp0rAz8N9vsQFWkK5UlLGK4e9MyvGjn5frToIxIo1bkeenam2bFgTG+8cnNXrJvQAd/+IQvr7uyAV27uioU62oTWcM40Oy7v0Q5ThxeH1JVLi3MxrEc7TbLIodVWhOQ1q50JobVsWZISE9AhJy2kQ8PuNBJaOCoWprnFiw45qWhu8SI3wxF4wVbWu4K+K0lDDi1yxxLc/BuhX72I6m6m+vp67Nt3ZtFrnz547rnnMGzYMLRp0wadO3fGggULMG/ePCxZsgTFxcV46qmnsG7dOlVbs82ym4mFPaOhrrkFmSnJgV8zlfVuNLha4Ey1w+31ocntCfzf4PIE/Op5zgw3vYYzZ9mwZ2Vw5VN6pki4YVg9qIlHS76l4uf60aqPSKBU52HrueYomE+mwMbZ2sx0HwGbzOWDWmxCazjuuS2Nbi+cqcnIy3QEwmmVRY2samyFL28255wZs9mZEGr0KbRTRe05M1JhPF4fvD4GDACGAXyMvufMKJEhXgjkn2GQaLMFzvUJVxd67WaKamdm3bp1GDZsWMjz8ePHY+nSpYFD815//fWgQ/POO+88xWmYrTNDEJahqQpYPlH4zp7uI4Bb3oz6fT2EuZF6UREEECNbsy+//HLJ1dE2mw1z5syRXDBFEIRBWODyQYIgCMDEa2YIgogyJr98kCAIgoU6MwRBCGPiywcJgiC4UGeGIAhh2MsHhdDhokaCIAi9oM4MQRDCsJcP8js0vMsHCYIgoo3pTwAmCCKKODv4dy2JXD5IEER4cC+bBFovuPz44491jzuWoZGZeKSpCqjcCxzZBlSW+r8rcSPik9QcILcH0LGf/5M6MkQcMGHCBNhsNthsNiQnJ6Nbt2546KGH0NDQYGi6ixYtwtKlS3WJ66GHHsKaNWt0icvs0MhMvFFzFPhkSvCW2+4jgBsWA2BE3KQPSCMIgohFrr76aixZsgQtLS3YuHEj7r77bjQ0NODVV18N8tfS0oLkZH3u0XI6nbrEA/jvcsrIyNAtPjNDIzPxRFNVaGcF8J8Zsm+1uNvKqTRCQxBEdInCqLHD4UB+fj46deqEcePG4Y477sDHH3+MOXPm4MILL8Rbb72Fbt26weFwgGEY1NTU4E9/+hPy8vKQlZWF4cOH48cffwyKc/78+Wjfvj0yMzNx1113obm5Och9woQJuPHGGwPffT4fFixYgKKiIjgcDnTu3Blz584NuB85cgS333472rRpg/T0dPTr1w/fffcdAATk5Mb1t7/9DR07doTD4cCFF16IL774IuB+8OBB2Gw2fPTRRxg2bBjS0tJwwQUX4H//+1+QjN9++y2GDh2K1NRUdOrUCdOmTQsasXrllVdQXFyMlJQUtG/fHrfccovmMlAKdWbiCalD0DLbyx+QRhAEEQ1qjvpPo17cH3hjBLC4H/DBXf7nESQ1NRUtLS0AgH379uH999/Hhx9+GFiTMmrUKJw4cQKrVq3C9u3b0bdvX4wYMQK//fYbAOD999/H7NmzMXfuXGzbtg0FBQV45ZVXJNN85JFHsGDBAjz22GPYtWsX3nnnncBly/X19bjssstw7NgxrFy5Ej/++CNmzpwJn88nGNeiRYvw7LPP4plnnsHOnTtx1VVX4YYbbkBpaWmQv0cffRQPPfQQduzYgR49emDs2LHweDwAgJ9++glXXXUVbr75ZuzcuRPvvfceNm3ahClTpgAAtm3bhmnTpuFvf/sb9uzZgy+++AJDhw7VpnAV0DST1Wmq4izOdALpueJrGqQOOfO4pNOJlwPS1OiTIAhj8XmkR5RXTo3YtRrff/893nnnHYwY4d/d53a78e9//xvt2vmPKFi7di1++uknVFRUwOFwAACeeeYZfPzxx/jggw/wpz/9CS+88AImTpyIu+++GwDw5JNP4uuvvw4ZnWGpq6vDokWLsHjxYowfPx4A0L17dwwZMgQA8M477+DUqVPYunUr2rRpAwAoKioSzcMzzzyDWbNm4fbbbwcALFiwAN988w1eeOEFvPzyywF/Dz30EEaNGgUAeOKJJ3Duuedi3759OPvss/H0009j3LhxeOCBBwAAxcXFePHFF3HZZZfh1VdfRXl5OdLT03HdddchMzMTXbp0Mfxmb4A6M9ZGdP2LyBoXqUPOkhzSacXDAWlq9UkQhHF43EB1OeBpitq1Gp9++ikyMjLg8XjQ0tKC0aNH46WXXsIrr7yCLl26BDoyALB9+3bU19ejbdvgG9Cbmpqwf/9+AMDu3btxzz33BLkPGjQI33zzjWD6u3fvhsvlCnSg+OzYsQN9+vQJdGSkqK2txbFjxzB48OCg54MHDw6ZCuvdu3fg/4KCAgBARUUFzj77bGzfvh379u3D22+/HfDDMAx8Ph/KysowcuRIdOnSBd26dcPVV1+Nq6++GjfddBPS0tJkZQwH6sxYFS2/VthD0PYLrG6vOynuFg8HpJnk1x9BEPCPyFSXA+46oKVJ2q+Bo8bDhg3Dq6++iuTkZBQWFgYt8k1PTw/y6/P5UFBQgHXr1oXEk52drSn91NTUsNyFsNlsQd8Zhgl5xs0n68ZOXfl8Pvz5z3/GtGnTQuLu3Lkz7HY7fvjhB6xbtw5fffUVHn/8ccyZMwdbt27VrAcl0JoZq6LkEkA+UoegFY2M7wPStOiTIAhj8Hr8HRkAcGRK+zVw1Dg9PR1FRUXo0qWL7G6lvn374sSJE0hKSkJRUVHQX25uLgDgnHPOwZYtW4LC8b9zKS4uRmpqquj26t69e2PHjh2BNTlSZGVlobCwEJs2bQp6/u233+Kcc86RDc/St29f/PLLLyF5LCoqgt1uBwAkJSXhiiuuwMKFC7Fz504cPHgQa9eKtK86QSMzVkXrJYByh6DF6wFpdKkiQZgHxtv6f6Id6DZc+MeGiUaNr7jiCgwaNAg33ngjFixYgJ49e+LYsWNYtWoVbrzxRvTr1w/3338/xo8fj379+mHIkCF4++238csvv6Bbt26CcaakpGDWrFmYOXMm7HY7Bg8ejFOnTuGXX37BXXfdhbFjx+Kpp57CjTfeiHnz5qGgoAAlJSUoLCzEoEGDQuL7f//v/2H27Nno3r07LrzwQixZsgQ7duwImjKSY9asWRg4cCDuu+8+TJo0Cenp6di9ezdWr16Nl156CZ9++ikOHDiAoUOHIicnB6tWrYLP50PPnj0161YJ1JmxKuFcApiaI95BkXKLZehSRYIwD7bE1v89zcC1C4FVM4XXs5mkvbLZbFi1ahUeffRRTJw4EadOnUJ+fj6GDh0a2H102223Yf/+/Zg1axaam5sxZswYTJ48GV9++aVovI899hiSkpLw+OOP49ixYygoKAisu7Hb7fjqq6/w4IMP4tprr4XH40GvXr2CFvNymTZtGmpra/Hggw+ioqICvXr1wsqVK1FcXKw4n71798b69evx6KOP4tJLLwXDMOjevTtuu+02AP4ptY8++ghz5sxBc3MziouLsWzZMpx77rmK09CCjWEYxtAUokxtbS2cTidqamqQlRVDL6SmKv/WRLE1LrTGQx2kT4LQnebmZpSVlaFr165ISUlRHtDnAaoOAq4zU022BCApBfC6AXcDkNoGyIiTUeMYR8pG1Ly/ac2MVaFLAPWF9EkQ5iEhCXB2bl0vw/iAlkYgORUo7Au0o2s1iGBomsnK0CWA+kL6JAjzkGQHcs7yLwZmvP6pp8Qkf0eHIHiQVVideF3jYhSkT4IwDwnUeSGUQdNMBEEQBEFYGurMEARBEIYS4/tMiDDQyzaoM0MQBEEYAnvQXGNjY5QlIcwKaxtyhxLKQZORBEEQhCEkJiYiOzsbFRUVAIC0tLSQo/OJ+IRhGDQ2NqKiogLZ2dlITEyUDyQBdWYIgiAIw8jPzweAQIeGILhkZ2cHbCQcqDNDEARBGIbNZkNBQQHy8vLQ0tISbXEIE5GcnBz2iAwLdWYIgiAIw0lMTNTtxUUQfKgzQ1iGmkY3KuvdqG1uQVZqMnLT7XCm2aMtFnEGKh8i1ogXm46FfFJnhrAEx6qbMOvDndhYWhl4NrQ4F/PH9EZhdmoUJSMAKh9VNFVxTpl2Aum5dFCjCTHUpo2yAQ3xxkrdpYsmCdNT0+jGlGUlQZWNZWhxLl4a28dyvyJiCSofFdQcBT6ZInz7s7ND9OQigjDUpo2yAQ3xmr3u0kWTRExRWe8WrGwAsKG0EpX17ghLRHDhl0+aPRGPDi/AugkdMH+gG2l1Zf5fjPFOU1Xoywbw39S+cmr86KipCqjcCxzZBlSWmjLfhrU5RtmAxnhjqW2laSbC9NQ2S++AqJNxJ4yFWz5p9kQsH9sZZ3//FyR++02rJxp98A//8182LPvX+N1jfbrJIiNThrU5RtmAxnhjqW2lkRnC9GSlSJ8MmSnjThgLt3ymD8nzd2TKvgn2FG+jD0I014bnbnUsNDJlWJtjlA1ojDeW2lbqzBCmJzfDjqHFuYJuQ4tzkZtB6zGiCbd8RnZOCO3IsLC/EOOVFJk1e3LuVkfJ6IFJMKzNMcoGNMYbS20rdWYI0+NMs2P+mN4hlW5ocS4WjOlNi0ujDLd87N46ac+xPvogRXo7/5SKEN1H+N1jGQuNTBnW5hhlAxrjjaW2lXYzEZaBPQuhrrkFmSnJyM2w3lkIsUxNoxuptQdgf22AuKcpW4HcHpETymzUHPVPqexf0/rMhGtGDKFyL7C4v7i7CW3DkDbHKBsII16ztq1q3t+0AJiwDM40c1QwQhhnmh2wtfc3oNwGlSUeRh/kcHYAbnmTcxZIll8nsb7wF2gdPbCQbRjS5hhlA2HEGwttK43MEAShL/E8+kBIQ7ZBqEDN+5s6MwRB6E/QSaRxNPpAyEO2QSiEppkIgoguqTn0giKEIdsgDIB2MxEEQRAEYWmoM0MQBEEQhKWhzgxBEARBEJaGOjMEQRAEQVga6swQBEEQBGFpqDNDEARBEISloc4MQRAEQRCWhjozBEEQBEFYGurMEARBEARhaagzQxAEQRCEpaHrDAiC0IegO3ecQHouHVtPEOFAdUox1JkhCCJ8ao4Cn0wBDqxtfUa3IROEdqhOqYKmmQiCCI+mqtBGFwD2rwFWTvW7EwShHKpTqqHODEEQ4dFwKrTRZdm/xu9OEIRyqE6phqaZiOhAc8GxQ3NteO4EQQRDdUo11JkhIg/NBccWKVnhuRMEEQzVKdXQNBMRWWguOPZIb+fvjArRfYTfnSAI5VCdUg11ZojIQnPBsUdqjn9Ujd/4sqNtNH1IEOqgOqUammYiIgvNBccmzg7ALW9y1kFl+X89UqNLENqgOqUK6swQkYXmgmOX1BxqaAlCT6hOKYammYjIQnPBBEEQhM5QZ4aILDQXTBAEQegMTTOZgXg7c4XmggkxrFgXrCgzoQwqW8tAnZloE69nrsTBXHBNoxuV9W7UNrcgKzUZuel2ONPs0RbLvCioC6bTac1RMJ9MgY0jM9N9BGwRrr+m04sO1DS6Ud3Ygga3Bw1uL7JTk5GX6dCcL7U68lYdRsJ/pwWVLbqPgPe6RTjkyUFNk3ZdR6q8hNIBEFbaZrU1G8MwTLSFEMPj8WDOnDl4++23ceLECRQUFGDChAn461//ioQEZTNktbW1cDqdqKmpQVaWyRaXNlUByycKb1XuPsI/ehHjL/xY5Vh1E2Z9uBMbSysDz4YW52L+mN4ozE6NomQmRUFdOOZKMZdOm6rALJ8Y/LI7A9N9BGwRqr+xaGvHq5tw6LdGvLS2FJv3nQ48v7Q4Fws05EutjuqrTyF15SQkHvgmxM3bbTjeyn8Mc9cel41HD1m0wk8nzZ6Ityb0x8tr92HjPm1pR9rW1Ly/Tb1mZsGCBXjttdewePFi7N69GwsXLsTTTz+Nl156Kdqi6QOduRKT1DS6Qyo8AGworcTDH+5ETaM7SpKZGJm64K2rMJ1OvXUVgh0ZALCdkdloYtHWahrdWLf3VEhHBgA2asiXWh3VNLpRf/q4YEcGABIPrMXIzq2vTjW6jlR5CaUzcUhXvLS2NKgjoyZts9uaqaeZ/ve//2H06NEYNWoUAOCss87CsmXLsG3bNtEwLpcLLpcr8L221sTnlvDPVLGnAwMnAx37Ax6X/6+pikZnLEZlvTukwrNsKK1EZb3bFMOypkLmfCFfc63pdOprqkGilHtzraS7HsSirVXWu5GX6QjpyLCozZdaHVXWu5HaXCMZp91br0mmSJWXUDp9OmVj8dp9mtM2u62ZemRmyJAhWLNmDfbu3QsA+PHHH7Fp0yZce+21omHmzZsHp9MZ+OvUqVOkxFUP90wVezow5k3gyDbgnduA9/8IvDYE+OAu/1oCwjLUNrdIutfJuMclMucLeZMzJd2joVOvPTyZ9SAWba22uQUuj0/Sj5p8qdVRbXML3InSZedOzNAkU6TKSyidcHVqdlszdWdm1qxZGDt2LM4++2wkJyejT58+eOCBBzB27FjRMI888ghqamoCf4cPH46gxCrhnrkycDLw3WvAgXXBfujOIsuRlZIs6Z4p4x6XyJw/1GxvIxk8GjpttreBp+twQTdP1+GyMutBLNpaVkoyHEnSryY1+VKro6yUZKwu90mW7ery0I6BEpkiVV5C6YSrU7Pbmqk7M++99x7+85//4J133sEPP/yAf/7zn3jmmWfwz3/+UzSMw+FAVlZW0J9p4Z650rF/aEeGhdbPWIrcDDuGFucKug0tzkVuhrWG/SOCzPlDttRs0+nUlpqNo0MXhLz0PF2H4+jQBbClZhsuQyzaWm6GHRV1LgwuaivorjZfanWUm2HH98e92HPx3JCy9XYbjj0Xz8Xzm4LXQymVKVLlJZROyeHqsHRqdlsz9W6mTp064eGHH8Z9990XePbkk0/iP//5D3799VdFcZh6NxNLUxVwag/w1lXifu5eA3TsFzmZiLA4Vt2Ehz/ciQ28Vf8LxvRGgUV3mESEoHM9gs8fMqNOj1c3oWRvGXpluWH31sOdmIFdtXb07dEV+RGSyYx6CRep3UwLNeRLrY6OVTdh9ic/4+KCRIzsnAC7tx6JqU6kZrfHg/89hNW7KxTFo4csWuGnE9jN9M2+kN1IStOOtK2peX+bujPTtm1bPPnkk5g8eXLg2bx587BkyZLAOho5LNGZAYDKvcDi/uLuU7YCuT0iJw8RNux5DHXNLchMSUZuhjnOY7AyZtSpGWQygwx6wz1nptHthVOnc2aU6kjMvx66jlR5CaUDIKy0I2lrat7fpt7NdP3112Pu3Lno3Lkzzj33XJSUlOC5557DxIkToy2a/rBrBvav8X/n7mwCAMZHO5sshjPN+i8Us2FGnZpBJjPIoDd650ltfGL+9ZArUuUllQe944w2ph6Zqaurw2OPPYYVK1agoqIChYWFGDt2LB5//HHY7cqUaZmRGcC/a2nlVODwFv/OJv6C4Hg4GZggCIIgEEPTTHpgqc4M4B99aaoCPp0BCB3aRCcDEwRBEHFAzJwAHJek5gA+j3BHBqCdTQRBEATBgzozZkTmNFRZd4IgCIKII6gzY0ZkTkOVdScIgiCIOII6M2ZE5jRUpLeLrDwEQRAEYWKoM2NGZE5DpcW/BEEQBNGKqc+ZiWucHfy7lkROQyUIwgQEnVjsBNJzqY4SRBSgzoyZSc2hhpEgzErNUeCTKcCBta3P6CwogogKNM1EEAShlqaq0I4MQLfcE0SUoM4MQRCEWhpOhXZkWOgsKIKIONSZIQiCUAudBUUQpoI6MwRBEGqhs6AIwlRQZ4YgCEItdBYUQZgK6swQBEGohc6CIghTQVuzCYIgtEBnQRGEaaDODEEQhFboLCiCMAU0zUQQBEEQhKWhzgxBEARBEJaGOjMEQRAEQVga6swQBEEQBGFpaAEwET/QDcfmwcploYfsQnEA1tWJ2TDCvoy0WSvXB5NAnRkiPqAbjs2DlctCD9n5cdjTgbHvAxuftaZOzIYR9mWkzVq5PpgImmYiYh+64dg8WLks9JBdKI6Bk4GNT1tTJ2bDCPsy0matXB9MBo3MRBoaTow8Sm44pjKIDEaVRSTqlR6yC8XRsT+w4Znw4o1X+OXu8+pvX0a2H9Q26YamzkxDQwPWr1+P8vJyuN3uILdp06bpIlhMQsOJ0YFuODYPRpRFpOoVVzZ7un9EpWN/wOMCklIAn09dHCwel/owhHC5j3tPOowWXRrZfli1bTLhj3LVnZmSkhJce+21aGxsRENDA9q0aYPKykqkpaUhLy+POjNiyA0n3vJm1I0hZqEbjs2D3mURyXrFymZPB8a8CXz3WvCISvfhwA2LpTtQQvlLcihLl2hFrNzl0KJLI9sPK7ZNJv1RrnrNzPTp03H99dfjt99+Q2pqKrZs2YJDhw7hoosuwjPPiAyVEsqGEyWoaXRjf0U9SsqrsP9UPWoa3ZL+CQ4muuFYazkqCWe0jbDx/3i4CodON6D0ZJ36tPQuizDrlSpY2QdO9ndkDqzjpbdWfp2DUP6PbAW6XS7sPwz75NrDgVP1OFnbHPU2RDcbFSt3A3TZbG8Dxqj2w0RtkyJMvMZH9cjMjh078PrrryMxMRGJiYlwuVzo1q0bFi5ciPHjx+Pmm282Qk7rE8Zw4rHqJsz6cCc2llYGng0tzsX8Mb1RmJ2ql4SxC3vD8cqp/krHEuEbjrWWo5JwRtsIG//2Q1V4cWwfLPxyDzbvO60+Lb3LIpLD9Kzsp/drX+MilP8tr/p3M9kSdbNPrj2k2RPx4tg+WLK5TFuZ6YSuNipWrlte9Y+aIUF45EClLo9VN+HxT8ow/eIn0dPHIKks/DiDMEnbpBgTr/GxMQzDqAnQrl07bN68GT169EDPnj3x4osv4qqrrsKvv/6Kvn37orGx0ShZNVFbWwun04mamhpkZUVxyK5yL7C4v7j7lK1Abo+QxzWNbkxZVhLUALAMLc7FS2P7wJlm11PS2CVonjeyNxxrLUcl4QAYaiNcGaYML0JJeVXQS1FTWnqVhcZ6FRaHvwfeHCnufvcaoGM/6TiE8g/oohO+zehWZmGgezsmVe72dOCeTYDPE5YuuTKn2RMxfUgeRnZOgN1bj4SULGS3K0RKVq6qOEWJYtukiiPbgDdERpIAZbavAjXvb9UjM3369MG2bdvQo0cPDBs2DI8//jgqKyvx73//G+eff75moWMedjiR2/tmkRhOrKx3CzYAALChtBKV9W7qzCglijccay1HJeEAGGojXBn6dMrG4rX7wk9Lr7LQWK/CIjVb2l3JOgex/OugE77N6FZmOsoUtgxS5d5poC72xZW50e3F3LXHMTfgWoM1M7qhu16/j61y+7qJ1/ioXjPz1FNPoaCgAADwf//3f2jbti0mT56MiooK/P3vf9ddwJiBHU7kz4/KDCfWNrdIRlsn406YA63lqCSc0TbCjd/lkd6xE3F71FivwsLk6xz49mCGMtPdRiNQ7tT2CmBi21c9MtOvX+sQUrt27bBq1SpdBYppnB38uytUDCdmpSRLRpkp406YA63lqEf5h2sjXBkcSdK/f6JijxrqVViYfJ0D32bMUGaGtGMGlzu1vQKY2Pbp0LxIo3I4MTfDjqHFudggMtecm0FTTFZAazkqDWekjXBlKDlcjcFFbUXXX0TNHiM9TB/pDpQK+DZjhjIzrB0zsNyp7RXBpLavaAFwnz59YLPZFEX4ww8/hC2UnphmAXAYHKtuwsMf7gyqVEOLc7FgTG8U0G4my6C1HJWEM9pG2Pi3ndnNJLQzhuzRPHDtgd3NtHRzGTZFscys2I4ZKrMJD54zG2re34o6M0888YTixGfPnq3YbySIhc4M4F9ZX1nvRl1zCzJTkpGbYaeFvxZEazkqCWe0jbDxN7ha4Ey1w+31ocHlIXs0KVx7yEpNRrojCfXNnqi2IVZsxwyR2aQHz5kN3TszViZWOjMEQRBEDNBUBSyfKHxeS/cRdBo8BzXvb7o1myAIgiAiRSRPrY4jVC8ATkhIkFw/4/V6wxKIIAiCIGIWq14uaXJUd2ZWrFgR9L2lpQUlJSX45z//qWptDUEQBEHEHSY+eM7KqO7MjB49OuTZLbfcgnPPPRfvvfce7rrrLl0EIwiCIIiYIxqnVscBuq2ZGTBgAL7++mu9oiMIgiCkaKry31F0ZBtQWRrVG4sJFUTj1Oo4QJdD85qamvDSSy+hY8eOekRHEARBSEFbe62NSQ+eszKqOzM5OTlBC4AZhkFdXR3S0tLwn//8R1fhCIIgCB5NVaEdGcA/bbFyKm3ttQpWuVzSIqjuzDz//PNBnZmEhAS0a9cOAwYMQE4OFQxBEIShKNnaSy9JIs5Q3ZmZMGGCAWIQBEEQiqCtvQQRgqLOzM6dOxVH2Lt3b83CEARBEDLQ1l6CCEFRZ+bCCy+EzWaD3M0HNpuNDs2zGnTZGUFEHzX1kLb2EkQIijozZWVlRstBRAPaEUEQ0UdtPWS39q6cGtyhoa29RBxDF03GK3TZGUFEn3DqYdBoDm3tJWIPwy+a/Pe//43BgwejsLAQhw4dAgC88MIL+OSTT7RER0QDuuyMIKJPOPUwNQfI7QF07Of/pI4MEcfIdma+/PJL1NTUBL6/+uqrmDFjBq699lpUV1cH1shkZ2fjhRdeMExQQmdoRwRBRB+qhwShC7KdmRMnTmDw4ME4cuQIAOCll17CP/7xDzz66KNITEwM+OvXrx9++ukn4yQl9IV2RBBE9KF6SBC6ILsAePz48cjMzMTVV1+Nn3/+GWVlZejTp0+IP4fDgYaGBkOEJAzArDsiaHeVNaBy0odw6yGVAyFFHNmHot1MN998c6AD07VrV+zYsQNdunQJ8vP555+jV69e+ktIGIMZd0TQ7iprQOWkH+HUQyoHQoo4sw/Vu5mWLFmCxx57DM8++yzuuusuvPHGG9i/fz/mzZuHN954A7fffrtRsmqCdjPJYJYdEbS7yhpQORmD2npI5UBIESP2oeb9rfo6gzvvvBMejwczZ85EY2Mjxo0bhw4dOmDRokWm68gQCjDLZWd030z4GD2k3FQF1B6jchIjHP2rrYda6kscTTnEPWrsIxy7MJFNqe7MAMCkSZMwadIkVFZWwufzIS8vT2+5iHiDdnWEh9FDymz8/SZI+4vXcor0kL7a+hJnUw5xj1L7CMcuTGZTqs+ZKSsrQ2lpKQAgNzc30JEpLS3FwYMHdRWOiCNoV4d2mqpCGxXA/wts5VS/u17xJzmk/cZjORmtfyHU1JdoyEdEFyX2EY5dmNCmVHdmJkyYgG+//Tbk+XfffUc3ahPaYXd1CEH3zUij9uC1piqgci9wZBtQWSrf8HDjP7IV6Ha5sL9IlJNa2SNBNA6gVFNf6IDM+EOJfYRjFya0KdWdmZKSEgwePDjk+cCBA7Fjxw49ZCLiEXZXB78C0n0z8qiZcqg56l8YuLg/8MYIYHE/4IO7/M+VhN/yKjDgntAOTSTKSYvskSAaU6Rq6gtN4cYfSuwjHLswoU2pXjNjs9lQV1cX8rympoZuzCbCw9nBv8reDLurrITSKQe5oWGxHQ7c+N0NwId3AQMn+/88LqBtEZBVaGw5aZU9EkRrilRpfaEp3PhEzj7CsQsT2pTqkZlLL70U8+bNC+q4eL1ezJs3D0OGDNFVOCIOoftm1KN0ykHr0DA/fncDsOEZ4J3bgO3/NL4jA5hyWDtANKdIldQXmsKNX6TsIxy7MKFNqe7MLFy4EGvXrkXPnj1x55134s4770TPnj2xYcMGPP3000bISBCEFEqnHLQODZthCtCEw9oBzKAfKcwuHxEdwrELE9qU6kPzAODYsWNYvHgxfvzxR6SmpqJ3796YMmUK2rRpo7uAR48exaxZs/D555+jqakJPXr0wJtvvomLLrpIUfhoHppX0+hGZb0btc0tyEpNRm66Hc40u2HhzIaWfMRK3qOCzMFr3oo9SHzlYvHwU7b6f71pjN9QKvf618qIISc7j3DsTDRsmPoxvL4okI8bnzM1GemOJNQ3e0xXH83SThgth1T8Qm4A1MsTjt0a3CYYemgeABQWFuKpp57SJJwaqqqqMHjwYAwbNgyff/458vLysH//fmRnZxuedrgcq27CrA93YmNpZeDZ0OJczB/TG4XZqbqHMxta8hEreY8aEgevHatuwo6DXlzZdTiSykROBZUbGo7mAYs63iUWjp1Jh9Wun4jUF5ny48aXZk/Ei2P7YMnmMmzed1qxTJHALO2E0XKIxb9gTG8wQJBbmj0Rb03oj5fX7sPGfSrlCadem+XQVWgcmYkUDz/8MDZv3oyNGzdqjiMaIzM1jW5MWVYSZIQsQ4tz8dLYPoK9Za3hzIaWfMRK3s0Iq9vth6qwfGxn9Pz+0aAODdN9BGxWODyt5qj4HUYKZQ/HzoyyUTPUF358U4YXoaS8KqgjE078emGWdsJoOaTin3fz+Vi183hQp8Ws5RUuho/MRIqVK1fiqquuwq233or169ejQ4cOuPfeezFp0iTRMC6XCy6XK/C9tjbyc+mV9W5BIwSADaWVqKx3CxqW1nBmQ0s+YiXvZoSr21uXlWP6kMcwcsBs2L31cCdmILtdIbKdFjjFW4fdbuHYmVE2aob6wo+vT6dsLF67T7f49cIs7YTRckjFn5fpCOrIAOYtr0iiegFwJDlw4ABeffVVFBcX48svv8Q999yDadOm4V//+pdomHnz5sHpdAb+OnXqFEGJ/dQ2t0i614m4aw1nNrTkI1bybka4um10ezF37XFcvvQoLvl3DS5fehQHG5KjKJ1KwtztFo6dGWWjZqgv/PhcHp+u8euFWdoJo+WQil+obMxaXpHE1J0Zn8+Hvn374qmnnkKfPn3w5z//GZMmTcKrr74qGuaRRx5BTU1N4O/w4cMRlNhPVor0yyFTxF1rOLOhJR+xknczQrptJRxdGKVHM9QXfnyOJOlXQ7Rsxiy2bLQcUvELlY1ZyyuSaOrMeDwefP3113j99dcDB+gdO3YM9fX1ugpXUFCAXr16BT0755xzUF5eLhrG4XAgKysr6C/S5GbYMbQ4V9BtaHEucjOEh/u0hjMbWvIRK3nXjIHH9Me9bjmEowuj9GiG+sKPr+RwNQYXtdUtfr0wiy0bLQc//jR7Ih4dXoB1EzpgoOMgvvtTZzw6vABp9kQA5i2vSKK6M3Po0CGcf/75GD16NO677z6cOuU/rGrhwoV46KGHdBVu8ODB2LNnT9CzvXv3okuXLrqmozfONDvmj+kdYuzsSnSxuUut4cyGlnzESt41YfAx/XGtWx7h6MIoPZqhvvDje2tTGe4c3BVDeC/IaNuMWWzZaDm48afZE7F8bGdMPP43nPXuZUj/15Vo/68hmHji/7B8bGf/TqZNZZg6vBiXxnEdV72b6cYbb0RmZibefPNNtG3bFj/++CO6deuG9evX4+677w7cqK0HW7duxSWXXIInnngCv/vd7/D9999j0qRJ+Pvf/4477rhDURxmOGemrrkFmSnJyM1Qd86M2nBmQ0s+YiXvimmq8ndkhE637T5C12P64063EoSjC6P0aIb6wo0vi3POjNlsxiy2bLQcNY1uME3VcH72Z9gE2gim+wicuvIV1NkyAqMvZtCLXqh5f6vuzOTm5mLz5s3o2bMnMjMzA52ZgwcPolevXmhsbAxLeD6ffvopHnnkEZSWlqJr166YMWOG5G4mPtHszBCELDofBkcQRIwh1EbY0/13o3XsD6RkA2ltgfRc05z5oheGbs32+XyCF0oeOXIEmZmZaqOT5brrrsN1112ne7wEYQrMfEw/QRDRh98G2NOBMW8C373mvyONReWZS7GG6jUzI0eOxAsvvBD4brPZUF9fj9mzZ+Paa6/VUzaCiH1MePssQRAmgt8GDJzs78gcWBf8nL1BXsfNA1ZC9cjM888/j2HDhqFXr15obm7GuHHjUFpaitzcXCxbtswIGa1L0L0VzvCGAfWMizAPOh7TTxCESQmn/ea3ER37B4/IcGFvkI/Dd4PqzkxhYSF27NiBZcuW4YcffoDP58Ndd92FO+64A6mpdH9OgJqjwCdTghd2ah0G1DMuwlywt8+KHdMfh40SQcQU4bbf/DbC45L2H6dT06a+m0kPorIAWM8dKhHc7UJEkWjeSE0QhDHo/S5oOOXvzLw2RNxfDG0a0H0B8MqVKxUnfsMNNyj2G7M0nBI2XkD9MKCecRHmxUS3zxIEoRN6tt9sG9FURVPTAijqzNx4441B3202G/gDOjabDQAEdzrFHXruUKHdLgRBENbEiPabpqYFUbSbyefzBf6++uorXHjhhfj8889RXV2NmpoafP755+jbty+++OILo+W1BnruUKHdLgRBENbEqPabvUF+ylbg7jX+z1vejOs1lKoXAD/wwAN47bXXMGRI65zdVVddhbS0NPzpT3/C7t27dRXQkoS7Q4W7fiKtLQ0pEgRBWBEjdyvS1HQQqs+Z2b9/P5xOZ8hzp9OJgwcP6iGT9WGHAbuPCH6uZBiQf0/Pa4OBITO0xUUQBEFEj3DeBYQqVO9mGjp0KJKTk/Gf//wHBQUFAIATJ07gD3/4A9xuN9avX2+IoFqJ6nUGaneoiK18t6cDV80DOg0A3PW024UgCMJK0G5FTRh6ncFbb72Fm266CV26dEHnzp0BAOXl5ejRowc+/vhjTQLHLGqHAcVWvrsbgP9O88+Lduynn3yE/kT7cMNopB/tPJsJ0kXsoGdZ0pSQ4ajuzBQVFWHnzp1YvXo1fv31VzAMg169euGKK64I7GgiNEI7l6xNtA83jEb60c6zmSBdxA5UlpaDDs0zE3SDsnWJ9uGG0Ug/2nk2E6SL2IHK0jQYOs1EqETNUGW839Nj5SH6aB9uGI30o51nMxHPulBTb+X8mqENiOeytDDUmTEStUOV8XwYktWHdaM9RRiN9KOdZzMRr7pQU2/l/JqlDYjXsrQ4qrdmEwppqgqtmID8Ne3xeBiSVl2ZiWgfbhiN9KOdZzMRj7pQU2/l/NadME8bEI9lGQNQZ8YolAxVipGa418b07Gf/9NsIzJNVf71PUe2AZWlrQ2N2HM5wtGVWWCnCIWIxBRhNNKPdp7NRCzrQqxeq6m3cn4bT5unDYjlshRDa9ttIjRNM3m9Xnz88cfYvXs3bDYbzjnnHIwePRqJiYl6y2ddYnWoUmgouOco4Kq5wKcztA0Rx4Kuoj1FGI30o51nMxGrupCa+lFTb2X91iiPy2hitSzFMMv0Xpio7szs27cPo0aNwpEjR9CzZ08wDIO9e/eiU6dO+Oyzz9C9e3cj5LQesThUKTZU3P4c4NMHgAPrgp+zQ8Ryq/9jRVfsFGG0DseKRvrRzrOZiDVdyE0NXfWUdHhuvZWt46GnyovGFQlirSzFkCtjC+3cUt2ZmTZtGrp164b//e9/aNOmDQDg9OnT+P3vf49p06bhs88+011ISxKLO5PEhoo79gc2PCMcRsnq/1jSVbQPx4pG+tHOs5nQUxfR3tkjNzWUZFdeb+XqeCTvoFOq13iw6xjauaV6zcz69euxcOHCQEcGANq2bYv58+eb7iqDqBKLd3KIDfV6XNrCscSirggiHPh3tC3uB3xwl/95pJCrt03VyuutXB3PzI9MG2AGvZqJWJjiP4PqkRmHw4G6urqQ5/X19bDb7boIFTPE2lCl2FBvkkNbOC6xpiuC0IpZhv7l6q0jQ129lfNrdBtgFr2aiViZ4oeGzsx1112HP/3pT3jzzTdx8cUXAwC+++473HPPPbjhhht0F9DyxNJQpdhQ8ZGtQLfLQ9fMAOqGiGNJVwShFbMM/Sud/lVTb+X8GtkGmEWvZiKGpvhVTzO9+OKL6N69OwYNGoSUlBSkpKRg8ODBKCoqwqJFi4yQkTALYkPFJ3cD171A00QEoQdmGfqPtelfs+jVTMRQGasemcnOzsYnn3yC0tLSoIsmi4qKjJCPMBtSQ8E0TUQQ4WOmof9Ymv41k17NRIyUsebrDIqLi1FcXKynLJalptGNyno3aptbkJWajNx0O5xpkVk/xKZd72pBdpodbo8P9S5PQA4A+ssmNhRM00SiRNNGjCbSeYtlXQIw3dB/DZOOSl8yan3tkMUkI5exQ2YjtXGyhFP2JtMrFyX5MtTueW13TaMblRX1lqpjqjszXq8XS5cuxZo1a1BRUQGfzxfkvnatyJxkjHKsugmzPtyJjaWVgWdDi3Mxf0xvFGanRiTt7Yeq8OLYPlj45R5s3ncaAJBmT8RbE/rj5bX7sHFf5GUjWommjRhNpPMWy7oMkJoD96hFSPx0GhI5azy83YbDO2oR7BH8wWAmfYcti0kPw1OSr0iWg5nKXA02hmEYOU/Dhg3Dvffei1tvvRVTpkzB0qVLMWrUKBQUFMBmswX5ff755w0TVgtqrhBXS02jG1OWlQQVOsvQ4ly8NLaPYb1ZbtpThhehpLwq0JEBIPgsUrIRrUTTRowm0nmLZV1yqWl048HlP2JAQSJGdk6A3VsPd2IGVpf78P1xL5659YKI5NNM+tZVlqBzZqI7paIkXwAiVg5mKnNA3ftb0cjM66+/jquuugq33nor3n33Xbz//vu49tprdRHWylTWuwULHQA2lFaist5tWMFz0+7TKRuL1+4Lchd6FinZiFaiaSNGE+m8xbIuuVTWu/H17gp8vRuYG3haE+QeiXyaSd+6ymKi6XAl+QIQsXIwU5mrRVFn5m9/+xsmTJgAALDb7bTY9wy1zS2S7nUy7nql7fL4QtyFnnFRLVu0TyO1KNG0EaOJdN5iWZdczJJPs8gBmEsWPVGSL7mpEz3zbmU9K+rMfPXVVxgyZAgA4MEHH8SiRYuwePHikCmmeCMrJVnSPVPGXa+0HUmhO+yFnnFRJVuMXEQWcZqqcK79JL79QxbcSZlYfciH5zdVoNHtDXgx0kaMJtL2H836FknMkk+zyAHIy5KVmmzJH1x66FjPcshKSUaaPRHTh+SdmeKsC2q7zFzHFHVmVq9ejVWrVgEANm3ahG+++Qaff/45zj33XCQnB2fuo48+0l9Kk5KbYcfQ4lxsEJlfzM0wbjiOm3bJ4WoMLmobtD5G6Jkm2ejUTG2c6QDaD6xF4ZlHd3YdjkvGzsWty8rR6PYabiNGE2n7j2Z9iyRmyadZ5JCTZeQ5eeiSVAUsn2a5H1xKdRypcsjNsOPzO7uh44aZSPz2m8DzO7sOx5V3LkC2ieuYokPzLrjgAjzyyCMA/OfM3HTTTbjsssuQm5sLp9MZ9BdPONPsmD+mN4YW5wY9H1qciwVjehs6t8hN+61NZbhzcFcMLmobcH9rUxmmDi/GpeHKpuTUTCIYkQ5gUtla9Pz+UUwfkhcRGzGaSNt/NOtbJDFLPs0ih5wsz48+C4n/nSb+g6upKmJyqkWJjiNZDk5bAzpvnIXEsm+CnieVrUXnTQ/DaWvQLS29UbSbycoYuZuJhd3/X9fcgsyUZORmRP6cmQZXC5ypdri9PjS4PAE5AIQn25Ft/gvZxLh7DdCxX5i5CBOzDS9X7vVfZMfHng4MnAym181gWhqRkJodfVl1INL2H836FknMks+oySFQr2uY9FBZGg8K1zeWKVuB3B7GyxsGSnQckXIQa7tYpmzzt1kRam91381ESMP2ns2adliymf3UTDOu5xE6Ft2eDox5E/juNdg2PIPAarNoy6oDkbb/aNa3SGKWfEZFDpF67bzhJTjzeHXlN+tfU6C0HTe8HKR0ZU/3fy6faK729gyq72YCgA8++AC/+93vMHDgQPTt2zfoj4gx2FMzhYj2RWRy63miNbws1MEbOBn47rXQyzijLStBmA219drsP7ishJSuBk4GVs00X3t7Bk0XTd55553Iy8tDSUkJLr74YrRt2xYHDhzANddcY4SMRDQx80VkZl3PI9QB7Nhf+FZxgNYeEQQXtfXazD+4rIaULs+6zJzt7RlUd2ZeeeUV/P3vf8fixYtht9sxc+ZMrF69GtOmTUNNTY18BIT1YC8im7LVv0Zmylb/92hPjZj1FlyhDqDHJR3GAkPhBBER1NZrM//gshpSukxySIeNchumes1MeXk5LrnkEgBAamoq6urqAAB/+MMfMHDgQCxevFhfCQlzYKJTMwOYeXiZfxNtssydJjQUThB+tNTrGLn52RSI6VJu5CXKbZjqkZn8/HycPu0/u6RLly7YsmULAKCsrAwxvjGKMBtmH15OzfHvoujYD8gqNLesBGEWtNZrbn3L7UEdmXAQ0qXJ21vVnZnhw4fjv//9LwDgrrvuwvTp0zFy5EjcdtttuOmmm3QXkCBEsdLwspVkJYhoQnXFnJi8XFSfM+Pz+eDz+ZCU5J+hev/997Fp0yYUFRXhnnvugd0e/a2EXCJxzgwRZUx0C64seslqtrN1CEJvrFSv44kIloua9zcdmkeYG3pph2LGs3WMgMqeIOIaww/Na25uxs6dO1FRUQGfL/h25htuuEFLlAQRSry8tNUQL3dlUdkTBKEC1Z2ZL774An/84x9RWRl66ZXNZoPX6xUIRRAqiZeXtlqUnMFhdb1Q2RMEoRLVnZkpU6bg1ltvxeOPP4727dsbIRMRK4QzTcB/aZ+51wgd+/vPbKk95n8eby81tWdwWHGqJh46bFbBivZjZkifhqG6M1NRUYEZM2ZQR4aQJtxpAu5LmXOvETY8oy2+WEHNGRxWnaox62GI8YZV7ceskD4NRfXW7FtuuQXr1q0zQBQiZtDjziTuS5nuNWpF6VkPZr23SglmPgwxXrCy/ZgR0qfhqB6ZWbx4MW699VZs3LgR559/PpKTk4Pcp02bpptwhEXRY5qAfWnvX+OfWuKOyGiJL1Zgz3pYOdWfdxb+WQ9Wnqrhlj2fnqMARxZQuTe8oXoa7pdGzH7s6UCHPv5p3tP7SXdKsXJ9tAiqOzPvvPMOvvzyS6SmpmLdunWw2WwBN5vNRp0ZQp9pAu5Lm+41CkbJ0e1WnqoR67D1HAVcNRdYMTm8oXoa7pdHyD5oulc7Vq6PFkF1Z+avf/0r/va3v+Hhhx9GQoLqWSoiHtBrmoB9abOLfcONL5aQuyvL6lM1Qh02R1ZoRwZQt8uJdkopQ8g+5KZ7SXfiWL0+WgDVvRG3243bbruNOjKEOHre4ZGaQ/caAf6XcOVe4Mg2oLJUfo7d5PeoKIJ/P4yrVn6oXg4lw/2EsP107B/akWEh3UkTC/XR5KjukYwfPx7vvfeeEbIQsYLed3iY/E4Qw6k5CiyfCCzuD7wxAljcD/jgLv9zMWJRZ3oM1dNwvzKE7Ieme7UTi/XRZKieZvJ6vVi4cCG+/PJL9O7dO2QB8HPPPaebcISFUbKuI5rxWYVwpkViTWd6DNXTcL9y+PaTnCrtn3QnTazVR5OhujPz008/oU+fPgCAn3/+OciNuxiYIGTXdUQ7PisQ7i6IWNKZ1C4npUP1esQRT3Dtp6mKdBcusVQfTYbqzsw333xjhBwEQQhB0yKtKN2WbnQc8QrpjjAxmi6aJAgiQtC0SDB6DNXTcL92SHeESdHUmdm6dSuWL1+O8vJyuN3uILePPvpIF8EIggBNiwihx1A9Dfdrh3RHmBDVu5neffddDB48GLt27cKKFSvQ0tKCXbt2Ye3atXA6nUbISBDxC+2CIAiCkEX1yMxTTz2F559/Hvfddx8yMzOxaNEidO3aFX/+859RUFBghIwEEd/Q0D5BEIQkqjsz+/fvx6hRowAADocDDQ0NsNlsmD59OoYPH44nnnhCdyEJIu6hoX2CMB90x5dpUN2ZadOmDerq6gAAHTp0wM8//4zzzz8f1dXVaGxs1F1AgiAIgjAddMeXqVDcmZk4cSIWLVqESy+9FKtXr8b555+P3/3ud7j//vuxdu1arF69GiNGiBzXrBPz5s3DX/7yF9x///144YUXDE1LL2oa3aisd6O2uQVZqcnITbfDmWYPK5yom4G/ErTmI56oaXSjurEFDW4PGtxeZKcmIy/TEVE9WaWcYkVOrrszNRnpjiTUN3sMz1c0bE1MF1EpS4G2roZJVySHLvKqOMzSVHqLYWwMwzBKPCYmJuL48eNISkpCc3MzCgsL4fP58Mwzz2DTpk0oKirCY489hpwcY4bYtm7dit/97nfIysrCsGHDFHdmamtr4XQ6UVNTg6ysyG5jPVbdhFkf7sTG0srAs6HFuZg/pjcKs8VP0xQLt2BMbzBAiNvIc/Lw8vX5sH86zZBfCVrzEU8cr27Cod8a8dLaUmzedzrw/NLiXCwc0xsFjmbDh6OtUk6xIifXPc2eiBfH9sGSzWVB5W9EvqRsbYFBOhTSxchz8vDYdb3w6Mc/R7YsBUZEmO4jUD5kPq5ZcgCNbq+oHLrZXuVe//UiYkzZCuT2MJfeLIia97fi3Uxsn6dNmzYoLCz0B05IwMyZM7Fy5Uo899xzhnVk6uvrcccdd+Af//iHYWnoTU2jO8SIAWBDaSUe/nAnahrdqsOt23sKsz4Idbu4IBGJn04V/5UgdymhAfmIJ2oa3Vi391TIywUAth+qgrvqMBi1dytpkMEK5RQrcp6sbQ5ynzika0hHhutfr3xJ2dpGg3QopoueBVl4ZMVPkS1LkRER2/416LBhFqYPyROVQ1fbU3CYpan0FgeoWjMTresK7rvvPowaNQpXXHEFnnzySUm/LpcLLlfrhWi1tdE5IbWy3h1irCwbSitRWe8WHFKsrHdj+6EqPDq8ACM7J8DurYM7KROrD/lQkJWCjftC4xzZOQGJ34qczKzkyPsw8nG6wQ2nrSGuF8FV1ruRl+kIebkAwPQheei4YSZsZbzyUXK3kkoZVNtbFBYvcuVMsydi+pA8jp07wDRVA2l50pFEADl9VjUEu/fplI3Fa/eJ+her71rkErM1vdPipimki0jlOQih6z3s6cDAyUjq2B93JjdjZJcOWH3Ih+c3VQTJobVNFkTBYZZibbktPQNvbSrTRw4igKrOTI8ePWQ7NL/99ltYAvF59913sX37dmzbtk2R/3nz5pliR1Vtc4uke52Ie72rBcvHdsbZ3/8lqINyZ9fhaLjgeaTZEwPDqCx2b520MGEceS+VjzR7IvJxGlj+QFwvgqttboHL4xN0M7KjyZdBihB7i9LiRVbONHuioJ0z3UYAo6NvO3L6rG32BH0XK38WsfquFilb0zstbppCRFoOAKFtmT0dGPMm8N1rwIZnkATgLPjby0vGzsWty8oDcmhtkwVRcJhlfaVwW+7rNgLLxz6JW5eVh7TlquUgAqjqzDzxxBMRPRjv8OHDuP/++/HVV18hJSVFUZhHHnkEM2bMCHyvra1Fp06djBJRlKyUZEn3TBH3LmktyFz7FyTyfsknla1F5pczMH3IXzF37fEgN3diprQwYRx5L5WP6UPykPr5A9pudI4hslKS8VuD8NCwkR1NvgxSBNlbODdxhwkr5/Qhef5GnmfntgPmsB05fWalBDedjiTpGXux+q4WKVvTOy1umkJEKs9B8NuygZP9HZkD64IeJ5WtRU88iulDHgvIobVNFkTBPVVd0ioE2/KEA2vQk2EwfchjIW25ajmIAKo6M7fffjvy8iI3BLx9+3ZUVFTgoosuCjzzer3YsGEDFi9eDJfLhcTExKAwDocDDocjYjKKkZthx9DiXGwQGNYcWpyL3AzhYcRMb1WI8bMkHFiD6wfPwVzeO2h1uQ8Tuw1HotDtymEeeS+Vj+u7J8H2bRg3OscIuRl2fH/wNwwuahsy/G9kR5M7TXSWPQuv3NwVD30a+msvxN7CvYk7DFh7itSIlVbk6m9OerB7yeFqwfJn/YvVdy1yidma3mlx0xTSRcnhagwpaotNEZIDQOiISMf+wIZnBL0mla3F9UOeQOoZObS2yaLIHGYp1ZYnla3FyAGzMVcPOQgAKhYAR2O9zIgRI/DTTz9hx44dgb9+/frhjjvuwI4dO0I6MmbCmWbH/DG9MbQ4N+g5uytJbE400S39Sz432RUS5/fHvfBd96IhR95L5aNdsksk1Bni5EZnZ5odl/doh6nDizG4qG2Q265aOxh+ubCE09GsOQpwFhUnvtIf1+z5Kz6/sxvS7K31QtDeongTN2tPmTaZM6mibDty9bd9VkqQ+1ubynDn4K4Ywit/ufquRS4xW7tU57S4aQrpYs/xWjx10/mq27iw4F/v4ZFug9oluwJyaG2TZeXJ7QF07Of/5LS1cm05vw4Yqrc4QPHW7ISEBJw4cSKiIzNCXH755bjwwgstsTUbaD1joK65BZkpycjNkDlLQMGWv5q0s4TjDFrQqe+R94L5aDyoaHtivMA9+6PR7YWTPfuj5ZT4cLSWtSFNVf6OjMDoCtN9BGqufQ0HG5LF7U3htlIj8VbsQeIrF0dVBiXI1V+uexbnnBnF9T0MuQRtLQLnzPDzprqN0wO2rfO4gNeGiPsTsKOIyStTz7z3fo+D6BBZvVkMNe9vxdNMPp/0Yi9CGGeaSgNVsLDMmSoSp4FH3gvmw0Y3OnMRL2ud71aSmCay7V+DbKYaF3aW6AiY4CbuxMy8qMugBLn6K+TePgK/mVS3KwamGQ1ZAm1dU5VqO4qYvDL1LDEzD91TM4yXI05QfWt2tFm3bp1lTv/VhJVuSbaSrNFGYjhaNeFOE5mh3MwgA2F9zGxHZpYtBlE8zWRVoj3NpBkDp4x0x0qyxgJ6TROZodzMIANhfcxsR2aWzeQYMs1ERBgr3ZJsJVljAb2micxQbmaQgbA+ZrYjM8sWQ1humokg4h4aviYIggiCRmYIworInHFBEAQRT1BnhiCsCg1fxy9B6zCyAUcG4Ko19p6tKNzlpQtWlZtQBXVmCIIgrAT3Xi3u3UTcI/31vmcrSnd5hY1V5SZUQ2tmCIIgrAL/Xi2Ru4kC92w1VemfphFpGIFV5SY0QSMzsQ4NsRIsZAvWh39gosTdRLrdcRXFu7zCwqpyE5qgzkwsQ0OsBAvZQmzAPxBR5m4iXe64iuJdXmFhVbkJTdA0U6xCQ6wEC9lC7MC/ZT3Joc6/HmkakYYRWFVuQhPUmYlVlAyxEvEB2ULswB6YyHJkK9Dt8lB/9nTg+hcBnw84sg2oLNXeaeWnySVS92g1VfnzUPErcPIX4PD38nkySu6mKv8p3OHqNVpYXX4RaJopVqEhVoKFbCF2YA9MZG9h3/KqfzcT0LoI2J4OjH0f2Pgs8N9prWG1Tivy0+THZ/S6k5qjwGcPARf9Ud2uLSPktvp0rdXll4DuZopV9Lq/h7A+ZAuxB38xtyOz9ZyZtDbApw8Kj8Z1H+E/bFHLizwadww1VQHLJwId+/pHEvi7tgD5POklNyuL3nqNFBaUn+5mIvS7v4ewPmQLsYfQgYmZ+f7Pyr3G7OKJxiGN7BTpwD9r37Wll9xW3x1ldflloDUzsQrd30OwkC3EF7E0rcjKGoldW0pliaYM4WB1+WWgkZlYhu7vIVjIFuKHWNrFw8oaiV1bSmWJpgzhYHX5ZaCRmVgnNce/HqJjP/8nvbziF7KF+MAMu4/0gs2L2K4tIHJ5srperS6/DNSZIQiCiCViaVqRzcvJ3cCAe0I7NJHMk9X1anX5ZaDdTARBELFINHYfGUVTFdBQCfi8AOMF3A1AanZ08mR1vVpIftrNRBAEEe9EY/eRUZgpL2aSRQtWl18EmmYiCIIgCMLS0MiMFaHbjwmCIAgiAHVmrEYMH0dNEARBEFqgaSYrQbcfEwRBEEQINDKjB3LTPnpNC5npOGorT3VZWfZYhMojGNIHQaiGOjPhIjfto+e0kFmOo7byVJeVZY9FqDyCIX0QhCbonJlwkLiFlOk+Ao3XvIi0VVNh0+uWUoNvP65pdKOy3o3a5hZkpSYjN90OZ5o92JNMnmuufQ1lDcni4VWmp5cfOdkjeWssK2+9qwU5aXb4GAaNbi8a3F5kpyYjL9MhqTeheLLT7HB7fKh3eRTpXu94FJcBl6YqMMsn6lc/RGQKVz8RwyT2GU002ZFOceqVtlA8AHC6wQ2Pj/HXd5cHzjS7oXaoJT9G6D8c6JyZSCEx7WPbvwZ2d5VwQw1omxYy8PbjY9VNmPXhTmwsrQw8G1qci/ljeqMwO7XVo0yeq08dw01Lj4qHV5GeXn6UyB6paTpW3u2HqvDyuL5odHux+Jt92LzvdMDPpcW5WCCiN6F4XhzbBwu/3BMUh5Tu9Y5HVRlw8NRWIEmyPM7Ep2HKRS/9RBQT2Gc00WpHesQp5m/BmN4ocDQrtkF+PGn2RLw1oT/e2HAAtw/ojCWbyyJih1p0aYT+IwktAA4HmWmdRHedpLuvqUZdegYdR13T6A4xYgDYUFqJhz/ciZpGd+tDmTzbvfXS4RWmp5cfLnL6Vl0eKuHKO3FIVxyvaQrpyADARhH5xeLhN5CAuA70jkdtGXDD1VSfFnQDANjT/Z/LJ/pHI98YASzuB3xwl38qRgK99BNxzDKNHAW02pEecYr523aoCu6qw2AU2qBQPBOHdMVLa0txdmFWxOxQiy6N0H+koc5MOIR5C6knOVN9muztx1O2Anev8X/e8mZY8+mV9e4QI2bZUFqJynqOIcvkyZ2YIR1eYXp6+eEip29N5aECrrx9OmWjfVZKSOPGIiS/WDxa4tArHrVlwA1Xx6SJyoaBk4FVMzXt3NNLPxEnxm81lkKrHekRp5i/6UPy0HHDzNDRdREbFIqHtb9I2qEWXRqh/0hDnZlwkLiF1NN1OGoTnPB0HS7qXm3L1pauzrcf1za3SLrXcd1l8ry63CcdXmF6evnhUmXLNqY8FMKV1+XxweUJ1RXgH5p+dHgBOniPAEe2AZWlQQ0nPx4p+DqQkkdLPGrLgBtudblPtDyYsy6Tn3IRQS/9RJwYv9VYCq12pEecYv5Gdk5AYtk3woEFbFAoHtb+ImmHWnRphP4jDXVmwkFk2sfTdTj2XDwXP1WlYM/Fc0MabNa9PiF4FCNaZKUkS7pnct1l8vz8pgrp8ArT08sPl4aEjKiWB1deR1ICHEmh1S/NnojlYztj4vG/IeX1AYJD2/x4pODrQEoeLfGoLQNuuOc3VYiWB5IckvFKTbnopZ+IE+O3Gkuh1Y70iFPMn90rvUyAb4NC8bD2F0k71KJLI/QfaWgBcLiw0z4Np+BrqkGF24H/7vfg+WXlmDgkEbuO1WNQ4WMYOWA27N56uBMzsLrch++/b8Azt5pjN0Vuhh1Di3OxQWCYcWhxLnIzeHJy8ozmWnjtmfjqoBcPLStHo9srG15penr5YWmbbsdDqxpwcUF0yoOb75LD1Sh0pmBwUdug4efpQ/Jw9vd/Cf1FyA5t3/ImcjPSg+Lhx8EiWHYS8miJR7XtcML165KDW5eVY/qQ4PLYVWvHVSmJSBSVHJJTLnrkK2rw6pbZbzXWC612pEecYv7ciTLTzjwbFIqHtb9I2qEWXRqh/0hDIzN6cGbaJ6FTf/jaFmPj4RY0ur14a1MZxg3ogvXlbly+9Cgu+XcNLl96FBsPt+Bvo88zzdZQZ5od88f0xtDi3KDn7Gp+QTk5U12JeT1xYY+u6NclR1F4Jenp5Yef7hOjz8PGwy1RKQ+uvG9tKkOBMxVThhVhcFHbgB8lQ9v8eO4c3DUoDkCm7ETk0RKPJtvhhOvXJQdz1x4PlMfjm13o06MrEjPzNE+56KWfqKHzNLIV0GpHesQp5m9XrR2MChsUiuetTWWYOrwYvx6vjZgdatGlEfqPNHTOjAGwe/XrzuzVT3ckob7Zg7rmFmSmJCM3w4RnXCBYbi1yqg2vxL9efvTMZ7iw6Te4WpCdaocP/nNmGt1eXGDbh+QlI8UD373G/5LjxeNMtcPt9aHB5VGdJz3i0apTyXA1R/2jUdyjCFQcIKeXfojIYUTdVBqnoL+WU6ptUCgewH/OjNfHwOvz13dnqrF2qEWX0W4b+ah5f1NnhiDMhMEHI1qOoKP942PKhTAZZINRgw7NIwirYuDBiJYkNYdeHER0IRu0BLRmhiDMRBzvaCEIgtAKjcwQhNmIxR0tVrgJOkjGbMCRAbhqzS0zEYoetqYmjmjathXqVYSgzgxBmJFYGtq2wk3QXBnt6cCYN4HvXgMOrGv1YzaZiVD0sDU1cUTTtq1QryIITTMRBGEcTVWhDS6g6FqCiMGXceDk0I4MYC6ZiVD0sDU1cUTTtq1QryIMdWYIgjAOJTdBRxu+jB37h3ZkWMwiMxGKHramJo5o2rYV6lWEoWkmgpCC5qTDwwo3QfNl8MhcqmcGmYlQpMrFng74fP6jD6Tqshp71WrberQpZqhXJmsbqTNDEGLQnHT4WOEmaK4M9nQgu7Ny/4R5ECsXdg3UF4/I12U19qrFtvVqU6Jdr0zYNtI0E0EIQXPS+mCFm6C5Mg6cDBzfAXS7XNivWWQmQhGztcAaKAV1WY29qrVtPduUaNYrk7aN1JkhCCFoTlofrHBuDlfGjv2BL/8CDLgntEPT7XJg1DPmkJkIRczWzrpM+RooNfaq1rb1bFOiWa9M2jbSNBNBCGGGOelYwQrn5rAyntoDuBuAD+/y/6IfOBnwuIAkB3BkK9BUHW1JCSmEbE2uzPh1WY29qvGrd5sSrXpl0raROjMEIUS056RjDSucm5OaA6S18f/vbgA2PBPqp/dtkZWJUA/f1ir3SvsXqstq7FWpXyPalGjUK5O2jTTNRBBCWGGtB6E/VO6xh1nK1CxyhItJ80GdGYIQwgprPQj9oXKPPcxSpmaRI1xMmg8bwzBMVFKOEGquECeIEILOUjDhWg/CGKjcYw+zlKlZ5AiXCORDzfub1swQhBRWWOtB6A+Ve+xhljI1ixzhYrJ80DQTQRAEQRCWhjozBEEQBEFYGurMEARBEARhaagzQxAEQRCEpaEFwFZFy42lWsM0VfkPEXM3AKnZQEZ7fdIS86P3baxa41OTB1e9383jAtz16vKjR37DjaOpCmioBHxeAGc2ODK+M2WeE/UbcXXFZLf9KsZsciu1a7G6AXDCZwOODMBVa0w9VZofLW1diAxh5EVPuHWa8QrXZbPZVBhQZ8aKaLmxVFOYY8BvB4CNTwffbaJHWkJ+eo4CrpoLfDpDv9tYtd7uqiYPR77z38q75olgPSnJjx63z4YbR81R4LOHgIv+CGxfClw04czFfJy8xMpt4Sa87VcRZpNbTh6pumFPB8a+D2x81h+evdVai83ppRetbR1fhnDyoifcOi0oy2IAjLlsKkzonBmr0VQFLJ8ofNFX9xH+uzqERg+0hNm1EvjlI+FL2sJJCxD2M/Qh4Mg2delJoSXfWvIgJrdcfm58BVgxWb18euSRH75jX7+sHfvpWwZmIlxdRQuzyS0nD9euheoA/5nWeq+XXrS2dUIy6N2GaYFfp4Vkuf5F4JePzWNTIqh5f9OaGSNoqvLfB3JkG1BZqu+V6FpuLNUaJrO98ttm1aQl5qdjf+XpKdGx1ttd1eZBTG65/DSeDv/22XBvsGXDs7KqKQOrYdLbfmUxm9xy8nDtWsie+M+02pxeetHa1gnJYIb6U3cyuE4Lkdk+VHf2dH9nbMCf/BeucttVI99pOkHTTHpj9HCwlhtLtYbxuCKTFovS9JTqWKssjTIVlR9OTG7Z/NSoS0eLH6XurKxaytwqmPS2X1nMJresPBy7FrIn/jOtNqeXXrS2dULPo11/ao4CVQflZeG7cafHuBesGjH1bxA0MqMnTVWhL1nA3yNfOVWf3qyWG0u1hklyGJOWmB8l6anRsZZ8N1UBnmb5cNywYnLL5sepXj61fpS6s7JqKXOrYNLbfmUxm9yy8nDsWsie+M+02pxeetHa1gk9j2b9YdtGmwJZ+G4DJ4eurQGA9ucAnz5g7DtNJ6gzoyeRGA7WcmOp1jB1J4FulwsGY7qPQLUtGyXlVdh/qh41jW7laYn5ObJVMr1mext1OlaR75pGN/ZX1KO5+iRwcIOoHOg+PDQPYnIf2wF0Gyaeflrb8G+fDfcGWzY8mweZMjjpzQqUN6uzEBvQEV3TMOltv7J5NFBuobTDkYfpPgLNydlguknUDf4zCZuTzJ+MHFxblSS9HRiJtk6VDAryYli9YdtGBXUZdSeD5dY4Ve6tqzC8DVCKqaeZ5s2bh48++gi//vorUlNTcckll2DBggXo2bNntEUTJhLDweyNpSun+l/eLFI3lmoNUzQSTJvu/o4+x6CZ7iNweMgCXL3oBzS6vQCAocW5mD+mNwqzFaYl5OfkbuC6F4DPHgx67uk6HHv6PYkXVpTh1WEyRsvVscJ8H6tuwqwPd2JjaSW+/UMWCre86h9y5eUb3S4HrlkYmgch//Z04KyhQJchABjhnQ2Z+erLhY+WsuWFd49ahMQvZiJxwD3+3UwD7gnJu7fbcPza70nc+vIOAMBbE/rj5bX7sHFfZcBPqw2kysutAG656JJGuLoyAEV5NEhuftpp9kRl5SoiD9N9BA4NmY9bXtmFf455Ej0ZBklCdWPLq/7dTLZEf/gzfhgANp7NeUctgl0sfyJycG210e2VtZnjrhS0tL0EnS4NbetkdcyXQSQvbDzHXSmY+WGJfjbNhW37WJ1L1GVv1xGwF10BZuVU2Pav0TxVXl11GiOW7At817sNUIOpdzNdffXVuP3229G/f394PB48+uij+Omnn7Br1y6kp6criiOiu5kq9wKL+4u7T9kK5PbQJy0tN5aqDFPT6MaWXfsxsCAR6WgG3A3wOLKw7lgCZqw8FOjIsAwtzsVLY/vAmWZXlpaIn+baSlSfOgZfcy3ciRlYXe7D85sq0Oj2YsukTsj/96XieRTSsYQsNY1uTFnW2rism9ABZ717mb8zMnCy/5eJx+Uflj2yFeh9O5BbHBq3q95/LoXH7T9LI60N8OmD/q2p/HjqTgK9bhA560Hj7bMa46hpdOPB5T9iQEEiruyShLbpCXAk2sAASACDhJZGnPKkYuW+lkAZTBlehJLyKmzedzokviAbCAN+ueiahkluLVadRx3lFkpbdbly5PHaM/HlQS8e+rQcjW4v0uyJmD4kDyM7JyAzoRk5bfOQ4D1TN1jZAaDhFHxNNTjVkoqTrmQ4E5qQ7KkP1Pvvj3vxzK0XSJf1GTl8TTWocDvw3/2egK1Kys/Rw/ZDVfh/l+Xj5rPTAm2dKzkTiVn5SMnKldUnt81qScpCjc8RyEtCShay2xXClZRlnE0Dwe8ftv3qNNBvIwlJ8LU043BzCr465Nfr3JvOx7ZfD6BXlhsdMxOQ9A+BdnXce8A7t4kmefD29bh86VH983KGmLk1+4svvgj6vmTJEuTl5WH79u0YOnSoYBiXywWXq7U3WVsbwcVx7JAj99cTi97D2FpuLFUZprLejT9/cCDo2Zvju+GeD7YJ+t9QWonKerffiJWkJeLnaHMKRvzj8JlvwYtk/7vfg7u7j/D/muAjpmMJWSrr3UGNy+pyH+7sOhxJZWuDF8Kx8Q+aoizuyr2t02H8eACgy6DWcHrcPqsxjsp6N77eXYGvdwNzBdy/uP9SXP3KxqBnfTplY/HafQK+eTYQBvxy0TUNk9z2qzqPOsotlLbqcuXIc7CiHvd+tD7g1Oj2Yu7a4wGbWjPjPHTPywiNODUHZRX1GPHyep5Da72XLeszcgjHIyE/gvXwxOqjeGI11/U3rJlxFror+A0s1WYBNVgzoxsAA20aCH7/uBuC2h1P1+FYUvAY5q5t7Xg8eKUb935UBgB4dHhBa7vHhZ2qEphq8nQdjtXlPmPyogFLrZmpqfEbSZs2bUT9zJs3D06nM/DXqVOnSInXOuTIn8eN4jB2ONQ2t4Q8c3lCjZdLnUAYPdJleX5TBZqufl43HfPTen5TBfZcPBeersPDi99sO1BEkNK1390T8izaNqBXGtEmmnnUu26Hkxe99KAlnkimbXh5i7x/PF2HY8/Fc/H8poqg59y6LdrusVP/vDiZbiME42SJRv009cgMF4ZhMGPGDAwZMgTnnXeeqL9HHnkEM2bMCHyvra2NbIfG2cF/4JAJhrHDJSslOeSZI0m6/5spEEaPdFka3V6cQFt000nH/LQa3V7cuqwc04c8hpEDZqNDWguS05zq4zfbDhQRpHTtdw9tIqJtA3qlEW2imUe963Y4edFLD1riiWbaWtOShPP+aWmswdHGZP80/bLykGUB3LrNb/fs3nrkts2F3XnmOgdee1tjy8atnDWThuRFJZYZmZkyZQp27tyJZcuWSfpzOBzIysoK+os4qTn+dRsd+/k/LdiRAYDcDDuGFgfPF5ccrsbgoraC/ocW5yI3I/yhRaF0uWm0TbfrpmOhtNgh8sc3u9CYe4G2+E26c4aPnK5z0s1pA3qkEW2imUe963Y4edFLD1riiWTaESvvM21jY+4FeHyzC3PXHhdc38iv22y7d/nSo3h4SzKasroFT4Vz2ltbajb6dRFuE6NVPy3RmZk6dSpWrlyJb775Bh07doy2OHGDM82O+WN6Bxn8W5vKMHV4MS7lVcqhxblYMKa3LvOkQunqnYbhaVlkylEu/+2zUmLeBqJFNPOod90OJy966UFLPJFMO9LlraVuK5XHjPXT1LuZGIbB1KlTsWLFCqxbtw7FxcXygXjE3N1MUaCm0Y3KejfqmluQmZIc6HXzn+ltwELpGlVJDEvLJDtn5JDLfzzYQLSIZh71Ltdw8qKXHrTEE8m0I13eWup2pMtMDDXvb1N3Zu6991688847+OSTT4LOlnE6nUhNVbaPnTozBEEQBGE9YqYzY7PZBJ8vWbIEEyZMUBQHdWYIgiAIwnrEzDkzJu5n+QmaQnAC6bmRnUIIOrAtx38om7seSMkGHJlAS4P/vAF3g/9At4z2ppziUEVTlf8vmvkKt9zlwkfbriKFUflUGq8Sf01VQEMl4PMCjPeMzeVIyxoUb3Zk66JanWrJn9HyAjz9ZQCuWnPUh3iquxbLi6k7M6bG6NuxlaZ/5Dv/0dVrnvAfbGRPB25ZCiSnAhufET6a20Q3naqi5hjw2wFg49PRy1e45S4XPtp2FSmMyqfSeJX4qzkKfPYQcNEfQy/hE5OVG2+k66JanWrJn57w5bWn+6852Phsq/7Ym5zN0I7FU921YF5MPc2kB4ZMMzVVAcsnCl942H2Ef0++kT1YbvpDHwKObGut7EMfApydgF9WCF8QFgn5jKCpCti1Evjlo+jlK9xylwt/4yvAisnRs6tIYVT9URqvEn+A30/HvsH1S0pWfryRrItqdcr6V5M/PRGSV6gti4ZsQsRT3Y32+42Dmve3JbZmm45I3I6tNH3+raYd+/svMJS46dRw+Yyg4RSQ2V6/fDVV+a8cOLINqCxVdpV9uOUuF77xdHTtKlIYVX+Uxsv3Z0/3vzjHvQdcNB6oPea/P+vAWtlbg4Nk5cdrRF0Us1u1OmX9q8mfngjJK9SWmaUdi6e6G+33m0ZomkkL0T6qnhs//1ZTmVtOQ8JbheZa+bwpzZfWIdRwy13WnX+ni8rwVsGo+qM0Xq4/7lQG9w6tce/5P9XYHD99veuilN2q1Sn7Xa86pRaheNW2ZZGsD/FUd6P9ftMIjcxoIdpH1XPjT3IEuyU5Qp9JhbcKKVn65KupKvSFAPh/caycKj1CE265y7o7wwtvFYyqP0rj5fobODl0TQYXNTbHT1/Puihnt3aBSxyl0mG/R6utEIpXqC1TG4dRxFPdjfb7TSPUmdFCtI+q56bP3mrKcmQrUHci+Fmk5TOC9Hb+of9w8xXOEGq45S4XPq2tJa5ACBuj6o/SeLn+xKYy2HrFr19SsvLT17Muytltkl2dTllZ1eRPT4TKSqgtM0s7Fk91N9rvN41QZ0YL0T6qnpv+lleBAfe0VvotrwKZhcClD4U2BCY7Sl8VqTlA0Ujg0v8XXr7CGUINt9zlwmfmW+IKhLAxqv4ojZfrT2wqg61XJ3YF1y8pWfnp61kX5ey2qVqdTllZT+5Wnj89ESqrLa/66zdXf9GQTYh4qrvRfr9phHYzhUO0j6oPOmcmG/C4z5wz4wQcWcFnW6Rk+xfQmtQQFcM/Z0Ztvir3Aov7i7tP2eq/UE1OhnDKXS58tO0qUhiVT6XxNlX5F/u+eolwPPZ04J5N/jNYgs5hyZaWlX8+hx51UandqtWp4DkzMvnTEyF5AZ7+MjnnzES5PsRT3TVBXmLm0DzTk5oTXUONdvrRINw8s0Oo+9eEuikdQg1XBrnw8VKuRuVTabysHzF76DRQm4xG5Eup3apNO9q2JpY+/1lmfmTkkSOe6q7F8kLTTER8YdEhVMIgrGIPVpGTIKIETTMR8YkJhlAJE2EVe7CKnAShAzTNRBByWGwIlTAYq9iDVeQkiAhD00wEQRAEQVga6swQBEEQBGFpaJpJK/wtjS1NQFouwPhat2GmZgMZ7Vsvtwtso27j9+dpAmADbDZ/nIzvTLic4OvWBbdP8vwEySVwbbugvG0BrxtgGACcpVM2G2BLAjyNgLtRIh85/nM6WhqF/3fX+7ehOjL9z33eM/lu9usotY1fRledcN4A+Xxz8wXmjOzJALz+req2BHH9svEzPn9+4QVaWNlyWvPMptNUDfg8ft15moC0doCvxa+/gHxtAEcGZyupU6KcBMojSG8ZrboJ5I1bLjln9CeQFruFveWMjYERSSMzeNswN062jFkbEbIbvuxs+XvdZ2wp0S9vS7NfX2CE64eonbcJ1oOYDHy/jE9Z2gCnvmRLlx3/WAC+/FLly7cNId2G2CavvRDTm6RNcdqkljM2CwAMz469bmU2Iagnbh33+O2AX+9CbI/fNgm0WWIo9S/UVoW0SRx5wUi3rVrkUOxHpA1raQ5ta9i2mqtXMTvibxvntwmibarCOmEiaAGwFmqOAp89BFz0R/9R6Ee2ArcsBZJTgY3PBJ8o2nMUcNVc4NMZwJHvWv39bzFw0QRg+1L/p+A194sBMMFphfh5qfU+IaG7W9j0v/hLsLxj3mxNm/vZ7y5l+WDvs2Hj4v9/YJ3/nI5blvo/AX/lY+Nl78QRyr89HRj7PvC/lyXyzdMNK7s93Z+OlH658fe7szUMP8+BdABUHfQ3FBufCdUfN7/c/EuVE99++Hrjlw+/XMTS6jkKuOopoOYI8L+XWuUTKxuxOIXyKPWM786VV6p+SNm5kI3I6V5p2qwNbHzWX18ky+6MDfx2ANj4tHTZCpWvEt0KycVtLwT1JmNT3LDsd66tq7UJse/ceIXqHT+dIFs906YovSdN6b1qrD9uWyUlr1yd1SKHUj9ibZhQW6OkLgilVXPMb7/cNkGsHrIyK23PDETN+5s6M2phr0fv2Lf1evqhDwHOTsAvK0KPRudeY8/117Gf/zn7KXSk+vUvAr98HJwWH/ZKdkD42nY2fW46/GfcT6X5kPufDePs1BoHN14huaRkltMNKzubjpR+ufFzw4ilAwBgWv2IycfPPxd+OfHtRygeqXIRS0vIxqTKRixOJXYjVv58eaXqh1BZStmInO6Vpi2mcykb+OUj6bJlRxn45atEt0JyyelNzqaE9ACE2rFSmxD7LlfvpGxVrr7wRxaE2jixMjiwVrm8SmVQKgeg3I9YGybVVsvZETetG18B9n7pt18lbSors9ryMQA1729aM6MW9o4U7p0uHfv7D3USKnQxf+xzqWvuM9uHpsWHvU9I7O4WoXT4z7ifSvMh9z83v+wf300s/1p0w01LTr9iYcTSyWwf7EcsbjXlJKc3uXIRS0vIxsTSkIpTid1IheHrS07HQnauVAYtaaspO9YG5MoWEC5ffvxKbFNKdn66StokIVtXaxNSYaTqnZStKtEpi9J71bj+lMqrVAalcqjxI9UeibXVQm5iaTWebrVfJW0qixbdRJGkaAtgOdg7Urh3ukhdVS/mj/1fSVgpP1yZlMbBf6ZGFqX/K41PyI8W3YilrTV+vl8l4dWUkxK9KcmD1HO1ZSNnn1LPpOSV04uaMlRb3kr0JCejEjthy1aofeB/V1quatKVC6vEhrT4UVNmcnHz4bdrSu9VE9OJku9yMqiRQ6kfNW2V2ncIADTXqG/jFcWrIJ8RhDozamGvP+deTy91Vb2YP/Z/JWGl/HBlUhoH/5kaWZT+rzQ+IT9adCOWttb4+X6VhFdTTkr0piQPUs/Vlo2cfUo9k5JXTi9qylBteSvRk5yMSuyELVuh9oH/XWm5qklXLqwSG9LiR02ZycXNh9+uSbVzXHcxnSj5LieDGjmU+lHTVql9hwCti7fl/OqhmyhC00xqYe9I4V5Pf2QrUHdC+Lp6MX/sc6lr7utOhqbFh72XRezadqF0+M+4n0rzIfc/N7/sH99NLP9adMNNS06/YmHE0qk7GexHLG415SSnN7lyEUtLyMbE0pCKU4ndSIXh60tOx0J2rlQGLWmrKTvWBuTKFhAuX378SmxTSnZ+ukraJCFbV2sTUmGk6p2UrSrRKYtYG8f3z/WnVF6lMiiVQ40fqfZIrK0WchNLK61tq/0qaVNZtOgmilBnRi3sHSknd7deT7/lVSCzELj0odDCP7kbuO4Ff+Fz/Z342R+e/eSH6z4CKBoZmhbfD3svi9jdLWz6fHm5aXM/leaDHxf/f6A1v22L/X/cePkycNPb8ipw6f+TzjdfN6zsbDpS+uXGzw0jlk7RSKBtj1Y/YrLz8y9VTkLlIaYboXIRS+vkbqDr5f78ceUTKxuxOIXyKPWM786NW6p+SNm5Uhn4fpWkzdoAW1+kyo61gUv/n3TZAsLlq0S3QnLJ6U3OpoT0wLV1tTYh9l2u3knZKtumSOmURen9VFx/SuWVK1e1cqjxI9aGSbXVcnbETSszv9V+lbxvlNQJE94HRruZtCJ2TgjDOcsiJdu/qErofBaGaT1nBrYz2/59redIcO9cETyzgucnSK5ToXe3CMrbBvC2yJ8zI5qPbP9ZLi2Nwv+z50k4sgTOmeGek1InnDdAPt9KzpkR0y8bf8g5M7w8s+kEnTPT7D/DI+ScmRz/GRaBcxlE7s8RK48gvWWqPGeGV97cMyVYewtJI0vmnJnsVhsRshu+7Gz5e1vO2FKi+FkvQjoWOleIqwcxGfh+5c6ZYdMGgs8BkSo7/jkzfPmlypdvG0K6DbFNXnshpjdJm+K0SYLnzJyxY69CmxDUE7eOc89t4dS7EPvmt00CbZYYSv0LtVUhbRJHXlZPYm2rFjkU+5E6Z4bX1oScMyNUFwTyINQmCOWXfzaOkvbMIGhrNge6aJIgCIIgrAdtzSYIgiAIIm6g3UwaqWl0o6axBR4fgyaPF80tXuSm28EAaHR70eD2Ijs1GXmZDjjT7KhpdKOy3o16Vwty0uzwMQyaWryw2WzsRBN8ABpdHjjT7MhNt8OZZg+kdbrBDY+PgY9h0Oz2oE26Az6GQaPbi6YWL9qm28+4AwwYJABISkhAU4vfPTfdH5fXh4C83DA+hkGjy4PsNDsyHElocnvR2OKBzWYDGKDRLe7W3OJBTroDbo8PjW5PIH+sbGza/nSAZo8XjW4vctKSkZmSjAaXJyhvbFz1Lg+cqclIdyShvtkT0B3DMPD6AJc3WH+Mzd87T05IgI/xuyck2OA4872Jk25WSnJQPrhlIKRffh7cEnFnpiQHycvGw7UJAKisd6O2uQXO1OQgvXLj5eYxwdZapg28tGqbW5CVmhywm5pGN6obWxSXE182fthGd6tdcmXnpsmtG6cb3PAyDJJsNjR7QnXFtz8GDGyMvwylPtnyyUl3oMXrE7TdZrc3UC8befli6xG3jvDlY+3GLlF/Gnn1m982sPoTKkt+WdS7PIJl1+D2SNYffvpybZJYO8Bvt/h2xa2DfHvlyiiWDl+fDZw6yC8rJWlLfefrkW1zs9PsQW2KkJ0ItUf89pgfZ4vXBwZAks0WUi+l4uHbC98ukxXWFa4Ny71L+G2CmF+xesLmT6gNE2oHIg11ZjRwvLoJh6sa4fUxWPzNPpSUV+PlcX3h9viw+Jt92LzvdMDvFefk4fHreuHRj3/G9kNVeHlcXzS6vfjHxgMYN6AL3vnuEMYN6IIlm8uCwg0tzsWCMb3BAHj8k59x+8WdsWRzWSCtphZfIO0Xx/bBy9/sC8T3h4FnISU5IUg2z5mGXygMm3aaPREvj+uLlOSEgHxybmxcT3+1N5BWo9sbkjaAQPpsfC+O7ROUf25cXD/cfDe3eOFjEKI/Nt9p9oSAO/c7N11/PlyCZSCkX34epOLmy8vqgi3bNHsi3prQHy+v3YeN+ypD9MrPg1CZ8tPi2s3IM/Z2tKYZf9+wX1E5cWVbemd/+HzA3zfuD7FLvuxcW50/pjcKs1NxrLoJj3/yM+4Y0EUwT2I2q+STm48X1wrbLr9MuHK/seEAbh/QOUifQjqXqz9cfV96pp4WZqcG2oZDvzXi7xv2C5alkJ0Lld1La0sl6w83/YVjegOAZJsk1g7w2y2+XQl9Z+1VSTp8fQaXlUu0/mj5ztXjY5w298WxfbDwyz2SdiLUHsnFuWhNqWi9lGrX53Psha0vt1/cOaQNk6srXBuWepcItQlCfqXqiVQbJpa3SENrZlRS0+jGqp9PgGEYfPbTcWzedxpThheh0JkS+M5lyvAilJRXhfjr0zkHJeVVgU9+OACYd/P5WLXzOC7onC0YB/udG0+fzjkh7oXOFAAQDcOmLSSfnJtY/vhpc9Pn6kUsLjHdsfHw9cfmm+vOz7dYPvgyyOVBKm6xeITsQUgesTzy4+LHw41fbTnJhRWTncvQ4lw8fesFeGj5j7igU7ZonsRsVsmnEtvll4mQrXH1KWY3UvVHKO8vje0DAFj18wl8uvOYaFkK2bmQ/uXqD5d5N58PnPnFLtYmibUDcnYlZa9K0hGzXbn6o+U7v7zF2hSptMXaY6E4peqlVLvOtZcpy0pwQadswTZMrq4ofZcofe/IvUuEdCGWN71GaGjNjIFU1ruRl+lA+6yUQGH26ZQd9J1Ln07Zgv7Y51x3PnmZDmzcVykaBzd+7qeQbFJhuLLy5ZNzk5ONTZuvHyEZhNIUy4dYvrnuYulKlYGSPEjFLWcTcnoVy6NUWvz41ZaTkvKXShMANpRWoqrBjY2llZJ5Eip7pZ9CYfmyS+lcSJ9idiNVf4TyXlnvDrQNUmWptOz4aUuln5fpQF6WdJskVg5ydiVlr0rSEUtDrv5o+S70XKmdyLXHYjaoNh4g2F7Y+qKlrih9lyj1K/cukdM7N2/RgKaZVFLb3AKXxxf0jP9dzE3ofyVhxeIQ8qNENiV+lbopDaNEBi3yqMm3WJxq86AmbrmwavIYjgxqZVOTJktts0dVPGo/xZ7JyaYkPqXfxahrbgGjUD4ttiGFkrJSWp5q9aFFf1rzH04dVxpGa7uhNB4W1l7UxqemToQru9Jy4lPX3CLpbhTUmVFJVkoyfmsI7nk6ksQHuLhuQv8rCSsWh5AfMXe5eJWmo/R/sbSlZNAij5p8i8WpNg9q4pYLqyaP4cigVjY1abJkpSSpikftp9gzOdmUxKf0uxiZKckAEGgb1JRzuGkrKSul5alWH1r0pzX/4dRxpWG0thtK42Fh7UVtfGrqRLiyKy0nPty8RRKaZlJJboYdFXUunKxtxuCitgCAksPVQd+5lByuxhABfyWHq4M+haioc2FocW6QH35a/HiE3E/WNkuG4crKl0/OTU42Nm2+foRkEEpTLB9i+ea6i6UrVQZK8iAVt5xNyOlVLI9SafHjr1BZTkrKXypNwD9XnpNuD9irlK6Eyk7Jp1BYvuxSOhfSp5jdSNUfobznZtgDbYNUWSotO37aUulX1Llk2ySxcpCzKyl7VZKOWBpy9UfLd+7zISK6lktbTZxS+pOrK6y9cNt3tXVF6btEqE2Qqt9S+ZPSOzdv0YA6MypxptlxeY92KMrLwJRhRRhc1BZvbSpDgTM18J3Lr8dr8dRN52NocW6Qv13HanDn4K6BT364ocW5GNajHeaP6Y09x2sDfvhpvbWpLCieXcdqQtwLnKno3i5dNAybtpB8cm5sXGKysWlz02fju3NwV+wWiYvrZ4hAPvj6Y/PNdefnWywf/PzI5UEqbr68fJt4a1MZpg4vxqXFuYLyiOWRHxc3LS57jtdiSFEupg4vVlxOXNmK8jJCworJzrXVBWN6o31WSsBexfIkZrNKPpXYLr9MuHL/eqYecfUpZjdS9YcLu5vJmWYPtA2s/oTKUsjOhcpOrv5w0x/Wo51smyTWDsjZldB3oXjF0hGzXbn6o+U7V4/cNleJnQi1R3JxStVLsXiG8uyF276rrStK3yVCbYJU/RaqJ2ragWhtz6bdTBqRO9Oh0e2FU+CcmQZXC7JT7fDBf85Mgs0GALDBFjjzw5majNyM0HNmvD4GXh+D5hYv2qT542h0+9Nuc+YcAubMuRsJNhuSEvxnH7DnFADC58wwDOD1+ePKTuOdeWKzgWEg6dbc4kVOmh1urw9Nbk8gf6xsbRWcM8PNGxtXw5nzN9hzJFjdMRA6Z8bmPxPBZkNygk3VOTP8MhDSLz8PSs6Z4ZY13yYA/2LyujNnNHD1mnjmTI7Qc2Zay5QtDzatuuYWZKa02k3QWScKyokvGz8s1y65snPT5NaN0w1u+BgGiWfOmeHmScj+fAwTKEOpT7Z8ctLsaPH5BG1X7pwZ75mzP1h98uXjn4siVH+UnjMjVJbglUWDyyNYdg1uj2T9UXvOjFg7wG+3+HbFrYN8e+XKKJYOX59sGnLnzIilLfWdr0e2zXWmBrcpcufMsO0Rvz3mx9ni868fSbSF1kupePj2wrdLtg2TqytcG5Z7l/DbBDG/YvWEzZ9QGybUDugBXWfAga4zIAiCIAjrQVuzCYIgCIKIG6gzQxAEQRCEpaHODEEQBEEQloY6MwRBEARBWBrqzBAEQRAEYWmoM0MQBEEQhKWhzgxBEARBEJaGOjMEQRAEQVga6swQBEEQBGFpqDNDEARBEISlSYq2AEbD3tZQW1sbZUkIgiAIglAK+95WcutSzHdm6urqAACdOnWKsiQEQRAEQailrq4OTqdT0k/MXzTp8/lw7NgxZGZm+m+s1ZHa2lp06tQJhw8fjstLLOM9/wDpIN7zD5AOANJBvOcfMEYHDMOgrq4OhYWFSEiQXhUT8yMzCQkJ6Nixo6FpZGVlxa0BA5R/gHQQ7/kHSAcA6SDe8w/orwO5ERkWWgBMEARBEISloc4MQRAEQRCWhjozYeBwODB79mw4HI5oixIV4j3/AOkg3vMPkA4A0kG85x+Ivg5ifgEwQRAEQRCxDY3MEARBEARhaagzQxAEQRCEpaHODEEQBEEQloY6MwRBEARBWBrqzGjklVdeQdeuXZGSkoKLLroIGzdujLZIhjBnzhzYbLagv/z8/IA7wzCYM2cOCgsLkZqaissvvxy//PJLFCUOnw0bNuD6669HYWEhbDYbPv744yB3JXl2uVyYOnUqcnNzkZ6ejhtuuAFHjhyJYC7CQ04HEyZMCLGLgQMHBvmxsg7mzZuH/v37IzMzE3l5ebjxxhuxZ8+eID+xbAdK8h/rNvDqq6+id+/egUPgBg0ahM8//zzgHsvlzyKnAzPZAHVmNPDee+/hgQcewKOPPoqSkhJceumluOaaa1BeXh5t0Qzh3HPPxfHjxwN/P/30U8Bt4cKFeO6557B48WJs3boV+fn5GDlyZOBOLCvS0NCACy64AIsXLxZ0V5LnBx54ACtWrMC7776LTZs2ob6+Htdddx28Xm+kshEWcjoAgKuvvjrILlatWhXkbmUdrF+/Hvfddx+2bNmC1atXw+Px4Morr0RDQ0PATyzbgZL8A7FtAx07dsT8+fOxbds2bNu2DcOHD8fo0aMDHZZYLn8WOR0AJrIBhlDNxRdfzNxzzz1Bz84++2zm4YcfjpJExjF79mzmggsuEHTz+XxMfn4+M3/+/MCz5uZmxul0Mq+99lqEJDQWAMyKFSsC35Xkubq6mklOTmbefffdgJ+jR48yCQkJzBdffBEx2fWCrwOGYZjx48czo0ePFg0TazqoqKhgADDr169nGCb+7ICff4aJPxtgGIbJyclh3njjjbgrfy6sDhjGXDZAIzMqcbvd2L59O6688sqg51deeSW+/fbbKEllLKWlpSgsLETXrl1x++2348CBAwCAsrIynDhxIkgXDocDl112WczqQkmet2/fjpaWliA/hYWFOO+882JKL+vWrUNeXh569OiBSZMmoaKiIuAWazqoqakBALRp0wZA/NkBP/8s8WIDXq8X7777LhoaGjBo0KC4K38gVAcsZrGBmL9oUm8qKyvh9XrRvn37oOft27fHiRMnoiSVcQwYMAD/+te/0KNHD5w8eRJPPvkkLrnkEvzyyy+B/Arp4tChQ9EQ13CU5PnEiROw2+3IyckJ8RMrNnLNNdfg1ltvRZcuXVBWVobHHnsMw4cPx/bt2+FwOGJKBwzDYMaMGRgyZAjOO+88APFlB0L5B+LDBn766ScMGjQIzc3NyMjIwIoVK9CrV6/Aizgeyl9MB4C5bIA6Mxqx2WxB3xmGCXkWC1xzzTWB/88//3wMGjQI3bt3xz//+c/AQq940QUXLXmOJb3cdtttgf/PO+889OvXD126dMFnn32Gm2++WTScFXUwZcoU7Ny5E5s2bQpxiwc7EMt/PNhAz549sWPHDlRXV+PDDz/E+PHjsX79+oB7PJS/mA569eplKhugaSaV5ObmIjExMaRXWVFREdJLj0XS09Nx/vnno7S0NLCrKZ50oSTP+fn5cLvdqKqqEvUTaxQUFKBLly4oLS0FEDs6mDp1KlauXIlvvvkGHTt2DDyPFzsQy78QsWgDdrsdRUVF6NevH+bNm4cLLrgAixYtipvyB8R1IEQ0bYA6Myqx2+246KKLsHr16qDnq1evxiWXXBIlqSKHy+XC7t27UVBQgK5duyI/Pz9IF263G+vXr49ZXSjJ80UXXYTk5OQgP8ePH8fPP/8cs3o5ffo0Dh8+jIKCAgDW1wHDMJgyZQo++ugjrF27Fl27dg1yj3U7kMu/ELFmA0IwDAOXyxXz5S8FqwMhomoDui4njhPeffddJjk5mXnzzTeZXbt2MQ888ACTnp7OHDx4MNqi6c6DDz7IrFu3jjlw4ACzZcsW5rrrrmMyMzMDeZ0/fz7jdDqZjz76iPnpp5+YsWPHMgUFBUxtbW2UJddOXV0dU1JSwpSUlDAAmOeee44pKSlhDh06xDCMsjzfc889TMeOHZmvv/6a+eGHH5jhw4czF1xwAePxeKKVLVVI6aCuro558MEHmW+//ZYpKytjvvnmG2bQoEFMhw4dYkYHkydPZpxOJ7Nu3Trm+PHjgb/GxsaAn1i2A7n8x4MNPPLII8yGDRuYsrIyZufOncxf/vIXJiEhgfnqq68Yhont8meR0oHZbIA6Mxp5+eWXmS5dujB2u53p27dv0JbFWOK2225jCgoKmOTkZKawsJC5+eabmV9++SXg7vP5mNmzZzP5+fmMw+Fghg4dyvz0009RlDh8vvnmGwZAyN/48eMZhlGW56amJmbKlClMmzZtmNTUVOa6665jysvLo5AbbUjpoLGxkbnyyiuZdu3aMcnJyUznzp2Z8ePHh+TPyjoQyjsAZsmSJQE/sWwHcvmPBxuYOHFioI1v164dM2LEiEBHhmFiu/xZpHRgNhuwMQzD6DvWQxAEQRAEETlozQxBEARBEJaGOjMEQRAEQVga6swQBEEQBGFpqDNDEARBEISloc4MQRAEQRCWhjozBEEQBEFYGurMEARBEARhaagzQxAEQRCEpaHODEEQspx11ll44YUXoi2G7hw8eBA2mw07duyItigEQYQBdWYIIs45fPgw7rrrLhQWFsJut6NLly64//77cfr06WiLZjidOnXC8ePHcd5550VbFIIgwoA6MwQRxxw4cAD9+vXD3r17sWzZMuzbtw+vvfYa1qxZg0GDBuG3336Lilxerxc+n8/wdBITE5Gfn4+kpCTD0yIIwjioM0MQccx9990Hu92Or776Cpdddhk6d+6Ma665Bl9//TWOHj2KRx99NOC3rq4O48aNQ0ZGBgoLC/HSSy8FxTVnzhx07twZDocDhYWFmDZtWsDN7XZj5syZ6NChA9LT0zFgwACsW7cu4L506VJkZ2fj008/Ra9eveBwOPCPf/wDKSkpqK6uDkpn2rRpuOyyywAAp0+fxtixY9GxY0ekpaXh/PPPx7Jly4L8+3w+LFiwAEVFRXA4HOjcuTPmzp0LQHiaaf369bj44ovhcDhQUFCAhx9+GB6PJ+B++eWXY9q0aZg5cybatGmD/Px8zJkzJyjNmpoa/OlPf0JeXh6ysrIwfPhw/PjjjwH3H3/8EcOGDUNmZiaysrJw0UUXYdu2bfIFRhCEMLpfXUkQhCU4ffo0Y7PZmKeeekrQfdKkSUxOTg7j8/mYLl26MJmZmcy8efOYPXv2MC+++CKTmJgYuEF3+fLlTFZWFrNq1Srm0KFDzHfffcf8/e9/D8Q1btw45pJLLmE2bNjA7Nu3j3n66acZh8PB7N27l2EYhlmyZAmTnJzMXHLJJczmzZuZX3/9lamvr2fat2/PvPHGG4F4PB4P0759e+b1119nGIZhjhw5wjz99NNMSUkJs3///oBcW7ZsCYSZOXMmk5OTwyxdupTZt28fs3HjRuYf//gHwzAMU1ZWxgBgSkpKAvGlpaUx9957L7N7925mxYoVTG5uLjN79uxAfJdddhmTlZXFzJkzh9m7dy/zz3/+k7HZbAFd+Hw+ZvDgwcz111/PbN26ldm7dy/z4IMPMm3btmVOnz7NMAzDnHvuuczvf/97Zvfu3czevXuZ999/n9mxY0c4xUkQcQ11ZggiTtmyZQsDgFmxYoWg+3PPPccAYE6ePMl06dKFufrqq4Pcb7vtNuaaa65hGIZhnn32WaZHjx6M2+0OiWffvn2MzWZjjh49GvR8xIgRzCOPPMIwjL8zAyDkhT5t2jRm+PDhge9ffvklY7fbmd9++000X9deey3z4IMPMgzDMLW1tYzD4Qh0XvjwOzN/+ctfmJ49ezI+ny/g5+WXX2YyMjIYr9fLMIy/MzNkyJCgePr378/MmjWLYRiGWbNmDZOVlcU0NzcH+enevXugE5aZmcksXbpUNA8EQaiDppkIghCEYRgAgM1mAwAMGjQoyH3QoEHYvXs3AODWW29FU1MTunXrhkmTJmHFihWBqZkffvgBDMOgR48eyMjICPytX78e+/fvD8Rnt9vRu3fvoDTuuOMOrFu3DseOHQMAvP3227j22muRk5MDwL+2Zu7cuejduzfatm2LjIwMfPXVVygvLwcA7N69Gy6XCyNGjFCU5927d2PQoEGBPAPA4MGDUV9fjyNHjgSe8eUsKChARUUFAGD79u2or68PyMP+lZWVBfI7Y8YM3H333bjiiiswf/78ID0QBKEeWvVGEHFKUVERbDYbdu3ahRtvvDHE/ddff0VOTg5yc3NF42Bf+p06dcKePXuwevVqfP3117j33nvx9NNPY/369fD5fEhMTMT27duRmJgYFD4jIyPwf2pqalAnAgAuvvhidO/eHe+++y4mT56MFStWYMmSJQH3Z599Fs8//zxeeOEFnH/++UhPT8cDDzwAt9sdiFMNDMOEyMDv1AFAcnJyiB7YBcs+nw8FBQVBa4JYsrOzAfjXF40bNw6fffYZPv/8c8yePRvvvvsubrrpJlXyEgThhzozBBGntG3bFiNHjsQrr7yC6dOnB734T5w4gbfffht//OMfAy/xLVu2BIXfsmULzj777MD31NRU3HDDDbjhhhtw33334eyzz8ZPP/2EPn36wOv1oqKiApdeeqlqOceNG4e3334bHTt2REJCAkaNGhVw27hxI0aPHo3f//73APwdidLSUpxzzjkAgOLiYqSmpmLNmjW4++67ZdPq1asXPvzww6BOzbfffovMzEx06NBBkbx9+/bFiRMnkJSUhLPOOkvUX48ePdCjRw9Mnz4dY8eOxZIlS6gzQxAaoWkmgohjFi9eDJfLhauuugobNmzA4cOH8cUXX2DkyJHo0KFDYNcPAGzevBkLFy7E3r178fLLL2P58uW4//77Afh3I7355pv4+eefceDAAfz73/9GamoqunTpgh49euCOO+7AH//4R3z00UcoKyvD1q1bsWDBAqxatUpWxjvuuAM//PAD5s6di1tuuQUpKSkBt6KiIqxevRrffvstdu/ejT//+c84ceJEwD0lJQWzZs3CzJkz8a9//Qv79+/Hli1b8Oabbwqmde+99+Lw4cOYOnUqfv31V3zyySeYPXs2ZsyYgYQEZc3lFVdcgUGDBuHGG2/El19+iYMHD+Lbb7/FX//6V2zbtg1NTU2YMmUK1q1bh0OHDmHz5s3YunVroANGEIQGorpihyCIqHPw4EFmwoQJTH5+PpOcnMx06tSJmTp1KlNZWRnw06VLF+aJJ55gfve73zFpaWlM+/btmRdeeCHgvmLFCmbAgAFMVlYWk56ezgwcOJD5+uuvA+5ut5t5/PHHmbPOOotJTk5m8vPzmZtuuonZuXMnwzD+BcBOp1NUxv79+zMAmLVr1wY9P336NDN69GgmIyODycvLY/76178yf/zjH5nRo0cH/Hi9XubJJ59kunTpwiQnJzOdO3cO7ODiLwBmGIZZt24d079/f8ZutzP5+fnMrFmzmJaWloD7ZZddxtx///1BcowePZoZP3584HttbS0zdepUprCwMKDTO+64gykvL2dcLhdz++23M506dWLsdjtTWFjITJkyhWlqahLNP0EQ0tgY5syEMEEQBEEQhAWhaSaCIAiCICwNdWYIgiAIgrA01JkhCIIgCMLSUGeGIAiCIAhLQ50ZgiAIgiAsDXVmCIIgCIKwNNSZIQiCIAjC0lBnhiAIgiAIS0OdGYIgCIIgLA11ZgiCIAiCsDTUmSEIgiAIwtL8fwsRq9FnJPi4AAAAAElFTkSuQmCC",
      "text/plain": [
       "<Figure size 640x480 with 1 Axes>"
      ]
     },
     "metadata": {},
     "output_type": "display_data"
    }
   ],
   "source": [
    "# Vea qué tan bien fue la prueba del modelo\n",
    "regression_res_df_opt = pd.DataFrame({'Reales': y_test,'Predicciones': y_pred})\n",
    "\n",
    "sn.scatterplot(x = list(range(len(regression_res_df))), y ='Reales', data=regression_res_df, label = 'Reales')\n",
    "sn.scatterplot(x = list(range(len(regression_res_df))), y ='Predicciones', data=regression_res_df, label = 'Predicciones')\n",
    "plt.xlabel('Observaciones')\n",
    "plt.ylabel('Tamaño de célula')\n",
    "plt.show()"
   ]
  }
 ],
 "metadata": {
  "kernelspec": {
   "display_name": "base",
   "language": "python",
   "name": "python3"
  },
  "language_info": {
   "codemirror_mode": {
    "name": "ipython",
    "version": 3
   },
   "file_extension": ".py",
   "mimetype": "text/x-python",
   "name": "python",
   "nbconvert_exporter": "python",
   "pygments_lexer": "ipython3",
   "version": "3.9.13"
  },
  "orig_nbformat": 4
 },
 "nbformat": 4,
 "nbformat_minor": 2
}
