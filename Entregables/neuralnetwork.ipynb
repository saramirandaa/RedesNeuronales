{
 "cells": [
  {
   "attachments": {},
   "cell_type": "markdown",
   "metadata": {},
   "source": [
    "# <a id='toc1_'></a>[Clasificación y regresión de cáncer de mama en Wisconsin](#toc0_)\n",
    "* **Nombre del proyecto:** Redes Neuronales\n",
    "* **Nombre de la universidad:** Universidad Panamericana - Campus Ciudad de México\n",
    "* **Nombre de la materia:** Inteligencia Artificial\n",
    "* **Integrantes del Equipo:** Sara Miranda, Ivanna Tinedo, Christian Matos, Dania Venegas\n",
    "* **Fecha de entrega:** 31 de mayo de 2023\n",
    "* **Versión de código:** 1.0\n",
    "* Este archivo contiene el entrenamiento de la red neuronal con los datos, su graficación, su clasificación y su modelo de regresión.\n",
    "* Para ejecutar el código, abra este archivo como un cuaderno de jupyter en un entorno como Anaconda o Google Collab y ejecute todas las celdas."
   ]
  },
  {
   "attachments": {},
   "cell_type": "markdown",
   "metadata": {},
   "source": [
    "## Tabla de Contenidos<a id='toc0_'></a>    \n",
    "- [Clasificación y regresión de cáncer de mama en Wisconsin](#toc1_)    \n",
    "- [Dependencias](#toc2_)    \n",
    "- [Sobre los datos](#toc3_)    \n",
    "- [Información de atributos](#toc4_)    \n",
    "- [Importación de datos](#toc5_)    \n",
    "- [Análisis de 5 números](#toc6_)    \n",
    "- [Gráfica del conjunto de datos](#toc7_)    \n",
    "- [Clasificación](#toc8_)    \n",
    "  - [Conjunto de datos para entrenamiento](#toc8_1_)    \n",
    "  - [Escalamiento de los datos](#toc8_2_)    \n",
    "  - [Definición del modelo base](#toc8_3_)    \n",
    "  - [Entrenamiento del modelo base](#toc8_4_)    \n",
    "  - [Pruebas del modelo base](#toc8_5_)    \n",
    "  - [Evaluación del modelo base](#toc8_6_)    \n",
    "  - [Definición de la búsqueda de hiper-parámetros](#toc8_7_)    \n",
    "  - [Ejecución de la búsqueda de hiper-parámetros](#toc8_8_)    \n",
    "  - [Entrenamiento del mejor modelo](#toc8_9_)    \n",
    "  - [Prueba del mejor modelo](#toc8_10_)    \n",
    "  - [Evaluación del mejor modelo](#toc8_11_)    \n",
    "- [Regresión](#toc9_)    \n",
    "  - [Conjunto de datos para entrenamiento](#toc9_1_)    \n",
    "  - [Escalamiento de los datos](#toc9_2_)    \n",
    "  - [Definición del modelo base](#toc9_3_)    \n",
    "  - [Entrenamiento del modelo base](#toc9_4_)    \n",
    "  - [Prueba del modelo base](#toc9_5_)    \n",
    "  - [Evaluación del modelo base](#toc9_6_)    \n",
    "  - [Definición de la búsqueda de hiper-parámetros](#toc9_7_)    \n",
    "  - [Ejecución de la búsqueda de hiper-parámetros](#toc9_8_)    \n",
    "  - [Entrenamiento del mejor modelo](#toc9_9_)    \n",
    "  - [Prueba del mejor modelo](#toc9_10_)    \n",
    "  - [Evaluación del mejor modelo](#toc9_11_)    \n",
    "\n",
    "<!-- vscode-jupyter-toc-config\n",
    "\tnumbering=false\n",
    "\tanchor=true\n",
    "\tflat=false\n",
    "\tminLevel=1\n",
    "\tmaxLevel=6\n",
    "\t/vscode-jupyter-toc-config -->\n",
    "<!-- THIS CELL WILL BE REPLACED ON TOC UPDATE. DO NOT WRITE YOUR TEXT IN THIS CELL -->"
   ]
  },
  {
   "attachments": {},
   "cell_type": "markdown",
   "metadata": {},
   "source": [
    "# <a id='toc2_'></a>[Dependencias](#toc0_)"
   ]
  },
  {
   "cell_type": "code",
   "execution_count": 2,
   "metadata": {},
   "outputs": [
    {
     "ename": "ModuleNotFoundError",
     "evalue": "No module named 'pandas'",
     "output_type": "error",
     "traceback": [
      "\u001b[0;31m---------------------------------------------------------------------------\u001b[0m",
      "\u001b[0;31mModuleNotFoundError\u001b[0m                       Traceback (most recent call last)",
      "Cell \u001b[0;32mIn[2], line 2\u001b[0m\n\u001b[1;32m      1\u001b[0m \u001b[39m# Bibliotecas para manipular los datos y visualizarlos\u001b[39;00m\n\u001b[0;32m----> 2\u001b[0m \u001b[39mimport\u001b[39;00m \u001b[39mpandas\u001b[39;00m \u001b[39mas\u001b[39;00m \u001b[39mpd\u001b[39;00m\n\u001b[1;32m      3\u001b[0m \u001b[39mimport\u001b[39;00m \u001b[39mnumpy\u001b[39;00m \u001b[39mas\u001b[39;00m \u001b[39mnp\u001b[39;00m\n\u001b[1;32m      4\u001b[0m \u001b[39mfrom\u001b[39;00m \u001b[39mmath\u001b[39;00m \u001b[39mimport\u001b[39;00m sqrt\n",
      "\u001b[0;31mModuleNotFoundError\u001b[0m: No module named 'pandas'"
     ]
    }
   ],
   "source": [
    "# Bibliotecas para manipular los datos y visualizarlos\n",
    "import pandas as pd\n",
    "import numpy as np\n",
    "from math import sqrt\n",
    "\n",
    "# Bibliotecas para la graficación\n",
    "import matplotlib.pyplot as plt\n",
    "import seaborn as sn\n",
    "\n",
    "# Biblioteca para la manipulación de datos y creación de redes neuronales\n",
    "from sklearn.neural_network import MLPClassifier\n",
    "from sklearn.neural_network import MLPRegressor\n",
    "from sklearn.preprocessing import StandardScaler\n",
    "from sklearn.model_selection import train_test_split\n",
    "\n",
    "# Métricas de evaluación para la clasificación\n",
    "from sklearn.metrics import accuracy_score\n",
    "from sklearn.metrics import mean_squared_error\n",
    "from sklearn.metrics import classification_report\n",
    "\n",
    "# Métricas de evaluación para regresión\n",
    "from sklearn.metrics import r2_score\n",
    "from sklearn.metrics import max_error\n",
    "from sklearn.metrics import explained_variance_score\n",
    "\n",
    "# Para la sintonización de los híperparámetros\n",
    "from sklearn.model_selection import GridSearchCV"
   ]
  },
  {
   "attachments": {},
   "cell_type": "markdown",
   "metadata": {},
   "source": [
    "# <a id='toc3_'></a>[Sobre los datos](#toc0_)\n",
    "Los datos usados para este modelo de red neuronal corresponden a un estudio de 569 diagnósticos de cáncer de mama en hospitales de Universidad de Wisconsin hasta noviembre de 1995. Los datos fueron computados a partit de imágenes digitalizadas del procedimiento de diagnóstico Fine-Needle Aspiration (FNA). Los datos fueron donados por Nick Street al Machine Learning Repository de UCI en https://archive.ics.uci.edu/ml/datasets/Breast+Cancer+Wisconsin+%28Diagnostic%29. \n",
    "\n",
    "Sus creadores son:\n",
    "\n",
    "1. Dr. William H. Wolberg, General Surgery Dept.\n",
    "University of Wisconsin, Clinical Sciences Center\n",
    "Madison, WI 53792\n",
    "wolberg '@' eagle.surgery.wisc.edu\n",
    "\n",
    "1. W. Nick Street, Computer Sciences Dept.\n",
    "University of Wisconsin, 1210 West Dayton St., Madison, WI 53706\n",
    "street '@' cs.wisc.edu 608-262-6619\n",
    "\n",
    "1. Olvi L. Mangasarian, Computer Sciences Dept.\n",
    "University of Wisconsin, 1210 West Dayton St., Madison, WI 53706\n",
    "olvi '@' cs.wisc.edu\n",
    "\n",
    "Estos datos fueron usados originalmente para los siguientes estudios: \n",
    "   1. O. L. Mangasarian and W. H. Wolberg: \"Cancer diagnosis via linear \n",
    "      programming\", SIAM News, Volume 23, Number 5, September 1990, pp 1 & 18.\n",
    "\n",
    "   2. William H. Wolberg and O.L. Mangasarian: \"Multisurface method of \n",
    "      pattern separation for medical diagnosis applied to breast cytology\", \n",
    "      Proceedings of the National Academy of Sciences, U.S.A., Volume 87, \n",
    "      December 1990, pp 9193-9196.\n",
    "\n",
    "   3. O. L. Mangasarian, R. Setiono, and W.H. Wolberg: \"Pattern recognition \n",
    "      via linear programming: Theory and application to medical diagnosis\", \n",
    "      in: \"Large-scale numerical optimization\", Thomas F. Coleman and Yuying\n",
    "      Li, editors, SIAM Publications, Philadelphia 1990, pp 22-30.\n",
    "\n",
    "   4. K. P. Bennett & O. L. Mangasarian: \"Robust linear programming \n",
    "      discrimination of two linearly inseparable sets\", Optimization Methods\n",
    "      and Software 1, 1992, 23-34 (Gordon & Breach Science Publishers).\n",
    "\n",
    "\n"
   ]
  },
  {
   "attachments": {},
   "cell_type": "markdown",
   "metadata": {},
   "source": [
    "# <a id='toc4_'></a>[Información de atributos](#toc0_)\n",
    "1. Número de identificación\n",
    "2. Diagnóstico (M = maligno, B = benigno)\n",
    "\n",
    "Se calculan diez características de valor real para cada núcleo celular:\n",
    "\n",
    "1. Radio (promedio de distancias desde el centro hasta los puntos en el perímetro)\n",
    "2. Textura (desviación estándar de los valores en escala de grises)\n",
    "3. Perímetro\n",
    "4. Área\n",
    "5. Suavidad (variación local en las longitudes de radio)\n",
    "6. Compacidad (perímetro^2 / área - 1.0)\n",
    "7. Concavidad (gravedad de las porciones cóncavas del contorno)\n",
    "8. Puntos cóncavos (número de porciones cóncavas del contorno)\n",
    "9. Simetría\n",
    "10. Dimensión fractal (\"aproximación de la línea costera\" - 1)\n",
    "\n"
   ]
  },
  {
   "attachments": {},
   "cell_type": "markdown",
   "metadata": {},
   "source": [
    "# <a id='toc5_'></a>[Importación de datos](#toc0_)"
   ]
  },
  {
   "cell_type": "code",
   "execution_count": null,
   "metadata": {},
   "outputs": [
    {
     "name": "stdout",
     "output_type": "stream",
     "text": [
      "The dataset contains 699 observations and 11 features\n",
      "\n"
     ]
    },
    {
     "data": {
      "text/html": [
       "<div>\n",
       "<style scoped>\n",
       "    .dataframe tbody tr th:only-of-type {\n",
       "        vertical-align: middle;\n",
       "    }\n",
       "\n",
       "    .dataframe tbody tr th {\n",
       "        vertical-align: top;\n",
       "    }\n",
       "\n",
       "    .dataframe thead th {\n",
       "        text-align: right;\n",
       "    }\n",
       "</style>\n",
       "<table border=\"1\" class=\"dataframe\">\n",
       "  <thead>\n",
       "    <tr style=\"text-align: right;\">\n",
       "      <th></th>\n",
       "      <th>sample_code</th>\n",
       "      <th>clump_thickness</th>\n",
       "      <th>cell_size</th>\n",
       "      <th>cell_shape</th>\n",
       "      <th>marginal_adhesion</th>\n",
       "      <th>epithelial_size</th>\n",
       "      <th>bare_nuclei</th>\n",
       "      <th>bland_chromatin</th>\n",
       "      <th>normal_nucleoli</th>\n",
       "      <th>mitoses</th>\n",
       "      <th>classd</th>\n",
       "    </tr>\n",
       "  </thead>\n",
       "  <tbody>\n",
       "    <tr>\n",
       "      <th>0</th>\n",
       "      <td>1000025</td>\n",
       "      <td>5</td>\n",
       "      <td>1</td>\n",
       "      <td>1</td>\n",
       "      <td>1</td>\n",
       "      <td>2</td>\n",
       "      <td>1</td>\n",
       "      <td>3</td>\n",
       "      <td>1</td>\n",
       "      <td>1</td>\n",
       "      <td>2</td>\n",
       "    </tr>\n",
       "    <tr>\n",
       "      <th>1</th>\n",
       "      <td>1002945</td>\n",
       "      <td>5</td>\n",
       "      <td>4</td>\n",
       "      <td>4</td>\n",
       "      <td>5</td>\n",
       "      <td>7</td>\n",
       "      <td>10</td>\n",
       "      <td>3</td>\n",
       "      <td>2</td>\n",
       "      <td>1</td>\n",
       "      <td>2</td>\n",
       "    </tr>\n",
       "    <tr>\n",
       "      <th>2</th>\n",
       "      <td>1015425</td>\n",
       "      <td>3</td>\n",
       "      <td>1</td>\n",
       "      <td>1</td>\n",
       "      <td>1</td>\n",
       "      <td>2</td>\n",
       "      <td>2</td>\n",
       "      <td>3</td>\n",
       "      <td>1</td>\n",
       "      <td>1</td>\n",
       "      <td>2</td>\n",
       "    </tr>\n",
       "    <tr>\n",
       "      <th>3</th>\n",
       "      <td>1016277</td>\n",
       "      <td>6</td>\n",
       "      <td>8</td>\n",
       "      <td>8</td>\n",
       "      <td>1</td>\n",
       "      <td>3</td>\n",
       "      <td>4</td>\n",
       "      <td>3</td>\n",
       "      <td>7</td>\n",
       "      <td>1</td>\n",
       "      <td>2</td>\n",
       "    </tr>\n",
       "    <tr>\n",
       "      <th>4</th>\n",
       "      <td>1017023</td>\n",
       "      <td>4</td>\n",
       "      <td>1</td>\n",
       "      <td>1</td>\n",
       "      <td>3</td>\n",
       "      <td>2</td>\n",
       "      <td>1</td>\n",
       "      <td>3</td>\n",
       "      <td>1</td>\n",
       "      <td>1</td>\n",
       "      <td>2</td>\n",
       "    </tr>\n",
       "  </tbody>\n",
       "</table>\n",
       "</div>"
      ],
      "text/plain": [
       "   sample_code  clump_thickness  cell_size  cell_shape  marginal_adhesion  \\\n",
       "0      1000025                5          1           1                  1   \n",
       "1      1002945                5          4           4                  5   \n",
       "2      1015425                3          1           1                  1   \n",
       "3      1016277                6          8           8                  1   \n",
       "4      1017023                4          1           1                  3   \n",
       "\n",
       "   epithelial_size bare_nuclei  bland_chromatin  normal_nucleoli  mitoses  \\\n",
       "0                2           1                3                1        1   \n",
       "1                7          10                3                2        1   \n",
       "2                2           2                3                1        1   \n",
       "3                3           4                3                7        1   \n",
       "4                2           1                3                1        1   \n",
       "\n",
       "   classd  \n",
       "0       2  \n",
       "1       2  \n",
       "2       2  \n",
       "3       2  \n",
       "4       2  "
      ]
     },
     "execution_count": 187,
     "metadata": {},
     "output_type": "execute_result"
    }
   ],
   "source": [
    "# Generar un dataframe de pandas con el archivo que contiene el conjunto de datos\n",
    "dataset = pd.read_csv(filepath_or_buffer = 'breast-cancer-wisconsin.data', names = ['sample_code','clump_thickness','cell_size','cell_shape', 'marginal_adhesion', 'epithelial_size', 'bare_nuclei', 'bland_chromatin', 'normal_nucleoli', 'mitoses', 'classd'])\n",
    "\n",
    "# Eche un vistazo a los datos\n",
    "print('The dataset contains {} observations and {} features\\n'.format(dataset.shape[0],dataset.shape[1]))\n",
    "\n",
    "dataset.head()"
   ]
  },
  {
   "cell_type": "code",
   "execution_count": null,
   "metadata": {},
   "outputs": [
    {
     "data": {
      "text/html": [
       "<div>\n",
       "<style scoped>\n",
       "    .dataframe tbody tr th:only-of-type {\n",
       "        vertical-align: middle;\n",
       "    }\n",
       "\n",
       "    .dataframe tbody tr th {\n",
       "        vertical-align: top;\n",
       "    }\n",
       "\n",
       "    .dataframe thead th {\n",
       "        text-align: right;\n",
       "    }\n",
       "</style>\n",
       "<table border=\"1\" class=\"dataframe\">\n",
       "  <thead>\n",
       "    <tr style=\"text-align: right;\">\n",
       "      <th></th>\n",
       "      <th>sample_code</th>\n",
       "      <th>clump_thickness</th>\n",
       "      <th>cell_size</th>\n",
       "      <th>cell_shape</th>\n",
       "      <th>marginal_adhesion</th>\n",
       "      <th>epithelial_size</th>\n",
       "      <th>bare_nuclei</th>\n",
       "      <th>bland_chromatin</th>\n",
       "      <th>normal_nucleoli</th>\n",
       "      <th>mitoses</th>\n",
       "      <th>classd</th>\n",
       "    </tr>\n",
       "  </thead>\n",
       "  <tbody>\n",
       "    <tr>\n",
       "      <th>0</th>\n",
       "      <td>1000025</td>\n",
       "      <td>5</td>\n",
       "      <td>1</td>\n",
       "      <td>1</td>\n",
       "      <td>1</td>\n",
       "      <td>2</td>\n",
       "      <td>1</td>\n",
       "      <td>3</td>\n",
       "      <td>1</td>\n",
       "      <td>1</td>\n",
       "      <td>benign</td>\n",
       "    </tr>\n",
       "    <tr>\n",
       "      <th>1</th>\n",
       "      <td>1002945</td>\n",
       "      <td>5</td>\n",
       "      <td>4</td>\n",
       "      <td>4</td>\n",
       "      <td>5</td>\n",
       "      <td>7</td>\n",
       "      <td>10</td>\n",
       "      <td>3</td>\n",
       "      <td>2</td>\n",
       "      <td>1</td>\n",
       "      <td>benign</td>\n",
       "    </tr>\n",
       "    <tr>\n",
       "      <th>2</th>\n",
       "      <td>1015425</td>\n",
       "      <td>3</td>\n",
       "      <td>1</td>\n",
       "      <td>1</td>\n",
       "      <td>1</td>\n",
       "      <td>2</td>\n",
       "      <td>2</td>\n",
       "      <td>3</td>\n",
       "      <td>1</td>\n",
       "      <td>1</td>\n",
       "      <td>benign</td>\n",
       "    </tr>\n",
       "    <tr>\n",
       "      <th>3</th>\n",
       "      <td>1016277</td>\n",
       "      <td>6</td>\n",
       "      <td>8</td>\n",
       "      <td>8</td>\n",
       "      <td>1</td>\n",
       "      <td>3</td>\n",
       "      <td>4</td>\n",
       "      <td>3</td>\n",
       "      <td>7</td>\n",
       "      <td>1</td>\n",
       "      <td>benign</td>\n",
       "    </tr>\n",
       "    <tr>\n",
       "      <th>4</th>\n",
       "      <td>1017023</td>\n",
       "      <td>4</td>\n",
       "      <td>1</td>\n",
       "      <td>1</td>\n",
       "      <td>3</td>\n",
       "      <td>2</td>\n",
       "      <td>1</td>\n",
       "      <td>3</td>\n",
       "      <td>1</td>\n",
       "      <td>1</td>\n",
       "      <td>benign</td>\n",
       "    </tr>\n",
       "  </tbody>\n",
       "</table>\n",
       "</div>"
      ],
      "text/plain": [
       "   sample_code  clump_thickness  cell_size  cell_shape  marginal_adhesion  \\\n",
       "0      1000025                5          1           1                  1   \n",
       "1      1002945                5          4           4                  5   \n",
       "2      1015425                3          1           1                  1   \n",
       "3      1016277                6          8           8                  1   \n",
       "4      1017023                4          1           1                  3   \n",
       "\n",
       "   epithelial_size bare_nuclei  bland_chromatin  normal_nucleoli  mitoses  \\\n",
       "0                2           1                3                1        1   \n",
       "1                7          10                3                2        1   \n",
       "2                2           2                3                1        1   \n",
       "3                3           4                3                7        1   \n",
       "4                2           1                3                1        1   \n",
       "\n",
       "   classd  \n",
       "0  benign  \n",
       "1  benign  \n",
       "2  benign  \n",
       "3  benign  \n",
       "4  benign  "
      ]
     },
     "execution_count": 188,
     "metadata": {},
     "output_type": "execute_result"
    }
   ],
   "source": [
    "# Convierte los dos valores de classd a cadenas de caracteres\n",
    "diagnostics_mapping = {'2': 'benign',  '4': 'malignant'}\n",
    "dataset['classd'] = dataset['classd'].astype(str)\n",
    "dataset['classd'] = dataset['classd'].replace(diagnostics_mapping)\n",
    "\n",
    "dataset.head()"
   ]
  },
  {
   "cell_type": "code",
   "execution_count": null,
   "metadata": {},
   "outputs": [
    {
     "data": {
      "text/plain": [
       "classd\n",
       "benign       458\n",
       "malignant    241\n",
       "dtype: int64"
      ]
     },
     "execution_count": 189,
     "metadata": {},
     "output_type": "execute_result"
    }
   ],
   "source": [
    "# Verifique cuántas observaciones tenemos para cada categoría de benigno y maligno.\n",
    "dataset.groupby('classd').size()"
   ]
  },
  {
   "attachments": {},
   "cell_type": "markdown",
   "metadata": {},
   "source": [
    "# <a id='toc6_'></a>[Análisis de 5 números](#toc0_)"
   ]
  },
  {
   "cell_type": "code",
   "execution_count": null,
   "metadata": {},
   "outputs": [
    {
     "data": {
      "text/html": [
       "<div>\n",
       "<style scoped>\n",
       "    .dataframe tbody tr th:only-of-type {\n",
       "        vertical-align: middle;\n",
       "    }\n",
       "\n",
       "    .dataframe tbody tr th {\n",
       "        vertical-align: top;\n",
       "    }\n",
       "\n",
       "    .dataframe thead th {\n",
       "        text-align: right;\n",
       "    }\n",
       "</style>\n",
       "<table border=\"1\" class=\"dataframe\">\n",
       "  <thead>\n",
       "    <tr style=\"text-align: right;\">\n",
       "      <th></th>\n",
       "      <th>sample_code</th>\n",
       "      <th>clump_thickness</th>\n",
       "      <th>cell_size</th>\n",
       "      <th>cell_shape</th>\n",
       "      <th>marginal_adhesion</th>\n",
       "      <th>epithelial_size</th>\n",
       "      <th>bland_chromatin</th>\n",
       "      <th>normal_nucleoli</th>\n",
       "      <th>mitoses</th>\n",
       "    </tr>\n",
       "  </thead>\n",
       "  <tbody>\n",
       "    <tr>\n",
       "      <th>count</th>\n",
       "      <td>6.990000e+02</td>\n",
       "      <td>699.000000</td>\n",
       "      <td>699.000000</td>\n",
       "      <td>699.000000</td>\n",
       "      <td>699.000000</td>\n",
       "      <td>699.000000</td>\n",
       "      <td>699.000000</td>\n",
       "      <td>699.000000</td>\n",
       "      <td>699.000000</td>\n",
       "    </tr>\n",
       "    <tr>\n",
       "      <th>mean</th>\n",
       "      <td>1.071704e+06</td>\n",
       "      <td>4.417740</td>\n",
       "      <td>3.134478</td>\n",
       "      <td>3.207439</td>\n",
       "      <td>2.806867</td>\n",
       "      <td>3.216023</td>\n",
       "      <td>3.437768</td>\n",
       "      <td>2.866953</td>\n",
       "      <td>1.589413</td>\n",
       "    </tr>\n",
       "    <tr>\n",
       "      <th>std</th>\n",
       "      <td>6.170957e+05</td>\n",
       "      <td>2.815741</td>\n",
       "      <td>3.051459</td>\n",
       "      <td>2.971913</td>\n",
       "      <td>2.855379</td>\n",
       "      <td>2.214300</td>\n",
       "      <td>2.438364</td>\n",
       "      <td>3.053634</td>\n",
       "      <td>1.715078</td>\n",
       "    </tr>\n",
       "    <tr>\n",
       "      <th>min</th>\n",
       "      <td>6.163400e+04</td>\n",
       "      <td>1.000000</td>\n",
       "      <td>1.000000</td>\n",
       "      <td>1.000000</td>\n",
       "      <td>1.000000</td>\n",
       "      <td>1.000000</td>\n",
       "      <td>1.000000</td>\n",
       "      <td>1.000000</td>\n",
       "      <td>1.000000</td>\n",
       "    </tr>\n",
       "    <tr>\n",
       "      <th>25%</th>\n",
       "      <td>8.706885e+05</td>\n",
       "      <td>2.000000</td>\n",
       "      <td>1.000000</td>\n",
       "      <td>1.000000</td>\n",
       "      <td>1.000000</td>\n",
       "      <td>2.000000</td>\n",
       "      <td>2.000000</td>\n",
       "      <td>1.000000</td>\n",
       "      <td>1.000000</td>\n",
       "    </tr>\n",
       "    <tr>\n",
       "      <th>50%</th>\n",
       "      <td>1.171710e+06</td>\n",
       "      <td>4.000000</td>\n",
       "      <td>1.000000</td>\n",
       "      <td>1.000000</td>\n",
       "      <td>1.000000</td>\n",
       "      <td>2.000000</td>\n",
       "      <td>3.000000</td>\n",
       "      <td>1.000000</td>\n",
       "      <td>1.000000</td>\n",
       "    </tr>\n",
       "    <tr>\n",
       "      <th>75%</th>\n",
       "      <td>1.238298e+06</td>\n",
       "      <td>6.000000</td>\n",
       "      <td>5.000000</td>\n",
       "      <td>5.000000</td>\n",
       "      <td>4.000000</td>\n",
       "      <td>4.000000</td>\n",
       "      <td>5.000000</td>\n",
       "      <td>4.000000</td>\n",
       "      <td>1.000000</td>\n",
       "    </tr>\n",
       "    <tr>\n",
       "      <th>max</th>\n",
       "      <td>1.345435e+07</td>\n",
       "      <td>10.000000</td>\n",
       "      <td>10.000000</td>\n",
       "      <td>10.000000</td>\n",
       "      <td>10.000000</td>\n",
       "      <td>10.000000</td>\n",
       "      <td>10.000000</td>\n",
       "      <td>10.000000</td>\n",
       "      <td>10.000000</td>\n",
       "    </tr>\n",
       "  </tbody>\n",
       "</table>\n",
       "</div>"
      ],
      "text/plain": [
       "        sample_code  clump_thickness   cell_size  cell_shape  \\\n",
       "count  6.990000e+02       699.000000  699.000000  699.000000   \n",
       "mean   1.071704e+06         4.417740    3.134478    3.207439   \n",
       "std    6.170957e+05         2.815741    3.051459    2.971913   \n",
       "min    6.163400e+04         1.000000    1.000000    1.000000   \n",
       "25%    8.706885e+05         2.000000    1.000000    1.000000   \n",
       "50%    1.171710e+06         4.000000    1.000000    1.000000   \n",
       "75%    1.238298e+06         6.000000    5.000000    5.000000   \n",
       "max    1.345435e+07        10.000000   10.000000   10.000000   \n",
       "\n",
       "       marginal_adhesion  epithelial_size  bland_chromatin  normal_nucleoli  \\\n",
       "count         699.000000       699.000000       699.000000       699.000000   \n",
       "mean            2.806867         3.216023         3.437768         2.866953   \n",
       "std             2.855379         2.214300         2.438364         3.053634   \n",
       "min             1.000000         1.000000         1.000000         1.000000   \n",
       "25%             1.000000         2.000000         2.000000         1.000000   \n",
       "50%             1.000000         2.000000         3.000000         1.000000   \n",
       "75%             4.000000         4.000000         5.000000         4.000000   \n",
       "max            10.000000        10.000000        10.000000        10.000000   \n",
       "\n",
       "          mitoses  \n",
       "count  699.000000  \n",
       "mean     1.589413  \n",
       "std      1.715078  \n",
       "min      1.000000  \n",
       "25%      1.000000  \n",
       "50%      1.000000  \n",
       "75%      1.000000  \n",
       "max     10.000000  "
      ]
     },
     "execution_count": 190,
     "metadata": {},
     "output_type": "execute_result"
    }
   ],
   "source": [
    "# Use el análisis de cinco números para explorar estatiscalmente el conjunto de datos.\n",
    "dataset.describe()"
   ]
  },
  {
   "attachments": {},
   "cell_type": "markdown",
   "metadata": {},
   "source": [
    "# <a id='toc7_'></a>[Gráfica del conjunto de datos](#toc0_)"
   ]
  },
  {
   "cell_type": "code",
   "execution_count": null,
   "metadata": {},
   "outputs": [
    {
     "data": {
      "text/plain": [
       "<matplotlib.legend.Legend at 0x16b9c864fa0>"
      ]
     },
     "execution_count": 191,
     "metadata": {},
     "output_type": "execute_result"
    },
    {
     "data": {
      "image/png": "[encoded data removed]",
      "text/plain": [
       "<Figure size 1300x700 with 1 Axes>"
      ]
     },
     "metadata": {},
     "output_type": "display_data"
    }
   ],
   "source": [
    "# Grafique el tamaño de células y la forma de células con diagnósticos benignos y malignos.\n",
    "benign = dataset[dataset.classd == 'benign']\n",
    "malign = dataset[dataset.classd == 'malignant']\n",
    "\n",
    "fig, ax = plt.subplots()\n",
    "fig.set_size_inches(13, 7) # adjusting the length and width of plot\n",
    "\n",
    "# Etiquetas y puntos de dispersión\n",
    "ax.scatter(benign['cell_shape'], benign['cell_size'], label=\"Benigno\", facecolor=\"blue\")\n",
    "ax.scatter(malign['cell_shape'], malign['cell_size'], label=\"Maligno\", facecolor=\"red\")\n",
    "\n",
    "\n",
    "ax.set_xlabel(\"Forma de célula\")\n",
    "ax.set_ylabel(\"Tamaño de célulca\")\n",
    "ax.grid()\n",
    "ax.set_title(\"Diagnósticos de cáncer de mama de acuerdo con el tamaño y la forma de las células\")\n",
    "ax.legend()"
   ]
  },
  {
   "attachments": {},
   "cell_type": "markdown",
   "metadata": {},
   "source": [
    "# <a id='toc8_'></a>[Clasificación](#toc0_)"
   ]
  },
  {
   "attachments": {},
   "cell_type": "markdown",
   "metadata": {},
   "source": [
    "## <a id='toc8_1_'></a>[Conjunto de datos para entrenamiento](#toc0_)\n",
    "Junto con dataset, estas conforman las variables globales usadas dentro del código."
   ]
  },
  {
   "cell_type": "code",
   "execution_count": null,
   "metadata": {},
   "outputs": [
    {
     "name": "stdout",
     "output_type": "stream",
     "text": [
      "Los valores min del conjunto de datos son: \n",
      "sample_code           61634\n",
      "clump_thickness           1\n",
      "cell_size                 1\n",
      "cell_shape                1\n",
      "marginal_adhesion         1\n",
      "epithelial_size           1\n",
      "bare_nuclei               1\n",
      "bland_chromatin           1\n",
      "normal_nucleoli           1\n",
      "mitoses                   1\n",
      "classd               benign\n",
      "dtype: object\n",
      "Los valores máximos del conjunto de datos son: \n",
      "sample_code           13454352\n",
      "clump_thickness             10\n",
      "cell_size                   10\n",
      "cell_shape                  10\n",
      "marginal_adhesion           10\n",
      "epithelial_size             10\n",
      "bare_nuclei                  ?\n",
      "bland_chromatin             10\n",
      "normal_nucleoli             10\n",
      "mitoses                     10\n",
      "classd               malignant\n",
      "dtype: object\n"
     ]
    }
   ],
   "source": [
    "# Tomaremos classd como nuestra característica de interés.\n",
    "# X será nuestro conjunto de datos sin la característica de interés.\n",
    "X = dataset.drop('classd', axis=1)\n",
    "\n",
    "# Convertir en una matriz numpy y asignar el tamaño y la forma de las células como características.\n",
    "X = X.to_numpy()[:, (2,3)]\n",
    "\n",
    "# Y será nuestra característica de interés.\n",
    "y = dataset['classd']\n",
    "\n",
    "# Dividir para entrenamiento y prueba en proporciones de la mitad.\n",
    "X_train, X_test, y_train, y_test = train_test_split(X,y,test_size=0.5,random_state=42)\n",
    "\n",
    "print('Los valores min del conjunto de datos son: \\n{}'.format(dataset.min()))\n",
    "print('Los valores máximos del conjunto de datos son: \\n{}'.format(dataset.max()))"
   ]
  },
  {
   "attachments": {},
   "cell_type": "markdown",
   "metadata": {},
   "source": [
    "## <a id='toc8_2_'></a>[Escalamiento de los datos](#toc0_)"
   ]
  },
  {
   "cell_type": "code",
   "execution_count": null,
   "metadata": {},
   "outputs": [
    {
     "name": "stdout",
     "output_type": "stream",
     "text": [
      "Los valores min del conjunto de datos son: \n",
      "-0.7449149782167317\n",
      "Los valores máximos del conjunto de datos son: \n",
      "2.320275080096454\n"
     ]
    }
   ],
   "source": [
    "# Dado que los valores de las características son de diferentes rangos, \n",
    "# es necesario escalarlos ya que los modelos de ML son sensibles a estas variaciones.\n",
    "scaler = StandardScaler()\n",
    "\n",
    "# scaler = sc.fit(X_train)\n",
    "X_train_scaled = scaler.fit_transform(X_train)\n",
    "X_test_scaled = scaler.fit_transform(X_test)\n",
    "\n",
    "print('Los valores min del conjunto de datos son: \\n{}'.format(X_train_scaled.min()))\n",
    "print('Los valores máximos del conjunto de datos son: \\n{}'.format(X_train_scaled.max()))"
   ]
  },
  {
   "attachments": {},
   "cell_type": "markdown",
   "metadata": {},
   "source": [
    "## <a id='toc8_3_'></a>[Definición del modelo base](#toc0_)"
   ]
  },
  {
   "cell_type": "code",
   "execution_count": null,
   "metadata": {},
   "outputs": [],
   "source": [
    "# Definición de un clasificador de perceptrones múltiples.\n",
    "# Es una red neuronal artificial que utiliza la función de activación logística.\n",
    "mlp_clf = MLPClassifier(\n",
    "    # Definiendo el número de capas ocultas y el número de neuronas en cada capa.\n",
    "    hidden_layer_sizes=(2),\n",
    "    # Máximo número de iteraciones para el solucionador de optimización.\n",
    "    max_iter = 2000,\n",
    "    # Tolerancia para la optimización.\n",
    "    learning_rate_init = 0.001,\n",
    "    # Función de activación para la capa oculta. relu = la unidad lineal rectificada f(x) = max(0, x)\n",
    "    activation = 'relu',\n",
    "    # Optimizador de los pesos. adam = optimizador basado en gradiente estocástico propuesto por Kingma, Diederik, y Jimmy Ba\n",
    "    solver = 'adam'\n",
    "    )"
   ]
  },
  {
   "attachments": {},
   "cell_type": "markdown",
   "metadata": {},
   "source": [
    "## <a id='toc8_4_'></a>[Entrenamiento del modelo base](#toc0_)"
   ]
  },
  {
   "cell_type": "code",
   "execution_count": null,
   "metadata": {},
   "outputs": [
    {
     "data": {
      "text/plain": [
       "MLPClassifier(hidden_layer_sizes=2, max_iter=2000)"
      ]
     },
     "execution_count": 195,
     "metadata": {},
     "output_type": "execute_result"
    }
   ],
   "source": [
    "# Entrene el modelo con los datos de entrenamiento.\n",
    "mlp_clf.fit(X_train_scaled, y_train)"
   ]
  },
  {
   "attachments": {},
   "cell_type": "markdown",
   "metadata": {},
   "source": [
    "## <a id='toc8_5_'></a>[Pruebas del modelo base](#toc0_)"
   ]
  },
  {
   "cell_type": "code",
   "execution_count": null,
   "metadata": {},
   "outputs": [
    {
     "data": {
      "text/plain": [
       "array(['benign', 'benign', 'benign', 'malignant', 'benign', 'benign',\n",
       "       'benign', 'malignant', 'malignant', 'benign', 'benign',\n",
       "       'malignant', 'benign', 'benign', 'benign', 'malignant', 'benign',\n",
       "       'malignant', 'malignant', 'malignant', 'malignant', 'benign',\n",
       "       'malignant', 'benign', 'malignant', 'benign', 'benign',\n",
       "       'malignant', 'benign', 'malignant', 'benign', 'benign', 'benign',\n",
       "       'malignant', 'benign', 'benign', 'benign', 'malignant', 'benign',\n",
       "       'malignant', 'benign', 'benign', 'malignant', 'benign', 'benign',\n",
       "       'benign', 'benign', 'malignant', 'benign', 'benign', 'benign',\n",
       "       'benign', 'malignant', 'benign', 'malignant', 'benign', 'benign',\n",
       "       'malignant', 'benign', 'benign', 'benign', 'benign', 'malignant',\n",
       "       'benign', 'benign', 'benign', 'malignant', 'malignant', 'benign',\n",
       "       'benign', 'benign', 'benign', 'malignant', 'benign', 'benign',\n",
       "       'benign', 'benign', 'benign', 'benign', 'benign', 'benign',\n",
       "       'benign', 'benign', 'benign', 'benign', 'malignant', 'malignant',\n",
       "       'benign', 'benign', 'benign', 'benign', 'benign', 'malignant',\n",
       "       'benign', 'benign', 'malignant', 'benign', 'benign', 'benign',\n",
       "       'benign', 'benign', 'benign', 'benign', 'malignant', 'benign',\n",
       "       'benign', 'malignant', 'benign', 'benign', 'malignant',\n",
       "       'malignant', 'benign', 'benign', 'malignant', 'benign', 'benign',\n",
       "       'benign', 'benign', 'benign', 'benign', 'benign', 'malignant',\n",
       "       'benign', 'benign', 'malignant', 'malignant', 'benign', 'benign',\n",
       "       'malignant', 'malignant', 'benign', 'benign', 'malignant',\n",
       "       'benign', 'malignant', 'benign', 'malignant', 'benign', 'benign',\n",
       "       'benign', 'benign', 'benign', 'benign', 'benign', 'benign',\n",
       "       'malignant', 'benign', 'malignant', 'benign', 'malignant',\n",
       "       'benign', 'malignant', 'benign', 'malignant', 'benign',\n",
       "       'malignant', 'benign', 'benign', 'benign', 'benign', 'benign',\n",
       "       'malignant', 'benign', 'malignant', 'benign', 'benign',\n",
       "       'malignant', 'benign', 'benign', 'benign', 'benign', 'benign',\n",
       "       'malignant', 'malignant', 'benign', 'benign', 'malignant',\n",
       "       'malignant', 'benign', 'benign', 'benign', 'benign', 'malignant',\n",
       "       'benign', 'benign', 'benign', 'malignant', 'benign', 'benign',\n",
       "       'benign', 'benign', 'benign', 'benign', 'benign', 'malignant',\n",
       "       'benign', 'benign', 'benign', 'malignant', 'malignant',\n",
       "       'malignant', 'malignant', 'malignant', 'malignant', 'benign',\n",
       "       'benign', 'benign', 'benign', 'benign', 'benign', 'malignant',\n",
       "       'malignant', 'benign', 'benign', 'malignant', 'malignant',\n",
       "       'benign', 'benign', 'malignant', 'benign', 'benign', 'benign',\n",
       "       'benign', 'malignant', 'malignant', 'malignant', 'malignant',\n",
       "       'benign', 'benign', 'benign', 'malignant', 'benign', 'benign',\n",
       "       'malignant', 'benign', 'benign', 'benign', 'benign', 'benign',\n",
       "       'benign', 'malignant', 'benign', 'benign', 'malignant',\n",
       "       'malignant', 'benign', 'malignant', 'malignant', 'benign',\n",
       "       'benign', 'malignant', 'benign', 'benign', 'benign', 'benign',\n",
       "       'benign', 'benign', 'benign', 'benign', 'malignant', 'malignant',\n",
       "       'benign', 'benign', 'benign', 'benign', 'malignant', 'benign',\n",
       "       'malignant', 'malignant', 'benign', 'malignant', 'malignant',\n",
       "       'benign', 'malignant', 'malignant', 'benign', 'malignant',\n",
       "       'malignant', 'benign', 'malignant', 'benign', 'benign', 'benign',\n",
       "       'malignant', 'malignant', 'benign', 'benign', 'benign', 'benign',\n",
       "       'malignant', 'benign', 'benign', 'malignant', 'malignant',\n",
       "       'malignant', 'malignant', 'benign', 'malignant', 'benign',\n",
       "       'malignant', 'benign', 'benign', 'benign', 'malignant', 'benign',\n",
       "       'benign', 'malignant', 'benign', 'malignant', 'benign',\n",
       "       'malignant', 'malignant', 'benign', 'malignant', 'benign',\n",
       "       'benign', 'benign', 'benign', 'malignant', 'benign', 'malignant',\n",
       "       'benign', 'benign', 'malignant', 'benign', 'benign', 'benign',\n",
       "       'malignant', 'benign', 'benign', 'malignant', 'benign', 'benign',\n",
       "       'benign', 'malignant', 'benign', 'benign', 'benign', 'malignant',\n",
       "       'malignant', 'benign', 'malignant', 'benign', 'benign', 'benign',\n",
       "       'malignant', 'malignant', 'malignant', 'benign', 'benign'],\n",
       "      dtype='<U9')"
      ]
     },
     "execution_count": 196,
     "metadata": {},
     "output_type": "execute_result"
    }
   ],
   "source": [
    "# Pasar el conjunto de datos que hemos preparado para las pruebas\n",
    "y_pred = mlp_clf.predict(X_test_scaled)\n",
    "y_pred"
   ]
  },
  {
   "attachments": {},
   "cell_type": "markdown",
   "metadata": {},
   "source": [
    "## <a id='toc8_6_'></a>[Evaluación del modelo base](#toc0_)\n"
   ]
  },
  {
   "cell_type": "code",
   "execution_count": null,
   "metadata": {},
   "outputs": [
    {
     "name": "stdout",
     "output_type": "stream",
     "text": [
      "Exactitud: 0.94\n",
      "              precision    recall  f1-score   support\n",
      "\n",
      "      benign       0.95      0.96      0.96       226\n",
      "   malignant       0.93      0.90      0.92       124\n",
      "\n",
      "    accuracy                           0.94       350\n",
      "   macro avg       0.94      0.93      0.94       350\n",
      "weighted avg       0.94      0.94      0.94       350\n",
      "\n"
     ]
    }
   ],
   "source": [
    "# https://scikit-learn.org/stable/modules/model_evaluation.html\n",
    "\n",
    "# Exactitud\n",
    "print('Exactitud: {:.2f}'.format(accuracy_score(y_test, y_pred)))\n",
    "# Precisión, recuperación, puntaje F1 y soporte\n",
    "print(classification_report(y_test, y_pred))"
   ]
  },
  {
   "cell_type": "code",
   "execution_count": null,
   "metadata": {},
   "outputs": [
    {
     "data": {
      "image/png": "[encoded data removed]",
      "text/plain": [
       "<Figure size 640x480 with 1 Axes>"
      ]
     },
     "metadata": {},
     "output_type": "display_data"
    }
   ],
   "source": [
    "# Vea qué tan bien fue el entrenamiento del modelo\n",
    "plt.plot(mlp_clf.loss_curve_)\n",
    "plt.title(\"Curva de pérdida\", fontsize=14)\n",
    "plt.xlabel('Iteraciones')\n",
    "plt.ylabel('Costo')\n",
    "plt.show()"
   ]
  },
  {
   "cell_type": "code",
   "execution_count": null,
   "metadata": {},
   "outputs": [
    {
     "data": {
      "image/png": "[encoded data removed]",
      "text/plain": [
       "<Figure size 640x480 with 2 Axes>"
      ]
     },
     "metadata": {},
     "output_type": "display_data"
    }
   ],
   "source": [
    "# Generar la matriz de confusión\n",
    "confusion_matrix = pd.crosstab(y_test, y_pred, rownames=['Reales'], colnames=['Predicciones'])\n",
    "sn.heatmap(confusion_matrix, annot=True)\n",
    "plt.show()"
   ]
  },
  {
   "cell_type": "code",
   "execution_count": null,
   "metadata": {},
   "outputs": [
    {
     "name": "stdout",
     "output_type": "stream",
     "text": [
      "Predicciones \n",
      "             0\n",
      "count      350\n",
      "unique       2\n",
      "top     benign\n",
      "freq       230\n",
      "\n",
      "Ejemplos Verdaderos \n",
      "count        350\n",
      "unique         2\n",
      "top       benign\n",
      "freq         226\n",
      "Name: classd, dtype: object\n"
     ]
    }
   ],
   "source": [
    "# Eche un vistazo a las predicciones\n",
    "y_pred_pd = pd.DataFrame(y_pred)\n",
    "print('Predicciones \\n{}\\n'.format(y_pred_pd.describe()))\n",
    "\n",
    "# Eche un vistazo a los verdaderos ejemplos\n",
    "print('Ejemplos Verdaderos \\n{}'.format(y_test.describe()))"
   ]
  },
  {
   "attachments": {},
   "cell_type": "markdown",
   "metadata": {},
   "source": [
    "## <a id='toc8_7_'></a>[Definición de la búsqueda de hiper-parámetros](#toc0_)"
   ]
  },
  {
   "cell_type": "code",
   "execution_count": null,
   "metadata": {},
   "outputs": [],
   "source": [
    "# Definir un conjunto de parámetros que estamos interesados en entrenar con nuestro modelo\n",
    "param_grid = {\n",
    "    'hidden_layer_sizes': [(150,100,50), (120,80), (100)],\n",
    "    'max_iter': [600, 1200, 1800],\n",
    "    'activation': ['tanh', 'relu'],\n",
    "    'solver': ['sgd', 'adam'],\n",
    "    # Fuerza del término de regularización de L2, que agrega una penalización a los pesos de los parámetros.\n",
    "    'alpha': [0.0001, 0.05],\n",
    "    # Un valor que funciona como la temperatura en el algoritmo de recocido simulado\n",
    "    'learning_rate': ['constant','adaptive'],\n",
    "}"
   ]
  },
  {
   "attachments": {},
   "cell_type": "markdown",
   "metadata": {},
   "source": [
    "## <a id='toc8_8_'></a>[Ejecución de la búsqueda de hiper-parámetros](#toc0_)"
   ]
  },
  {
   "cell_type": "code",
   "execution_count": null,
   "metadata": {},
   "outputs": [],
   "source": [
    "grid_clf = GridSearchCV(\n",
    "    # El modelo que estamos entrenando, en este caso un clasificador de perceptrones múltiples\n",
    "    mlp_clf,\n",
    "    # Los diferentes híperparámetros que queremos entrenar\n",
    "    param_grid,\n",
    "    # Número de procesos que se ejecutarán en paralelo. Si se establece en -1, se utilizarán todos los procesadores.\n",
    "    n_jobs = -1,\n",
    "    # Número de veces que se repite la validación cruzada con diferentes conjuntos de entrenamiento y prueba.\n",
    "    cv = 5\n",
    "    )"
   ]
  },
  {
   "cell_type": "code",
   "execution_count": null,
   "metadata": {},
   "outputs": [
    {
     "data": {
      "text/plain": [
       "GridSearchCV(cv=5, estimator=MLPClassifier(hidden_layer_sizes=2, max_iter=2000),\n",
       "             n_jobs=-1,\n",
       "             param_grid={'activation': ['tanh', 'relu'],\n",
       "                         'alpha': [0.0001, 0.05],\n",
       "                         'hidden_layer_sizes': [(150, 100, 50), (120, 80), 100],\n",
       "                         'learning_rate': ['constant', 'adaptive'],\n",
       "                         'max_iter': [600, 1200, 1800],\n",
       "                         'solver': ['sgd', 'adam']})"
      ]
     },
     "execution_count": 203,
     "metadata": {},
     "output_type": "execute_result"
    }
   ],
   "source": [
    "# Ajustar el modelo a los datos de entrenamiento (puede demorar)\n",
    "grid_clf.fit(X_train_scaled, y_train)"
   ]
  },
  {
   "cell_type": "code",
   "execution_count": null,
   "metadata": {},
   "outputs": [
    {
     "name": "stdout",
     "output_type": "stream",
     "text": [
      "Los mejores valores de híperparámetros son:\n",
      "{'activation': 'tanh', 'alpha': 0.0001, 'hidden_layer_sizes': (150, 100, 50), 'learning_rate': 'constant', 'max_iter': 1200, 'solver': 'adam'}\n"
     ]
    }
   ],
   "source": [
    "# Consigue los mejores valores para los hiper-parámetros entrenados\n",
    "print('Los mejores valores de híperparámetros son:\\n{}'.format(grid_clf.best_params_))"
   ]
  },
  {
   "cell_type": "code",
   "execution_count": null,
   "metadata": {},
   "outputs": [],
   "source": [
    "# Guarde los resultados como Pandas DataFrame para interactuar fácilmente con los datos\n",
    "grid_results_clf = pd.DataFrame(grid_clf.cv_results_)"
   ]
  },
  {
   "cell_type": "code",
   "execution_count": null,
   "metadata": {},
   "outputs": [
    {
     "data": {
      "text/html": [
       "<div>\n",
       "<style scoped>\n",
       "    .dataframe tbody tr th:only-of-type {\n",
       "        vertical-align: middle;\n",
       "    }\n",
       "\n",
       "    .dataframe tbody tr th {\n",
       "        vertical-align: top;\n",
       "    }\n",
       "\n",
       "    .dataframe thead th {\n",
       "        text-align: right;\n",
       "    }\n",
       "</style>\n",
       "<table border=\"1\" class=\"dataframe\">\n",
       "  <thead>\n",
       "    <tr style=\"text-align: right;\">\n",
       "      <th></th>\n",
       "      <th>mean_fit_time</th>\n",
       "      <th>std_fit_time</th>\n",
       "      <th>mean_score_time</th>\n",
       "      <th>std_score_time</th>\n",
       "      <th>param_activation</th>\n",
       "      <th>param_alpha</th>\n",
       "      <th>param_hidden_layer_sizes</th>\n",
       "      <th>param_learning_rate</th>\n",
       "      <th>param_max_iter</th>\n",
       "      <th>param_solver</th>\n",
       "      <th>params</th>\n",
       "      <th>split0_test_score</th>\n",
       "      <th>split1_test_score</th>\n",
       "      <th>split2_test_score</th>\n",
       "      <th>split3_test_score</th>\n",
       "      <th>split4_test_score</th>\n",
       "      <th>mean_test_score</th>\n",
       "      <th>std_test_score</th>\n",
       "      <th>rank_test_score</th>\n",
       "    </tr>\n",
       "  </thead>\n",
       "  <tbody>\n",
       "    <tr>\n",
       "      <th>3</th>\n",
       "      <td>1.542868</td>\n",
       "      <td>0.734412</td>\n",
       "      <td>0.002838</td>\n",
       "      <td>0.000546</td>\n",
       "      <td>tanh</td>\n",
       "      <td>0.0001</td>\n",
       "      <td>(150, 100, 50)</td>\n",
       "      <td>constant</td>\n",
       "      <td>1200</td>\n",
       "      <td>adam</td>\n",
       "      <td>{'activation': 'tanh', 'alpha': 0.0001, 'hidde...</td>\n",
       "      <td>0.971429</td>\n",
       "      <td>0.957143</td>\n",
       "      <td>0.957143</td>\n",
       "      <td>0.914286</td>\n",
       "      <td>0.942029</td>\n",
       "      <td>0.948406</td>\n",
       "      <td>0.019430</td>\n",
       "      <td>1</td>\n",
       "    </tr>\n",
       "    <tr>\n",
       "      <th>15</th>\n",
       "      <td>1.347760</td>\n",
       "      <td>0.863983</td>\n",
       "      <td>0.002006</td>\n",
       "      <td>0.000636</td>\n",
       "      <td>tanh</td>\n",
       "      <td>0.0001</td>\n",
       "      <td>(120, 80)</td>\n",
       "      <td>constant</td>\n",
       "      <td>1200</td>\n",
       "      <td>adam</td>\n",
       "      <td>{'activation': 'tanh', 'alpha': 0.0001, 'hidde...</td>\n",
       "      <td>0.971429</td>\n",
       "      <td>0.957143</td>\n",
       "      <td>0.957143</td>\n",
       "      <td>0.914286</td>\n",
       "      <td>0.942029</td>\n",
       "      <td>0.948406</td>\n",
       "      <td>0.019430</td>\n",
       "      <td>1</td>\n",
       "    </tr>\n",
       "    <tr>\n",
       "      <th>110</th>\n",
       "      <td>4.999809</td>\n",
       "      <td>0.708491</td>\n",
       "      <td>0.002420</td>\n",
       "      <td>0.000212</td>\n",
       "      <td>relu</td>\n",
       "      <td>0.05</td>\n",
       "      <td>(150, 100, 50)</td>\n",
       "      <td>constant</td>\n",
       "      <td>1200</td>\n",
       "      <td>sgd</td>\n",
       "      <td>{'activation': 'relu', 'alpha': 0.05, 'hidden_...</td>\n",
       "      <td>0.971429</td>\n",
       "      <td>0.957143</td>\n",
       "      <td>0.971429</td>\n",
       "      <td>0.914286</td>\n",
       "      <td>0.927536</td>\n",
       "      <td>0.948364</td>\n",
       "      <td>0.023393</td>\n",
       "      <td>3</td>\n",
       "    </tr>\n",
       "    <tr>\n",
       "      <th>118</th>\n",
       "      <td>6.007784</td>\n",
       "      <td>1.011112</td>\n",
       "      <td>0.004512</td>\n",
       "      <td>0.003590</td>\n",
       "      <td>relu</td>\n",
       "      <td>0.05</td>\n",
       "      <td>(150, 100, 50)</td>\n",
       "      <td>adaptive</td>\n",
       "      <td>1800</td>\n",
       "      <td>sgd</td>\n",
       "      <td>{'activation': 'relu', 'alpha': 0.05, 'hidden_...</td>\n",
       "      <td>0.971429</td>\n",
       "      <td>0.957143</td>\n",
       "      <td>0.971429</td>\n",
       "      <td>0.914286</td>\n",
       "      <td>0.927536</td>\n",
       "      <td>0.948364</td>\n",
       "      <td>0.023393</td>\n",
       "      <td>3</td>\n",
       "    </tr>\n",
       "    <tr>\n",
       "      <th>80</th>\n",
       "      <td>7.016711</td>\n",
       "      <td>0.570813</td>\n",
       "      <td>0.001934</td>\n",
       "      <td>0.000650</td>\n",
       "      <td>relu</td>\n",
       "      <td>0.0001</td>\n",
       "      <td>(150, 100, 50)</td>\n",
       "      <td>adaptive</td>\n",
       "      <td>1200</td>\n",
       "      <td>sgd</td>\n",
       "      <td>{'activation': 'relu', 'alpha': 0.0001, 'hidde...</td>\n",
       "      <td>0.971429</td>\n",
       "      <td>0.957143</td>\n",
       "      <td>0.971429</td>\n",
       "      <td>0.914286</td>\n",
       "      <td>0.927536</td>\n",
       "      <td>0.948364</td>\n",
       "      <td>0.023393</td>\n",
       "      <td>3</td>\n",
       "    </tr>\n",
       "    <tr>\n",
       "      <th>...</th>\n",
       "      <td>...</td>\n",
       "      <td>...</td>\n",
       "      <td>...</td>\n",
       "      <td>...</td>\n",
       "      <td>...</td>\n",
       "      <td>...</td>\n",
       "      <td>...</td>\n",
       "      <td>...</td>\n",
       "      <td>...</td>\n",
       "      <td>...</td>\n",
       "      <td>...</td>\n",
       "      <td>...</td>\n",
       "      <td>...</td>\n",
       "      <td>...</td>\n",
       "      <td>...</td>\n",
       "      <td>...</td>\n",
       "      <td>...</td>\n",
       "      <td>...</td>\n",
       "      <td>...</td>\n",
       "    </tr>\n",
       "    <tr>\n",
       "      <th>81</th>\n",
       "      <td>4.059874</td>\n",
       "      <td>1.345144</td>\n",
       "      <td>0.002285</td>\n",
       "      <td>0.000746</td>\n",
       "      <td>relu</td>\n",
       "      <td>0.0001</td>\n",
       "      <td>(150, 100, 50)</td>\n",
       "      <td>adaptive</td>\n",
       "      <td>1200</td>\n",
       "      <td>adam</td>\n",
       "      <td>{'activation': 'relu', 'alpha': 0.0001, 'hidde...</td>\n",
       "      <td>0.942857</td>\n",
       "      <td>0.957143</td>\n",
       "      <td>0.928571</td>\n",
       "      <td>0.914286</td>\n",
       "      <td>0.927536</td>\n",
       "      <td>0.934079</td>\n",
       "      <td>0.014655</td>\n",
       "      <td>136</td>\n",
       "    </tr>\n",
       "    <tr>\n",
       "      <th>79</th>\n",
       "      <td>3.303391</td>\n",
       "      <td>1.676667</td>\n",
       "      <td>0.004613</td>\n",
       "      <td>0.004738</td>\n",
       "      <td>relu</td>\n",
       "      <td>0.0001</td>\n",
       "      <td>(150, 100, 50)</td>\n",
       "      <td>adaptive</td>\n",
       "      <td>600</td>\n",
       "      <td>adam</td>\n",
       "      <td>{'activation': 'relu', 'alpha': 0.0001, 'hidde...</td>\n",
       "      <td>0.942857</td>\n",
       "      <td>0.957143</td>\n",
       "      <td>0.914286</td>\n",
       "      <td>0.914286</td>\n",
       "      <td>0.927536</td>\n",
       "      <td>0.931222</td>\n",
       "      <td>0.016700</td>\n",
       "      <td>141</td>\n",
       "    </tr>\n",
       "    <tr>\n",
       "      <th>77</th>\n",
       "      <td>4.345523</td>\n",
       "      <td>1.575447</td>\n",
       "      <td>0.004043</td>\n",
       "      <td>0.002848</td>\n",
       "      <td>relu</td>\n",
       "      <td>0.0001</td>\n",
       "      <td>(150, 100, 50)</td>\n",
       "      <td>constant</td>\n",
       "      <td>1800</td>\n",
       "      <td>adam</td>\n",
       "      <td>{'activation': 'relu', 'alpha': 0.0001, 'hidde...</td>\n",
       "      <td>0.942857</td>\n",
       "      <td>0.957143</td>\n",
       "      <td>0.914286</td>\n",
       "      <td>0.914286</td>\n",
       "      <td>0.927536</td>\n",
       "      <td>0.931222</td>\n",
       "      <td>0.016700</td>\n",
       "      <td>141</td>\n",
       "    </tr>\n",
       "    <tr>\n",
       "      <th>83</th>\n",
       "      <td>5.103198</td>\n",
       "      <td>1.314619</td>\n",
       "      <td>0.002652</td>\n",
       "      <td>0.000734</td>\n",
       "      <td>relu</td>\n",
       "      <td>0.0001</td>\n",
       "      <td>(150, 100, 50)</td>\n",
       "      <td>adaptive</td>\n",
       "      <td>1800</td>\n",
       "      <td>adam</td>\n",
       "      <td>{'activation': 'relu', 'alpha': 0.0001, 'hidde...</td>\n",
       "      <td>0.942857</td>\n",
       "      <td>0.957143</td>\n",
       "      <td>0.928571</td>\n",
       "      <td>0.900000</td>\n",
       "      <td>0.927536</td>\n",
       "      <td>0.931222</td>\n",
       "      <td>0.018988</td>\n",
       "      <td>141</td>\n",
       "    </tr>\n",
       "    <tr>\n",
       "      <th>75</th>\n",
       "      <td>6.536128</td>\n",
       "      <td>1.021818</td>\n",
       "      <td>0.003413</td>\n",
       "      <td>0.001353</td>\n",
       "      <td>relu</td>\n",
       "      <td>0.0001</td>\n",
       "      <td>(150, 100, 50)</td>\n",
       "      <td>constant</td>\n",
       "      <td>1200</td>\n",
       "      <td>adam</td>\n",
       "      <td>{'activation': 'relu', 'alpha': 0.0001, 'hidde...</td>\n",
       "      <td>0.942857</td>\n",
       "      <td>0.957143</td>\n",
       "      <td>0.914286</td>\n",
       "      <td>0.914286</td>\n",
       "      <td>0.927536</td>\n",
       "      <td>0.931222</td>\n",
       "      <td>0.016700</td>\n",
       "      <td>141</td>\n",
       "    </tr>\n",
       "  </tbody>\n",
       "</table>\n",
       "<p>144 rows × 19 columns</p>\n",
       "</div>"
      ],
      "text/plain": [
       "     mean_fit_time  std_fit_time  mean_score_time  std_score_time  \\\n",
       "3         1.542868      0.734412         0.002838        0.000546   \n",
       "15        1.347760      0.863983         0.002006        0.000636   \n",
       "110       4.999809      0.708491         0.002420        0.000212   \n",
       "118       6.007784      1.011112         0.004512        0.003590   \n",
       "80        7.016711      0.570813         0.001934        0.000650   \n",
       "..             ...           ...              ...             ...   \n",
       "81        4.059874      1.345144         0.002285        0.000746   \n",
       "79        3.303391      1.676667         0.004613        0.004738   \n",
       "77        4.345523      1.575447         0.004043        0.002848   \n",
       "83        5.103198      1.314619         0.002652        0.000734   \n",
       "75        6.536128      1.021818         0.003413        0.001353   \n",
       "\n",
       "    param_activation param_alpha param_hidden_layer_sizes param_learning_rate  \\\n",
       "3               tanh      0.0001           (150, 100, 50)            constant   \n",
       "15              tanh      0.0001                (120, 80)            constant   \n",
       "110             relu        0.05           (150, 100, 50)            constant   \n",
       "118             relu        0.05           (150, 100, 50)            adaptive   \n",
       "80              relu      0.0001           (150, 100, 50)            adaptive   \n",
       "..               ...         ...                      ...                 ...   \n",
       "81              relu      0.0001           (150, 100, 50)            adaptive   \n",
       "79              relu      0.0001           (150, 100, 50)            adaptive   \n",
       "77              relu      0.0001           (150, 100, 50)            constant   \n",
       "83              relu      0.0001           (150, 100, 50)            adaptive   \n",
       "75              relu      0.0001           (150, 100, 50)            constant   \n",
       "\n",
       "    param_max_iter param_solver  \\\n",
       "3             1200         adam   \n",
       "15            1200         adam   \n",
       "110           1200          sgd   \n",
       "118           1800          sgd   \n",
       "80            1200          sgd   \n",
       "..             ...          ...   \n",
       "81            1200         adam   \n",
       "79             600         adam   \n",
       "77            1800         adam   \n",
       "83            1800         adam   \n",
       "75            1200         adam   \n",
       "\n",
       "                                                params  split0_test_score  \\\n",
       "3    {'activation': 'tanh', 'alpha': 0.0001, 'hidde...           0.971429   \n",
       "15   {'activation': 'tanh', 'alpha': 0.0001, 'hidde...           0.971429   \n",
       "110  {'activation': 'relu', 'alpha': 0.05, 'hidden_...           0.971429   \n",
       "118  {'activation': 'relu', 'alpha': 0.05, 'hidden_...           0.971429   \n",
       "80   {'activation': 'relu', 'alpha': 0.0001, 'hidde...           0.971429   \n",
       "..                                                 ...                ...   \n",
       "81   {'activation': 'relu', 'alpha': 0.0001, 'hidde...           0.942857   \n",
       "79   {'activation': 'relu', 'alpha': 0.0001, 'hidde...           0.942857   \n",
       "77   {'activation': 'relu', 'alpha': 0.0001, 'hidde...           0.942857   \n",
       "83   {'activation': 'relu', 'alpha': 0.0001, 'hidde...           0.942857   \n",
       "75   {'activation': 'relu', 'alpha': 0.0001, 'hidde...           0.942857   \n",
       "\n",
       "     split1_test_score  split2_test_score  split3_test_score  \\\n",
       "3             0.957143           0.957143           0.914286   \n",
       "15            0.957143           0.957143           0.914286   \n",
       "110           0.957143           0.971429           0.914286   \n",
       "118           0.957143           0.971429           0.914286   \n",
       "80            0.957143           0.971429           0.914286   \n",
       "..                 ...                ...                ...   \n",
       "81            0.957143           0.928571           0.914286   \n",
       "79            0.957143           0.914286           0.914286   \n",
       "77            0.957143           0.914286           0.914286   \n",
       "83            0.957143           0.928571           0.900000   \n",
       "75            0.957143           0.914286           0.914286   \n",
       "\n",
       "     split4_test_score  mean_test_score  std_test_score  rank_test_score  \n",
       "3             0.942029         0.948406        0.019430                1  \n",
       "15            0.942029         0.948406        0.019430                1  \n",
       "110           0.927536         0.948364        0.023393                3  \n",
       "118           0.927536         0.948364        0.023393                3  \n",
       "80            0.927536         0.948364        0.023393                3  \n",
       "..                 ...              ...             ...              ...  \n",
       "81            0.927536         0.934079        0.014655              136  \n",
       "79            0.927536         0.931222        0.016700              141  \n",
       "77            0.927536         0.931222        0.016700              141  \n",
       "83            0.927536         0.931222        0.018988              141  \n",
       "75            0.927536         0.931222        0.016700              141  \n",
       "\n",
       "[144 rows x 19 columns]"
      ]
     },
     "execution_count": 206,
     "metadata": {},
     "output_type": "execute_result"
    }
   ],
   "source": [
    "grid_results_clf.sort_values('rank_test_score')"
   ]
  },
  {
   "cell_type": "code",
   "execution_count": null,
   "metadata": {},
   "outputs": [],
   "source": [
    "# Generar un codificador directo\n",
    "def coder(classd):\n",
    "    if classd == 'benign':\n",
    "        return 0\n",
    "    elif classd == 'malignant':\n",
    "        return 1\n",
    "\n",
    "# Aplicar el codificador a la característica de interés\n",
    "dataset['classd'] = dataset['classd'].apply(coder)"
   ]
  },
  {
   "cell_type": "code",
   "execution_count": null,
   "metadata": {},
   "outputs": [
    {
     "data": {
      "text/plain": [
       "classd\n",
       "0    458\n",
       "1    241\n",
       "dtype: int64"
      ]
     },
     "execution_count": 208,
     "metadata": {},
     "output_type": "execute_result"
    }
   ],
   "source": [
    "dataset.groupby('classd').size()"
   ]
  },
  {
   "attachments": {},
   "cell_type": "markdown",
   "metadata": {},
   "source": [
    "## <a id='toc8_9_'></a>[Entrenamiento del mejor modelo](#toc0_)"
   ]
  },
  {
   "cell_type": "code",
   "execution_count": null,
   "metadata": {},
   "outputs": [
    {
     "data": {
      "text/plain": [
       "MLPClassifier(activation='tanh', hidden_layer_sizes=(150, 100, 50),\n",
       "              learning_rate='adaptive', max_iter=1200)"
      ]
     },
     "execution_count": 209,
     "metadata": {},
     "output_type": "execute_result"
    }
   ],
   "source": [
    "# Definición de un clasificador de perceptrones múltiples.\n",
    "# Se usan los mejores valores de hiperparámetros encontrados en la sintonización de hiperparámetros.\n",
    "mlp_clf_opt = MLPClassifier(\n",
    "    activation = 'tanh',\n",
    "    alpha = 0.0001,\n",
    "    hidden_layer_sizes = (150, 100, 50),\n",
    "    learning_rate = 'adaptive',\n",
    "    max_iter = 1200,\n",
    "    solver = 'adam'\n",
    "    )\n",
    "\n",
    "# Entrene el modelo con los datos de entrenamiento.\n",
    "mlp_clf_opt.fit(X_train_scaled, y_train)"
   ]
  },
  {
   "attachments": {},
   "cell_type": "markdown",
   "metadata": {},
   "source": [
    "## <a id='toc8_10_'></a>[Prueba del mejor modelo](#toc0_)"
   ]
  },
  {
   "cell_type": "code",
   "execution_count": null,
   "metadata": {},
   "outputs": [
    {
     "data": {
      "text/plain": [
       "array(['benign', 'benign', 'benign', 'malignant', 'benign', 'benign',\n",
       "       'benign', 'malignant', 'malignant', 'benign', 'benign',\n",
       "       'malignant', 'benign', 'benign', 'benign', 'malignant', 'benign',\n",
       "       'malignant', 'malignant', 'malignant', 'malignant', 'benign',\n",
       "       'malignant', 'benign', 'malignant', 'benign', 'benign',\n",
       "       'malignant', 'benign', 'malignant', 'benign', 'benign', 'benign',\n",
       "       'malignant', 'benign', 'benign', 'benign', 'malignant', 'benign',\n",
       "       'malignant', 'benign', 'benign', 'malignant', 'benign', 'benign',\n",
       "       'benign', 'benign', 'malignant', 'benign', 'benign', 'benign',\n",
       "       'benign', 'malignant', 'benign', 'malignant', 'benign', 'benign',\n",
       "       'malignant', 'benign', 'benign', 'benign', 'benign', 'malignant',\n",
       "       'benign', 'benign', 'benign', 'malignant', 'malignant', 'benign',\n",
       "       'benign', 'benign', 'benign', 'malignant', 'benign', 'benign',\n",
       "       'benign', 'benign', 'benign', 'benign', 'benign', 'benign',\n",
       "       'benign', 'benign', 'benign', 'benign', 'malignant', 'malignant',\n",
       "       'benign', 'benign', 'benign', 'benign', 'benign', 'malignant',\n",
       "       'benign', 'benign', 'malignant', 'benign', 'benign', 'benign',\n",
       "       'benign', 'benign', 'benign', 'benign', 'malignant', 'benign',\n",
       "       'benign', 'malignant', 'benign', 'benign', 'malignant',\n",
       "       'malignant', 'benign', 'benign', 'malignant', 'benign', 'benign',\n",
       "       'benign', 'benign', 'benign', 'benign', 'benign', 'malignant',\n",
       "       'benign', 'benign', 'malignant', 'malignant', 'benign', 'benign',\n",
       "       'malignant', 'malignant', 'benign', 'benign', 'malignant',\n",
       "       'benign', 'malignant', 'benign', 'malignant', 'benign', 'benign',\n",
       "       'benign', 'benign', 'benign', 'benign', 'benign', 'benign',\n",
       "       'malignant', 'benign', 'malignant', 'benign', 'malignant',\n",
       "       'benign', 'malignant', 'benign', 'malignant', 'benign',\n",
       "       'malignant', 'benign', 'benign', 'benign', 'benign', 'benign',\n",
       "       'malignant', 'benign', 'malignant', 'benign', 'benign',\n",
       "       'malignant', 'benign', 'benign', 'benign', 'benign', 'benign',\n",
       "       'malignant', 'malignant', 'benign', 'benign', 'malignant',\n",
       "       'malignant', 'benign', 'benign', 'benign', 'benign', 'malignant',\n",
       "       'benign', 'benign', 'benign', 'malignant', 'benign', 'benign',\n",
       "       'benign', 'benign', 'benign', 'benign', 'benign', 'malignant',\n",
       "       'benign', 'benign', 'benign', 'malignant', 'malignant',\n",
       "       'malignant', 'malignant', 'malignant', 'malignant', 'benign',\n",
       "       'benign', 'benign', 'benign', 'benign', 'benign', 'malignant',\n",
       "       'malignant', 'benign', 'benign', 'malignant', 'malignant',\n",
       "       'benign', 'benign', 'malignant', 'benign', 'benign', 'benign',\n",
       "       'benign', 'malignant', 'malignant', 'malignant', 'malignant',\n",
       "       'benign', 'benign', 'benign', 'malignant', 'benign', 'benign',\n",
       "       'malignant', 'benign', 'benign', 'benign', 'benign', 'benign',\n",
       "       'benign', 'malignant', 'benign', 'benign', 'malignant',\n",
       "       'malignant', 'benign', 'malignant', 'malignant', 'benign',\n",
       "       'benign', 'malignant', 'benign', 'benign', 'benign', 'benign',\n",
       "       'benign', 'benign', 'benign', 'benign', 'malignant', 'malignant',\n",
       "       'benign', 'benign', 'benign', 'benign', 'malignant', 'benign',\n",
       "       'malignant', 'malignant', 'benign', 'malignant', 'malignant',\n",
       "       'benign', 'malignant', 'malignant', 'benign', 'malignant',\n",
       "       'malignant', 'benign', 'malignant', 'benign', 'benign', 'benign',\n",
       "       'malignant', 'malignant', 'benign', 'benign', 'benign', 'benign',\n",
       "       'malignant', 'benign', 'benign', 'malignant', 'malignant',\n",
       "       'malignant', 'malignant', 'benign', 'malignant', 'benign',\n",
       "       'malignant', 'benign', 'benign', 'benign', 'malignant', 'benign',\n",
       "       'benign', 'malignant', 'benign', 'malignant', 'benign',\n",
       "       'malignant', 'malignant', 'benign', 'malignant', 'benign',\n",
       "       'benign', 'benign', 'benign', 'malignant', 'benign', 'malignant',\n",
       "       'benign', 'benign', 'malignant', 'benign', 'benign', 'benign',\n",
       "       'malignant', 'benign', 'benign', 'malignant', 'benign', 'benign',\n",
       "       'benign', 'malignant', 'benign', 'benign', 'benign', 'malignant',\n",
       "       'malignant', 'benign', 'malignant', 'benign', 'benign', 'benign',\n",
       "       'malignant', 'malignant', 'malignant', 'benign', 'malignant'],\n",
       "      dtype='<U9')"
      ]
     },
     "execution_count": 210,
     "metadata": {},
     "output_type": "execute_result"
    }
   ],
   "source": [
    "# Pasar el conjunto de datos que hemos preparado para las pruebas\n",
    "y_pred = mlp_clf_opt.predict(X_test_scaled)\n",
    "y_pred"
   ]
  },
  {
   "attachments": {},
   "cell_type": "markdown",
   "metadata": {},
   "source": [
    "## <a id='toc8_11_'></a>[Evaluación del mejor modelo](#toc0_)"
   ]
  },
  {
   "cell_type": "code",
   "execution_count": null,
   "metadata": {},
   "outputs": [
    {
     "name": "stdout",
     "output_type": "stream",
     "text": [
      "Exactitud: 0.95\n",
      "              precision    recall  f1-score   support\n",
      "\n",
      "      benign       0.95      0.96      0.96       226\n",
      "   malignant       0.93      0.91      0.92       124\n",
      "\n",
      "    accuracy                           0.95       350\n",
      "   macro avg       0.94      0.94      0.94       350\n",
      "weighted avg       0.95      0.95      0.95       350\n",
      "\n"
     ]
    }
   ],
   "source": [
    "# Exactitud\n",
    "print('Exactitud: {:.2f}'.format(accuracy_score(y_test, y_pred)))\n",
    "# Precisión, recuperación, puntaje F1 y soporte\n",
    "print(classification_report(y_test, y_pred))"
   ]
  },
  {
   "cell_type": "code",
   "execution_count": null,
   "metadata": {},
   "outputs": [
    {
     "data": {
      "image/png": "[encoded data removed]",
      "text/plain": [
       "<Figure size 640x480 with 1 Axes>"
      ]
     },
     "metadata": {},
     "output_type": "display_data"
    }
   ],
   "source": [
    "# Vea qué tan bien fue el entrenamiento del modelo\n",
    "plt.plot(mlp_clf_opt.loss_curve_)\n",
    "plt.title(\"Curva de pérdida\", fontsize=14)\n",
    "plt.xlabel('Iteraciones')\n",
    "plt.ylabel('Costo')\n",
    "plt.show()"
   ]
  },
  {
   "cell_type": "code",
   "execution_count": null,
   "metadata": {},
   "outputs": [
    {
     "data": {
      "image/png": "[encoded data removed]",
      "text/plain": [
       "<Figure size 640x480 with 2 Axes>"
      ]
     },
     "metadata": {},
     "output_type": "display_data"
    }
   ],
   "source": [
    "# Generar la matriz de confusión\n",
    "confusion_matrix = pd.crosstab(y_test, y_pred, rownames=['Reales'], colnames=['Predicciones'])\n",
    "sn.heatmap(confusion_matrix, annot=True)\n",
    "plt.show()"
   ]
  },
  {
   "cell_type": "code",
   "execution_count": null,
   "metadata": {},
   "outputs": [
    {
     "name": "stdout",
     "output_type": "stream",
     "text": [
      "Predicciones \n",
      "             0\n",
      "count      350\n",
      "unique       2\n",
      "top     benign\n",
      "freq       229\n",
      "\n",
      "Ejemplos Verdaderos \n",
      "count        350\n",
      "unique         2\n",
      "top       benign\n",
      "freq         226\n",
      "Name: classd, dtype: object\n"
     ]
    }
   ],
   "source": [
    "# Eche un vistazo a las predicciones\n",
    "y_pred_pd = pd.DataFrame(y_pred)\n",
    "print('Predicciones \\n{}\\n'.format(y_pred_pd.describe()))\n",
    "\n",
    "# Eche un vistazo a los verdaderos ejemplos\n",
    "print('Ejemplos Verdaderos \\n{}'.format(y_test.describe()))"
   ]
  },
  {
   "attachments": {},
   "cell_type": "markdown",
   "metadata": {},
   "source": [
    "# <a id='toc9_'></a>[Regresión](#toc0_)"
   ]
  },
  {
   "attachments": {},
   "cell_type": "markdown",
   "metadata": {},
   "source": [
    "## <a id='toc9_1_'></a>[Conjunto de datos para entrenamiento](#toc0_)\n",
    "Junto con dataset, estas conforman las variables globales usadas dentro del código."
   ]
  },
  {
   "cell_type": "code",
   "execution_count": null,
   "metadata": {},
   "outputs": [
    {
     "name": "stdout",
     "output_type": "stream",
     "text": [
      "Los valores min del conjunto de datos son: \n",
      "sample_code          61634\n",
      "clump_thickness          1\n",
      "cell_size                1\n",
      "cell_shape               1\n",
      "marginal_adhesion        1\n",
      "epithelial_size          1\n",
      "bare_nuclei              1\n",
      "bland_chromatin          1\n",
      "normal_nucleoli          1\n",
      "mitoses                  1\n",
      "classd                   0\n",
      "dtype: object\n",
      "Los valores máximos del conjunto de datos son: \n",
      "sample_code          13454352\n",
      "clump_thickness            10\n",
      "cell_size                  10\n",
      "cell_shape                 10\n",
      "marginal_adhesion          10\n",
      "epithelial_size            10\n",
      "bare_nuclei                 ?\n",
      "bland_chromatin            10\n",
      "normal_nucleoli            10\n",
      "mitoses                    10\n",
      "classd                      1\n",
      "dtype: object\n"
     ]
    }
   ],
   "source": [
    "# Tomaremos cell_size como nuestra característica de interés.\n",
    "# X será nuestro conjunto de datos sin la característica de interés.\n",
    "X = dataset.drop('cell_size', axis=1)\n",
    "\n",
    "# Convertir en una matriz numpy y asignar el grosor y la adhesión marginal como características.\n",
    "X = X.to_numpy()[:, (1,4)]\n",
    "\n",
    "# Y será nuestra característica de interés.\n",
    "y = dataset['cell_size']\n",
    "\n",
    "# Dividir para entrenamiento y prueba en proporciones de la mitad.\n",
    "X_train, X_test, y_train, y_test = train_test_split(X,y,test_size=0.5,random_state=42)\n",
    "\n",
    "print('Los valores min del conjunto de datos son: \\n{}'.format(dataset.min()))\n",
    "print('Los valores máximos del conjunto de datos son: \\n{}'.format(dataset.max()))"
   ]
  },
  {
   "attachments": {},
   "cell_type": "markdown",
   "metadata": {},
   "source": [
    "## <a id='toc9_2_'></a>[Escalamiento de los datos](#toc0_)"
   ]
  },
  {
   "cell_type": "code",
   "execution_count": null,
   "metadata": {},
   "outputs": [
    {
     "name": "stdout",
     "output_type": "stream",
     "text": [
      "Los valores min del conjunto de datos son: \n",
      "-1.2403382940641132\n",
      "Los valores máximos del conjunto de datos son: \n",
      "3.1795693103863085\n"
     ]
    }
   ],
   "source": [
    "# Dado que los valores de las características son de diferentes rangos, \n",
    "# es necesario escalarlos ya que los modelos de ML son sensibles a estas variaciones.\n",
    "scaler = StandardScaler()\n",
    "\n",
    "# scaler = sc.fit(X_train)\n",
    "X_train_scaled = scaler.fit_transform(X_train)\n",
    "X_test_scaled = scaler.fit_transform(X_test)\n",
    "\n",
    "print('Los valores min del conjunto de datos son: \\n{}'.format(X_train_scaled.min()))\n",
    "print('Los valores máximos del conjunto de datos son: \\n{}'.format(X_train_scaled.max()))"
   ]
  },
  {
   "attachments": {},
   "cell_type": "markdown",
   "metadata": {},
   "source": [
    "## <a id='toc9_3_'></a>[Definición del modelo base](#toc0_)"
   ]
  },
  {
   "cell_type": "code",
   "execution_count": null,
   "metadata": {},
   "outputs": [],
   "source": [
    "# Definición de un clasificador de perceptrones múltiples.\n",
    "# Usa los mismos parámetros que el bloque de MLPClasifier anterior.\n",
    "mlp_reg = MLPRegressor(\n",
    "    hidden_layer_sizes=(2), \n",
    "    max_iter = 2000, \n",
    "    learning_rate_init = 0.001, \n",
    "    activation = 'relu', \n",
    "    solver = 'adam'\n",
    "    )"
   ]
  },
  {
   "attachments": {},
   "cell_type": "markdown",
   "metadata": {},
   "source": [
    "## <a id='toc9_4_'></a>[Entrenamiento del modelo base](#toc0_)"
   ]
  },
  {
   "cell_type": "code",
   "execution_count": null,
   "metadata": {},
   "outputs": [
    {
     "name": "stderr",
     "output_type": "stream",
     "text": [
      "c:\\Users\\chbas\\anaconda3\\lib\\site-packages\\sklearn\\neural_network\\_multilayer_perceptron.py:692: ConvergenceWarning: Stochastic Optimizer: Maximum iterations (2000) reached and the optimization hasn't converged yet.\n",
      "  warnings.warn(\n"
     ]
    },
    {
     "data": {
      "text/plain": [
       "MLPRegressor(hidden_layer_sizes=2, max_iter=2000)"
      ]
     },
     "execution_count": 218,
     "metadata": {},
     "output_type": "execute_result"
    }
   ],
   "source": [
    "# Entrenar el modelo\n",
    "mlp_reg.fit(X_train_scaled, y_train)"
   ]
  },
  {
   "attachments": {},
   "cell_type": "markdown",
   "metadata": {},
   "source": [
    "## <a id='toc9_5_'></a>[Prueba del modelo base](#toc0_)"
   ]
  },
  {
   "cell_type": "code",
   "execution_count": null,
   "metadata": {},
   "outputs": [
    {
     "data": {
      "text/plain": [
       "array([ 1.29219537,  1.69580459,  1.29219537,  3.04248831,  1.29219537,\n",
       "        1.29219537,  2.08886146,  5.6520992 ,  5.34279888,  3.04248831,\n",
       "        1.29219537,  7.08253947,  1.29219537,  1.29219537,  1.29219537,\n",
       "        8.03616632,  1.29219537,  7.91498074,  5.51274146,  3.91235861,\n",
       "        7.76477876,  1.29219537,  5.6520992 ,  1.29219537,  3.12624486,\n",
       "        2.17261801,  1.69580459,  9.46640627,  1.69580459,  3.99611516,\n",
       "        1.29219537,  1.69580459,  1.69580459,  3.51930173,  1.29219537,\n",
       "        2.17261801,  1.29219537,  9.56645822,  1.29219537,  6.46360716,\n",
       "        1.29219537,  1.29219537,  9.56645822,  1.29219537,  1.29219537,\n",
       "        2.17261801,  2.17261801,  4.91218164,  1.29219537,  5.26248752,\n",
       "        3.04248831,  1.29219537,  3.91235861,  1.29219537,  5.25904233,\n",
       "        1.29219537,  2.17261801,  4.47292858,  1.29219537,  1.29219537,\n",
       "        1.29219537,  1.29219537,  8.26528663,  2.17261801,  1.29219537,\n",
       "        1.29219537,  5.34279888,  6.29642573,  2.17261801,  1.29219537,\n",
       "        4.55668513,  1.29219537,  4.47292858,  1.69580459,  1.69580459,\n",
       "        2.08886146,  1.29219537,  4.7822289 ,  1.29219537,  1.29219537,\n",
       "        1.29219537,  1.29219537,  1.29219537,  2.17261801,  1.29219537,\n",
       "        7.16629602,  3.04248831,  1.61204804,  1.29219537,  1.29219537,\n",
       "        1.29219537,  1.29219537,  9.46640627,  2.08886146,  2.17261801,\n",
       "        2.56567489,  1.29219537,  1.29219537,  1.30274772,  1.69580459,\n",
       "        1.29219537,  2.17261801,  1.29219537,  2.17261801,  5.42655543,\n",
       "        1.29219537,  4.86598546,  2.00510491,  2.17261801,  3.96131593,\n",
       "        4.7822289 ,  1.69580459,  1.29219537,  1.29219537,  2.17261801,\n",
       "        5.8196123 ,  1.29219537,  1.69580459,  2.87497521,  1.29219537,\n",
       "        1.29219537,  4.31162181,  1.29219537,  1.29219537,  4.56187575,\n",
       "        3.82860206,  1.29219537,  2.17261801,  6.21266918,  5.42655543,\n",
       "        1.29219537,  1.29219537,  4.47292858,  1.29219537,  3.51930173,\n",
       "        1.29219537,  6.12891263,  3.91235861,  1.29219537,  1.29219537,\n",
       "        2.17261801,  2.17261801,  1.29219537,  2.17261801,  1.29219537,\n",
       "        9.81671216,  1.29219537,  6.21266918,  1.29219537,  6.29642573,\n",
       "        1.29219537,  5.42655543,  1.29219537,  8.36533858,  1.29219537,\n",
       "        8.90603662,  1.29219537,  1.29219537,  2.64943144,  1.29219537,\n",
       "        1.29219537,  7.16629602,  1.69580459,  3.91235861,  3.04248831,\n",
       "        1.29219537,  8.03616632,  1.29219537,  4.55668513,  2.95873176,\n",
       "        1.29219537,  1.29219537,  6.12891263,  4.38917203,  1.29219537,\n",
       "        1.29219537, 10.16701804,  7.08253947,  1.29219537,  1.69580459,\n",
       "        1.29219537,  1.29219537, 10.16701804,  1.29219537,  1.29219537,\n",
       "        2.17261801,  4.38917203,  1.69580459,  1.29219537,  1.61204804,\n",
       "        2.64943144,  1.29219537,  2.56567489,  2.64943144,  1.69580459,\n",
       "        1.69580459,  1.29219537,  1.29219537,  7.16421893,  7.06416699,\n",
       "        7.5593529 ,  8.03616632,  6.21266918,  5.42655543,  1.69580459,\n",
       "        1.29219537,  1.29219537,  1.69580459,  1.69580459,  1.29219537,\n",
       "        8.9658984 ,  7.16421893,  1.29219537,  1.29219537,  6.46360716,\n",
       "        7.16629602,  3.04248831,  1.29219537,  5.16243557,  1.29219537,\n",
       "        1.29219537,  2.17261801,  1.61204804,  3.60305828,  6.60572605,\n",
       "        6.29642573,  3.60305828,  1.29219537,  1.69580459,  1.29219537,\n",
       "        3.43554518,  1.29219537,  1.29219537,  6.21266918,  1.29219537,\n",
       "        1.29219537,  1.29219537,  1.69580459,  1.29219537,  1.69580459,\n",
       "       10.16701804,  1.29219537,  1.29219537,  4.47292858,  5.26248752,\n",
       "        1.29219537,  3.60305828,  4.38917203,  1.29219537,  2.17261801,\n",
       "        5.34279888,  1.29219537,  1.29219537,  1.29219537,  1.29219537,\n",
       "        2.17261801,  1.29219537,  2.17261801,  1.29219537,  5.34279888,\n",
       "        8.90603662,  2.17261801,  1.69580459,  1.29219537,  2.17261801,\n",
       "        5.34279888,  1.69580459,  4.7822289 ,  9.46640627,  1.69580459,\n",
       "        3.43554518,  3.43554518,  1.29219537,  3.99611516,  7.08253947,\n",
       "        2.17261801,  3.91235861,  4.86598546,  2.64943144,  7.16421893,\n",
       "        1.29219537,  3.60305828,  1.29219537,  2.56567489,  5.16243557,\n",
       "        1.29219537,  1.29219537,  1.29219537,  1.29219537,  2.17261801,\n",
       "        2.17261801,  2.64943144,  5.42655543,  8.03616632,  2.95873176,\n",
       "        7.16421893,  1.69580459,  3.43554518,  1.29219537,  4.06136788,\n",
       "        2.64943144,  2.17261801,  1.69580459, 10.16701804,  2.17261801,\n",
       "        1.30274772,  3.91235861,  5.6520992 ,  4.47292858,  2.56567489,\n",
       "        8.9658984 ,  6.81391305,  1.29219537,  7.16629602,  1.29219537,\n",
       "        1.29219537,  1.29219537,  1.29219537,  8.36533858,  1.29219537,\n",
       "        5.8196123 ,  1.29219537,  1.29219537,  5.73585575,  2.64943144,\n",
       "        1.29219537,  1.29219537,  8.9658984 ,  2.08886146,  2.17261801,\n",
       "        6.29642573,  2.17261801,  1.29219537,  1.29219537,  3.43554518,\n",
       "        1.29219537,  2.17261801,  6.21266918,  5.25904233,  2.08886146,\n",
       "        1.29219537,  4.86598546,  1.69580459,  1.29219537,  2.08886146,\n",
       "       10.16701804,  4.7822289 ,  7.06416699,  2.56567489,  6.21266918])"
      ]
     },
     "execution_count": 219,
     "metadata": {},
     "output_type": "execute_result"
    }
   ],
   "source": [
    "# Pasar el conjunto de datos que hemos preparado para las pruebas\n",
    "y_pred = mlp_reg.predict(X_test_scaled)\n",
    "y_pred"
   ]
  },
  {
   "attachments": {},
   "cell_type": "markdown",
   "metadata": {},
   "source": [
    "## <a id='toc9_6_'></a>[Evaluación del modelo base](#toc0_)"
   ]
  },
  {
   "cell_type": "code",
   "execution_count": null,
   "metadata": {},
   "outputs": [
    {
     "name": "stdout",
     "output_type": "stream",
     "text": [
      "r2: 0.67\n",
      "Error cuadrático promedio: 3.18\n",
      "Varianza explicada: 0.67\n"
     ]
    }
   ],
   "source": [
    "# https://scikit-learn.org/stable/modules/model_evaluation.html\n",
    "\n",
    "# Prueba de r2. La mejor puntuación posible es 1.0 y puede ser negativa (porque el modelo puede ser arbitrariamente peor).\n",
    "print('r2: {:.2f}'.format(r2_score(y_test, y_pred)))\n",
    "\n",
    "# Error cuadrático promedio. La mejor puntuación posible es 0.0\n",
    "print('Error cuadrático promedio: {:.2f}'.format(mean_squared_error(y_test, y_pred)))\n",
    "\n",
    "# Puntuación de varianza explicada. La mejor puntuación posible es 1.0, los valores más bajos son peores.\n",
    "print('Varianza explicada: {:.2f}'.format(explained_variance_score(y_test, y_pred)))"
   ]
  },
  {
   "cell_type": "code",
   "execution_count": null,
   "metadata": {},
   "outputs": [
    {
     "data": {
      "image/png": "[encoded data removed]",
      "text/plain": [
       "<Figure size 640x480 with 1 Axes>"
      ]
     },
     "metadata": {},
     "output_type": "display_data"
    }
   ],
   "source": [
    "# Vea qué tan bien fue el entrenamiento del modelo\n",
    "plt.plot(mlp_reg.loss_curve_)\n",
    "plt.title(\"Curva de Pérdida\", fontsize=14)\n",
    "plt.xlabel('Iteraciones')\n",
    "plt.ylabel('Costo')\n",
    "plt.show()"
   ]
  },
  {
   "cell_type": "code",
   "execution_count": null,
   "metadata": {},
   "outputs": [
    {
     "data": {
      "text/html": [
       "<div>\n",
       "<style scoped>\n",
       "    .dataframe tbody tr th:only-of-type {\n",
       "        vertical-align: middle;\n",
       "    }\n",
       "\n",
       "    .dataframe tbody tr th {\n",
       "        vertical-align: top;\n",
       "    }\n",
       "\n",
       "    .dataframe thead th {\n",
       "        text-align: right;\n",
       "    }\n",
       "</style>\n",
       "<table border=\"1\" class=\"dataframe\">\n",
       "  <thead>\n",
       "    <tr style=\"text-align: right;\">\n",
       "      <th></th>\n",
       "      <th>Reales</th>\n",
       "      <th>Predicciones</th>\n",
       "    </tr>\n",
       "  </thead>\n",
       "  <tbody>\n",
       "    <tr>\n",
       "      <th>158</th>\n",
       "      <td>1</td>\n",
       "      <td>1.292195</td>\n",
       "    </tr>\n",
       "    <tr>\n",
       "      <th>499</th>\n",
       "      <td>1</td>\n",
       "      <td>1.695805</td>\n",
       "    </tr>\n",
       "    <tr>\n",
       "      <th>396</th>\n",
       "      <td>1</td>\n",
       "      <td>1.292195</td>\n",
       "    </tr>\n",
       "    <tr>\n",
       "      <th>155</th>\n",
       "      <td>5</td>\n",
       "      <td>3.042488</td>\n",
       "    </tr>\n",
       "    <tr>\n",
       "      <th>321</th>\n",
       "      <td>1</td>\n",
       "      <td>1.292195</td>\n",
       "    </tr>\n",
       "  </tbody>\n",
       "</table>\n",
       "</div>"
      ],
      "text/plain": [
       "     Reales  Predicciones\n",
       "158       1      1.292195\n",
       "499       1      1.695805\n",
       "396       1      1.292195\n",
       "155       5      3.042488\n",
       "321       1      1.292195"
      ]
     },
     "execution_count": 222,
     "metadata": {},
     "output_type": "execute_result"
    }
   ],
   "source": [
    "# Vea qué tan bien fue la prueba del modelo\n",
    "regression_res_df = pd.DataFrame({'Reales': y_test,'Predicciones': y_pred})\n",
    "regression_res_df.head()"
   ]
  },
  {
   "cell_type": "code",
   "execution_count": null,
   "metadata": {},
   "outputs": [],
   "source": []
  },
  {
   "cell_type": "code",
   "execution_count": null,
   "metadata": {},
   "outputs": [
    {
     "data": {
      "text/plain": [
       "range(0, 350)"
      ]
     },
     "execution_count": 223,
     "metadata": {},
     "output_type": "execute_result"
    }
   ],
   "source": [
    "range(len(regression_res_df))"
   ]
  },
  {
   "cell_type": "code",
   "execution_count": null,
   "metadata": {},
   "outputs": [
    {
     "data": {
      "image/png": "[encoded data removed]",
      "text/plain": [
       "<Figure size 640x480 with 1 Axes>"
      ]
     },
     "metadata": {},
     "output_type": "display_data"
    }
   ],
   "source": [
    "sn.scatterplot(x = list(range(len(regression_res_df))), y ='Reales', data=regression_res_df, label = 'Reales')\n",
    "sn.scatterplot(x = list(range(len(regression_res_df))), y ='Predicciones', data=regression_res_df, label = 'Predicciones')\n",
    "plt.xlabel('Observaciones')\n",
    "plt.ylabel('Tamaño de célula')\n",
    "plt.show()"
   ]
  },
  {
   "attachments": {},
   "cell_type": "markdown",
   "metadata": {},
   "source": [
    "## <a id='toc9_7_'></a>[Definición de la búsqueda de hiper-parámetros](#toc0_)\n",
    "Se usan los mismos valores de búsqueda declarados dentro de param_grid."
   ]
  },
  {
   "attachments": {},
   "cell_type": "markdown",
   "metadata": {},
   "source": [
    "## <a id='toc9_8_'></a>[Ejecución de la búsqueda de hiper-parámetros](#toc0_)"
   ]
  },
  {
   "cell_type": "code",
   "execution_count": null,
   "metadata": {},
   "outputs": [],
   "source": [
    "grid_reg = GridSearchCV(\n",
    "    # El modelo que estamos entrenando, en este caso un clasificador de perceptrones múltiples\n",
    "    mlp_reg,\n",
    "    # Los diferentes híperparámetros que queremos entrenar\n",
    "    param_grid,\n",
    "    # Número de procesos que se ejecutarán en paralelo. Si se establece en -1, se utilizarán todos los procesadores.\n",
    "    n_jobs = -1,\n",
    "    # Número de veces que se repite la validación cruzada con diferentes conjuntos de entrenamiento y prueba.\n",
    "    cv = 5\n",
    "    )"
   ]
  },
  {
   "cell_type": "code",
   "execution_count": null,
   "metadata": {},
   "outputs": [
    {
     "data": {
      "text/plain": [
       "GridSearchCV(cv=5, estimator=MLPRegressor(hidden_layer_sizes=2, max_iter=2000),\n",
       "             n_jobs=-1,\n",
       "             param_grid={'activation': ['tanh', 'relu'],\n",
       "                         'alpha': [0.0001, 0.05],\n",
       "                         'hidden_layer_sizes': [(150, 100, 50), (120, 80), 100],\n",
       "                         'learning_rate': ['constant', 'adaptive'],\n",
       "                         'max_iter': [600, 1200, 1800],\n",
       "                         'solver': ['sgd', 'adam']})"
      ]
     },
     "execution_count": 226,
     "metadata": {},
     "output_type": "execute_result"
    }
   ],
   "source": [
    "# Ajustar el modelo a los datos de entrenamiento (puede demorar)\n",
    "grid_reg.fit(X_train_scaled, y_train)"
   ]
  },
  {
   "cell_type": "code",
   "execution_count": null,
   "metadata": {},
   "outputs": [
    {
     "name": "stdout",
     "output_type": "stream",
     "text": [
      "Los mejores valores de híperparámetros son:\n",
      "{'activation': 'relu', 'alpha': 0.0001, 'hidden_layer_sizes': (150, 100, 50), 'learning_rate': 'adaptive', 'max_iter': 600, 'solver': 'adam'}\n"
     ]
    }
   ],
   "source": [
    "# Consigue los mejores valores para los hiper-parámetros entrenados\n",
    "print('Los mejores valores de híperparámetros son:\\n{}'.format(grid_reg.best_params_))"
   ]
  },
  {
   "cell_type": "code",
   "execution_count": null,
   "metadata": {},
   "outputs": [],
   "source": [
    "# Guarde los resultados como Pandas DataFrame para interactuar fácilmente con los datos\n",
    "grid_results_reg = pd.DataFrame(grid_reg.cv_results_)"
   ]
  },
  {
   "cell_type": "code",
   "execution_count": null,
   "metadata": {},
   "outputs": [
    {
     "data": {
      "text/html": [
       "<div>\n",
       "<style scoped>\n",
       "    .dataframe tbody tr th:only-of-type {\n",
       "        vertical-align: middle;\n",
       "    }\n",
       "\n",
       "    .dataframe tbody tr th {\n",
       "        vertical-align: top;\n",
       "    }\n",
       "\n",
       "    .dataframe thead th {\n",
       "        text-align: right;\n",
       "    }\n",
       "</style>\n",
       "<table border=\"1\" class=\"dataframe\">\n",
       "  <thead>\n",
       "    <tr style=\"text-align: right;\">\n",
       "      <th></th>\n",
       "      <th>mean_fit_time</th>\n",
       "      <th>std_fit_time</th>\n",
       "      <th>mean_score_time</th>\n",
       "      <th>std_score_time</th>\n",
       "      <th>param_activation</th>\n",
       "      <th>param_alpha</th>\n",
       "      <th>param_hidden_layer_sizes</th>\n",
       "      <th>param_learning_rate</th>\n",
       "      <th>param_max_iter</th>\n",
       "      <th>param_solver</th>\n",
       "      <th>params</th>\n",
       "      <th>split0_test_score</th>\n",
       "      <th>split1_test_score</th>\n",
       "      <th>split2_test_score</th>\n",
       "      <th>split3_test_score</th>\n",
       "      <th>split4_test_score</th>\n",
       "      <th>mean_test_score</th>\n",
       "      <th>std_test_score</th>\n",
       "      <th>rank_test_score</th>\n",
       "    </tr>\n",
       "  </thead>\n",
       "  <tbody>\n",
       "    <tr>\n",
       "      <th>79</th>\n",
       "      <td>3.821337</td>\n",
       "      <td>0.532401</td>\n",
       "      <td>0.008079</td>\n",
       "      <td>0.010830</td>\n",
       "      <td>relu</td>\n",
       "      <td>0.0001</td>\n",
       "      <td>(150, 100, 50)</td>\n",
       "      <td>adaptive</td>\n",
       "      <td>600</td>\n",
       "      <td>adam</td>\n",
       "      <td>{'activation': 'relu', 'alpha': 0.0001, 'hidde...</td>\n",
       "      <td>0.826985</td>\n",
       "      <td>0.674878</td>\n",
       "      <td>0.661588</td>\n",
       "      <td>0.657662</td>\n",
       "      <td>0.624454</td>\n",
       "      <td>0.689113</td>\n",
       "      <td>0.070907</td>\n",
       "      <td>1</td>\n",
       "    </tr>\n",
       "    <tr>\n",
       "      <th>11</th>\n",
       "      <td>7.688618</td>\n",
       "      <td>2.248379</td>\n",
       "      <td>0.007765</td>\n",
       "      <td>0.009080</td>\n",
       "      <td>tanh</td>\n",
       "      <td>0.0001</td>\n",
       "      <td>(150, 100, 50)</td>\n",
       "      <td>adaptive</td>\n",
       "      <td>1800</td>\n",
       "      <td>adam</td>\n",
       "      <td>{'activation': 'tanh', 'alpha': 0.0001, 'hidde...</td>\n",
       "      <td>0.832200</td>\n",
       "      <td>0.653600</td>\n",
       "      <td>0.673377</td>\n",
       "      <td>0.658731</td>\n",
       "      <td>0.622362</td>\n",
       "      <td>0.688054</td>\n",
       "      <td>0.073967</td>\n",
       "      <td>2</td>\n",
       "    </tr>\n",
       "    <tr>\n",
       "      <th>57</th>\n",
       "      <td>4.328221</td>\n",
       "      <td>0.513115</td>\n",
       "      <td>0.002117</td>\n",
       "      <td>0.000477</td>\n",
       "      <td>tanh</td>\n",
       "      <td>0.05</td>\n",
       "      <td>(120, 80)</td>\n",
       "      <td>adaptive</td>\n",
       "      <td>1200</td>\n",
       "      <td>adam</td>\n",
       "      <td>{'activation': 'tanh', 'alpha': 0.05, 'hidden_...</td>\n",
       "      <td>0.818389</td>\n",
       "      <td>0.678874</td>\n",
       "      <td>0.641489</td>\n",
       "      <td>0.675145</td>\n",
       "      <td>0.619728</td>\n",
       "      <td>0.686725</td>\n",
       "      <td>0.069377</td>\n",
       "      <td>3</td>\n",
       "    </tr>\n",
       "    <tr>\n",
       "      <th>85</th>\n",
       "      <td>3.083079</td>\n",
       "      <td>0.454499</td>\n",
       "      <td>0.001853</td>\n",
       "      <td>0.000652</td>\n",
       "      <td>relu</td>\n",
       "      <td>0.0001</td>\n",
       "      <td>(120, 80)</td>\n",
       "      <td>constant</td>\n",
       "      <td>600</td>\n",
       "      <td>adam</td>\n",
       "      <td>{'activation': 'relu', 'alpha': 0.0001, 'hidde...</td>\n",
       "      <td>0.824854</td>\n",
       "      <td>0.670544</td>\n",
       "      <td>0.652415</td>\n",
       "      <td>0.662980</td>\n",
       "      <td>0.619151</td>\n",
       "      <td>0.685989</td>\n",
       "      <td>0.071618</td>\n",
       "      <td>4</td>\n",
       "    </tr>\n",
       "    <tr>\n",
       "      <th>107</th>\n",
       "      <td>1.950336</td>\n",
       "      <td>0.627194</td>\n",
       "      <td>0.001107</td>\n",
       "      <td>0.000204</td>\n",
       "      <td>relu</td>\n",
       "      <td>0.0001</td>\n",
       "      <td>100</td>\n",
       "      <td>adaptive</td>\n",
       "      <td>1800</td>\n",
       "      <td>adam</td>\n",
       "      <td>{'activation': 'relu', 'alpha': 0.0001, 'hidde...</td>\n",
       "      <td>0.816024</td>\n",
       "      <td>0.682859</td>\n",
       "      <td>0.640411</td>\n",
       "      <td>0.674170</td>\n",
       "      <td>0.615346</td>\n",
       "      <td>0.685762</td>\n",
       "      <td>0.069464</td>\n",
       "      <td>5</td>\n",
       "    </tr>\n",
       "    <tr>\n",
       "      <th>...</th>\n",
       "      <td>...</td>\n",
       "      <td>...</td>\n",
       "      <td>...</td>\n",
       "      <td>...</td>\n",
       "      <td>...</td>\n",
       "      <td>...</td>\n",
       "      <td>...</td>\n",
       "      <td>...</td>\n",
       "      <td>...</td>\n",
       "      <td>...</td>\n",
       "      <td>...</td>\n",
       "      <td>...</td>\n",
       "      <td>...</td>\n",
       "      <td>...</td>\n",
       "      <td>...</td>\n",
       "      <td>...</td>\n",
       "      <td>...</td>\n",
       "      <td>...</td>\n",
       "      <td>...</td>\n",
       "    </tr>\n",
       "    <tr>\n",
       "      <th>28</th>\n",
       "      <td>1.319313</td>\n",
       "      <td>0.877090</td>\n",
       "      <td>0.001433</td>\n",
       "      <td>0.000390</td>\n",
       "      <td>tanh</td>\n",
       "      <td>0.0001</td>\n",
       "      <td>100</td>\n",
       "      <td>constant</td>\n",
       "      <td>1800</td>\n",
       "      <td>sgd</td>\n",
       "      <td>{'activation': 'tanh', 'alpha': 0.0001, 'hidde...</td>\n",
       "      <td>0.770338</td>\n",
       "      <td>0.672990</td>\n",
       "      <td>0.612758</td>\n",
       "      <td>0.665282</td>\n",
       "      <td>0.577294</td>\n",
       "      <td>0.659732</td>\n",
       "      <td>0.065487</td>\n",
       "      <td>140</td>\n",
       "    </tr>\n",
       "    <tr>\n",
       "      <th>66</th>\n",
       "      <td>1.067453</td>\n",
       "      <td>0.386870</td>\n",
       "      <td>0.000705</td>\n",
       "      <td>0.000402</td>\n",
       "      <td>tanh</td>\n",
       "      <td>0.05</td>\n",
       "      <td>100</td>\n",
       "      <td>adaptive</td>\n",
       "      <td>600</td>\n",
       "      <td>sgd</td>\n",
       "      <td>{'activation': 'tanh', 'alpha': 0.05, 'hidden_...</td>\n",
       "      <td>0.755849</td>\n",
       "      <td>0.671110</td>\n",
       "      <td>0.599540</td>\n",
       "      <td>0.692305</td>\n",
       "      <td>0.579581</td>\n",
       "      <td>0.659677</td>\n",
       "      <td>0.063994</td>\n",
       "      <td>141</td>\n",
       "    </tr>\n",
       "    <tr>\n",
       "      <th>96</th>\n",
       "      <td>0.822446</td>\n",
       "      <td>0.385007</td>\n",
       "      <td>0.001318</td>\n",
       "      <td>0.000412</td>\n",
       "      <td>relu</td>\n",
       "      <td>0.0001</td>\n",
       "      <td>100</td>\n",
       "      <td>constant</td>\n",
       "      <td>600</td>\n",
       "      <td>sgd</td>\n",
       "      <td>{'activation': 'relu', 'alpha': 0.0001, 'hidde...</td>\n",
       "      <td>0.730873</td>\n",
       "      <td>0.684727</td>\n",
       "      <td>0.573647</td>\n",
       "      <td>0.687744</td>\n",
       "      <td>0.619219</td>\n",
       "      <td>0.659242</td>\n",
       "      <td>0.055716</td>\n",
       "      <td>142</td>\n",
       "    </tr>\n",
       "    <tr>\n",
       "      <th>70</th>\n",
       "      <td>1.034798</td>\n",
       "      <td>1.001015</td>\n",
       "      <td>0.002127</td>\n",
       "      <td>0.001277</td>\n",
       "      <td>tanh</td>\n",
       "      <td>0.05</td>\n",
       "      <td>100</td>\n",
       "      <td>adaptive</td>\n",
       "      <td>1800</td>\n",
       "      <td>sgd</td>\n",
       "      <td>{'activation': 'tanh', 'alpha': 0.05, 'hidden_...</td>\n",
       "      <td>0.754766</td>\n",
       "      <td>0.659138</td>\n",
       "      <td>0.610683</td>\n",
       "      <td>0.682696</td>\n",
       "      <td>0.577397</td>\n",
       "      <td>0.656936</td>\n",
       "      <td>0.061164</td>\n",
       "      <td>143</td>\n",
       "    </tr>\n",
       "    <tr>\n",
       "      <th>62</th>\n",
       "      <td>1.167524</td>\n",
       "      <td>0.719378</td>\n",
       "      <td>0.001307</td>\n",
       "      <td>0.000405</td>\n",
       "      <td>tanh</td>\n",
       "      <td>0.05</td>\n",
       "      <td>100</td>\n",
       "      <td>constant</td>\n",
       "      <td>1200</td>\n",
       "      <td>sgd</td>\n",
       "      <td>{'activation': 'tanh', 'alpha': 0.05, 'hidden_...</td>\n",
       "      <td>0.763974</td>\n",
       "      <td>0.673637</td>\n",
       "      <td>0.581337</td>\n",
       "      <td>0.683241</td>\n",
       "      <td>0.577500</td>\n",
       "      <td>0.655938</td>\n",
       "      <td>0.069926</td>\n",
       "      <td>144</td>\n",
       "    </tr>\n",
       "  </tbody>\n",
       "</table>\n",
       "<p>144 rows × 19 columns</p>\n",
       "</div>"
      ],
      "text/plain": [
       "     mean_fit_time  std_fit_time  mean_score_time  std_score_time  \\\n",
       "79        3.821337      0.532401         0.008079        0.010830   \n",
       "11        7.688618      2.248379         0.007765        0.009080   \n",
       "57        4.328221      0.513115         0.002117        0.000477   \n",
       "85        3.083079      0.454499         0.001853        0.000652   \n",
       "107       1.950336      0.627194         0.001107        0.000204   \n",
       "..             ...           ...              ...             ...   \n",
       "28        1.319313      0.877090         0.001433        0.000390   \n",
       "66        1.067453      0.386870         0.000705        0.000402   \n",
       "96        0.822446      0.385007         0.001318        0.000412   \n",
       "70        1.034798      1.001015         0.002127        0.001277   \n",
       "62        1.167524      0.719378         0.001307        0.000405   \n",
       "\n",
       "    param_activation param_alpha param_hidden_layer_sizes param_learning_rate  \\\n",
       "79              relu      0.0001           (150, 100, 50)            adaptive   \n",
       "11              tanh      0.0001           (150, 100, 50)            adaptive   \n",
       "57              tanh        0.05                (120, 80)            adaptive   \n",
       "85              relu      0.0001                (120, 80)            constant   \n",
       "107             relu      0.0001                      100            adaptive   \n",
       "..               ...         ...                      ...                 ...   \n",
       "28              tanh      0.0001                      100            constant   \n",
       "66              tanh        0.05                      100            adaptive   \n",
       "96              relu      0.0001                      100            constant   \n",
       "70              tanh        0.05                      100            adaptive   \n",
       "62              tanh        0.05                      100            constant   \n",
       "\n",
       "    param_max_iter param_solver  \\\n",
       "79             600         adam   \n",
       "11            1800         adam   \n",
       "57            1200         adam   \n",
       "85             600         adam   \n",
       "107           1800         adam   \n",
       "..             ...          ...   \n",
       "28            1800          sgd   \n",
       "66             600          sgd   \n",
       "96             600          sgd   \n",
       "70            1800          sgd   \n",
       "62            1200          sgd   \n",
       "\n",
       "                                                params  split0_test_score  \\\n",
       "79   {'activation': 'relu', 'alpha': 0.0001, 'hidde...           0.826985   \n",
       "11   {'activation': 'tanh', 'alpha': 0.0001, 'hidde...           0.832200   \n",
       "57   {'activation': 'tanh', 'alpha': 0.05, 'hidden_...           0.818389   \n",
       "85   {'activation': 'relu', 'alpha': 0.0001, 'hidde...           0.824854   \n",
       "107  {'activation': 'relu', 'alpha': 0.0001, 'hidde...           0.816024   \n",
       "..                                                 ...                ...   \n",
       "28   {'activation': 'tanh', 'alpha': 0.0001, 'hidde...           0.770338   \n",
       "66   {'activation': 'tanh', 'alpha': 0.05, 'hidden_...           0.755849   \n",
       "96   {'activation': 'relu', 'alpha': 0.0001, 'hidde...           0.730873   \n",
       "70   {'activation': 'tanh', 'alpha': 0.05, 'hidden_...           0.754766   \n",
       "62   {'activation': 'tanh', 'alpha': 0.05, 'hidden_...           0.763974   \n",
       "\n",
       "     split1_test_score  split2_test_score  split3_test_score  \\\n",
       "79            0.674878           0.661588           0.657662   \n",
       "11            0.653600           0.673377           0.658731   \n",
       "57            0.678874           0.641489           0.675145   \n",
       "85            0.670544           0.652415           0.662980   \n",
       "107           0.682859           0.640411           0.674170   \n",
       "..                 ...                ...                ...   \n",
       "28            0.672990           0.612758           0.665282   \n",
       "66            0.671110           0.599540           0.692305   \n",
       "96            0.684727           0.573647           0.687744   \n",
       "70            0.659138           0.610683           0.682696   \n",
       "62            0.673637           0.581337           0.683241   \n",
       "\n",
       "     split4_test_score  mean_test_score  std_test_score  rank_test_score  \n",
       "79            0.624454         0.689113        0.070907                1  \n",
       "11            0.622362         0.688054        0.073967                2  \n",
       "57            0.619728         0.686725        0.069377                3  \n",
       "85            0.619151         0.685989        0.071618                4  \n",
       "107           0.615346         0.685762        0.069464                5  \n",
       "..                 ...              ...             ...              ...  \n",
       "28            0.577294         0.659732        0.065487              140  \n",
       "66            0.579581         0.659677        0.063994              141  \n",
       "96            0.619219         0.659242        0.055716              142  \n",
       "70            0.577397         0.656936        0.061164              143  \n",
       "62            0.577500         0.655938        0.069926              144  \n",
       "\n",
       "[144 rows x 19 columns]"
      ]
     },
     "execution_count": 229,
     "metadata": {},
     "output_type": "execute_result"
    }
   ],
   "source": [
    "grid_results_reg.sort_values('rank_test_score')"
   ]
  },
  {
   "cell_type": "code",
   "execution_count": null,
   "metadata": {},
   "outputs": [],
   "source": [
    "def coder(classd):\n",
    "    if classd == 'benign':\n",
    "        return 0\n",
    "    elif classd == 'malignant':\n",
    "        return 1\n",
    "\n",
    "# applying the coder to the feature of interest\n",
    "dataset['classd'] = dataset['classd'].apply(coder)"
   ]
  },
  {
   "cell_type": "code",
   "execution_count": null,
   "metadata": {},
   "outputs": [
    {
     "data": {
      "text/plain": [
       "Series([], dtype: int64)"
      ]
     },
     "execution_count": 231,
     "metadata": {},
     "output_type": "execute_result"
    }
   ],
   "source": [
    "dataset.groupby('classd').size()"
   ]
  },
  {
   "attachments": {},
   "cell_type": "markdown",
   "metadata": {},
   "source": [
    "## <a id='toc9_9_'></a>[Entrenamiento del mejor modelo](#toc0_)"
   ]
  },
  {
   "cell_type": "code",
   "execution_count": null,
   "metadata": {},
   "outputs": [
    {
     "data": {
      "text/plain": [
       "MLPRegressor(hidden_layer_sizes=(120, 80), max_iter=600)"
      ]
     },
     "execution_count": 232,
     "metadata": {},
     "output_type": "execute_result"
    }
   ],
   "source": [
    "# Definición de un clasificador de perceptrones múltiples.\n",
    "# Usa los datos óptimos encontrados en la sintonización de hiperparámetros.\n",
    "mlp_reg_opt = MLPRegressor(\n",
    "    activation = 'relu',\n",
    "    alpha = 0.0001,\n",
    "    hidden_layer_sizes = (120, 80),\n",
    "    learning_rate = 'constant',\n",
    "    max_iter = 600,\n",
    "    solver = 'adam'\n",
    "    )\n",
    "\n",
    "# Entrenar el modelo\n",
    "mlp_reg_opt.fit(X_train_scaled, y_train)"
   ]
  },
  {
   "attachments": {},
   "cell_type": "markdown",
   "metadata": {},
   "source": [
    "## <a id='toc9_10_'></a>[Prueba del mejor modelo](#toc0_)"
   ]
  },
  {
   "cell_type": "code",
   "execution_count": null,
   "metadata": {},
   "outputs": [
    {
     "data": {
      "text/plain": [
       "array([ 1.29219537,  1.69580459,  1.29219537,  3.04248831,  1.29219537,\n",
       "        1.29219537,  2.08886146,  5.6520992 ,  5.34279888,  3.04248831,\n",
       "        1.29219537,  7.08253947,  1.29219537,  1.29219537,  1.29219537,\n",
       "        8.03616632,  1.29219537,  7.91498074,  5.51274146,  3.91235861,\n",
       "        7.76477876,  1.29219537,  5.6520992 ,  1.29219537,  3.12624486,\n",
       "        2.17261801,  1.69580459,  9.46640627,  1.69580459,  3.99611516,\n",
       "        1.29219537,  1.69580459,  1.69580459,  3.51930173,  1.29219537,\n",
       "        2.17261801,  1.29219537,  9.56645822,  1.29219537,  6.46360716,\n",
       "        1.29219537,  1.29219537,  9.56645822,  1.29219537,  1.29219537,\n",
       "        2.17261801,  2.17261801,  4.91218164,  1.29219537,  5.26248752,\n",
       "        3.04248831,  1.29219537,  3.91235861,  1.29219537,  5.25904233,\n",
       "        1.29219537,  2.17261801,  4.47292858,  1.29219537,  1.29219537,\n",
       "        1.29219537,  1.29219537,  8.26528663,  2.17261801,  1.29219537,\n",
       "        1.29219537,  5.34279888,  6.29642573,  2.17261801,  1.29219537,\n",
       "        4.55668513,  1.29219537,  4.47292858,  1.69580459,  1.69580459,\n",
       "        2.08886146,  1.29219537,  4.7822289 ,  1.29219537,  1.29219537,\n",
       "        1.29219537,  1.29219537,  1.29219537,  2.17261801,  1.29219537,\n",
       "        7.16629602,  3.04248831,  1.61204804,  1.29219537,  1.29219537,\n",
       "        1.29219537,  1.29219537,  9.46640627,  2.08886146,  2.17261801,\n",
       "        2.56567489,  1.29219537,  1.29219537,  1.30274772,  1.69580459,\n",
       "        1.29219537,  2.17261801,  1.29219537,  2.17261801,  5.42655543,\n",
       "        1.29219537,  4.86598546,  2.00510491,  2.17261801,  3.96131593,\n",
       "        4.7822289 ,  1.69580459,  1.29219537,  1.29219537,  2.17261801,\n",
       "        5.8196123 ,  1.29219537,  1.69580459,  2.87497521,  1.29219537,\n",
       "        1.29219537,  4.31162181,  1.29219537,  1.29219537,  4.56187575,\n",
       "        3.82860206,  1.29219537,  2.17261801,  6.21266918,  5.42655543,\n",
       "        1.29219537,  1.29219537,  4.47292858,  1.29219537,  3.51930173,\n",
       "        1.29219537,  6.12891263,  3.91235861,  1.29219537,  1.29219537,\n",
       "        2.17261801,  2.17261801,  1.29219537,  2.17261801,  1.29219537,\n",
       "        9.81671216,  1.29219537,  6.21266918,  1.29219537,  6.29642573,\n",
       "        1.29219537,  5.42655543,  1.29219537,  8.36533858,  1.29219537,\n",
       "        8.90603662,  1.29219537,  1.29219537,  2.64943144,  1.29219537,\n",
       "        1.29219537,  7.16629602,  1.69580459,  3.91235861,  3.04248831,\n",
       "        1.29219537,  8.03616632,  1.29219537,  4.55668513,  2.95873176,\n",
       "        1.29219537,  1.29219537,  6.12891263,  4.38917203,  1.29219537,\n",
       "        1.29219537, 10.16701804,  7.08253947,  1.29219537,  1.69580459,\n",
       "        1.29219537,  1.29219537, 10.16701804,  1.29219537,  1.29219537,\n",
       "        2.17261801,  4.38917203,  1.69580459,  1.29219537,  1.61204804,\n",
       "        2.64943144,  1.29219537,  2.56567489,  2.64943144,  1.69580459,\n",
       "        1.69580459,  1.29219537,  1.29219537,  7.16421893,  7.06416699,\n",
       "        7.5593529 ,  8.03616632,  6.21266918,  5.42655543,  1.69580459,\n",
       "        1.29219537,  1.29219537,  1.69580459,  1.69580459,  1.29219537,\n",
       "        8.9658984 ,  7.16421893,  1.29219537,  1.29219537,  6.46360716,\n",
       "        7.16629602,  3.04248831,  1.29219537,  5.16243557,  1.29219537,\n",
       "        1.29219537,  2.17261801,  1.61204804,  3.60305828,  6.60572605,\n",
       "        6.29642573,  3.60305828,  1.29219537,  1.69580459,  1.29219537,\n",
       "        3.43554518,  1.29219537,  1.29219537,  6.21266918,  1.29219537,\n",
       "        1.29219537,  1.29219537,  1.69580459,  1.29219537,  1.69580459,\n",
       "       10.16701804,  1.29219537,  1.29219537,  4.47292858,  5.26248752,\n",
       "        1.29219537,  3.60305828,  4.38917203,  1.29219537,  2.17261801,\n",
       "        5.34279888,  1.29219537,  1.29219537,  1.29219537,  1.29219537,\n",
       "        2.17261801,  1.29219537,  2.17261801,  1.29219537,  5.34279888,\n",
       "        8.90603662,  2.17261801,  1.69580459,  1.29219537,  2.17261801,\n",
       "        5.34279888,  1.69580459,  4.7822289 ,  9.46640627,  1.69580459,\n",
       "        3.43554518,  3.43554518,  1.29219537,  3.99611516,  7.08253947,\n",
       "        2.17261801,  3.91235861,  4.86598546,  2.64943144,  7.16421893,\n",
       "        1.29219537,  3.60305828,  1.29219537,  2.56567489,  5.16243557,\n",
       "        1.29219537,  1.29219537,  1.29219537,  1.29219537,  2.17261801,\n",
       "        2.17261801,  2.64943144,  5.42655543,  8.03616632,  2.95873176,\n",
       "        7.16421893,  1.69580459,  3.43554518,  1.29219537,  4.06136788,\n",
       "        2.64943144,  2.17261801,  1.69580459, 10.16701804,  2.17261801,\n",
       "        1.30274772,  3.91235861,  5.6520992 ,  4.47292858,  2.56567489,\n",
       "        8.9658984 ,  6.81391305,  1.29219537,  7.16629602,  1.29219537,\n",
       "        1.29219537,  1.29219537,  1.29219537,  8.36533858,  1.29219537,\n",
       "        5.8196123 ,  1.29219537,  1.29219537,  5.73585575,  2.64943144,\n",
       "        1.29219537,  1.29219537,  8.9658984 ,  2.08886146,  2.17261801,\n",
       "        6.29642573,  2.17261801,  1.29219537,  1.29219537,  3.43554518,\n",
       "        1.29219537,  2.17261801,  6.21266918,  5.25904233,  2.08886146,\n",
       "        1.29219537,  4.86598546,  1.69580459,  1.29219537,  2.08886146,\n",
       "       10.16701804,  4.7822289 ,  7.06416699,  2.56567489,  6.21266918])"
      ]
     },
     "execution_count": 233,
     "metadata": {},
     "output_type": "execute_result"
    }
   ],
   "source": [
    "# Pasar el conjunto de datos que hemos preparado para las pruebas\n",
    "y_pred = mlp_reg.predict(X_test_scaled)\n",
    "y_pred"
   ]
  },
  {
   "attachments": {},
   "cell_type": "markdown",
   "metadata": {},
   "source": [
    "## <a id='toc9_11_'></a>[Evaluación del mejor modelo](#toc0_)"
   ]
  },
  {
   "cell_type": "code",
   "execution_count": null,
   "metadata": {},
   "outputs": [
    {
     "name": "stdout",
     "output_type": "stream",
     "text": [
      "r2: 0.67\n",
      "Error cuadrático promedio: 3.18\n",
      "Varianza explicada: 0.67\n"
     ]
    }
   ],
   "source": [
    "# Prueba de r2. La mejor puntuación posible es 1.0 y puede ser negativa (porque el modelo puede ser arbitrariamente peor).\n",
    "print('r2: {:.2f}'.format(r2_score(y_test, y_pred)))\n",
    "\n",
    "# Error cuadrático promedio. La mejor puntuación posible es 0.0\n",
    "print('Error cuadrático promedio: {:.2f}'.format(mean_squared_error(y_test, y_pred)))\n",
    "\n",
    "# Puntuación de varianza explicada. La mejor puntuación posible es 1.0, los valores más bajos son peores.\n",
    "print('Varianza explicada: {:.2f}'.format(explained_variance_score(y_test, y_pred)))"
   ]
  },
  {
   "cell_type": "code",
   "execution_count": null,
   "metadata": {},
   "outputs": [
    {
     "data": {
      "image/png": "[encoded data removed]",
      "text/plain": [
       "<Figure size 640x480 with 1 Axes>"
      ]
     },
     "metadata": {},
     "output_type": "display_data"
    }
   ],
   "source": [
    "# Vea qué tan bien fue el entrenamiento del modelo\n",
    "plt.plot(mlp_reg_opt.loss_curve_)\n",
    "plt.title(\"Curva de Pérdida\", fontsize=14)\n",
    "plt.xlabel('Iteraciones')\n",
    "plt.ylabel('Costo')\n",
    "plt.show()"
   ]
  },
  {
   "cell_type": "code",
   "execution_count": null,
   "metadata": {},
   "outputs": [
    {
     "data": {
      "image/png": "[encoded data removed]",
      "text/plain": [
       "<Figure size 640x480 with 1 Axes>"
      ]
     },
     "metadata": {},
     "output_type": "display_data"
    }
   ],
   "source": [
    "# Vea qué tan bien fue la prueba del modelo\n",
    "regression_res_df_opt = pd.DataFrame({'Reales': y_test,'Predicciones': y_pred})\n",
    "\n",
    "sn.scatterplot(x = list(range(len(regression_res_df))), y ='Reales', data=regression_res_df, label = 'Reales')\n",
    "sn.scatterplot(x = list(range(len(regression_res_df))), y ='Predicciones', data=regression_res_df, label = 'Predicciones')\n",
    "plt.xlabel('Observaciones')\n",
    "plt.ylabel('Tamaño de célula')\n",
    "plt.show()"
   ]
  }
 ],
 "metadata": {
  "kernelspec": {
   "display_name": "base",
   "language": "python",
   "name": "python3"
  },
  "language_info": {
   "codemirror_mode": {
    "name": "ipython",
    "version": 3
   },
   "file_extension": ".py",
   "mimetype": "text/x-python",
   "name": "python",
   "nbconvert_exporter": "python",
   "pygments_lexer": "ipython3",
   "version": "3.11.3"
  },
  "orig_nbformat": 4
 },
 "nbformat": 4,
 "nbformat_minor": 2
}
