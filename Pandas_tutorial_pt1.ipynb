{
  "nbformat": 4,
  "nbformat_minor": 0,
  "metadata": {
    "colab": {
      "provenance": []
    },
    "kernelspec": {
      "name": "python3",
      "display_name": "Python 3"
    },
    "language_info": {
      "name": "python"
    }
  },
  "cells": [
    {
      "cell_type": "markdown",
      "source": [
        "# Pandas\n",
        "\n",
        "“Pandas is an open-source Python library for data analysis. \n",
        "\n",
        "It gives Python the ability to work with spreadsheet-like data for fast data loading, manipulating, aligning, merging, etc.\n",
        "\n",
        "To give Python these enhanced features, Pandas introduces two new data types to Python: Series and DataFrame. \n",
        "\n",
        "The **DataFrame** will represent your entire spreadsheet or rectangular data, whereas the **Series** is a single column of the DataFrame”\n",
        "\n",
        "Fragmento de\n",
        "Pandas for Everyone: Python Data Analysis\n",
        "Daniel Y. Chen\n",
        "https://itunes.apple.com/WebObjects/MZStore.woa/wa/viewBook?id=0\n",
        "Es posible que este material esté protegido por copyright.\n",
        "\n",
        "This tutorial is based on the above book\n",
        "\n",
        "\n",
        "***The pandas documentation is at*** https://pandas.pydata.org/docs/index.html"
      ],
      "metadata": {
        "id": "mbUfupU0YLsP"
      }
    },
    {
      "cell_type": "markdown",
      "source": [
        "## Loading pandas\n",
        "\n",
        "Since Pandas is not part of the Python standard library, we have to first tell Python to load (i.e., import) the library"
      ],
      "metadata": {
        "id": "_XXA52UmYsu1"
      }
    },
    {
      "cell_type": "code",
      "execution_count": 1,
      "metadata": {
        "id": "rfZ31keBYo8h"
      },
      "outputs": [],
      "source": [
        "import pandas as pd"
      ]
    },
    {
      "cell_type": "markdown",
      "source": [
        "## Loading a data set\n",
        "\n",
        "With the library loaded we can use the read_csv() function to load a CSV data file\n",
        "\n",
        "For this tutorial, we will use the data stored at: https://github.com/jennybc/gapminder/blob/main/data-raw/04_gap-merged.tsv"
      ],
      "metadata": {
        "id": "vAPCTwIxYy2u"
      }
    },
    {
      "cell_type": "code",
      "source": [
        "'''\n",
        "Note: If you are using Google Colab, then the data file must be uploaded first\n",
        "        On the other hand, the data file-path must be doble check\n",
        "'''\n",
        "\n",
        "df  = pd.read_csv(filepath_or_buffer = '/content/04_gap-merged.tsv', sep='\\t')\n",
        "# print out the data\n",
        "print(df)"
      ],
      "metadata": {
        "colab": {
          "base_uri": "https://localhost:8080/"
        },
        "id": "8jhN762sZLhH",
        "outputId": "21a928b9-f251-4bc6-f04b-bfecd012bbc7"
      },
      "execution_count": 7,
      "outputs": [
        {
          "output_type": "stream",
          "name": "stdout",
          "text": [
            "          country continent  year  lifeExp       pop   gdpPercap\n",
            "0     Afghanistan      Asia  1952   28.801   8425333  779.445314\n",
            "1     Afghanistan      Asia  1957   30.332   9240934  820.853030\n",
            "2     Afghanistan      Asia  1962   31.997  10267083  853.100710\n",
            "3     Afghanistan      Asia  1967   34.020  11537966  836.197138\n",
            "4     Afghanistan      Asia  1972   36.088  13079460  739.981106\n",
            "...           ...       ...   ...      ...       ...         ...\n",
            "3307     Zimbabwe    Africa  1987   62.351   9216418  706.157306\n",
            "3308     Zimbabwe    Africa  1992   60.377  10704340  693.420786\n",
            "3309     Zimbabwe    Africa  1997   46.809  11404948  792.449960\n",
            "3310     Zimbabwe    Africa  2002   39.989  11926563  672.038623\n",
            "3311     Zimbabwe    Africa  2007   43.487  12311143  469.709298\n",
            "\n",
            "[3312 rows x 6 columns]\n"
          ]
        }
      ]
    },
    {
      "cell_type": "markdown",
      "source": [
        "**sep** (separator) is the parameter that allow us to define the delimiter of our data set\n",
        "\n",
        "The types are:\n",
        "\n",
        "*   default = ,\n",
        "*   semi-colon-separated CSV = ;\n",
        "*   Vertical-bar = |\n",
        "*   Vertical-bar = |\n",
        "*   Colon = :\n",
        "*   Tab = t\n",
        "*   Vertical-bar = |\n",
        "\n",
        "\n"
      ],
      "metadata": {
        "id": "E3xLhiCQdv1Y"
      }
    },
    {
      "cell_type": "markdown",
      "source": [
        "## Checking the data format"
      ],
      "metadata": {
        "id": "SX3CF-q2gvR2"
      }
    },
    {
      "cell_type": "markdown",
      "source": [
        "### Data type\n",
        "\n",
        "We can check to see if we are working with a Pandas Dataframe by using the built-in **type()** function"
      ],
      "metadata": {
        "id": "KBgxeyb1fcIA"
      }
    },
    {
      "cell_type": "code",
      "source": [
        "print(type(df))"
      ],
      "metadata": {
        "colab": {
          "base_uri": "https://localhost:8080/"
        },
        "id": "KdYawDW1e9Bk",
        "outputId": "defe4185-e833-4ffd-b174-3148f4727648"
      },
      "execution_count": 9,
      "outputs": [
        {
          "output_type": "stream",
          "name": "stdout",
          "text": [
            "<class 'pandas.core.frame.DataFrame'>\n"
          ]
        }
      ]
    },
    {
      "cell_type": "markdown",
      "source": [
        "### Data shape\n",
        "\n",
        "Every DataFrame object has a **.shape** attribute that will give us the number of rows and columns of the DataFrame."
      ],
      "metadata": {
        "id": "sOaD6kPYfmxd"
      }
    },
    {
      "cell_type": "code",
      "source": [
        "# get the number of rows and columns\n",
        "print(df.shape)"
      ],
      "metadata": {
        "colab": {
          "base_uri": "https://localhost:8080/"
        },
        "id": "tJMLWtHRfUhp",
        "outputId": "c2fa035d-e45c-4f06-bdf4-92fcfe8dadcb"
      },
      "execution_count": 10,
      "outputs": [
        {
          "output_type": "stream",
          "name": "stdout",
          "text": [
            "(3312, 6)\n"
          ]
        }
      ]
    },
    {
      "cell_type": "markdown",
      "source": [
        "### Data columns names\n",
        "\n",
        "The column names, like .shape, are given using the **.column** attribute of the DataFrame object."
      ],
      "metadata": {
        "id": "xmE3F4oHf9mw"
      }
    },
    {
      "cell_type": "code",
      "source": [
        "# get column names\n",
        "print(df.columns)"
      ],
      "metadata": {
        "colab": {
          "base_uri": "https://localhost:8080/"
        },
        "id": "1HzaPlBlf0oA",
        "outputId": "dad8df27-855f-4421-fe77-326a30f1e921"
      },
      "execution_count": 11,
      "outputs": [
        {
          "output_type": "stream",
          "name": "stdout",
          "text": [
            "Index(['country', 'continent', 'year', 'lifeExp', 'pop', 'gdpPercap'], dtype='object')\n"
          ]
        }
      ]
    },
    {
      "cell_type": "markdown",
      "source": [
        "### All columns types\n",
        "\n",
        "Each column (i.e., Series) has to be the same type, whereas each row can contain mixed types. \n",
        "\n",
        "In our current example, we can expect the country column to be all strings, and the year to be integers. \n",
        "\n",
        "However, it's best to make sure that is the case by using the .dtypes attribute or the .**info()** method."
      ],
      "metadata": {
        "id": "lpG2GlK8gP7x"
      }
    },
    {
      "cell_type": "code",
      "source": [
        "# get the dtype of each column\n",
        "print(df.dtypes)"
      ],
      "metadata": {
        "colab": {
          "base_uri": "https://localhost:8080/"
        },
        "id": "PT1iIXRKgdIk",
        "outputId": "9c3c03c0-11f2-4a58-935e-4e13ab1782ce"
      },
      "execution_count": 12,
      "outputs": [
        {
          "output_type": "stream",
          "name": "stdout",
          "text": [
            "country       object\n",
            "continent     object\n",
            "year           int64\n",
            "lifeExp      float64\n",
            "pop            int64\n",
            "gdpPercap    float64\n",
            "dtype: object\n"
          ]
        }
      ]
    },
    {
      "cell_type": "markdown",
      "source": [
        "## Taking a look of the Columns, Rows, and Cells\n",
        "\n",
        "The best way to look at our data is to inspect it by looking at various subsets of the data"
      ],
      "metadata": {
        "id": "8bXw0-uhg4WW"
      }
    },
    {
      "cell_type": "markdown",
      "source": [
        "### Head\n",
        "\n",
        "Use the **.head()** method of a DataFrame to look at the first 5 rows of our data"
      ],
      "metadata": {
        "id": "FhHSD5QahHDb"
      }
    },
    {
      "cell_type": "code",
      "source": [
        "# show the first 5 observations\n",
        "print(df.head())"
      ],
      "metadata": {
        "colab": {
          "base_uri": "https://localhost:8080/"
        },
        "id": "9nxQ9zp8hGTr",
        "outputId": "9a67ed43-e179-4178-b093-c65679b24ee1"
      },
      "execution_count": 13,
      "outputs": [
        {
          "output_type": "stream",
          "name": "stdout",
          "text": [
            "       country continent  year  lifeExp       pop   gdpPercap\n",
            "0  Afghanistan      Asia  1952   28.801   8425333  779.445314\n",
            "1  Afghanistan      Asia  1957   30.332   9240934  820.853030\n",
            "2  Afghanistan      Asia  1962   31.997  10267083  853.100710\n",
            "3  Afghanistan      Asia  1967   34.020  11537966  836.197138\n",
            "4  Afghanistan      Asia  1972   36.088  13079460  739.981106\n"
          ]
        }
      ]
    },
    {
      "cell_type": "markdown",
      "source": [
        "### Tail\n",
        "\n",
        "Use the **.tail()** method of a DataFrame to look at the last 5 rows of our data"
      ],
      "metadata": {
        "id": "RNDgzegBhhpC"
      }
    },
    {
      "cell_type": "code",
      "source": [
        "# show the last 5 observations\n",
        "print(df.tail())"
      ],
      "metadata": {
        "colab": {
          "base_uri": "https://localhost:8080/"
        },
        "id": "izaH5er6hnfJ",
        "outputId": "23d4dfbf-9179-47c1-f779-c75e9cf7cfe8"
      },
      "execution_count": 14,
      "outputs": [
        {
          "output_type": "stream",
          "name": "stdout",
          "text": [
            "       country continent  year  lifeExp       pop   gdpPercap\n",
            "3307  Zimbabwe    Africa  1987   62.351   9216418  706.157306\n",
            "3308  Zimbabwe    Africa  1992   60.377  10704340  693.420786\n",
            "3309  Zimbabwe    Africa  1997   46.809  11404948  792.449960\n",
            "3310  Zimbabwe    Africa  2002   39.989  11926563  672.038623\n",
            "3311  Zimbabwe    Africa  2007   43.487  12311143  469.709298\n"
          ]
        }
      ]
    },
    {
      "cell_type": "markdown",
      "source": [
        "### Subset of Columns\n",
        "\n",
        "If we want only a specific column from our data, we can access the data using square brackets, [ ]"
      ],
      "metadata": {
        "id": "CKgt8UlGh08q"
      }
    },
    {
      "cell_type": "code",
      "source": [
        "# just get the country column and save it to its own variable\n",
        "country_df = df['country']\n",
        "\n",
        "# show the first 5 observations\n",
        "print(country_df.head())"
      ],
      "metadata": {
        "colab": {
          "base_uri": "https://localhost:8080/"
        },
        "id": "FlgtOKDehrXz",
        "outputId": "d6b3d8cc-0b05-4aaf-c9e8-2df18b182e87"
      },
      "execution_count": 15,
      "outputs": [
        {
          "output_type": "stream",
          "name": "stdout",
          "text": [
            "0    Afghanistan\n",
            "1    Afghanistan\n",
            "2    Afghanistan\n",
            "3    Afghanistan\n",
            "4    Afghanistan\n",
            "Name: country, dtype: object\n"
          ]
        }
      ]
    },
    {
      "cell_type": "markdown",
      "source": [
        "In order to specify multiple columns by the column name, we need to pass in a Python list between the square brackets. \n",
        "\n",
        "This may look a bit strange since there will be **2 sets of square brackets**, [[ ]].\n"
      ],
      "metadata": {
        "id": "XIAzYuLgiJCX"
      }
    },
    {
      "cell_type": "code",
      "source": [
        "# Looking at country, continent, and year\n",
        "subset = df[['country', 'continent', 'year']]\n",
        "print(subset)"
      ],
      "metadata": {
        "colab": {
          "base_uri": "https://localhost:8080/"
        },
        "id": "AByS-k4LiBea",
        "outputId": "d4c8e09d-b729-4f51-ccd9-51be3d247648"
      },
      "execution_count": 16,
      "outputs": [
        {
          "output_type": "stream",
          "name": "stdout",
          "text": [
            "          country continent  year\n",
            "0     Afghanistan      Asia  1952\n",
            "1     Afghanistan      Asia  1957\n",
            "2     Afghanistan      Asia  1962\n",
            "3     Afghanistan      Asia  1967\n",
            "4     Afghanistan      Asia  1972\n",
            "...           ...       ...   ...\n",
            "3307     Zimbabwe    Africa  1987\n",
            "3308     Zimbabwe    Africa  1992\n",
            "3309     Zimbabwe    Africa  1997\n",
            "3310     Zimbabwe    Africa  2002\n",
            "3311     Zimbabwe    Africa  2007\n",
            "\n",
            "[3312 rows x 3 columns]\n"
          ]
        }
      ]
    },
    {
      "cell_type": "markdown",
      "source": [
        "Using the square bracket notation, [ ], you cannot pass an index position to subset a DataFrame based on the position of the columns. \n",
        "\n",
        "\n",
        "If you want to do this, look down for the .iloc[] notation at https://pandas.pydata.org/docs/reference/api/pandas.DataFrame.iloc.html\n",
        "\n"
      ],
      "metadata": {
        "id": "QnSJQwWJifyN"
      }
    },
    {
      "cell_type": "code",
      "source": [
        "# subset the first column based on its position.\n",
        "df[0]"
      ],
      "metadata": {
        "colab": {
          "base_uri": "https://localhost:8080/",
          "height": 503
        },
        "id": "nHhSRZHtifBa",
        "outputId": "8e068ad1-5993-4c5a-8952-a02df44a5c3c"
      },
      "execution_count": 17,
      "outputs": [
        {
          "output_type": "error",
          "ename": "KeyError",
          "evalue": "ignored",
          "traceback": [
            "\u001b[0;31m---------------------------------------------------------------------------\u001b[0m",
            "\u001b[0;31mKeyError\u001b[0m                                  Traceback (most recent call last)",
            "\u001b[0;32m/usr/local/lib/python3.10/dist-packages/pandas/core/indexes/base.py\u001b[0m in \u001b[0;36mget_loc\u001b[0;34m(self, key, method, tolerance)\u001b[0m\n\u001b[1;32m   3801\u001b[0m             \u001b[0;32mtry\u001b[0m\u001b[0;34m:\u001b[0m\u001b[0;34m\u001b[0m\u001b[0;34m\u001b[0m\u001b[0m\n\u001b[0;32m-> 3802\u001b[0;31m                 \u001b[0;32mreturn\u001b[0m \u001b[0mself\u001b[0m\u001b[0;34m.\u001b[0m\u001b[0m_engine\u001b[0m\u001b[0;34m.\u001b[0m\u001b[0mget_loc\u001b[0m\u001b[0;34m(\u001b[0m\u001b[0mcasted_key\u001b[0m\u001b[0;34m)\u001b[0m\u001b[0;34m\u001b[0m\u001b[0;34m\u001b[0m\u001b[0m\n\u001b[0m\u001b[1;32m   3803\u001b[0m             \u001b[0;32mexcept\u001b[0m \u001b[0mKeyError\u001b[0m \u001b[0;32mas\u001b[0m \u001b[0merr\u001b[0m\u001b[0;34m:\u001b[0m\u001b[0;34m\u001b[0m\u001b[0;34m\u001b[0m\u001b[0m\n",
            "\u001b[0;32m/usr/local/lib/python3.10/dist-packages/pandas/_libs/index.pyx\u001b[0m in \u001b[0;36mpandas._libs.index.IndexEngine.get_loc\u001b[0;34m()\u001b[0m\n",
            "\u001b[0;32m/usr/local/lib/python3.10/dist-packages/pandas/_libs/index.pyx\u001b[0m in \u001b[0;36mpandas._libs.index.IndexEngine.get_loc\u001b[0;34m()\u001b[0m\n",
            "\u001b[0;32mpandas/_libs/hashtable_class_helper.pxi\u001b[0m in \u001b[0;36mpandas._libs.hashtable.PyObjectHashTable.get_item\u001b[0;34m()\u001b[0m\n",
            "\u001b[0;32mpandas/_libs/hashtable_class_helper.pxi\u001b[0m in \u001b[0;36mpandas._libs.hashtable.PyObjectHashTable.get_item\u001b[0;34m()\u001b[0m\n",
            "\u001b[0;31mKeyError\u001b[0m: 0",
            "\nThe above exception was the direct cause of the following exception:\n",
            "\u001b[0;31mKeyError\u001b[0m                                  Traceback (most recent call last)",
            "\u001b[0;32m<ipython-input-17-e8d6de3f2d4f>\u001b[0m in \u001b[0;36m<cell line: 2>\u001b[0;34m()\u001b[0m\n\u001b[1;32m      1\u001b[0m \u001b[0;31m# subset the first column based on its position.\u001b[0m\u001b[0;34m\u001b[0m\u001b[0;34m\u001b[0m\u001b[0m\n\u001b[0;32m----> 2\u001b[0;31m \u001b[0mdf\u001b[0m\u001b[0;34m[\u001b[0m\u001b[0;36m0\u001b[0m\u001b[0;34m]\u001b[0m\u001b[0;34m\u001b[0m\u001b[0;34m\u001b[0m\u001b[0m\n\u001b[0m",
            "\u001b[0;32m/usr/local/lib/python3.10/dist-packages/pandas/core/frame.py\u001b[0m in \u001b[0;36m__getitem__\u001b[0;34m(self, key)\u001b[0m\n\u001b[1;32m   3805\u001b[0m             \u001b[0;32mif\u001b[0m \u001b[0mself\u001b[0m\u001b[0;34m.\u001b[0m\u001b[0mcolumns\u001b[0m\u001b[0;34m.\u001b[0m\u001b[0mnlevels\u001b[0m \u001b[0;34m>\u001b[0m \u001b[0;36m1\u001b[0m\u001b[0;34m:\u001b[0m\u001b[0;34m\u001b[0m\u001b[0;34m\u001b[0m\u001b[0m\n\u001b[1;32m   3806\u001b[0m                 \u001b[0;32mreturn\u001b[0m \u001b[0mself\u001b[0m\u001b[0;34m.\u001b[0m\u001b[0m_getitem_multilevel\u001b[0m\u001b[0;34m(\u001b[0m\u001b[0mkey\u001b[0m\u001b[0;34m)\u001b[0m\u001b[0;34m\u001b[0m\u001b[0;34m\u001b[0m\u001b[0m\n\u001b[0;32m-> 3807\u001b[0;31m             \u001b[0mindexer\u001b[0m \u001b[0;34m=\u001b[0m \u001b[0mself\u001b[0m\u001b[0;34m.\u001b[0m\u001b[0mcolumns\u001b[0m\u001b[0;34m.\u001b[0m\u001b[0mget_loc\u001b[0m\u001b[0;34m(\u001b[0m\u001b[0mkey\u001b[0m\u001b[0;34m)\u001b[0m\u001b[0;34m\u001b[0m\u001b[0;34m\u001b[0m\u001b[0m\n\u001b[0m\u001b[1;32m   3808\u001b[0m             \u001b[0;32mif\u001b[0m \u001b[0mis_integer\u001b[0m\u001b[0;34m(\u001b[0m\u001b[0mindexer\u001b[0m\u001b[0;34m)\u001b[0m\u001b[0;34m:\u001b[0m\u001b[0;34m\u001b[0m\u001b[0;34m\u001b[0m\u001b[0m\n\u001b[1;32m   3809\u001b[0m                 \u001b[0mindexer\u001b[0m \u001b[0;34m=\u001b[0m \u001b[0;34m[\u001b[0m\u001b[0mindexer\u001b[0m\u001b[0;34m]\u001b[0m\u001b[0;34m\u001b[0m\u001b[0;34m\u001b[0m\u001b[0m\n",
            "\u001b[0;32m/usr/local/lib/python3.10/dist-packages/pandas/core/indexes/base.py\u001b[0m in \u001b[0;36mget_loc\u001b[0;34m(self, key, method, tolerance)\u001b[0m\n\u001b[1;32m   3802\u001b[0m                 \u001b[0;32mreturn\u001b[0m \u001b[0mself\u001b[0m\u001b[0;34m.\u001b[0m\u001b[0m_engine\u001b[0m\u001b[0;34m.\u001b[0m\u001b[0mget_loc\u001b[0m\u001b[0;34m(\u001b[0m\u001b[0mcasted_key\u001b[0m\u001b[0;34m)\u001b[0m\u001b[0;34m\u001b[0m\u001b[0;34m\u001b[0m\u001b[0m\n\u001b[1;32m   3803\u001b[0m             \u001b[0;32mexcept\u001b[0m \u001b[0mKeyError\u001b[0m \u001b[0;32mas\u001b[0m \u001b[0merr\u001b[0m\u001b[0;34m:\u001b[0m\u001b[0;34m\u001b[0m\u001b[0;34m\u001b[0m\u001b[0m\n\u001b[0;32m-> 3804\u001b[0;31m                 \u001b[0;32mraise\u001b[0m \u001b[0mKeyError\u001b[0m\u001b[0;34m(\u001b[0m\u001b[0mkey\u001b[0m\u001b[0;34m)\u001b[0m \u001b[0;32mfrom\u001b[0m \u001b[0merr\u001b[0m\u001b[0;34m\u001b[0m\u001b[0;34m\u001b[0m\u001b[0m\n\u001b[0m\u001b[1;32m   3805\u001b[0m             \u001b[0;32mexcept\u001b[0m \u001b[0mTypeError\u001b[0m\u001b[0;34m:\u001b[0m\u001b[0;34m\u001b[0m\u001b[0;34m\u001b[0m\u001b[0m\n\u001b[1;32m   3806\u001b[0m                 \u001b[0;31m# If we have a listlike key, _check_indexing_error will raise\u001b[0m\u001b[0;34m\u001b[0m\u001b[0;34m\u001b[0m\u001b[0m\n",
            "\u001b[0;31mKeyError\u001b[0m: 0"
          ]
        }
      ]
    },
    {
      "cell_type": "code",
      "source": [
        "''' Single selections using iloc and DataFrame\n",
        "\n",
        "Rows:\n",
        "df.iloc[0] # first row of data frame\n",
        "df.iloc[1] # second row of data frame\n",
        "df.iloc[-1] # last row of data frame\n",
        "\n",
        "Columns:\n",
        "df.iloc[:,0] # first column of data frame\n",
        "df.iloc[:,1] # second column of data frame\n",
        "df.iloc[:,-1] # last column of data frame\n",
        "'''\n",
        "\n",
        "df.iloc[1]\n"
      ],
      "metadata": {
        "colab": {
          "base_uri": "https://localhost:8080/"
        },
        "id": "b3o0pGr9iqNl",
        "outputId": "38bbc505-225e-461f-ae25-34fd2d99750f"
      },
      "execution_count": 26,
      "outputs": [
        {
          "output_type": "execute_result",
          "data": {
            "text/plain": [
              "country      Afghanistan\n",
              "continent           Asia\n",
              "year                1957\n",
              "lifeExp           30.332\n",
              "pop              9240934\n",
              "gdpPercap      820.85303\n",
              "Name: 1, dtype: object"
            ]
          },
          "metadata": {},
          "execution_count": 26
        }
      ]
    },
    {
      "cell_type": "code",
      "source": [
        "''' Multiple row and column selections using iloc and DataFrame\n",
        "\n",
        "data.iloc[0:5] # first five rows of dataframe\n",
        "data.iloc[:, 0:2] # first two columns of data frame with all rows\n",
        "data.iloc[[0,3,6,24], [0,3,6]] # 1st, 4th, 7th, 25th row + 1st 3rd 7th columns\n",
        "data.iloc[0:5, 2:4] # first 5 rows and 4th and 5th columns of data frame (the range is not incluse with the last value)\n",
        "'''\n",
        "\n",
        "df.iloc[0:5, 2:4]\n",
        "\n"
      ],
      "metadata": {
        "colab": {
          "base_uri": "https://localhost:8080/",
          "height": 206
        },
        "id": "jwa5R3Apj8w4",
        "outputId": "3f4982f0-b042-432d-aed5-95437b83804c"
      },
      "execution_count": 57,
      "outputs": [
        {
          "output_type": "execute_result",
          "data": {
            "text/plain": [
              "   year  lifeExp\n",
              "0  1952   28.801\n",
              "1  1957   30.332\n",
              "2  1962   31.997\n",
              "3  1967   34.020\n",
              "4  1972   36.088"
            ],
            "text/html": [
              "\n",
              "  <div id=\"df-129ae717-2aac-4e7f-a66f-dd7aa713da66\">\n",
              "    <div class=\"colab-df-container\">\n",
              "      <div>\n",
              "<style scoped>\n",
              "    .dataframe tbody tr th:only-of-type {\n",
              "        vertical-align: middle;\n",
              "    }\n",
              "\n",
              "    .dataframe tbody tr th {\n",
              "        vertical-align: top;\n",
              "    }\n",
              "\n",
              "    .dataframe thead th {\n",
              "        text-align: right;\n",
              "    }\n",
              "</style>\n",
              "<table border=\"1\" class=\"dataframe\">\n",
              "  <thead>\n",
              "    <tr style=\"text-align: right;\">\n",
              "      <th></th>\n",
              "      <th>year</th>\n",
              "      <th>lifeExp</th>\n",
              "    </tr>\n",
              "  </thead>\n",
              "  <tbody>\n",
              "    <tr>\n",
              "      <th>0</th>\n",
              "      <td>1952</td>\n",
              "      <td>28.801</td>\n",
              "    </tr>\n",
              "    <tr>\n",
              "      <th>1</th>\n",
              "      <td>1957</td>\n",
              "      <td>30.332</td>\n",
              "    </tr>\n",
              "    <tr>\n",
              "      <th>2</th>\n",
              "      <td>1962</td>\n",
              "      <td>31.997</td>\n",
              "    </tr>\n",
              "    <tr>\n",
              "      <th>3</th>\n",
              "      <td>1967</td>\n",
              "      <td>34.020</td>\n",
              "    </tr>\n",
              "    <tr>\n",
              "      <th>4</th>\n",
              "      <td>1972</td>\n",
              "      <td>36.088</td>\n",
              "    </tr>\n",
              "  </tbody>\n",
              "</table>\n",
              "</div>\n",
              "      <button class=\"colab-df-convert\" onclick=\"convertToInteractive('df-129ae717-2aac-4e7f-a66f-dd7aa713da66')\"\n",
              "              title=\"Convert this dataframe to an interactive table.\"\n",
              "              style=\"display:none;\">\n",
              "        \n",
              "  <svg xmlns=\"http://www.w3.org/2000/svg\" height=\"24px\"viewBox=\"0 0 24 24\"\n",
              "       width=\"24px\">\n",
              "    <path d=\"M0 0h24v24H0V0z\" fill=\"none\"/>\n",
              "    <path d=\"M18.56 5.44l.94 2.06.94-2.06 2.06-.94-2.06-.94-.94-2.06-.94 2.06-2.06.94zm-11 1L8.5 8.5l.94-2.06 2.06-.94-2.06-.94L8.5 2.5l-.94 2.06-2.06.94zm10 10l.94 2.06.94-2.06 2.06-.94-2.06-.94-.94-2.06-.94 2.06-2.06.94z\"/><path d=\"M17.41 7.96l-1.37-1.37c-.4-.4-.92-.59-1.43-.59-.52 0-1.04.2-1.43.59L10.3 9.45l-7.72 7.72c-.78.78-.78 2.05 0 2.83L4 21.41c.39.39.9.59 1.41.59.51 0 1.02-.2 1.41-.59l7.78-7.78 2.81-2.81c.8-.78.8-2.07 0-2.86zM5.41 20L4 18.59l7.72-7.72 1.47 1.35L5.41 20z\"/>\n",
              "  </svg>\n",
              "      </button>\n",
              "      \n",
              "  <style>\n",
              "    .colab-df-container {\n",
              "      display:flex;\n",
              "      flex-wrap:wrap;\n",
              "      gap: 12px;\n",
              "    }\n",
              "\n",
              "    .colab-df-convert {\n",
              "      background-color: #E8F0FE;\n",
              "      border: none;\n",
              "      border-radius: 50%;\n",
              "      cursor: pointer;\n",
              "      display: none;\n",
              "      fill: #1967D2;\n",
              "      height: 32px;\n",
              "      padding: 0 0 0 0;\n",
              "      width: 32px;\n",
              "    }\n",
              "\n",
              "    .colab-df-convert:hover {\n",
              "      background-color: #E2EBFA;\n",
              "      box-shadow: 0px 1px 2px rgba(60, 64, 67, 0.3), 0px 1px 3px 1px rgba(60, 64, 67, 0.15);\n",
              "      fill: #174EA6;\n",
              "    }\n",
              "\n",
              "    [theme=dark] .colab-df-convert {\n",
              "      background-color: #3B4455;\n",
              "      fill: #D2E3FC;\n",
              "    }\n",
              "\n",
              "    [theme=dark] .colab-df-convert:hover {\n",
              "      background-color: #434B5C;\n",
              "      box-shadow: 0px 1px 3px 1px rgba(0, 0, 0, 0.15);\n",
              "      filter: drop-shadow(0px 1px 2px rgba(0, 0, 0, 0.3));\n",
              "      fill: #FFFFFF;\n",
              "    }\n",
              "  </style>\n",
              "\n",
              "      <script>\n",
              "        const buttonEl =\n",
              "          document.querySelector('#df-129ae717-2aac-4e7f-a66f-dd7aa713da66 button.colab-df-convert');\n",
              "        buttonEl.style.display =\n",
              "          google.colab.kernel.accessAllowed ? 'block' : 'none';\n",
              "\n",
              "        async function convertToInteractive(key) {\n",
              "          const element = document.querySelector('#df-129ae717-2aac-4e7f-a66f-dd7aa713da66');\n",
              "          const dataTable =\n",
              "            await google.colab.kernel.invokeFunction('convertToInteractive',\n",
              "                                                     [key], {});\n",
              "          if (!dataTable) return;\n",
              "\n",
              "          const docLinkHtml = 'Like what you see? Visit the ' +\n",
              "            '<a target=\"_blank\" href=https://colab.research.google.com/notebooks/data_table.ipynb>data table notebook</a>'\n",
              "            + ' to learn more about interactive tables.';\n",
              "          element.innerHTML = '';\n",
              "          dataTable['output_type'] = 'display_data';\n",
              "          await google.colab.output.renderOutput(dataTable, element);\n",
              "          const docLink = document.createElement('div');\n",
              "          docLink.innerHTML = docLinkHtml;\n",
              "          element.appendChild(docLink);\n",
              "        }\n",
              "      </script>\n",
              "    </div>\n",
              "  </div>\n",
              "  "
            ]
          },
          "metadata": {},
          "execution_count": 57
        }
      ]
    },
    {
      "cell_type": "code",
      "source": [
        "'''\n",
        "Use range to get a subset of columns\n",
        "'''\n",
        "\n",
        "# create a range of integers from 0 - 4 inclusive\n",
        "small_range = list(range(5))\n",
        "print(small_range, '\\n')\n",
        "\n",
        "subset = df.iloc[:, small_range]\n",
        "print(subset)\n"
      ],
      "metadata": {
        "colab": {
          "base_uri": "https://localhost:8080/"
        },
        "id": "8XztVVy-rVl9",
        "outputId": "75c8f9d3-d8d6-4247-9e3f-6e5c39be4a87"
      },
      "execution_count": 54,
      "outputs": [
        {
          "output_type": "stream",
          "name": "stdout",
          "text": [
            "[0, 1, 2, 3, 4] \n",
            "\n",
            "          country continent  year  lifeExp       pop\n",
            "0     Afghanistan      Asia  1952   28.801   8425333\n",
            "1     Afghanistan      Asia  1957   30.332   9240934\n",
            "2     Afghanistan      Asia  1962   31.997  10267083\n",
            "3     Afghanistan      Asia  1967   34.020  11537966\n",
            "4     Afghanistan      Asia  1972   36.088  13079460\n",
            "...           ...       ...   ...      ...       ...\n",
            "3307     Zimbabwe    Africa  1987   62.351   9216418\n",
            "3308     Zimbabwe    Africa  1992   60.377  10704340\n",
            "3309     Zimbabwe    Africa  1997   46.809  11404948\n",
            "3310     Zimbabwe    Africa  2002   39.989  11926563\n",
            "3311     Zimbabwe    Africa  2007   43.487  12311143\n",
            "\n",
            "[3312 rows x 5 columns]\n"
          ]
        }
      ]
    },
    {
      "cell_type": "code",
      "source": [
        "'''\n",
        "Accessing a single cell in the dataframe\n",
        "'''\n",
        "\n",
        "df.iloc[0, 2]"
      ],
      "metadata": {
        "colab": {
          "base_uri": "https://localhost:8080/"
        },
        "id": "ffW2IAcokhLf",
        "outputId": "62d91594-a6b7-4ca1-a1a6-fda4210479f5"
      },
      "execution_count": 28,
      "outputs": [
        {
          "output_type": "execute_result",
          "data": {
            "text/plain": [
              "1952"
            ]
          },
          "metadata": {},
          "execution_count": 28
        }
      ]
    },
    {
      "cell_type": "markdown",
      "source": [
        "### Returning a column\n",
        "\n",
        "When all you need is a single column (i.e., Series or vector) of values and typing df['column'] will be very tedious. \n",
        "\n",
        "There is a shorthand notation where you can pull the column vector by treating it as a DataFrame attribute"
      ],
      "metadata": {
        "id": "NTEzpaC1nEB_"
      }
    },
    {
      "cell_type": "code",
      "source": [
        "# using square bracket notation\n",
        "print(df['country'])"
      ],
      "metadata": {
        "colab": {
          "base_uri": "https://localhost:8080/"
        },
        "id": "QJuiRfNEnObA",
        "outputId": "1a8b7779-c660-4c83-ea7b-1044638837a4"
      },
      "execution_count": 35,
      "outputs": [
        {
          "output_type": "stream",
          "name": "stdout",
          "text": [
            "0       Afghanistan\n",
            "1       Afghanistan\n",
            "2       Afghanistan\n",
            "3       Afghanistan\n",
            "4       Afghanistan\n",
            "           ...     \n",
            "3307       Zimbabwe\n",
            "3308       Zimbabwe\n",
            "3309       Zimbabwe\n",
            "3310       Zimbabwe\n",
            "3311       Zimbabwe\n",
            "Name: country, Length: 3312, dtype: object\n"
          ]
        }
      ]
    },
    {
      "cell_type": "code",
      "source": [
        "# using dot notation\n",
        "print(df.country)"
      ],
      "metadata": {
        "colab": {
          "base_uri": "https://localhost:8080/"
        },
        "id": "66gctWJwnSYF",
        "outputId": "db490107-ab89-4c71-db9c-47a20bc45bc0"
      },
      "execution_count": 36,
      "outputs": [
        {
          "output_type": "stream",
          "name": "stdout",
          "text": [
            "0       Afghanistan\n",
            "1       Afghanistan\n",
            "2       Afghanistan\n",
            "3       Afghanistan\n",
            "4       Afghanistan\n",
            "           ...     \n",
            "3307       Zimbabwe\n",
            "3308       Zimbabwe\n",
            "3309       Zimbabwe\n",
            "3310       Zimbabwe\n",
            "3311       Zimbabwe\n",
            "Name: country, Length: 3312, dtype: object\n"
          ]
        }
      ]
    },
    {
      "cell_type": "markdown",
      "source": [
        "### Subset of rows\n",
        "\n",
        "There are 2 ways to get the rows by: index and names\n",
        "\n",
        "**.loc[]** to get them by index label (row name)\n",
        "\n",
        "**.iloc[]** to get them by index (row number)"
      ],
      "metadata": {
        "id": "mdsy9zuanWyY"
      }
    },
    {
      "cell_type": "code",
      "source": [
        "# get a row of data in different ways\n",
        "print(df.loc[0])"
      ],
      "metadata": {
        "colab": {
          "base_uri": "https://localhost:8080/"
        },
        "id": "cAeRhKOmoinr",
        "outputId": "8700fc94-0d7d-4243-e4c1-3c7d74e3fa54"
      },
      "execution_count": 50,
      "outputs": [
        {
          "output_type": "stream",
          "name": "stdout",
          "text": [
            "country      Afghanistan\n",
            "continent           Asia\n",
            "year                1952\n",
            "lifeExp           28.801\n",
            "pop              8425333\n",
            "gdpPercap     779.445314\n",
            "Name: 0, dtype: object\n"
          ]
        }
      ]
    },
    {
      "cell_type": "code",
      "source": [
        "# get the 2nd row\n",
        "print(df.iloc[0])"
      ],
      "metadata": {
        "colab": {
          "base_uri": "https://localhost:8080/"
        },
        "id": "rfYzOcJyprxT",
        "outputId": "23f93141-7fd4-4c0c-97bd-e65b548c2eb4"
      },
      "execution_count": 51,
      "outputs": [
        {
          "output_type": "stream",
          "name": "stdout",
          "text": [
            "country      Afghanistan\n",
            "continent           Asia\n",
            "year                1952\n",
            "lifeExp           28.801\n",
            "pop              8425333\n",
            "gdpPercap     779.445314\n",
            "Name: 0, dtype: object\n"
          ]
        }
      ]
    },
    {
      "cell_type": "code",
      "source": [
        "subset_head = df.head(n=1)\n",
        "print(subset_head)"
      ],
      "metadata": {
        "colab": {
          "base_uri": "https://localhost:8080/"
        },
        "id": "cB6b-ptppBzk",
        "outputId": "50ea2017-5e06-4a9b-ae77-07d7c58a40d8"
      },
      "execution_count": 47,
      "outputs": [
        {
          "output_type": "stream",
          "name": "stdout",
          "text": [
            "       country continent  year  lifeExp      pop   gdpPercap\n",
            "0  Afghanistan      Asia  1952   28.801  8425333  779.445314\n"
          ]
        }
      ]
    },
    {
      "cell_type": "code",
      "source": [
        "# filter multiple rows\n",
        "print(df.loc[[0, 99, 999]])"
      ],
      "metadata": {
        "colab": {
          "base_uri": "https://localhost:8080/"
        },
        "id": "7Fwc4HInpe8w",
        "outputId": "77955708-508e-4ffb-f819-e429a0ee171c"
      },
      "execution_count": 49,
      "outputs": [
        {
          "output_type": "stream",
          "name": "stdout",
          "text": [
            "         country continent  year  lifeExp       pop     gdpPercap\n",
            "0    Afghanistan      Asia  1952   28.801   8425333    779.445314\n",
            "99     Australia       NaN  1977   73.490  14074100  18334.197510\n",
            "999      Finland    Europe  1964   69.370   4548544  10042.219300\n"
          ]
        }
      ]
    },
    {
      "cell_type": "markdown",
      "source": [
        "## Returning a DataFrame or a Series (vector)"
      ],
      "metadata": {
        "id": "hwafbWwplIdy"
      }
    },
    {
      "cell_type": "code",
      "source": [
        "'''\n",
        "If we use a list to subset, we will always get a DataFrame object back\n",
        "'''\n",
        "\n",
        "country_df_list = df[['country']] # note the double square bracket\n",
        "print(type(country_df_list))"
      ],
      "metadata": {
        "colab": {
          "base_uri": "https://localhost:8080/"
        },
        "id": "j7lmWD-rk5z2",
        "outputId": "ef007cac-c4fc-49b9-9485-f48eb3802b26"
      },
      "execution_count": 29,
      "outputs": [
        {
          "output_type": "stream",
          "name": "stdout",
          "text": [
            "<class 'pandas.core.frame.DataFrame'>\n"
          ]
        }
      ]
    },
    {
      "cell_type": "code",
      "source": [
        "country_df_list"
      ],
      "metadata": {
        "colab": {
          "base_uri": "https://localhost:8080/",
          "height": 424
        },
        "id": "G0MTHDnSldC1",
        "outputId": "9cc4f7ce-9251-4052-ff24-e5b4bcf34d0c"
      },
      "execution_count": 32,
      "outputs": [
        {
          "output_type": "execute_result",
          "data": {
            "text/plain": [
              "          country\n",
              "0     Afghanistan\n",
              "1     Afghanistan\n",
              "2     Afghanistan\n",
              "3     Afghanistan\n",
              "4     Afghanistan\n",
              "...           ...\n",
              "3307     Zimbabwe\n",
              "3308     Zimbabwe\n",
              "3309     Zimbabwe\n",
              "3310     Zimbabwe\n",
              "3311     Zimbabwe\n",
              "\n",
              "[3312 rows x 1 columns]"
            ],
            "text/html": [
              "\n",
              "  <div id=\"df-57035056-734f-474c-97ad-c04e41c67557\">\n",
              "    <div class=\"colab-df-container\">\n",
              "      <div>\n",
              "<style scoped>\n",
              "    .dataframe tbody tr th:only-of-type {\n",
              "        vertical-align: middle;\n",
              "    }\n",
              "\n",
              "    .dataframe tbody tr th {\n",
              "        vertical-align: top;\n",
              "    }\n",
              "\n",
              "    .dataframe thead th {\n",
              "        text-align: right;\n",
              "    }\n",
              "</style>\n",
              "<table border=\"1\" class=\"dataframe\">\n",
              "  <thead>\n",
              "    <tr style=\"text-align: right;\">\n",
              "      <th></th>\n",
              "      <th>country</th>\n",
              "    </tr>\n",
              "  </thead>\n",
              "  <tbody>\n",
              "    <tr>\n",
              "      <th>0</th>\n",
              "      <td>Afghanistan</td>\n",
              "    </tr>\n",
              "    <tr>\n",
              "      <th>1</th>\n",
              "      <td>Afghanistan</td>\n",
              "    </tr>\n",
              "    <tr>\n",
              "      <th>2</th>\n",
              "      <td>Afghanistan</td>\n",
              "    </tr>\n",
              "    <tr>\n",
              "      <th>3</th>\n",
              "      <td>Afghanistan</td>\n",
              "    </tr>\n",
              "    <tr>\n",
              "      <th>4</th>\n",
              "      <td>Afghanistan</td>\n",
              "    </tr>\n",
              "    <tr>\n",
              "      <th>...</th>\n",
              "      <td>...</td>\n",
              "    </tr>\n",
              "    <tr>\n",
              "      <th>3307</th>\n",
              "      <td>Zimbabwe</td>\n",
              "    </tr>\n",
              "    <tr>\n",
              "      <th>3308</th>\n",
              "      <td>Zimbabwe</td>\n",
              "    </tr>\n",
              "    <tr>\n",
              "      <th>3309</th>\n",
              "      <td>Zimbabwe</td>\n",
              "    </tr>\n",
              "    <tr>\n",
              "      <th>3310</th>\n",
              "      <td>Zimbabwe</td>\n",
              "    </tr>\n",
              "    <tr>\n",
              "      <th>3311</th>\n",
              "      <td>Zimbabwe</td>\n",
              "    </tr>\n",
              "  </tbody>\n",
              "</table>\n",
              "<p>3312 rows × 1 columns</p>\n",
              "</div>\n",
              "      <button class=\"colab-df-convert\" onclick=\"convertToInteractive('df-57035056-734f-474c-97ad-c04e41c67557')\"\n",
              "              title=\"Convert this dataframe to an interactive table.\"\n",
              "              style=\"display:none;\">\n",
              "        \n",
              "  <svg xmlns=\"http://www.w3.org/2000/svg\" height=\"24px\"viewBox=\"0 0 24 24\"\n",
              "       width=\"24px\">\n",
              "    <path d=\"M0 0h24v24H0V0z\" fill=\"none\"/>\n",
              "    <path d=\"M18.56 5.44l.94 2.06.94-2.06 2.06-.94-2.06-.94-.94-2.06-.94 2.06-2.06.94zm-11 1L8.5 8.5l.94-2.06 2.06-.94-2.06-.94L8.5 2.5l-.94 2.06-2.06.94zm10 10l.94 2.06.94-2.06 2.06-.94-2.06-.94-.94-2.06-.94 2.06-2.06.94z\"/><path d=\"M17.41 7.96l-1.37-1.37c-.4-.4-.92-.59-1.43-.59-.52 0-1.04.2-1.43.59L10.3 9.45l-7.72 7.72c-.78.78-.78 2.05 0 2.83L4 21.41c.39.39.9.59 1.41.59.51 0 1.02-.2 1.41-.59l7.78-7.78 2.81-2.81c.8-.78.8-2.07 0-2.86zM5.41 20L4 18.59l7.72-7.72 1.47 1.35L5.41 20z\"/>\n",
              "  </svg>\n",
              "      </button>\n",
              "      \n",
              "  <style>\n",
              "    .colab-df-container {\n",
              "      display:flex;\n",
              "      flex-wrap:wrap;\n",
              "      gap: 12px;\n",
              "    }\n",
              "\n",
              "    .colab-df-convert {\n",
              "      background-color: #E8F0FE;\n",
              "      border: none;\n",
              "      border-radius: 50%;\n",
              "      cursor: pointer;\n",
              "      display: none;\n",
              "      fill: #1967D2;\n",
              "      height: 32px;\n",
              "      padding: 0 0 0 0;\n",
              "      width: 32px;\n",
              "    }\n",
              "\n",
              "    .colab-df-convert:hover {\n",
              "      background-color: #E2EBFA;\n",
              "      box-shadow: 0px 1px 2px rgba(60, 64, 67, 0.3), 0px 1px 3px 1px rgba(60, 64, 67, 0.15);\n",
              "      fill: #174EA6;\n",
              "    }\n",
              "\n",
              "    [theme=dark] .colab-df-convert {\n",
              "      background-color: #3B4455;\n",
              "      fill: #D2E3FC;\n",
              "    }\n",
              "\n",
              "    [theme=dark] .colab-df-convert:hover {\n",
              "      background-color: #434B5C;\n",
              "      box-shadow: 0px 1px 3px 1px rgba(0, 0, 0, 0.15);\n",
              "      filter: drop-shadow(0px 1px 2px rgba(0, 0, 0, 0.3));\n",
              "      fill: #FFFFFF;\n",
              "    }\n",
              "  </style>\n",
              "\n",
              "      <script>\n",
              "        const buttonEl =\n",
              "          document.querySelector('#df-57035056-734f-474c-97ad-c04e41c67557 button.colab-df-convert');\n",
              "        buttonEl.style.display =\n",
              "          google.colab.kernel.accessAllowed ? 'block' : 'none';\n",
              "\n",
              "        async function convertToInteractive(key) {\n",
              "          const element = document.querySelector('#df-57035056-734f-474c-97ad-c04e41c67557');\n",
              "          const dataTable =\n",
              "            await google.colab.kernel.invokeFunction('convertToInteractive',\n",
              "                                                     [key], {});\n",
              "          if (!dataTable) return;\n",
              "\n",
              "          const docLinkHtml = 'Like what you see? Visit the ' +\n",
              "            '<a target=\"_blank\" href=https://colab.research.google.com/notebooks/data_table.ipynb>data table notebook</a>'\n",
              "            + ' to learn more about interactive tables.';\n",
              "          element.innerHTML = '';\n",
              "          dataTable['output_type'] = 'display_data';\n",
              "          await google.colab.output.renderOutput(dataTable, element);\n",
              "          const docLink = document.createElement('div');\n",
              "          docLink.innerHTML = docLinkHtml;\n",
              "          element.appendChild(docLink);\n",
              "        }\n",
              "      </script>\n",
              "    </div>\n",
              "  </div>\n",
              "  "
            ]
          },
          "metadata": {},
          "execution_count": 32
        }
      ]
    },
    {
      "cell_type": "code",
      "source": [
        "'''\n",
        "If we select a single column, we will always get a Series object back\n",
        "'''\n",
        "\n",
        "country_df = df['country']\n",
        "print(type(country_df))"
      ],
      "metadata": {
        "colab": {
          "base_uri": "https://localhost:8080/"
        },
        "id": "Ba9Y67CMlmzb",
        "outputId": "56e42f83-1bce-4c57-d0c7-970f48b64966"
      },
      "execution_count": 33,
      "outputs": [
        {
          "output_type": "stream",
          "name": "stdout",
          "text": [
            "<class 'pandas.core.series.Series'>\n"
          ]
        }
      ]
    },
    {
      "cell_type": "code",
      "source": [
        "country_df"
      ],
      "metadata": {
        "colab": {
          "base_uri": "https://localhost:8080/"
        },
        "id": "2fCuYzbpl0bF",
        "outputId": "a384ccb8-ad24-40bb-9304-a157de3da4a6"
      },
      "execution_count": 34,
      "outputs": [
        {
          "output_type": "execute_result",
          "data": {
            "text/plain": [
              "0       Afghanistan\n",
              "1       Afghanistan\n",
              "2       Afghanistan\n",
              "3       Afghanistan\n",
              "4       Afghanistan\n",
              "           ...     \n",
              "3307       Zimbabwe\n",
              "3308       Zimbabwe\n",
              "3309       Zimbabwe\n",
              "3310       Zimbabwe\n",
              "3311       Zimbabwe\n",
              "Name: country, Length: 3312, dtype: object"
            ]
          },
          "metadata": {},
          "execution_count": 34
        }
      ]
    },
    {
      "cell_type": "markdown",
      "source": [
        "So the difference lies in\n",
        "\n",
        "A **dataframe** is a 2-dimensional labeled data structure with columns of potentially different types. You can think of it like a spreadsheet or SQL table\n",
        "\n",
        "Where the **series** is a one dimensional numpy.ndarray\n"
      ],
      "metadata": {
        "id": "9nc0PLCsmAH4"
      }
    }
  ]
}